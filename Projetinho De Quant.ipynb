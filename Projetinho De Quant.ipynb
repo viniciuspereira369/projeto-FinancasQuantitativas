{
 "cells": [
  {
   "cell_type": "markdown",
   "metadata": {},
   "source": [
    "## Importando bibliotecas"
   ]
  },
  {
   "cell_type": "code",
   "execution_count": 101,
   "metadata": {},
   "outputs": [],
   "source": [
    "import pandas as pd\n",
    "import numpy as np \n",
    "import yfinance as yf \n",
    "import seaborn as sbn \n",
    "import streamlit as st"
   ]
  },
  {
   "cell_type": "markdown",
   "metadata": {},
   "source": [
    "## Analisando Empresas do Mercado de Varejo\n",
    "#### Vamos fazer uma análise das empresas do Mercado de Varejo brasileiro, observando seus principais indices, valuation e Valuation DCF\n",
    "#### Serão 4 empresas análisadas, \"Magazine Luiza, \"Pão de Açúcar, Grupo Boticário e Casas Bahia\""
   ]
  },
  {
   "cell_type": "code",
   "execution_count": 102,
   "metadata": {},
   "outputs": [],
   "source": [
    "#Criando uma lista com o nome das empresas\n",
    "empresas = [\"MGLU3.SA\", \"BHIA3.SA\", \"PCAR3.SA\", \"ASAI3.SA\"]\n"
   ]
  },
  {
   "cell_type": "markdown",
   "metadata": {},
   "source": [
    "## Balanços Patrimoniais, Demonstrações de Resultados, Dividends Yield e Lucros\n",
    "#### Para fazermos uma análise fundamentalista nós necessitamos obter primeiramente os valores do balanço patrimonial, da demonstração de resultados, dos dividendos e dos lucros "
   ]
  },
  {
   "cell_type": "code",
   "execution_count": 103,
   "metadata": {},
   "outputs": [],
   "source": [
    "Magazine_luiza = yf.Ticker(\"MGLU3.SA\")\n",
    "Casas_bahia = yf.Ticker(\"BHIA3.SA\")\n",
    "Pão_de_açúcar = yf.Ticker(\"PCAR3.SA\")\n",
    "Grupo_Boticario = yf.Ticker(\"NTCO3.SA\")\n",
    "\n",
    "empresas_valores = [Magazine_luiza, Casas_bahia, Pão_de_açúcar, Grupo_Boticario]"
   ]
  },
  {
   "cell_type": "code",
   "execution_count": 104,
   "metadata": {},
   "outputs": [
    {
     "data": {
      "text/html": [
       "<div>\n",
       "<style scoped>\n",
       "    .dataframe tbody tr th:only-of-type {\n",
       "        vertical-align: middle;\n",
       "    }\n",
       "\n",
       "    .dataframe tbody tr th {\n",
       "        vertical-align: top;\n",
       "    }\n",
       "\n",
       "    .dataframe thead th {\n",
       "        text-align: right;\n",
       "    }\n",
       "</style>\n",
       "<table border=\"1\" class=\"dataframe\">\n",
       "  <thead>\n",
       "    <tr style=\"text-align: right;\">\n",
       "      <th></th>\n",
       "      <th>2023-12-31</th>\n",
       "      <th>2022-12-31</th>\n",
       "      <th>2021-12-31</th>\n",
       "      <th>2020-12-31</th>\n",
       "      <th>2019-12-31</th>\n",
       "    </tr>\n",
       "  </thead>\n",
       "  <tbody>\n",
       "    <tr>\n",
       "      <th>Treasury Shares Number</th>\n",
       "      <td>6095820.0</td>\n",
       "      <td>7666266.0</td>\n",
       "      <td>8917611.0</td>\n",
       "      <td>3799722.0</td>\n",
       "      <td>NaN</td>\n",
       "    </tr>\n",
       "    <tr>\n",
       "      <th>Ordinary Shares Number</th>\n",
       "      <td>715465009.0</td>\n",
       "      <td>713894564.0</td>\n",
       "      <td>712643218.0</td>\n",
       "      <td>691032383.0</td>\n",
       "      <td>NaN</td>\n",
       "    </tr>\n",
       "    <tr>\n",
       "      <th>Share Issued</th>\n",
       "      <td>721560829.0</td>\n",
       "      <td>721560830.0</td>\n",
       "      <td>721560829.0</td>\n",
       "      <td>694832105.0</td>\n",
       "      <td>NaN</td>\n",
       "    </tr>\n",
       "    <tr>\n",
       "      <th>Net Debt</th>\n",
       "      <td>4761509000.0</td>\n",
       "      <td>4688712000.0</td>\n",
       "      <td>4226654000.0</td>\n",
       "      <td>5386000.0</td>\n",
       "      <td>NaN</td>\n",
       "    </tr>\n",
       "    <tr>\n",
       "      <th>Total Debt</th>\n",
       "      <td>10933010000.0</td>\n",
       "      <td>10802273000.0</td>\n",
       "      <td>10247550000.0</td>\n",
       "      <td>4213066000.0</td>\n",
       "      <td>NaN</td>\n",
       "    </tr>\n",
       "    <tr>\n",
       "      <th>Tangible Book Value</th>\n",
       "      <td>5105727000.0</td>\n",
       "      <td>6221191000.0</td>\n",
       "      <td>6954644000.0</td>\n",
       "      <td>5438290000.0</td>\n",
       "      <td>NaN</td>\n",
       "    </tr>\n",
       "    <tr>\n",
       "      <th>Invested Capital</th>\n",
       "      <td>16965389000.0</td>\n",
       "      <td>17757458000.0</td>\n",
       "      <td>18054103000.0</td>\n",
       "      <td>9012049000.0</td>\n",
       "      <td>NaN</td>\n",
       "    </tr>\n",
       "    <tr>\n",
       "      <th>Working Capital</th>\n",
       "      <td>2813036000.0</td>\n",
       "      <td>7105211000.0</td>\n",
       "      <td>9252621000.0</td>\n",
       "      <td>3382665000.0</td>\n",
       "      <td>NaN</td>\n",
       "    </tr>\n",
       "    <tr>\n",
       "      <th>Net Tangible Assets</th>\n",
       "      <td>5105727000.0</td>\n",
       "      <td>6221191000.0</td>\n",
       "      <td>6954644000.0</td>\n",
       "      <td>5438290000.0</td>\n",
       "      <td>NaN</td>\n",
       "    </tr>\n",
       "    <tr>\n",
       "      <th>Capital Lease Obligations</th>\n",
       "      <td>3578155000.0</td>\n",
       "      <td>3693516000.0</td>\n",
       "      <td>3454678000.0</td>\n",
       "      <td>2526304000.0</td>\n",
       "      <td>NaN</td>\n",
       "    </tr>\n",
       "    <tr>\n",
       "      <th>Common Stock Equity</th>\n",
       "      <td>9610534000.0</td>\n",
       "      <td>10648701000.0</td>\n",
       "      <td>11261231000.0</td>\n",
       "      <td>7325287000.0</td>\n",
       "      <td>NaN</td>\n",
       "    </tr>\n",
       "    <tr>\n",
       "      <th>Total Capitalization</th>\n",
       "      <td>14011042000.0</td>\n",
       "      <td>17633161000.0</td>\n",
       "      <td>17646135000.0</td>\n",
       "      <td>7344868000.0</td>\n",
       "      <td>NaN</td>\n",
       "    </tr>\n",
       "    <tr>\n",
       "      <th>Total Equity Gross Minority Interest</th>\n",
       "      <td>9610534000.0</td>\n",
       "      <td>10648701000.0</td>\n",
       "      <td>11261231000.0</td>\n",
       "      <td>7325287000.0</td>\n",
       "      <td>NaN</td>\n",
       "    </tr>\n",
       "    <tr>\n",
       "      <th>Stockholders Equity</th>\n",
       "      <td>9610534000.0</td>\n",
       "      <td>10648701000.0</td>\n",
       "      <td>11261231000.0</td>\n",
       "      <td>7325287000.0</td>\n",
       "      <td>NaN</td>\n",
       "    </tr>\n",
       "    <tr>\n",
       "      <th>Other Equity Interest</th>\n",
       "      <td>-121382000.0</td>\n",
       "      <td>2012000.0</td>\n",
       "      <td>840000.0</td>\n",
       "      <td>11151000.0</td>\n",
       "      <td>NaN</td>\n",
       "    </tr>\n",
       "    <tr>\n",
       "      <th>Treasury Stock</th>\n",
       "      <td>990603000.0</td>\n",
       "      <td>1245809000.0</td>\n",
       "      <td>1449159000.0</td>\n",
       "      <td>603681000.0</td>\n",
       "      <td>NaN</td>\n",
       "    </tr>\n",
       "    <tr>\n",
       "      <th>Capital Stock</th>\n",
       "      <td>12352498000.0</td>\n",
       "      <td>12352498000.0</td>\n",
       "      <td>12352498000.0</td>\n",
       "      <td>5952282000.0</td>\n",
       "      <td>NaN</td>\n",
       "    </tr>\n",
       "    <tr>\n",
       "      <th>Common Stock</th>\n",
       "      <td>12352498000.0</td>\n",
       "      <td>12352498000.0</td>\n",
       "      <td>12352498000.0</td>\n",
       "      <td>5952282000.0</td>\n",
       "      <td>NaN</td>\n",
       "    </tr>\n",
       "    <tr>\n",
       "      <th>Total Liabilities Net Minority Interest</th>\n",
       "      <td>27844533000.0</td>\n",
       "      <td>27117144000.0</td>\n",
       "      <td>27123385000.0</td>\n",
       "      <td>17321916000.0</td>\n",
       "      <td>NaN</td>\n",
       "    </tr>\n",
       "    <tr>\n",
       "      <th>Total Non Current Liabilities Net Minority Interest</th>\n",
       "      <td>10436406000.0</td>\n",
       "      <td>12284219000.0</td>\n",
       "      <td>11866196000.0</td>\n",
       "      <td>3905771000.0</td>\n",
       "      <td>NaN</td>\n",
       "    </tr>\n",
       "    <tr>\n",
       "      <th>Other Non Current Liabilities</th>\n",
       "      <td>134219000.0</td>\n",
       "      <td>492144000.0</td>\n",
       "      <td>922908000.0</td>\n",
       "      <td>NaN</td>\n",
       "      <td>NaN</td>\n",
       "    </tr>\n",
       "    <tr>\n",
       "      <th>Tradeand Other Payables Non Current</th>\n",
       "      <td>4837000.0</td>\n",
       "      <td>7836000.0</td>\n",
       "      <td>24274000.0</td>\n",
       "      <td>4990000.0</td>\n",
       "      <td>NaN</td>\n",
       "    </tr>\n",
       "    <tr>\n",
       "      <th>Non Current Deferred Revenue</th>\n",
       "      <td>1102758000.0</td>\n",
       "      <td>423464000.0</td>\n",
       "      <td>245258000.0</td>\n",
       "      <td>301270000.0</td>\n",
       "      <td>NaN</td>\n",
       "    </tr>\n",
       "    <tr>\n",
       "      <th>Non Current Deferred Taxes Liabilities</th>\n",
       "      <td>1724288000.0</td>\n",
       "      <td>1302587000.0</td>\n",
       "      <td>1268008000.0</td>\n",
       "      <td>1404778000.0</td>\n",
       "      <td>NaN</td>\n",
       "    </tr>\n",
       "    <tr>\n",
       "      <th>Long Term Debt And Capital Lease Obligation</th>\n",
       "      <td>7470304000.0</td>\n",
       "      <td>10058188000.0</td>\n",
       "      <td>9405748000.0</td>\n",
       "      <td>2194733000.0</td>\n",
       "      <td>NaN</td>\n",
       "    </tr>\n",
       "    <tr>\n",
       "      <th>Long Term Capital Lease Obligation</th>\n",
       "      <td>3069796000.0</td>\n",
       "      <td>3073728000.0</td>\n",
       "      <td>3020844000.0</td>\n",
       "      <td>2175152000.0</td>\n",
       "      <td>NaN</td>\n",
       "    </tr>\n",
       "    <tr>\n",
       "      <th>Long Term Debt</th>\n",
       "      <td>4400508000.0</td>\n",
       "      <td>6984460000.0</td>\n",
       "      <td>6384904000.0</td>\n",
       "      <td>19581000.0</td>\n",
       "      <td>NaN</td>\n",
       "    </tr>\n",
       "    <tr>\n",
       "      <th>Current Liabilities</th>\n",
       "      <td>17408127000.0</td>\n",
       "      <td>14832925000.0</td>\n",
       "      <td>15257189000.0</td>\n",
       "      <td>13416145000.0</td>\n",
       "      <td>NaN</td>\n",
       "    </tr>\n",
       "    <tr>\n",
       "      <th>Other Current Liabilities</th>\n",
       "      <td>1847502000.0</td>\n",
       "      <td>2118136000.0</td>\n",
       "      <td>2070710000.0</td>\n",
       "      <td>NaN</td>\n",
       "      <td>NaN</td>\n",
       "    </tr>\n",
       "    <tr>\n",
       "      <th>Current Debt And Capital Lease Obligation</th>\n",
       "      <td>3462706000.0</td>\n",
       "      <td>744085000.0</td>\n",
       "      <td>841802000.0</td>\n",
       "      <td>2018333000.0</td>\n",
       "      <td>NaN</td>\n",
       "    </tr>\n",
       "    <tr>\n",
       "      <th>Current Capital Lease Obligation</th>\n",
       "      <td>508359000.0</td>\n",
       "      <td>619788000.0</td>\n",
       "      <td>433834000.0</td>\n",
       "      <td>351152000.0</td>\n",
       "      <td>NaN</td>\n",
       "    </tr>\n",
       "    <tr>\n",
       "      <th>Current Debt</th>\n",
       "      <td>2954347000.0</td>\n",
       "      <td>124297000.0</td>\n",
       "      <td>407968000.0</td>\n",
       "      <td>1667181000.0</td>\n",
       "      <td>NaN</td>\n",
       "    </tr>\n",
       "    <tr>\n",
       "      <th>Payables</th>\n",
       "      <td>11550153000.0</td>\n",
       "      <td>11473300000.0</td>\n",
       "      <td>11924172000.0</td>\n",
       "      <td>10995082000.0</td>\n",
       "      <td>NaN</td>\n",
       "    </tr>\n",
       "    <tr>\n",
       "      <th>Other Payable</th>\n",
       "      <td>1866110000.0</td>\n",
       "      <td>1705154000.0</td>\n",
       "      <td>1544199000.0</td>\n",
       "      <td>2052423000.0</td>\n",
       "      <td>NaN</td>\n",
       "    </tr>\n",
       "    <tr>\n",
       "      <th>Dividends Payable</th>\n",
       "      <td>NaN</td>\n",
       "      <td>0.0</td>\n",
       "      <td>41434000.0</td>\n",
       "      <td>39953000.0</td>\n",
       "      <td>123566000.0</td>\n",
       "    </tr>\n",
       "    <tr>\n",
       "      <th>Total Tax Payable</th>\n",
       "      <td>359971000.0</td>\n",
       "      <td>224889000.0</td>\n",
       "      <td>239595000.0</td>\n",
       "      <td>401308000.0</td>\n",
       "      <td>NaN</td>\n",
       "    </tr>\n",
       "    <tr>\n",
       "      <th>Accounts Payable</th>\n",
       "      <td>9324072000.0</td>\n",
       "      <td>9543257000.0</td>\n",
       "      <td>10098944000.0</td>\n",
       "      <td>8501398000.0</td>\n",
       "      <td>NaN</td>\n",
       "    </tr>\n",
       "    <tr>\n",
       "      <th>Total Assets</th>\n",
       "      <td>37455067000.0</td>\n",
       "      <td>37765845000.0</td>\n",
       "      <td>38384616000.0</td>\n",
       "      <td>24647203000.0</td>\n",
       "      <td>NaN</td>\n",
       "    </tr>\n",
       "    <tr>\n",
       "      <th>Total Non Current Assets</th>\n",
       "      <td>17233904000.0</td>\n",
       "      <td>15827709000.0</td>\n",
       "      <td>13874806000.0</td>\n",
       "      <td>7848393000.0</td>\n",
       "      <td>NaN</td>\n",
       "    </tr>\n",
       "    <tr>\n",
       "      <th>Other Non Current Assets</th>\n",
       "      <td>113671000.0</td>\n",
       "      <td>116786000.0</td>\n",
       "      <td>184816000.0</td>\n",
       "      <td>6333000.0</td>\n",
       "      <td>NaN</td>\n",
       "    </tr>\n",
       "    <tr>\n",
       "      <th>Non Current Deferred Taxes Assets</th>\n",
       "      <td>2836852000.0</td>\n",
       "      <td>1686360000.0</td>\n",
       "      <td>915111000.0</td>\n",
       "      <td>196736000.0</td>\n",
       "      <td>NaN</td>\n",
       "    </tr>\n",
       "    <tr>\n",
       "      <th>Investmentin Financial Assets</th>\n",
       "      <td>NaN</td>\n",
       "      <td>NaN</td>\n",
       "      <td>NaN</td>\n",
       "      <td>NaN</td>\n",
       "      <td>214000.0</td>\n",
       "    </tr>\n",
       "    <tr>\n",
       "      <th>Trading Securities</th>\n",
       "      <td>NaN</td>\n",
       "      <td>NaN</td>\n",
       "      <td>NaN</td>\n",
       "      <td>NaN</td>\n",
       "      <td>214000.0</td>\n",
       "    </tr>\n",
       "    <tr>\n",
       "      <th>Long Term Equity Investment</th>\n",
       "      <td>322516000.0</td>\n",
       "      <td>338833000.0</td>\n",
       "      <td>407780000.0</td>\n",
       "      <td>386725000.0</td>\n",
       "      <td>NaN</td>\n",
       "    </tr>\n",
       "    <tr>\n",
       "      <th>Investmentsin Joint Venturesat Cost</th>\n",
       "      <td>322516000.0</td>\n",
       "      <td>338833000.0</td>\n",
       "      <td>407780000.0</td>\n",
       "      <td>386725000.0</td>\n",
       "      <td>NaN</td>\n",
       "    </tr>\n",
       "    <tr>\n",
       "      <th>Investmentsin Subsidiariesat Cost</th>\n",
       "      <td>0.0</td>\n",
       "      <td>0.0</td>\n",
       "      <td>0.0</td>\n",
       "      <td>0.0</td>\n",
       "      <td>NaN</td>\n",
       "    </tr>\n",
       "    <tr>\n",
       "      <th>Goodwill And Other Intangible Assets</th>\n",
       "      <td>4504807000.0</td>\n",
       "      <td>4427510000.0</td>\n",
       "      <td>4306587000.0</td>\n",
       "      <td>1886997000.0</td>\n",
       "      <td>NaN</td>\n",
       "    </tr>\n",
       "    <tr>\n",
       "      <th>Other Intangible Assets</th>\n",
       "      <td>2251630000.0</td>\n",
       "      <td>2174221000.0</td>\n",
       "      <td>2054836000.0</td>\n",
       "      <td>782022000.0</td>\n",
       "      <td>NaN</td>\n",
       "    </tr>\n",
       "    <tr>\n",
       "      <th>Goodwill</th>\n",
       "      <td>2253177000.0</td>\n",
       "      <td>2253289000.0</td>\n",
       "      <td>2251751000.0</td>\n",
       "      <td>1104975000.0</td>\n",
       "      <td>NaN</td>\n",
       "    </tr>\n",
       "    <tr>\n",
       "      <th>Net PPE</th>\n",
       "      <td>5184576000.0</td>\n",
       "      <td>5466976000.0</td>\n",
       "      <td>5301711000.0</td>\n",
       "      <td>3723676000.0</td>\n",
       "      <td>NaN</td>\n",
       "    </tr>\n",
       "    <tr>\n",
       "      <th>Accumulated Depreciation</th>\n",
       "      <td>-3646737000.0</td>\n",
       "      <td>-2860974000.0</td>\n",
       "      <td>-867949000.0</td>\n",
       "      <td>-984021000.0</td>\n",
       "      <td>NaN</td>\n",
       "    </tr>\n",
       "    <tr>\n",
       "      <th>Gross PPE</th>\n",
       "      <td>8831313000.0</td>\n",
       "      <td>8327950000.0</td>\n",
       "      <td>6169660000.0</td>\n",
       "      <td>4707697000.0</td>\n",
       "      <td>NaN</td>\n",
       "    </tr>\n",
       "    <tr>\n",
       "      <th>Construction In Progress</th>\n",
       "      <td>29569000.0</td>\n",
       "      <td>45361000.0</td>\n",
       "      <td>201842000.0</td>\n",
       "      <td>82095000.0</td>\n",
       "      <td>NaN</td>\n",
       "    </tr>\n",
       "    <tr>\n",
       "      <th>Other Properties</th>\n",
       "      <td>5767174000.0</td>\n",
       "      <td>5377652000.0</td>\n",
       "      <td>3443293000.0</td>\n",
       "      <td>2527038000.0</td>\n",
       "      <td>NaN</td>\n",
       "    </tr>\n",
       "    <tr>\n",
       "      <th>Machinery Furniture Equipment</th>\n",
       "      <td>1652664000.0</td>\n",
       "      <td>1583642000.0</td>\n",
       "      <td>1491894000.0</td>\n",
       "      <td>980943000.0</td>\n",
       "      <td>NaN</td>\n",
       "    </tr>\n",
       "    <tr>\n",
       "      <th>Buildings And Improvements</th>\n",
       "      <td>1381906000.0</td>\n",
       "      <td>1321295000.0</td>\n",
       "      <td>1032631000.0</td>\n",
       "      <td>1117621000.0</td>\n",
       "      <td>NaN</td>\n",
       "    </tr>\n",
       "    <tr>\n",
       "      <th>Properties</th>\n",
       "      <td>0.0</td>\n",
       "      <td>0.0</td>\n",
       "      <td>0.0</td>\n",
       "      <td>0.0</td>\n",
       "      <td>NaN</td>\n",
       "    </tr>\n",
       "    <tr>\n",
       "      <th>Current Assets</th>\n",
       "      <td>20221163000.0</td>\n",
       "      <td>21938136000.0</td>\n",
       "      <td>24509810000.0</td>\n",
       "      <td>16798810000.0</td>\n",
       "      <td>NaN</td>\n",
       "    </tr>\n",
       "    <tr>\n",
       "      <th>Other Current Assets</th>\n",
       "      <td>334743000.0</td>\n",
       "      <td>208237000.0</td>\n",
       "      <td>402821000.0</td>\n",
       "      <td>160754000.0</td>\n",
       "      <td>NaN</td>\n",
       "    </tr>\n",
       "    <tr>\n",
       "      <th>Inventory</th>\n",
       "      <td>7497299000.0</td>\n",
       "      <td>7790069000.0</td>\n",
       "      <td>9112214000.0</td>\n",
       "      <td>5927236000.0</td>\n",
       "      <td>NaN</td>\n",
       "    </tr>\n",
       "    <tr>\n",
       "      <th>Inventories Adjustments Allowances</th>\n",
       "      <td>-179561000.0</td>\n",
       "      <td>-184484000.0</td>\n",
       "      <td>-163556000.0</td>\n",
       "      <td>-101178000.0</td>\n",
       "      <td>NaN</td>\n",
       "    </tr>\n",
       "    <tr>\n",
       "      <th>Finished Goods</th>\n",
       "      <td>7641437000.0</td>\n",
       "      <td>7943173000.0</td>\n",
       "      <td>9210072000.0</td>\n",
       "      <td>5989773000.0</td>\n",
       "      <td>NaN</td>\n",
       "    </tr>\n",
       "    <tr>\n",
       "      <th>Raw Materials</th>\n",
       "      <td>35423000.0</td>\n",
       "      <td>31380000.0</td>\n",
       "      <td>65698000.0</td>\n",
       "      <td>38641000.0</td>\n",
       "      <td>NaN</td>\n",
       "    </tr>\n",
       "    <tr>\n",
       "      <th>Other Receivables</th>\n",
       "      <td>1273718000.0</td>\n",
       "      <td>2576572000.0</td>\n",
       "      <td>3707284000.0</td>\n",
       "      <td>2329648000.0</td>\n",
       "      <td>NaN</td>\n",
       "    </tr>\n",
       "    <tr>\n",
       "      <th>Taxes Receivable</th>\n",
       "      <td>1857535000.0</td>\n",
       "      <td>1878645000.0</td>\n",
       "      <td>1514143000.0</td>\n",
       "      <td>716118000.0</td>\n",
       "      <td>NaN</td>\n",
       "    </tr>\n",
       "    <tr>\n",
       "      <th>Accounts Receivable</th>\n",
       "      <td>5885450000.0</td>\n",
       "      <td>6760270000.0</td>\n",
       "      <td>5650759000.0</td>\n",
       "      <td>4761899000.0</td>\n",
       "      <td>NaN</td>\n",
       "    </tr>\n",
       "    <tr>\n",
       "      <th>Cash Cash Equivalents And Short Term Investments</th>\n",
       "      <td>3372418000.0</td>\n",
       "      <td>2724343000.0</td>\n",
       "      <td>4122589000.0</td>\n",
       "      <td>2903155000.0</td>\n",
       "      <td>NaN</td>\n",
       "    </tr>\n",
       "    <tr>\n",
       "      <th>Other Short Term Investments</th>\n",
       "      <td>779072000.0</td>\n",
       "      <td>304298000.0</td>\n",
       "      <td>1556371000.0</td>\n",
       "      <td>1221779000.0</td>\n",
       "      <td>NaN</td>\n",
       "    </tr>\n",
       "    <tr>\n",
       "      <th>Cash And Cash Equivalents</th>\n",
       "      <td>2593346000.0</td>\n",
       "      <td>2420045000.0</td>\n",
       "      <td>2566218000.0</td>\n",
       "      <td>1681376000.0</td>\n",
       "      <td>NaN</td>\n",
       "    </tr>\n",
       "    <tr>\n",
       "      <th>Cash Equivalents</th>\n",
       "      <td>2409700000.0</td>\n",
       "      <td>2170031000.0</td>\n",
       "      <td>1776993000.0</td>\n",
       "      <td>1319210000.0</td>\n",
       "      <td>NaN</td>\n",
       "    </tr>\n",
       "    <tr>\n",
       "      <th>Cash Financial</th>\n",
       "      <td>183646000.0</td>\n",
       "      <td>250014000.0</td>\n",
       "      <td>789225000.0</td>\n",
       "      <td>362166000.0</td>\n",
       "      <td>NaN</td>\n",
       "    </tr>\n",
       "  </tbody>\n",
       "</table>\n",
       "</div>"
      ],
      "text/plain": [
       "                                                       2023-12-31  \\\n",
       "Treasury Shares Number                                  6095820.0   \n",
       "Ordinary Shares Number                                715465009.0   \n",
       "Share Issued                                          721560829.0   \n",
       "Net Debt                                             4761509000.0   \n",
       "Total Debt                                          10933010000.0   \n",
       "Tangible Book Value                                  5105727000.0   \n",
       "Invested Capital                                    16965389000.0   \n",
       "Working Capital                                      2813036000.0   \n",
       "Net Tangible Assets                                  5105727000.0   \n",
       "Capital Lease Obligations                            3578155000.0   \n",
       "Common Stock Equity                                  9610534000.0   \n",
       "Total Capitalization                                14011042000.0   \n",
       "Total Equity Gross Minority Interest                 9610534000.0   \n",
       "Stockholders Equity                                  9610534000.0   \n",
       "Other Equity Interest                                -121382000.0   \n",
       "Treasury Stock                                        990603000.0   \n",
       "Capital Stock                                       12352498000.0   \n",
       "Common Stock                                        12352498000.0   \n",
       "Total Liabilities Net Minority Interest             27844533000.0   \n",
       "Total Non Current Liabilities Net Minority Inte...  10436406000.0   \n",
       "Other Non Current Liabilities                         134219000.0   \n",
       "Tradeand Other Payables Non Current                     4837000.0   \n",
       "Non Current Deferred Revenue                         1102758000.0   \n",
       "Non Current Deferred Taxes Liabilities               1724288000.0   \n",
       "Long Term Debt And Capital Lease Obligation          7470304000.0   \n",
       "Long Term Capital Lease Obligation                   3069796000.0   \n",
       "Long Term Debt                                       4400508000.0   \n",
       "Current Liabilities                                 17408127000.0   \n",
       "Other Current Liabilities                            1847502000.0   \n",
       "Current Debt And Capital Lease Obligation            3462706000.0   \n",
       "Current Capital Lease Obligation                      508359000.0   \n",
       "Current Debt                                         2954347000.0   \n",
       "Payables                                            11550153000.0   \n",
       "Other Payable                                        1866110000.0   \n",
       "Dividends Payable                                             NaN   \n",
       "Total Tax Payable                                     359971000.0   \n",
       "Accounts Payable                                     9324072000.0   \n",
       "Total Assets                                        37455067000.0   \n",
       "Total Non Current Assets                            17233904000.0   \n",
       "Other Non Current Assets                              113671000.0   \n",
       "Non Current Deferred Taxes Assets                    2836852000.0   \n",
       "Investmentin Financial Assets                                 NaN   \n",
       "Trading Securities                                            NaN   \n",
       "Long Term Equity Investment                           322516000.0   \n",
       "Investmentsin Joint Venturesat Cost                   322516000.0   \n",
       "Investmentsin Subsidiariesat Cost                             0.0   \n",
       "Goodwill And Other Intangible Assets                 4504807000.0   \n",
       "Other Intangible Assets                              2251630000.0   \n",
       "Goodwill                                             2253177000.0   \n",
       "Net PPE                                              5184576000.0   \n",
       "Accumulated Depreciation                            -3646737000.0   \n",
       "Gross PPE                                            8831313000.0   \n",
       "Construction In Progress                               29569000.0   \n",
       "Other Properties                                     5767174000.0   \n",
       "Machinery Furniture Equipment                        1652664000.0   \n",
       "Buildings And Improvements                           1381906000.0   \n",
       "Properties                                                    0.0   \n",
       "Current Assets                                      20221163000.0   \n",
       "Other Current Assets                                  334743000.0   \n",
       "Inventory                                            7497299000.0   \n",
       "Inventories Adjustments Allowances                   -179561000.0   \n",
       "Finished Goods                                       7641437000.0   \n",
       "Raw Materials                                          35423000.0   \n",
       "Other Receivables                                    1273718000.0   \n",
       "Taxes Receivable                                     1857535000.0   \n",
       "Accounts Receivable                                  5885450000.0   \n",
       "Cash Cash Equivalents And Short Term Investments     3372418000.0   \n",
       "Other Short Term Investments                          779072000.0   \n",
       "Cash And Cash Equivalents                            2593346000.0   \n",
       "Cash Equivalents                                     2409700000.0   \n",
       "Cash Financial                                        183646000.0   \n",
       "\n",
       "                                                       2022-12-31  \\\n",
       "Treasury Shares Number                                  7666266.0   \n",
       "Ordinary Shares Number                                713894564.0   \n",
       "Share Issued                                          721560830.0   \n",
       "Net Debt                                             4688712000.0   \n",
       "Total Debt                                          10802273000.0   \n",
       "Tangible Book Value                                  6221191000.0   \n",
       "Invested Capital                                    17757458000.0   \n",
       "Working Capital                                      7105211000.0   \n",
       "Net Tangible Assets                                  6221191000.0   \n",
       "Capital Lease Obligations                            3693516000.0   \n",
       "Common Stock Equity                                 10648701000.0   \n",
       "Total Capitalization                                17633161000.0   \n",
       "Total Equity Gross Minority Interest                10648701000.0   \n",
       "Stockholders Equity                                 10648701000.0   \n",
       "Other Equity Interest                                   2012000.0   \n",
       "Treasury Stock                                       1245809000.0   \n",
       "Capital Stock                                       12352498000.0   \n",
       "Common Stock                                        12352498000.0   \n",
       "Total Liabilities Net Minority Interest             27117144000.0   \n",
       "Total Non Current Liabilities Net Minority Inte...  12284219000.0   \n",
       "Other Non Current Liabilities                         492144000.0   \n",
       "Tradeand Other Payables Non Current                     7836000.0   \n",
       "Non Current Deferred Revenue                          423464000.0   \n",
       "Non Current Deferred Taxes Liabilities               1302587000.0   \n",
       "Long Term Debt And Capital Lease Obligation         10058188000.0   \n",
       "Long Term Capital Lease Obligation                   3073728000.0   \n",
       "Long Term Debt                                       6984460000.0   \n",
       "Current Liabilities                                 14832925000.0   \n",
       "Other Current Liabilities                            2118136000.0   \n",
       "Current Debt And Capital Lease Obligation             744085000.0   \n",
       "Current Capital Lease Obligation                      619788000.0   \n",
       "Current Debt                                          124297000.0   \n",
       "Payables                                            11473300000.0   \n",
       "Other Payable                                        1705154000.0   \n",
       "Dividends Payable                                             0.0   \n",
       "Total Tax Payable                                     224889000.0   \n",
       "Accounts Payable                                     9543257000.0   \n",
       "Total Assets                                        37765845000.0   \n",
       "Total Non Current Assets                            15827709000.0   \n",
       "Other Non Current Assets                              116786000.0   \n",
       "Non Current Deferred Taxes Assets                    1686360000.0   \n",
       "Investmentin Financial Assets                                 NaN   \n",
       "Trading Securities                                            NaN   \n",
       "Long Term Equity Investment                           338833000.0   \n",
       "Investmentsin Joint Venturesat Cost                   338833000.0   \n",
       "Investmentsin Subsidiariesat Cost                             0.0   \n",
       "Goodwill And Other Intangible Assets                 4427510000.0   \n",
       "Other Intangible Assets                              2174221000.0   \n",
       "Goodwill                                             2253289000.0   \n",
       "Net PPE                                              5466976000.0   \n",
       "Accumulated Depreciation                            -2860974000.0   \n",
       "Gross PPE                                            8327950000.0   \n",
       "Construction In Progress                               45361000.0   \n",
       "Other Properties                                     5377652000.0   \n",
       "Machinery Furniture Equipment                        1583642000.0   \n",
       "Buildings And Improvements                           1321295000.0   \n",
       "Properties                                                    0.0   \n",
       "Current Assets                                      21938136000.0   \n",
       "Other Current Assets                                  208237000.0   \n",
       "Inventory                                            7790069000.0   \n",
       "Inventories Adjustments Allowances                   -184484000.0   \n",
       "Finished Goods                                       7943173000.0   \n",
       "Raw Materials                                          31380000.0   \n",
       "Other Receivables                                    2576572000.0   \n",
       "Taxes Receivable                                     1878645000.0   \n",
       "Accounts Receivable                                  6760270000.0   \n",
       "Cash Cash Equivalents And Short Term Investments     2724343000.0   \n",
       "Other Short Term Investments                          304298000.0   \n",
       "Cash And Cash Equivalents                            2420045000.0   \n",
       "Cash Equivalents                                     2170031000.0   \n",
       "Cash Financial                                        250014000.0   \n",
       "\n",
       "                                                       2021-12-31  \\\n",
       "Treasury Shares Number                                  8917611.0   \n",
       "Ordinary Shares Number                                712643218.0   \n",
       "Share Issued                                          721560829.0   \n",
       "Net Debt                                             4226654000.0   \n",
       "Total Debt                                          10247550000.0   \n",
       "Tangible Book Value                                  6954644000.0   \n",
       "Invested Capital                                    18054103000.0   \n",
       "Working Capital                                      9252621000.0   \n",
       "Net Tangible Assets                                  6954644000.0   \n",
       "Capital Lease Obligations                            3454678000.0   \n",
       "Common Stock Equity                                 11261231000.0   \n",
       "Total Capitalization                                17646135000.0   \n",
       "Total Equity Gross Minority Interest                11261231000.0   \n",
       "Stockholders Equity                                 11261231000.0   \n",
       "Other Equity Interest                                    840000.0   \n",
       "Treasury Stock                                       1449159000.0   \n",
       "Capital Stock                                       12352498000.0   \n",
       "Common Stock                                        12352498000.0   \n",
       "Total Liabilities Net Minority Interest             27123385000.0   \n",
       "Total Non Current Liabilities Net Minority Inte...  11866196000.0   \n",
       "Other Non Current Liabilities                         922908000.0   \n",
       "Tradeand Other Payables Non Current                    24274000.0   \n",
       "Non Current Deferred Revenue                          245258000.0   \n",
       "Non Current Deferred Taxes Liabilities               1268008000.0   \n",
       "Long Term Debt And Capital Lease Obligation          9405748000.0   \n",
       "Long Term Capital Lease Obligation                   3020844000.0   \n",
       "Long Term Debt                                       6384904000.0   \n",
       "Current Liabilities                                 15257189000.0   \n",
       "Other Current Liabilities                            2070710000.0   \n",
       "Current Debt And Capital Lease Obligation             841802000.0   \n",
       "Current Capital Lease Obligation                      433834000.0   \n",
       "Current Debt                                          407968000.0   \n",
       "Payables                                            11924172000.0   \n",
       "Other Payable                                        1544199000.0   \n",
       "Dividends Payable                                      41434000.0   \n",
       "Total Tax Payable                                     239595000.0   \n",
       "Accounts Payable                                    10098944000.0   \n",
       "Total Assets                                        38384616000.0   \n",
       "Total Non Current Assets                            13874806000.0   \n",
       "Other Non Current Assets                              184816000.0   \n",
       "Non Current Deferred Taxes Assets                     915111000.0   \n",
       "Investmentin Financial Assets                                 NaN   \n",
       "Trading Securities                                            NaN   \n",
       "Long Term Equity Investment                           407780000.0   \n",
       "Investmentsin Joint Venturesat Cost                   407780000.0   \n",
       "Investmentsin Subsidiariesat Cost                             0.0   \n",
       "Goodwill And Other Intangible Assets                 4306587000.0   \n",
       "Other Intangible Assets                              2054836000.0   \n",
       "Goodwill                                             2251751000.0   \n",
       "Net PPE                                              5301711000.0   \n",
       "Accumulated Depreciation                             -867949000.0   \n",
       "Gross PPE                                            6169660000.0   \n",
       "Construction In Progress                              201842000.0   \n",
       "Other Properties                                     3443293000.0   \n",
       "Machinery Furniture Equipment                        1491894000.0   \n",
       "Buildings And Improvements                           1032631000.0   \n",
       "Properties                                                    0.0   \n",
       "Current Assets                                      24509810000.0   \n",
       "Other Current Assets                                  402821000.0   \n",
       "Inventory                                            9112214000.0   \n",
       "Inventories Adjustments Allowances                   -163556000.0   \n",
       "Finished Goods                                       9210072000.0   \n",
       "Raw Materials                                          65698000.0   \n",
       "Other Receivables                                    3707284000.0   \n",
       "Taxes Receivable                                     1514143000.0   \n",
       "Accounts Receivable                                  5650759000.0   \n",
       "Cash Cash Equivalents And Short Term Investments     4122589000.0   \n",
       "Other Short Term Investments                         1556371000.0   \n",
       "Cash And Cash Equivalents                            2566218000.0   \n",
       "Cash Equivalents                                     1776993000.0   \n",
       "Cash Financial                                        789225000.0   \n",
       "\n",
       "                                                       2020-12-31   2019-12-31  \n",
       "Treasury Shares Number                                  3799722.0          NaN  \n",
       "Ordinary Shares Number                                691032383.0          NaN  \n",
       "Share Issued                                          694832105.0          NaN  \n",
       "Net Debt                                                5386000.0          NaN  \n",
       "Total Debt                                           4213066000.0          NaN  \n",
       "Tangible Book Value                                  5438290000.0          NaN  \n",
       "Invested Capital                                     9012049000.0          NaN  \n",
       "Working Capital                                      3382665000.0          NaN  \n",
       "Net Tangible Assets                                  5438290000.0          NaN  \n",
       "Capital Lease Obligations                            2526304000.0          NaN  \n",
       "Common Stock Equity                                  7325287000.0          NaN  \n",
       "Total Capitalization                                 7344868000.0          NaN  \n",
       "Total Equity Gross Minority Interest                 7325287000.0          NaN  \n",
       "Stockholders Equity                                  7325287000.0          NaN  \n",
       "Other Equity Interest                                  11151000.0          NaN  \n",
       "Treasury Stock                                        603681000.0          NaN  \n",
       "Capital Stock                                        5952282000.0          NaN  \n",
       "Common Stock                                         5952282000.0          NaN  \n",
       "Total Liabilities Net Minority Interest             17321916000.0          NaN  \n",
       "Total Non Current Liabilities Net Minority Inte...   3905771000.0          NaN  \n",
       "Other Non Current Liabilities                                 NaN          NaN  \n",
       "Tradeand Other Payables Non Current                     4990000.0          NaN  \n",
       "Non Current Deferred Revenue                          301270000.0          NaN  \n",
       "Non Current Deferred Taxes Liabilities               1404778000.0          NaN  \n",
       "Long Term Debt And Capital Lease Obligation          2194733000.0          NaN  \n",
       "Long Term Capital Lease Obligation                   2175152000.0          NaN  \n",
       "Long Term Debt                                         19581000.0          NaN  \n",
       "Current Liabilities                                 13416145000.0          NaN  \n",
       "Other Current Liabilities                                     NaN          NaN  \n",
       "Current Debt And Capital Lease Obligation            2018333000.0          NaN  \n",
       "Current Capital Lease Obligation                      351152000.0          NaN  \n",
       "Current Debt                                         1667181000.0          NaN  \n",
       "Payables                                            10995082000.0          NaN  \n",
       "Other Payable                                        2052423000.0          NaN  \n",
       "Dividends Payable                                      39953000.0  123566000.0  \n",
       "Total Tax Payable                                     401308000.0          NaN  \n",
       "Accounts Payable                                     8501398000.0          NaN  \n",
       "Total Assets                                        24647203000.0          NaN  \n",
       "Total Non Current Assets                             7848393000.0          NaN  \n",
       "Other Non Current Assets                                6333000.0          NaN  \n",
       "Non Current Deferred Taxes Assets                     196736000.0          NaN  \n",
       "Investmentin Financial Assets                                 NaN     214000.0  \n",
       "Trading Securities                                            NaN     214000.0  \n",
       "Long Term Equity Investment                           386725000.0          NaN  \n",
       "Investmentsin Joint Venturesat Cost                   386725000.0          NaN  \n",
       "Investmentsin Subsidiariesat Cost                             0.0          NaN  \n",
       "Goodwill And Other Intangible Assets                 1886997000.0          NaN  \n",
       "Other Intangible Assets                               782022000.0          NaN  \n",
       "Goodwill                                             1104975000.0          NaN  \n",
       "Net PPE                                              3723676000.0          NaN  \n",
       "Accumulated Depreciation                             -984021000.0          NaN  \n",
       "Gross PPE                                            4707697000.0          NaN  \n",
       "Construction In Progress                               82095000.0          NaN  \n",
       "Other Properties                                     2527038000.0          NaN  \n",
       "Machinery Furniture Equipment                         980943000.0          NaN  \n",
       "Buildings And Improvements                           1117621000.0          NaN  \n",
       "Properties                                                    0.0          NaN  \n",
       "Current Assets                                      16798810000.0          NaN  \n",
       "Other Current Assets                                  160754000.0          NaN  \n",
       "Inventory                                            5927236000.0          NaN  \n",
       "Inventories Adjustments Allowances                   -101178000.0          NaN  \n",
       "Finished Goods                                       5989773000.0          NaN  \n",
       "Raw Materials                                          38641000.0          NaN  \n",
       "Other Receivables                                    2329648000.0          NaN  \n",
       "Taxes Receivable                                      716118000.0          NaN  \n",
       "Accounts Receivable                                  4761899000.0          NaN  \n",
       "Cash Cash Equivalents And Short Term Investments     2903155000.0          NaN  \n",
       "Other Short Term Investments                         1221779000.0          NaN  \n",
       "Cash And Cash Equivalents                            1681376000.0          NaN  \n",
       "Cash Equivalents                                     1319210000.0          NaN  \n",
       "Cash Financial                                        362166000.0          NaN  "
      ]
     },
     "execution_count": 104,
     "metadata": {},
     "output_type": "execute_result"
    }
   ],
   "source": [
    "df = pd.DataFrame(Magazine_luiza.balance_sheet)\n",
    "\n",
    "pd.set_option('display.max_rows', None)\n",
    "\n",
    "df"
   ]
  },
  {
   "cell_type": "code",
   "execution_count": 105,
   "metadata": {},
   "outputs": [
    {
     "name": "stdout",
     "output_type": "stream",
     "text": [
      "Balanço Patrimonial da yfinance.Ticker object <MGLU3.SA>\n"
     ]
    },
    {
     "name": "stderr",
     "output_type": "stream",
     "text": [
      "C:\\Users\\Usuario(a) Master\\AppData\\Local\\Temp\\ipykernel_14028\\1790073719.py:3: FutureWarning:\n",
      "\n",
      "Downcasting object dtype arrays on .fillna, .ffill, .bfill is deprecated and will change in a future version. Call result.infer_objects(copy=False) instead. To opt-in to the future behavior, set `pd.set_option('future.no_silent_downcasting', True)`\n",
      "\n"
     ]
    },
    {
     "data": {
      "text/html": [
       "<div>\n",
       "<style scoped>\n",
       "    .dataframe tbody tr th:only-of-type {\n",
       "        vertical-align: middle;\n",
       "    }\n",
       "\n",
       "    .dataframe tbody tr th {\n",
       "        vertical-align: top;\n",
       "    }\n",
       "\n",
       "    .dataframe thead th {\n",
       "        text-align: right;\n",
       "    }\n",
       "</style>\n",
       "<table border=\"1\" class=\"dataframe\">\n",
       "  <thead>\n",
       "    <tr style=\"text-align: right;\">\n",
       "      <th></th>\n",
       "      <th>2023-12-31</th>\n",
       "      <th>2022-12-31</th>\n",
       "      <th>2021-12-31</th>\n",
       "      <th>2020-12-31</th>\n",
       "      <th>2019-12-31</th>\n",
       "    </tr>\n",
       "  </thead>\n",
       "  <tbody>\n",
       "    <tr>\n",
       "      <th>Treasury Shares Number</th>\n",
       "      <td>6.095820e+06</td>\n",
       "      <td>7.666266e+06</td>\n",
       "      <td>8.917611e+06</td>\n",
       "      <td>3.799722e+06</td>\n",
       "      <td>0.0</td>\n",
       "    </tr>\n",
       "    <tr>\n",
       "      <th>Ordinary Shares Number</th>\n",
       "      <td>7.154650e+08</td>\n",
       "      <td>7.138946e+08</td>\n",
       "      <td>7.126432e+08</td>\n",
       "      <td>6.910324e+08</td>\n",
       "      <td>0.0</td>\n",
       "    </tr>\n",
       "    <tr>\n",
       "      <th>Share Issued</th>\n",
       "      <td>7.215608e+08</td>\n",
       "      <td>7.215608e+08</td>\n",
       "      <td>7.215608e+08</td>\n",
       "      <td>6.948321e+08</td>\n",
       "      <td>0.0</td>\n",
       "    </tr>\n",
       "    <tr>\n",
       "      <th>Net Debt</th>\n",
       "      <td>4.761509e+09</td>\n",
       "      <td>4.688712e+09</td>\n",
       "      <td>4.226654e+09</td>\n",
       "      <td>5.386000e+06</td>\n",
       "      <td>0.0</td>\n",
       "    </tr>\n",
       "    <tr>\n",
       "      <th>Total Debt</th>\n",
       "      <td>1.093301e+10</td>\n",
       "      <td>1.080227e+10</td>\n",
       "      <td>1.024755e+10</td>\n",
       "      <td>4.213066e+09</td>\n",
       "      <td>0.0</td>\n",
       "    </tr>\n",
       "    <tr>\n",
       "      <th>Tangible Book Value</th>\n",
       "      <td>5.105727e+09</td>\n",
       "      <td>6.221191e+09</td>\n",
       "      <td>6.954644e+09</td>\n",
       "      <td>5.438290e+09</td>\n",
       "      <td>0.0</td>\n",
       "    </tr>\n",
       "    <tr>\n",
       "      <th>Invested Capital</th>\n",
       "      <td>1.696539e+10</td>\n",
       "      <td>1.775746e+10</td>\n",
       "      <td>1.805410e+10</td>\n",
       "      <td>9.012049e+09</td>\n",
       "      <td>0.0</td>\n",
       "    </tr>\n",
       "    <tr>\n",
       "      <th>Working Capital</th>\n",
       "      <td>2.813036e+09</td>\n",
       "      <td>7.105211e+09</td>\n",
       "      <td>9.252621e+09</td>\n",
       "      <td>3.382665e+09</td>\n",
       "      <td>0.0</td>\n",
       "    </tr>\n",
       "    <tr>\n",
       "      <th>Net Tangible Assets</th>\n",
       "      <td>5.105727e+09</td>\n",
       "      <td>6.221191e+09</td>\n",
       "      <td>6.954644e+09</td>\n",
       "      <td>5.438290e+09</td>\n",
       "      <td>0.0</td>\n",
       "    </tr>\n",
       "    <tr>\n",
       "      <th>Capital Lease Obligations</th>\n",
       "      <td>3.578155e+09</td>\n",
       "      <td>3.693516e+09</td>\n",
       "      <td>3.454678e+09</td>\n",
       "      <td>2.526304e+09</td>\n",
       "      <td>0.0</td>\n",
       "    </tr>\n",
       "    <tr>\n",
       "      <th>Common Stock Equity</th>\n",
       "      <td>9.610534e+09</td>\n",
       "      <td>1.064870e+10</td>\n",
       "      <td>1.126123e+10</td>\n",
       "      <td>7.325287e+09</td>\n",
       "      <td>0.0</td>\n",
       "    </tr>\n",
       "    <tr>\n",
       "      <th>Total Capitalization</th>\n",
       "      <td>1.401104e+10</td>\n",
       "      <td>1.763316e+10</td>\n",
       "      <td>1.764614e+10</td>\n",
       "      <td>7.344868e+09</td>\n",
       "      <td>0.0</td>\n",
       "    </tr>\n",
       "    <tr>\n",
       "      <th>Total Equity Gross Minority Interest</th>\n",
       "      <td>9.610534e+09</td>\n",
       "      <td>1.064870e+10</td>\n",
       "      <td>1.126123e+10</td>\n",
       "      <td>7.325287e+09</td>\n",
       "      <td>0.0</td>\n",
       "    </tr>\n",
       "    <tr>\n",
       "      <th>Stockholders Equity</th>\n",
       "      <td>9.610534e+09</td>\n",
       "      <td>1.064870e+10</td>\n",
       "      <td>1.126123e+10</td>\n",
       "      <td>7.325287e+09</td>\n",
       "      <td>0.0</td>\n",
       "    </tr>\n",
       "    <tr>\n",
       "      <th>Other Equity Interest</th>\n",
       "      <td>-1.213820e+08</td>\n",
       "      <td>2.012000e+06</td>\n",
       "      <td>8.400000e+05</td>\n",
       "      <td>1.115100e+07</td>\n",
       "      <td>0.0</td>\n",
       "    </tr>\n",
       "    <tr>\n",
       "      <th>Treasury Stock</th>\n",
       "      <td>9.906030e+08</td>\n",
       "      <td>1.245809e+09</td>\n",
       "      <td>1.449159e+09</td>\n",
       "      <td>6.036810e+08</td>\n",
       "      <td>0.0</td>\n",
       "    </tr>\n",
       "    <tr>\n",
       "      <th>Capital Stock</th>\n",
       "      <td>1.235250e+10</td>\n",
       "      <td>1.235250e+10</td>\n",
       "      <td>1.235250e+10</td>\n",
       "      <td>5.952282e+09</td>\n",
       "      <td>0.0</td>\n",
       "    </tr>\n",
       "    <tr>\n",
       "      <th>Common Stock</th>\n",
       "      <td>1.235250e+10</td>\n",
       "      <td>1.235250e+10</td>\n",
       "      <td>1.235250e+10</td>\n",
       "      <td>5.952282e+09</td>\n",
       "      <td>0.0</td>\n",
       "    </tr>\n",
       "    <tr>\n",
       "      <th>Total Liabilities Net Minority Interest</th>\n",
       "      <td>2.784453e+10</td>\n",
       "      <td>2.711714e+10</td>\n",
       "      <td>2.712338e+10</td>\n",
       "      <td>1.732192e+10</td>\n",
       "      <td>0.0</td>\n",
       "    </tr>\n",
       "    <tr>\n",
       "      <th>Total Non Current Liabilities Net Minority Interest</th>\n",
       "      <td>1.043641e+10</td>\n",
       "      <td>1.228422e+10</td>\n",
       "      <td>1.186620e+10</td>\n",
       "      <td>3.905771e+09</td>\n",
       "      <td>0.0</td>\n",
       "    </tr>\n",
       "    <tr>\n",
       "      <th>Other Non Current Liabilities</th>\n",
       "      <td>1.342190e+08</td>\n",
       "      <td>4.921440e+08</td>\n",
       "      <td>9.229080e+08</td>\n",
       "      <td>0.000000e+00</td>\n",
       "      <td>0.0</td>\n",
       "    </tr>\n",
       "    <tr>\n",
       "      <th>Tradeand Other Payables Non Current</th>\n",
       "      <td>4.837000e+06</td>\n",
       "      <td>7.836000e+06</td>\n",
       "      <td>2.427400e+07</td>\n",
       "      <td>4.990000e+06</td>\n",
       "      <td>0.0</td>\n",
       "    </tr>\n",
       "    <tr>\n",
       "      <th>Non Current Deferred Revenue</th>\n",
       "      <td>1.102758e+09</td>\n",
       "      <td>4.234640e+08</td>\n",
       "      <td>2.452580e+08</td>\n",
       "      <td>3.012700e+08</td>\n",
       "      <td>0.0</td>\n",
       "    </tr>\n",
       "    <tr>\n",
       "      <th>Non Current Deferred Taxes Liabilities</th>\n",
       "      <td>1.724288e+09</td>\n",
       "      <td>1.302587e+09</td>\n",
       "      <td>1.268008e+09</td>\n",
       "      <td>1.404778e+09</td>\n",
       "      <td>0.0</td>\n",
       "    </tr>\n",
       "    <tr>\n",
       "      <th>Long Term Debt And Capital Lease Obligation</th>\n",
       "      <td>7.470304e+09</td>\n",
       "      <td>1.005819e+10</td>\n",
       "      <td>9.405748e+09</td>\n",
       "      <td>2.194733e+09</td>\n",
       "      <td>0.0</td>\n",
       "    </tr>\n",
       "    <tr>\n",
       "      <th>Long Term Capital Lease Obligation</th>\n",
       "      <td>3.069796e+09</td>\n",
       "      <td>3.073728e+09</td>\n",
       "      <td>3.020844e+09</td>\n",
       "      <td>2.175152e+09</td>\n",
       "      <td>0.0</td>\n",
       "    </tr>\n",
       "    <tr>\n",
       "      <th>Long Term Debt</th>\n",
       "      <td>4.400508e+09</td>\n",
       "      <td>6.984460e+09</td>\n",
       "      <td>6.384904e+09</td>\n",
       "      <td>1.958100e+07</td>\n",
       "      <td>0.0</td>\n",
       "    </tr>\n",
       "    <tr>\n",
       "      <th>Current Liabilities</th>\n",
       "      <td>1.740813e+10</td>\n",
       "      <td>1.483292e+10</td>\n",
       "      <td>1.525719e+10</td>\n",
       "      <td>1.341614e+10</td>\n",
       "      <td>0.0</td>\n",
       "    </tr>\n",
       "    <tr>\n",
       "      <th>Other Current Liabilities</th>\n",
       "      <td>1.847502e+09</td>\n",
       "      <td>2.118136e+09</td>\n",
       "      <td>2.070710e+09</td>\n",
       "      <td>0.000000e+00</td>\n",
       "      <td>0.0</td>\n",
       "    </tr>\n",
       "    <tr>\n",
       "      <th>Current Debt And Capital Lease Obligation</th>\n",
       "      <td>3.462706e+09</td>\n",
       "      <td>7.440850e+08</td>\n",
       "      <td>8.418020e+08</td>\n",
       "      <td>2.018333e+09</td>\n",
       "      <td>0.0</td>\n",
       "    </tr>\n",
       "    <tr>\n",
       "      <th>Current Capital Lease Obligation</th>\n",
       "      <td>5.083590e+08</td>\n",
       "      <td>6.197880e+08</td>\n",
       "      <td>4.338340e+08</td>\n",
       "      <td>3.511520e+08</td>\n",
       "      <td>0.0</td>\n",
       "    </tr>\n",
       "    <tr>\n",
       "      <th>Current Debt</th>\n",
       "      <td>2.954347e+09</td>\n",
       "      <td>1.242970e+08</td>\n",
       "      <td>4.079680e+08</td>\n",
       "      <td>1.667181e+09</td>\n",
       "      <td>0.0</td>\n",
       "    </tr>\n",
       "    <tr>\n",
       "      <th>Payables</th>\n",
       "      <td>1.155015e+10</td>\n",
       "      <td>1.147330e+10</td>\n",
       "      <td>1.192417e+10</td>\n",
       "      <td>1.099508e+10</td>\n",
       "      <td>0.0</td>\n",
       "    </tr>\n",
       "    <tr>\n",
       "      <th>Other Payable</th>\n",
       "      <td>1.866110e+09</td>\n",
       "      <td>1.705154e+09</td>\n",
       "      <td>1.544199e+09</td>\n",
       "      <td>2.052423e+09</td>\n",
       "      <td>0.0</td>\n",
       "    </tr>\n",
       "    <tr>\n",
       "      <th>Dividends Payable</th>\n",
       "      <td>0.000000e+00</td>\n",
       "      <td>0.000000e+00</td>\n",
       "      <td>4.143400e+07</td>\n",
       "      <td>3.995300e+07</td>\n",
       "      <td>123566000.0</td>\n",
       "    </tr>\n",
       "    <tr>\n",
       "      <th>Total Tax Payable</th>\n",
       "      <td>3.599710e+08</td>\n",
       "      <td>2.248890e+08</td>\n",
       "      <td>2.395950e+08</td>\n",
       "      <td>4.013080e+08</td>\n",
       "      <td>0.0</td>\n",
       "    </tr>\n",
       "    <tr>\n",
       "      <th>Accounts Payable</th>\n",
       "      <td>9.324072e+09</td>\n",
       "      <td>9.543257e+09</td>\n",
       "      <td>1.009894e+10</td>\n",
       "      <td>8.501398e+09</td>\n",
       "      <td>0.0</td>\n",
       "    </tr>\n",
       "    <tr>\n",
       "      <th>Total Assets</th>\n",
       "      <td>3.745507e+10</td>\n",
       "      <td>3.776584e+10</td>\n",
       "      <td>3.838462e+10</td>\n",
       "      <td>2.464720e+10</td>\n",
       "      <td>0.0</td>\n",
       "    </tr>\n",
       "    <tr>\n",
       "      <th>Total Non Current Assets</th>\n",
       "      <td>1.723390e+10</td>\n",
       "      <td>1.582771e+10</td>\n",
       "      <td>1.387481e+10</td>\n",
       "      <td>7.848393e+09</td>\n",
       "      <td>0.0</td>\n",
       "    </tr>\n",
       "    <tr>\n",
       "      <th>Other Non Current Assets</th>\n",
       "      <td>1.136710e+08</td>\n",
       "      <td>1.167860e+08</td>\n",
       "      <td>1.848160e+08</td>\n",
       "      <td>6.333000e+06</td>\n",
       "      <td>0.0</td>\n",
       "    </tr>\n",
       "    <tr>\n",
       "      <th>Non Current Deferred Taxes Assets</th>\n",
       "      <td>2.836852e+09</td>\n",
       "      <td>1.686360e+09</td>\n",
       "      <td>9.151110e+08</td>\n",
       "      <td>1.967360e+08</td>\n",
       "      <td>0.0</td>\n",
       "    </tr>\n",
       "    <tr>\n",
       "      <th>Investmentin Financial Assets</th>\n",
       "      <td>0.000000e+00</td>\n",
       "      <td>0.000000e+00</td>\n",
       "      <td>0.000000e+00</td>\n",
       "      <td>0.000000e+00</td>\n",
       "      <td>214000.0</td>\n",
       "    </tr>\n",
       "    <tr>\n",
       "      <th>Trading Securities</th>\n",
       "      <td>0.000000e+00</td>\n",
       "      <td>0.000000e+00</td>\n",
       "      <td>0.000000e+00</td>\n",
       "      <td>0.000000e+00</td>\n",
       "      <td>214000.0</td>\n",
       "    </tr>\n",
       "    <tr>\n",
       "      <th>Long Term Equity Investment</th>\n",
       "      <td>3.225160e+08</td>\n",
       "      <td>3.388330e+08</td>\n",
       "      <td>4.077800e+08</td>\n",
       "      <td>3.867250e+08</td>\n",
       "      <td>0.0</td>\n",
       "    </tr>\n",
       "    <tr>\n",
       "      <th>Investmentsin Joint Venturesat Cost</th>\n",
       "      <td>3.225160e+08</td>\n",
       "      <td>3.388330e+08</td>\n",
       "      <td>4.077800e+08</td>\n",
       "      <td>3.867250e+08</td>\n",
       "      <td>0.0</td>\n",
       "    </tr>\n",
       "    <tr>\n",
       "      <th>Investmentsin Subsidiariesat Cost</th>\n",
       "      <td>0.000000e+00</td>\n",
       "      <td>0.000000e+00</td>\n",
       "      <td>0.000000e+00</td>\n",
       "      <td>0.000000e+00</td>\n",
       "      <td>0.0</td>\n",
       "    </tr>\n",
       "    <tr>\n",
       "      <th>Goodwill And Other Intangible Assets</th>\n",
       "      <td>4.504807e+09</td>\n",
       "      <td>4.427510e+09</td>\n",
       "      <td>4.306587e+09</td>\n",
       "      <td>1.886997e+09</td>\n",
       "      <td>0.0</td>\n",
       "    </tr>\n",
       "    <tr>\n",
       "      <th>Other Intangible Assets</th>\n",
       "      <td>2.251630e+09</td>\n",
       "      <td>2.174221e+09</td>\n",
       "      <td>2.054836e+09</td>\n",
       "      <td>7.820220e+08</td>\n",
       "      <td>0.0</td>\n",
       "    </tr>\n",
       "    <tr>\n",
       "      <th>Goodwill</th>\n",
       "      <td>2.253177e+09</td>\n",
       "      <td>2.253289e+09</td>\n",
       "      <td>2.251751e+09</td>\n",
       "      <td>1.104975e+09</td>\n",
       "      <td>0.0</td>\n",
       "    </tr>\n",
       "    <tr>\n",
       "      <th>Net PPE</th>\n",
       "      <td>5.184576e+09</td>\n",
       "      <td>5.466976e+09</td>\n",
       "      <td>5.301711e+09</td>\n",
       "      <td>3.723676e+09</td>\n",
       "      <td>0.0</td>\n",
       "    </tr>\n",
       "    <tr>\n",
       "      <th>Accumulated Depreciation</th>\n",
       "      <td>-3.646737e+09</td>\n",
       "      <td>-2.860974e+09</td>\n",
       "      <td>-8.679490e+08</td>\n",
       "      <td>-9.840210e+08</td>\n",
       "      <td>0.0</td>\n",
       "    </tr>\n",
       "    <tr>\n",
       "      <th>Gross PPE</th>\n",
       "      <td>8.831313e+09</td>\n",
       "      <td>8.327950e+09</td>\n",
       "      <td>6.169660e+09</td>\n",
       "      <td>4.707697e+09</td>\n",
       "      <td>0.0</td>\n",
       "    </tr>\n",
       "    <tr>\n",
       "      <th>Construction In Progress</th>\n",
       "      <td>2.956900e+07</td>\n",
       "      <td>4.536100e+07</td>\n",
       "      <td>2.018420e+08</td>\n",
       "      <td>8.209500e+07</td>\n",
       "      <td>0.0</td>\n",
       "    </tr>\n",
       "    <tr>\n",
       "      <th>Other Properties</th>\n",
       "      <td>5.767174e+09</td>\n",
       "      <td>5.377652e+09</td>\n",
       "      <td>3.443293e+09</td>\n",
       "      <td>2.527038e+09</td>\n",
       "      <td>0.0</td>\n",
       "    </tr>\n",
       "    <tr>\n",
       "      <th>Machinery Furniture Equipment</th>\n",
       "      <td>1.652664e+09</td>\n",
       "      <td>1.583642e+09</td>\n",
       "      <td>1.491894e+09</td>\n",
       "      <td>9.809430e+08</td>\n",
       "      <td>0.0</td>\n",
       "    </tr>\n",
       "    <tr>\n",
       "      <th>Buildings And Improvements</th>\n",
       "      <td>1.381906e+09</td>\n",
       "      <td>1.321295e+09</td>\n",
       "      <td>1.032631e+09</td>\n",
       "      <td>1.117621e+09</td>\n",
       "      <td>0.0</td>\n",
       "    </tr>\n",
       "    <tr>\n",
       "      <th>Properties</th>\n",
       "      <td>0.000000e+00</td>\n",
       "      <td>0.000000e+00</td>\n",
       "      <td>0.000000e+00</td>\n",
       "      <td>0.000000e+00</td>\n",
       "      <td>0.0</td>\n",
       "    </tr>\n",
       "    <tr>\n",
       "      <th>Current Assets</th>\n",
       "      <td>2.022116e+10</td>\n",
       "      <td>2.193814e+10</td>\n",
       "      <td>2.450981e+10</td>\n",
       "      <td>1.679881e+10</td>\n",
       "      <td>0.0</td>\n",
       "    </tr>\n",
       "    <tr>\n",
       "      <th>Other Current Assets</th>\n",
       "      <td>3.347430e+08</td>\n",
       "      <td>2.082370e+08</td>\n",
       "      <td>4.028210e+08</td>\n",
       "      <td>1.607540e+08</td>\n",
       "      <td>0.0</td>\n",
       "    </tr>\n",
       "    <tr>\n",
       "      <th>Inventory</th>\n",
       "      <td>7.497299e+09</td>\n",
       "      <td>7.790069e+09</td>\n",
       "      <td>9.112214e+09</td>\n",
       "      <td>5.927236e+09</td>\n",
       "      <td>0.0</td>\n",
       "    </tr>\n",
       "    <tr>\n",
       "      <th>Inventories Adjustments Allowances</th>\n",
       "      <td>-1.795610e+08</td>\n",
       "      <td>-1.844840e+08</td>\n",
       "      <td>-1.635560e+08</td>\n",
       "      <td>-1.011780e+08</td>\n",
       "      <td>0.0</td>\n",
       "    </tr>\n",
       "    <tr>\n",
       "      <th>Finished Goods</th>\n",
       "      <td>7.641437e+09</td>\n",
       "      <td>7.943173e+09</td>\n",
       "      <td>9.210072e+09</td>\n",
       "      <td>5.989773e+09</td>\n",
       "      <td>0.0</td>\n",
       "    </tr>\n",
       "    <tr>\n",
       "      <th>Raw Materials</th>\n",
       "      <td>3.542300e+07</td>\n",
       "      <td>3.138000e+07</td>\n",
       "      <td>6.569800e+07</td>\n",
       "      <td>3.864100e+07</td>\n",
       "      <td>0.0</td>\n",
       "    </tr>\n",
       "    <tr>\n",
       "      <th>Other Receivables</th>\n",
       "      <td>1.273718e+09</td>\n",
       "      <td>2.576572e+09</td>\n",
       "      <td>3.707284e+09</td>\n",
       "      <td>2.329648e+09</td>\n",
       "      <td>0.0</td>\n",
       "    </tr>\n",
       "    <tr>\n",
       "      <th>Taxes Receivable</th>\n",
       "      <td>1.857535e+09</td>\n",
       "      <td>1.878645e+09</td>\n",
       "      <td>1.514143e+09</td>\n",
       "      <td>7.161180e+08</td>\n",
       "      <td>0.0</td>\n",
       "    </tr>\n",
       "    <tr>\n",
       "      <th>Accounts Receivable</th>\n",
       "      <td>5.885450e+09</td>\n",
       "      <td>6.760270e+09</td>\n",
       "      <td>5.650759e+09</td>\n",
       "      <td>4.761899e+09</td>\n",
       "      <td>0.0</td>\n",
       "    </tr>\n",
       "    <tr>\n",
       "      <th>Cash Cash Equivalents And Short Term Investments</th>\n",
       "      <td>3.372418e+09</td>\n",
       "      <td>2.724343e+09</td>\n",
       "      <td>4.122589e+09</td>\n",
       "      <td>2.903155e+09</td>\n",
       "      <td>0.0</td>\n",
       "    </tr>\n",
       "    <tr>\n",
       "      <th>Other Short Term Investments</th>\n",
       "      <td>7.790720e+08</td>\n",
       "      <td>3.042980e+08</td>\n",
       "      <td>1.556371e+09</td>\n",
       "      <td>1.221779e+09</td>\n",
       "      <td>0.0</td>\n",
       "    </tr>\n",
       "    <tr>\n",
       "      <th>Cash And Cash Equivalents</th>\n",
       "      <td>2.593346e+09</td>\n",
       "      <td>2.420045e+09</td>\n",
       "      <td>2.566218e+09</td>\n",
       "      <td>1.681376e+09</td>\n",
       "      <td>0.0</td>\n",
       "    </tr>\n",
       "    <tr>\n",
       "      <th>Cash Equivalents</th>\n",
       "      <td>2.409700e+09</td>\n",
       "      <td>2.170031e+09</td>\n",
       "      <td>1.776993e+09</td>\n",
       "      <td>1.319210e+09</td>\n",
       "      <td>0.0</td>\n",
       "    </tr>\n",
       "    <tr>\n",
       "      <th>Cash Financial</th>\n",
       "      <td>1.836460e+08</td>\n",
       "      <td>2.500140e+08</td>\n",
       "      <td>7.892250e+08</td>\n",
       "      <td>3.621660e+08</td>\n",
       "      <td>0.0</td>\n",
       "    </tr>\n",
       "  </tbody>\n",
       "</table>\n",
       "</div>"
      ],
      "text/plain": [
       "                                                      2023-12-31  \\\n",
       "Treasury Shares Number                              6.095820e+06   \n",
       "Ordinary Shares Number                              7.154650e+08   \n",
       "Share Issued                                        7.215608e+08   \n",
       "Net Debt                                            4.761509e+09   \n",
       "Total Debt                                          1.093301e+10   \n",
       "Tangible Book Value                                 5.105727e+09   \n",
       "Invested Capital                                    1.696539e+10   \n",
       "Working Capital                                     2.813036e+09   \n",
       "Net Tangible Assets                                 5.105727e+09   \n",
       "Capital Lease Obligations                           3.578155e+09   \n",
       "Common Stock Equity                                 9.610534e+09   \n",
       "Total Capitalization                                1.401104e+10   \n",
       "Total Equity Gross Minority Interest                9.610534e+09   \n",
       "Stockholders Equity                                 9.610534e+09   \n",
       "Other Equity Interest                              -1.213820e+08   \n",
       "Treasury Stock                                      9.906030e+08   \n",
       "Capital Stock                                       1.235250e+10   \n",
       "Common Stock                                        1.235250e+10   \n",
       "Total Liabilities Net Minority Interest             2.784453e+10   \n",
       "Total Non Current Liabilities Net Minority Inte...  1.043641e+10   \n",
       "Other Non Current Liabilities                       1.342190e+08   \n",
       "Tradeand Other Payables Non Current                 4.837000e+06   \n",
       "Non Current Deferred Revenue                        1.102758e+09   \n",
       "Non Current Deferred Taxes Liabilities              1.724288e+09   \n",
       "Long Term Debt And Capital Lease Obligation         7.470304e+09   \n",
       "Long Term Capital Lease Obligation                  3.069796e+09   \n",
       "Long Term Debt                                      4.400508e+09   \n",
       "Current Liabilities                                 1.740813e+10   \n",
       "Other Current Liabilities                           1.847502e+09   \n",
       "Current Debt And Capital Lease Obligation           3.462706e+09   \n",
       "Current Capital Lease Obligation                    5.083590e+08   \n",
       "Current Debt                                        2.954347e+09   \n",
       "Payables                                            1.155015e+10   \n",
       "Other Payable                                       1.866110e+09   \n",
       "Dividends Payable                                   0.000000e+00   \n",
       "Total Tax Payable                                   3.599710e+08   \n",
       "Accounts Payable                                    9.324072e+09   \n",
       "Total Assets                                        3.745507e+10   \n",
       "Total Non Current Assets                            1.723390e+10   \n",
       "Other Non Current Assets                            1.136710e+08   \n",
       "Non Current Deferred Taxes Assets                   2.836852e+09   \n",
       "Investmentin Financial Assets                       0.000000e+00   \n",
       "Trading Securities                                  0.000000e+00   \n",
       "Long Term Equity Investment                         3.225160e+08   \n",
       "Investmentsin Joint Venturesat Cost                 3.225160e+08   \n",
       "Investmentsin Subsidiariesat Cost                   0.000000e+00   \n",
       "Goodwill And Other Intangible Assets                4.504807e+09   \n",
       "Other Intangible Assets                             2.251630e+09   \n",
       "Goodwill                                            2.253177e+09   \n",
       "Net PPE                                             5.184576e+09   \n",
       "Accumulated Depreciation                           -3.646737e+09   \n",
       "Gross PPE                                           8.831313e+09   \n",
       "Construction In Progress                            2.956900e+07   \n",
       "Other Properties                                    5.767174e+09   \n",
       "Machinery Furniture Equipment                       1.652664e+09   \n",
       "Buildings And Improvements                          1.381906e+09   \n",
       "Properties                                          0.000000e+00   \n",
       "Current Assets                                      2.022116e+10   \n",
       "Other Current Assets                                3.347430e+08   \n",
       "Inventory                                           7.497299e+09   \n",
       "Inventories Adjustments Allowances                 -1.795610e+08   \n",
       "Finished Goods                                      7.641437e+09   \n",
       "Raw Materials                                       3.542300e+07   \n",
       "Other Receivables                                   1.273718e+09   \n",
       "Taxes Receivable                                    1.857535e+09   \n",
       "Accounts Receivable                                 5.885450e+09   \n",
       "Cash Cash Equivalents And Short Term Investments    3.372418e+09   \n",
       "Other Short Term Investments                        7.790720e+08   \n",
       "Cash And Cash Equivalents                           2.593346e+09   \n",
       "Cash Equivalents                                    2.409700e+09   \n",
       "Cash Financial                                      1.836460e+08   \n",
       "\n",
       "                                                      2022-12-31  \\\n",
       "Treasury Shares Number                              7.666266e+06   \n",
       "Ordinary Shares Number                              7.138946e+08   \n",
       "Share Issued                                        7.215608e+08   \n",
       "Net Debt                                            4.688712e+09   \n",
       "Total Debt                                          1.080227e+10   \n",
       "Tangible Book Value                                 6.221191e+09   \n",
       "Invested Capital                                    1.775746e+10   \n",
       "Working Capital                                     7.105211e+09   \n",
       "Net Tangible Assets                                 6.221191e+09   \n",
       "Capital Lease Obligations                           3.693516e+09   \n",
       "Common Stock Equity                                 1.064870e+10   \n",
       "Total Capitalization                                1.763316e+10   \n",
       "Total Equity Gross Minority Interest                1.064870e+10   \n",
       "Stockholders Equity                                 1.064870e+10   \n",
       "Other Equity Interest                               2.012000e+06   \n",
       "Treasury Stock                                      1.245809e+09   \n",
       "Capital Stock                                       1.235250e+10   \n",
       "Common Stock                                        1.235250e+10   \n",
       "Total Liabilities Net Minority Interest             2.711714e+10   \n",
       "Total Non Current Liabilities Net Minority Inte...  1.228422e+10   \n",
       "Other Non Current Liabilities                       4.921440e+08   \n",
       "Tradeand Other Payables Non Current                 7.836000e+06   \n",
       "Non Current Deferred Revenue                        4.234640e+08   \n",
       "Non Current Deferred Taxes Liabilities              1.302587e+09   \n",
       "Long Term Debt And Capital Lease Obligation         1.005819e+10   \n",
       "Long Term Capital Lease Obligation                  3.073728e+09   \n",
       "Long Term Debt                                      6.984460e+09   \n",
       "Current Liabilities                                 1.483292e+10   \n",
       "Other Current Liabilities                           2.118136e+09   \n",
       "Current Debt And Capital Lease Obligation           7.440850e+08   \n",
       "Current Capital Lease Obligation                    6.197880e+08   \n",
       "Current Debt                                        1.242970e+08   \n",
       "Payables                                            1.147330e+10   \n",
       "Other Payable                                       1.705154e+09   \n",
       "Dividends Payable                                   0.000000e+00   \n",
       "Total Tax Payable                                   2.248890e+08   \n",
       "Accounts Payable                                    9.543257e+09   \n",
       "Total Assets                                        3.776584e+10   \n",
       "Total Non Current Assets                            1.582771e+10   \n",
       "Other Non Current Assets                            1.167860e+08   \n",
       "Non Current Deferred Taxes Assets                   1.686360e+09   \n",
       "Investmentin Financial Assets                       0.000000e+00   \n",
       "Trading Securities                                  0.000000e+00   \n",
       "Long Term Equity Investment                         3.388330e+08   \n",
       "Investmentsin Joint Venturesat Cost                 3.388330e+08   \n",
       "Investmentsin Subsidiariesat Cost                   0.000000e+00   \n",
       "Goodwill And Other Intangible Assets                4.427510e+09   \n",
       "Other Intangible Assets                             2.174221e+09   \n",
       "Goodwill                                            2.253289e+09   \n",
       "Net PPE                                             5.466976e+09   \n",
       "Accumulated Depreciation                           -2.860974e+09   \n",
       "Gross PPE                                           8.327950e+09   \n",
       "Construction In Progress                            4.536100e+07   \n",
       "Other Properties                                    5.377652e+09   \n",
       "Machinery Furniture Equipment                       1.583642e+09   \n",
       "Buildings And Improvements                          1.321295e+09   \n",
       "Properties                                          0.000000e+00   \n",
       "Current Assets                                      2.193814e+10   \n",
       "Other Current Assets                                2.082370e+08   \n",
       "Inventory                                           7.790069e+09   \n",
       "Inventories Adjustments Allowances                 -1.844840e+08   \n",
       "Finished Goods                                      7.943173e+09   \n",
       "Raw Materials                                       3.138000e+07   \n",
       "Other Receivables                                   2.576572e+09   \n",
       "Taxes Receivable                                    1.878645e+09   \n",
       "Accounts Receivable                                 6.760270e+09   \n",
       "Cash Cash Equivalents And Short Term Investments    2.724343e+09   \n",
       "Other Short Term Investments                        3.042980e+08   \n",
       "Cash And Cash Equivalents                           2.420045e+09   \n",
       "Cash Equivalents                                    2.170031e+09   \n",
       "Cash Financial                                      2.500140e+08   \n",
       "\n",
       "                                                      2021-12-31  \\\n",
       "Treasury Shares Number                              8.917611e+06   \n",
       "Ordinary Shares Number                              7.126432e+08   \n",
       "Share Issued                                        7.215608e+08   \n",
       "Net Debt                                            4.226654e+09   \n",
       "Total Debt                                          1.024755e+10   \n",
       "Tangible Book Value                                 6.954644e+09   \n",
       "Invested Capital                                    1.805410e+10   \n",
       "Working Capital                                     9.252621e+09   \n",
       "Net Tangible Assets                                 6.954644e+09   \n",
       "Capital Lease Obligations                           3.454678e+09   \n",
       "Common Stock Equity                                 1.126123e+10   \n",
       "Total Capitalization                                1.764614e+10   \n",
       "Total Equity Gross Minority Interest                1.126123e+10   \n",
       "Stockholders Equity                                 1.126123e+10   \n",
       "Other Equity Interest                               8.400000e+05   \n",
       "Treasury Stock                                      1.449159e+09   \n",
       "Capital Stock                                       1.235250e+10   \n",
       "Common Stock                                        1.235250e+10   \n",
       "Total Liabilities Net Minority Interest             2.712338e+10   \n",
       "Total Non Current Liabilities Net Minority Inte...  1.186620e+10   \n",
       "Other Non Current Liabilities                       9.229080e+08   \n",
       "Tradeand Other Payables Non Current                 2.427400e+07   \n",
       "Non Current Deferred Revenue                        2.452580e+08   \n",
       "Non Current Deferred Taxes Liabilities              1.268008e+09   \n",
       "Long Term Debt And Capital Lease Obligation         9.405748e+09   \n",
       "Long Term Capital Lease Obligation                  3.020844e+09   \n",
       "Long Term Debt                                      6.384904e+09   \n",
       "Current Liabilities                                 1.525719e+10   \n",
       "Other Current Liabilities                           2.070710e+09   \n",
       "Current Debt And Capital Lease Obligation           8.418020e+08   \n",
       "Current Capital Lease Obligation                    4.338340e+08   \n",
       "Current Debt                                        4.079680e+08   \n",
       "Payables                                            1.192417e+10   \n",
       "Other Payable                                       1.544199e+09   \n",
       "Dividends Payable                                   4.143400e+07   \n",
       "Total Tax Payable                                   2.395950e+08   \n",
       "Accounts Payable                                    1.009894e+10   \n",
       "Total Assets                                        3.838462e+10   \n",
       "Total Non Current Assets                            1.387481e+10   \n",
       "Other Non Current Assets                            1.848160e+08   \n",
       "Non Current Deferred Taxes Assets                   9.151110e+08   \n",
       "Investmentin Financial Assets                       0.000000e+00   \n",
       "Trading Securities                                  0.000000e+00   \n",
       "Long Term Equity Investment                         4.077800e+08   \n",
       "Investmentsin Joint Venturesat Cost                 4.077800e+08   \n",
       "Investmentsin Subsidiariesat Cost                   0.000000e+00   \n",
       "Goodwill And Other Intangible Assets                4.306587e+09   \n",
       "Other Intangible Assets                             2.054836e+09   \n",
       "Goodwill                                            2.251751e+09   \n",
       "Net PPE                                             5.301711e+09   \n",
       "Accumulated Depreciation                           -8.679490e+08   \n",
       "Gross PPE                                           6.169660e+09   \n",
       "Construction In Progress                            2.018420e+08   \n",
       "Other Properties                                    3.443293e+09   \n",
       "Machinery Furniture Equipment                       1.491894e+09   \n",
       "Buildings And Improvements                          1.032631e+09   \n",
       "Properties                                          0.000000e+00   \n",
       "Current Assets                                      2.450981e+10   \n",
       "Other Current Assets                                4.028210e+08   \n",
       "Inventory                                           9.112214e+09   \n",
       "Inventories Adjustments Allowances                 -1.635560e+08   \n",
       "Finished Goods                                      9.210072e+09   \n",
       "Raw Materials                                       6.569800e+07   \n",
       "Other Receivables                                   3.707284e+09   \n",
       "Taxes Receivable                                    1.514143e+09   \n",
       "Accounts Receivable                                 5.650759e+09   \n",
       "Cash Cash Equivalents And Short Term Investments    4.122589e+09   \n",
       "Other Short Term Investments                        1.556371e+09   \n",
       "Cash And Cash Equivalents                           2.566218e+09   \n",
       "Cash Equivalents                                    1.776993e+09   \n",
       "Cash Financial                                      7.892250e+08   \n",
       "\n",
       "                                                      2020-12-31   2019-12-31  \n",
       "Treasury Shares Number                              3.799722e+06          0.0  \n",
       "Ordinary Shares Number                              6.910324e+08          0.0  \n",
       "Share Issued                                        6.948321e+08          0.0  \n",
       "Net Debt                                            5.386000e+06          0.0  \n",
       "Total Debt                                          4.213066e+09          0.0  \n",
       "Tangible Book Value                                 5.438290e+09          0.0  \n",
       "Invested Capital                                    9.012049e+09          0.0  \n",
       "Working Capital                                     3.382665e+09          0.0  \n",
       "Net Tangible Assets                                 5.438290e+09          0.0  \n",
       "Capital Lease Obligations                           2.526304e+09          0.0  \n",
       "Common Stock Equity                                 7.325287e+09          0.0  \n",
       "Total Capitalization                                7.344868e+09          0.0  \n",
       "Total Equity Gross Minority Interest                7.325287e+09          0.0  \n",
       "Stockholders Equity                                 7.325287e+09          0.0  \n",
       "Other Equity Interest                               1.115100e+07          0.0  \n",
       "Treasury Stock                                      6.036810e+08          0.0  \n",
       "Capital Stock                                       5.952282e+09          0.0  \n",
       "Common Stock                                        5.952282e+09          0.0  \n",
       "Total Liabilities Net Minority Interest             1.732192e+10          0.0  \n",
       "Total Non Current Liabilities Net Minority Inte...  3.905771e+09          0.0  \n",
       "Other Non Current Liabilities                       0.000000e+00          0.0  \n",
       "Tradeand Other Payables Non Current                 4.990000e+06          0.0  \n",
       "Non Current Deferred Revenue                        3.012700e+08          0.0  \n",
       "Non Current Deferred Taxes Liabilities              1.404778e+09          0.0  \n",
       "Long Term Debt And Capital Lease Obligation         2.194733e+09          0.0  \n",
       "Long Term Capital Lease Obligation                  2.175152e+09          0.0  \n",
       "Long Term Debt                                      1.958100e+07          0.0  \n",
       "Current Liabilities                                 1.341614e+10          0.0  \n",
       "Other Current Liabilities                           0.000000e+00          0.0  \n",
       "Current Debt And Capital Lease Obligation           2.018333e+09          0.0  \n",
       "Current Capital Lease Obligation                    3.511520e+08          0.0  \n",
       "Current Debt                                        1.667181e+09          0.0  \n",
       "Payables                                            1.099508e+10          0.0  \n",
       "Other Payable                                       2.052423e+09          0.0  \n",
       "Dividends Payable                                   3.995300e+07  123566000.0  \n",
       "Total Tax Payable                                   4.013080e+08          0.0  \n",
       "Accounts Payable                                    8.501398e+09          0.0  \n",
       "Total Assets                                        2.464720e+10          0.0  \n",
       "Total Non Current Assets                            7.848393e+09          0.0  \n",
       "Other Non Current Assets                            6.333000e+06          0.0  \n",
       "Non Current Deferred Taxes Assets                   1.967360e+08          0.0  \n",
       "Investmentin Financial Assets                       0.000000e+00     214000.0  \n",
       "Trading Securities                                  0.000000e+00     214000.0  \n",
       "Long Term Equity Investment                         3.867250e+08          0.0  \n",
       "Investmentsin Joint Venturesat Cost                 3.867250e+08          0.0  \n",
       "Investmentsin Subsidiariesat Cost                   0.000000e+00          0.0  \n",
       "Goodwill And Other Intangible Assets                1.886997e+09          0.0  \n",
       "Other Intangible Assets                             7.820220e+08          0.0  \n",
       "Goodwill                                            1.104975e+09          0.0  \n",
       "Net PPE                                             3.723676e+09          0.0  \n",
       "Accumulated Depreciation                           -9.840210e+08          0.0  \n",
       "Gross PPE                                           4.707697e+09          0.0  \n",
       "Construction In Progress                            8.209500e+07          0.0  \n",
       "Other Properties                                    2.527038e+09          0.0  \n",
       "Machinery Furniture Equipment                       9.809430e+08          0.0  \n",
       "Buildings And Improvements                          1.117621e+09          0.0  \n",
       "Properties                                          0.000000e+00          0.0  \n",
       "Current Assets                                      1.679881e+10          0.0  \n",
       "Other Current Assets                                1.607540e+08          0.0  \n",
       "Inventory                                           5.927236e+09          0.0  \n",
       "Inventories Adjustments Allowances                 -1.011780e+08          0.0  \n",
       "Finished Goods                                      5.989773e+09          0.0  \n",
       "Raw Materials                                       3.864100e+07          0.0  \n",
       "Other Receivables                                   2.329648e+09          0.0  \n",
       "Taxes Receivable                                    7.161180e+08          0.0  \n",
       "Accounts Receivable                                 4.761899e+09          0.0  \n",
       "Cash Cash Equivalents And Short Term Investments    2.903155e+09          0.0  \n",
       "Other Short Term Investments                        1.221779e+09          0.0  \n",
       "Cash And Cash Equivalents                           1.681376e+09          0.0  \n",
       "Cash Equivalents                                    1.319210e+09          0.0  \n",
       "Cash Financial                                      3.621660e+08          0.0  "
      ]
     },
     "metadata": {},
     "output_type": "display_data"
    },
    {
     "name": "stdout",
     "output_type": "stream",
     "text": [
      "Balanço Patrimonial da yfinance.Ticker object <BHIA3.SA>\n"
     ]
    },
    {
     "name": "stderr",
     "output_type": "stream",
     "text": [
      "C:\\Users\\Usuario(a) Master\\AppData\\Local\\Temp\\ipykernel_14028\\1790073719.py:3: FutureWarning:\n",
      "\n",
      "Downcasting object dtype arrays on .fillna, .ffill, .bfill is deprecated and will change in a future version. Call result.infer_objects(copy=False) instead. To opt-in to the future behavior, set `pd.set_option('future.no_silent_downcasting', True)`\n",
      "\n"
     ]
    },
    {
     "data": {
      "text/html": [
       "<div>\n",
       "<style scoped>\n",
       "    .dataframe tbody tr th:only-of-type {\n",
       "        vertical-align: middle;\n",
       "    }\n",
       "\n",
       "    .dataframe tbody tr th {\n",
       "        vertical-align: top;\n",
       "    }\n",
       "\n",
       "    .dataframe thead th {\n",
       "        text-align: right;\n",
       "    }\n",
       "</style>\n",
       "<table border=\"1\" class=\"dataframe\">\n",
       "  <thead>\n",
       "    <tr style=\"text-align: right;\">\n",
       "      <th></th>\n",
       "      <th>2023-12-31</th>\n",
       "      <th>2022-12-31</th>\n",
       "      <th>2021-12-31</th>\n",
       "      <th>2020-12-31</th>\n",
       "      <th>2019-12-31</th>\n",
       "    </tr>\n",
       "  </thead>\n",
       "  <tbody>\n",
       "    <tr>\n",
       "      <th>Treasury Shares Number</th>\n",
       "      <td>2.198910e+05</td>\n",
       "      <td>8.272010e+05</td>\n",
       "      <td>9.143600e+04</td>\n",
       "      <td>1.371500e+04</td>\n",
       "      <td>0.000000e+00</td>\n",
       "    </tr>\n",
       "    <tr>\n",
       "      <th>Ordinary Shares Number</th>\n",
       "      <td>9.486334e+07</td>\n",
       "      <td>7.225025e+07</td>\n",
       "      <td>7.298579e+07</td>\n",
       "      <td>7.301395e+07</td>\n",
       "      <td>0.000000e+00</td>\n",
       "    </tr>\n",
       "    <tr>\n",
       "      <th>Share Issued</th>\n",
       "      <td>9.508323e+07</td>\n",
       "      <td>7.307745e+07</td>\n",
       "      <td>7.307722e+07</td>\n",
       "      <td>7.302766e+07</td>\n",
       "      <td>0.000000e+00</td>\n",
       "    </tr>\n",
       "    <tr>\n",
       "      <th>Net Debt</th>\n",
       "      <td>6.386000e+09</td>\n",
       "      <td>7.359000e+09</td>\n",
       "      <td>7.641000e+09</td>\n",
       "      <td>6.112000e+09</td>\n",
       "      <td>0.000000e+00</td>\n",
       "    </tr>\n",
       "    <tr>\n",
       "      <th>Total Debt</th>\n",
       "      <td>1.244200e+10</td>\n",
       "      <td>1.307700e+10</td>\n",
       "      <td>1.362400e+10</td>\n",
       "      <td>1.305900e+10</td>\n",
       "      <td>0.000000e+00</td>\n",
       "    </tr>\n",
       "    <tr>\n",
       "      <th>Tangible Book Value</th>\n",
       "      <td>6.990000e+08</td>\n",
       "      <td>2.580000e+09</td>\n",
       "      <td>3.494000e+09</td>\n",
       "      <td>4.326000e+09</td>\n",
       "      <td>0.000000e+00</td>\n",
       "    </tr>\n",
       "    <tr>\n",
       "      <th>Invested Capital</th>\n",
       "      <td>1.241300e+10</td>\n",
       "      <td>1.466200e+10</td>\n",
       "      <td>1.505900e+10</td>\n",
       "      <td>1.507500e+10</td>\n",
       "      <td>0.000000e+00</td>\n",
       "    </tr>\n",
       "    <tr>\n",
       "      <th>Working Capital</th>\n",
       "      <td>-5.479000e+09</td>\n",
       "      <td>-2.627000e+09</td>\n",
       "      <td>-2.130000e+08</td>\n",
       "      <td>7.510000e+08</td>\n",
       "      <td>0.000000e+00</td>\n",
       "    </tr>\n",
       "    <tr>\n",
       "      <th>Net Tangible Assets</th>\n",
       "      <td>6.990000e+08</td>\n",
       "      <td>2.580000e+09</td>\n",
       "      <td>3.494000e+09</td>\n",
       "      <td>4.326000e+09</td>\n",
       "      <td>0.000000e+00</td>\n",
       "    </tr>\n",
       "    <tr>\n",
       "      <th>Capital Lease Obligations</th>\n",
       "      <td>3.483000e+09</td>\n",
       "      <td>3.699000e+09</td>\n",
       "      <td>4.202000e+09</td>\n",
       "      <td>3.963000e+09</td>\n",
       "      <td>0.000000e+00</td>\n",
       "    </tr>\n",
       "    <tr>\n",
       "      <th>Common Stock Equity</th>\n",
       "      <td>3.454000e+09</td>\n",
       "      <td>5.284000e+09</td>\n",
       "      <td>5.637000e+09</td>\n",
       "      <td>5.979000e+09</td>\n",
       "      <td>0.000000e+00</td>\n",
       "    </tr>\n",
       "    <tr>\n",
       "      <th>Total Capitalization</th>\n",
       "      <td>5.618000e+09</td>\n",
       "      <td>8.289000e+09</td>\n",
       "      <td>9.776000e+09</td>\n",
       "      <td>8.388000e+09</td>\n",
       "      <td>0.000000e+00</td>\n",
       "    </tr>\n",
       "    <tr>\n",
       "      <th>Total Equity Gross Minority Interest</th>\n",
       "      <td>3.454000e+09</td>\n",
       "      <td>5.284000e+09</td>\n",
       "      <td>5.637000e+09</td>\n",
       "      <td>5.979000e+09</td>\n",
       "      <td>0.000000e+00</td>\n",
       "    </tr>\n",
       "    <tr>\n",
       "      <th>Stockholders Equity</th>\n",
       "      <td>3.454000e+09</td>\n",
       "      <td>5.284000e+09</td>\n",
       "      <td>5.637000e+09</td>\n",
       "      <td>5.979000e+09</td>\n",
       "      <td>0.000000e+00</td>\n",
       "    </tr>\n",
       "    <tr>\n",
       "      <th>Other Equity Interest</th>\n",
       "      <td>-1.232000e+09</td>\n",
       "      <td>-1.232000e+09</td>\n",
       "      <td>-1.232000e+09</td>\n",
       "      <td>-1.232000e+09</td>\n",
       "      <td>0.000000e+00</td>\n",
       "    </tr>\n",
       "    <tr>\n",
       "      <th>Treasury Stock</th>\n",
       "      <td>2.200000e+07</td>\n",
       "      <td>7.400000e+07</td>\n",
       "      <td>1.000000e+07</td>\n",
       "      <td>1.000000e+06</td>\n",
       "      <td>0.000000e+00</td>\n",
       "    </tr>\n",
       "    <tr>\n",
       "      <th>Retained Earnings</th>\n",
       "      <td>-3.264000e+09</td>\n",
       "      <td>-6.390000e+08</td>\n",
       "      <td>-2.970000e+08</td>\n",
       "      <td>-1.420000e+09</td>\n",
       "      <td>0.000000e+00</td>\n",
       "    </tr>\n",
       "    <tr>\n",
       "      <th>Capital Stock</th>\n",
       "      <td>5.340000e+09</td>\n",
       "      <td>5.044000e+09</td>\n",
       "      <td>5.044000e+09</td>\n",
       "      <td>5.039000e+09</td>\n",
       "      <td>0.000000e+00</td>\n",
       "    </tr>\n",
       "    <tr>\n",
       "      <th>Common Stock</th>\n",
       "      <td>5.340000e+09</td>\n",
       "      <td>5.044000e+09</td>\n",
       "      <td>5.044000e+09</td>\n",
       "      <td>5.039000e+09</td>\n",
       "      <td>0.000000e+00</td>\n",
       "    </tr>\n",
       "    <tr>\n",
       "      <th>Total Liabilities Net Minority Interest</th>\n",
       "      <td>2.854200e+10</td>\n",
       "      <td>3.029000e+10</td>\n",
       "      <td>2.970300e+10</td>\n",
       "      <td>2.707700e+10</td>\n",
       "      <td>0.000000e+00</td>\n",
       "    </tr>\n",
       "    <tr>\n",
       "      <th>Total Non Current Liabilities Net Minority Interest</th>\n",
       "      <td>9.713000e+09</td>\n",
       "      <td>1.054000e+10</td>\n",
       "      <td>1.102600e+10</td>\n",
       "      <td>8.580000e+09</td>\n",
       "      <td>0.000000e+00</td>\n",
       "    </tr>\n",
       "    <tr>\n",
       "      <th>Other Non Current Liabilities</th>\n",
       "      <td>1.200000e+07</td>\n",
       "      <td>1.100000e+07</td>\n",
       "      <td>4.100000e+07</td>\n",
       "      <td>4.500000e+07</td>\n",
       "      <td>0.000000e+00</td>\n",
       "    </tr>\n",
       "    <tr>\n",
       "      <th>Non Current Pension And Other Postretirement Benefit Plans</th>\n",
       "      <td>0.000000e+00</td>\n",
       "      <td>0.000000e+00</td>\n",
       "      <td>0.000000e+00</td>\n",
       "      <td>1.691000e+09</td>\n",
       "      <td>1.865000e+09</td>\n",
       "    </tr>\n",
       "    <tr>\n",
       "      <th>Tradeand Other Payables Non Current</th>\n",
       "      <td>2.600000e+07</td>\n",
       "      <td>2.000000e+07</td>\n",
       "      <td>2.100000e+07</td>\n",
       "      <td>2.300000e+07</td>\n",
       "      <td>0.000000e+00</td>\n",
       "    </tr>\n",
       "    <tr>\n",
       "      <th>Non Current Deferred Revenue</th>\n",
       "      <td>2.150000e+09</td>\n",
       "      <td>2.228000e+09</td>\n",
       "      <td>8.530000e+08</td>\n",
       "      <td>1.108000e+09</td>\n",
       "      <td>0.000000e+00</td>\n",
       "    </tr>\n",
       "    <tr>\n",
       "      <th>Non Current Deferred Taxes Liabilities</th>\n",
       "      <td>2.000000e+07</td>\n",
       "      <td>3.400000e+07</td>\n",
       "      <td>6.000000e+06</td>\n",
       "      <td>6.000000e+06</td>\n",
       "      <td>0.000000e+00</td>\n",
       "    </tr>\n",
       "    <tr>\n",
       "      <th>Long Term Debt And Capital Lease Obligation</th>\n",
       "      <td>5.041000e+09</td>\n",
       "      <td>6.059000e+09</td>\n",
       "      <td>7.512000e+09</td>\n",
       "      <td>5.707000e+09</td>\n",
       "      <td>0.000000e+00</td>\n",
       "    </tr>\n",
       "    <tr>\n",
       "      <th>Long Term Capital Lease Obligation</th>\n",
       "      <td>2.877000e+09</td>\n",
       "      <td>3.054000e+09</td>\n",
       "      <td>3.373000e+09</td>\n",
       "      <td>3.298000e+09</td>\n",
       "      <td>0.000000e+00</td>\n",
       "    </tr>\n",
       "    <tr>\n",
       "      <th>Long Term Debt</th>\n",
       "      <td>2.164000e+09</td>\n",
       "      <td>3.005000e+09</td>\n",
       "      <td>4.139000e+09</td>\n",
       "      <td>2.409000e+09</td>\n",
       "      <td>0.000000e+00</td>\n",
       "    </tr>\n",
       "    <tr>\n",
       "      <th>Long Term Provisions</th>\n",
       "      <td>2.464000e+09</td>\n",
       "      <td>2.188000e+09</td>\n",
       "      <td>2.593000e+09</td>\n",
       "      <td>1.691000e+09</td>\n",
       "      <td>0.000000e+00</td>\n",
       "    </tr>\n",
       "    <tr>\n",
       "      <th>Current Liabilities</th>\n",
       "      <td>1.882900e+10</td>\n",
       "      <td>1.975000e+10</td>\n",
       "      <td>1.867700e+10</td>\n",
       "      <td>1.849700e+10</td>\n",
       "      <td>0.000000e+00</td>\n",
       "    </tr>\n",
       "    <tr>\n",
       "      <th>Other Current Liabilities</th>\n",
       "      <td>1.249000e+09</td>\n",
       "      <td>1.445000e+09</td>\n",
       "      <td>1.688000e+09</td>\n",
       "      <td>1.563000e+09</td>\n",
       "      <td>0.000000e+00</td>\n",
       "    </tr>\n",
       "    <tr>\n",
       "      <th>Current Debt And Capital Lease Obligation</th>\n",
       "      <td>7.401000e+09</td>\n",
       "      <td>7.018000e+09</td>\n",
       "      <td>6.112000e+09</td>\n",
       "      <td>7.352000e+09</td>\n",
       "      <td>0.000000e+00</td>\n",
       "    </tr>\n",
       "    <tr>\n",
       "      <th>Current Capital Lease Obligation</th>\n",
       "      <td>6.060000e+08</td>\n",
       "      <td>6.450000e+08</td>\n",
       "      <td>8.290000e+08</td>\n",
       "      <td>6.650000e+08</td>\n",
       "      <td>0.000000e+00</td>\n",
       "    </tr>\n",
       "    <tr>\n",
       "      <th>Current Debt</th>\n",
       "      <td>6.795000e+09</td>\n",
       "      <td>6.373000e+09</td>\n",
       "      <td>5.283000e+09</td>\n",
       "      <td>6.687000e+09</td>\n",
       "      <td>0.000000e+00</td>\n",
       "    </tr>\n",
       "    <tr>\n",
       "      <th>Pensionand Other Post Retirement Benefit Plans Current</th>\n",
       "      <td>4.480000e+08</td>\n",
       "      <td>4.400000e+08</td>\n",
       "      <td>5.910000e+08</td>\n",
       "      <td>6.120000e+08</td>\n",
       "      <td>0.000000e+00</td>\n",
       "    </tr>\n",
       "    <tr>\n",
       "      <th>Payables</th>\n",
       "      <td>9.487000e+09</td>\n",
       "      <td>1.064600e+10</td>\n",
       "      <td>9.912000e+09</td>\n",
       "      <td>8.585000e+09</td>\n",
       "      <td>0.000000e+00</td>\n",
       "    </tr>\n",
       "    <tr>\n",
       "      <th>Other Payable</th>\n",
       "      <td>3.000000e+06</td>\n",
       "      <td>2.000000e+07</td>\n",
       "      <td>2.700000e+07</td>\n",
       "      <td>2.600000e+07</td>\n",
       "      <td>0.000000e+00</td>\n",
       "    </tr>\n",
       "    <tr>\n",
       "      <th>Dividends Payable</th>\n",
       "      <td>0.000000e+00</td>\n",
       "      <td>0.000000e+00</td>\n",
       "      <td>0.000000e+00</td>\n",
       "      <td>0.000000e+00</td>\n",
       "      <td>0.000000e+00</td>\n",
       "    </tr>\n",
       "    <tr>\n",
       "      <th>Total Tax Payable</th>\n",
       "      <td>5.170000e+08</td>\n",
       "      <td>2.550000e+08</td>\n",
       "      <td>2.310000e+08</td>\n",
       "      <td>2.760000e+08</td>\n",
       "      <td>0.000000e+00</td>\n",
       "    </tr>\n",
       "    <tr>\n",
       "      <th>Accounts Payable</th>\n",
       "      <td>8.967000e+09</td>\n",
       "      <td>1.037100e+10</td>\n",
       "      <td>9.654000e+09</td>\n",
       "      <td>8.283000e+09</td>\n",
       "      <td>0.000000e+00</td>\n",
       "    </tr>\n",
       "    <tr>\n",
       "      <th>Total Assets</th>\n",
       "      <td>3.199600e+10</td>\n",
       "      <td>3.557400e+10</td>\n",
       "      <td>3.534000e+10</td>\n",
       "      <td>3.305600e+10</td>\n",
       "      <td>0.000000e+00</td>\n",
       "    </tr>\n",
       "    <tr>\n",
       "      <th>Total Non Current Assets</th>\n",
       "      <td>1.864600e+10</td>\n",
       "      <td>1.845100e+10</td>\n",
       "      <td>1.687600e+10</td>\n",
       "      <td>1.380800e+10</td>\n",
       "      <td>0.000000e+00</td>\n",
       "    </tr>\n",
       "    <tr>\n",
       "      <th>Other Non Current Assets</th>\n",
       "      <td>4.600000e+08</td>\n",
       "      <td>5.010000e+08</td>\n",
       "      <td>4.670000e+08</td>\n",
       "      <td>1.370000e+08</td>\n",
       "      <td>0.000000e+00</td>\n",
       "    </tr>\n",
       "    <tr>\n",
       "      <th>Non Current Deferred Taxes Assets</th>\n",
       "      <td>5.125000e+09</td>\n",
       "      <td>3.635000e+09</td>\n",
       "      <td>2.841000e+09</td>\n",
       "      <td>1.607000e+09</td>\n",
       "      <td>0.000000e+00</td>\n",
       "    </tr>\n",
       "    <tr>\n",
       "      <th>Financial Assets</th>\n",
       "      <td>0.000000e+00</td>\n",
       "      <td>0.000000e+00</td>\n",
       "      <td>0.000000e+00</td>\n",
       "      <td>0.000000e+00</td>\n",
       "      <td>4.300000e+07</td>\n",
       "    </tr>\n",
       "    <tr>\n",
       "      <th>Investmentin Financial Assets</th>\n",
       "      <td>1.100000e+07</td>\n",
       "      <td>1.000000e+07</td>\n",
       "      <td>1.000000e+07</td>\n",
       "      <td>0.000000e+00</td>\n",
       "      <td>0.000000e+00</td>\n",
       "    </tr>\n",
       "    <tr>\n",
       "      <th>Available For Sale Securities</th>\n",
       "      <td>1.100000e+07</td>\n",
       "      <td>1.000000e+07</td>\n",
       "      <td>1.000000e+07</td>\n",
       "      <td>0.000000e+00</td>\n",
       "      <td>4.300000e+07</td>\n",
       "    </tr>\n",
       "    <tr>\n",
       "      <th>Long Term Equity Investment</th>\n",
       "      <td>2.980000e+08</td>\n",
       "      <td>2.650000e+08</td>\n",
       "      <td>2.250000e+08</td>\n",
       "      <td>2.060000e+08</td>\n",
       "      <td>0.000000e+00</td>\n",
       "    </tr>\n",
       "    <tr>\n",
       "      <th>Investmentsin Associatesat Cost</th>\n",
       "      <td>0.000000e+00</td>\n",
       "      <td>2.650000e+08</td>\n",
       "      <td>2.250000e+08</td>\n",
       "      <td>2.060000e+08</td>\n",
       "      <td>0.000000e+00</td>\n",
       "    </tr>\n",
       "    <tr>\n",
       "      <th>Goodwill And Other Intangible Assets</th>\n",
       "      <td>2.755000e+09</td>\n",
       "      <td>2.704000e+09</td>\n",
       "      <td>2.143000e+09</td>\n",
       "      <td>1.653000e+09</td>\n",
       "      <td>0.000000e+00</td>\n",
       "    </tr>\n",
       "    <tr>\n",
       "      <th>Other Intangible Assets</th>\n",
       "      <td>1.869000e+09</td>\n",
       "      <td>1.739000e+09</td>\n",
       "      <td>1.175000e+09</td>\n",
       "      <td>8.170000e+08</td>\n",
       "      <td>0.000000e+00</td>\n",
       "    </tr>\n",
       "    <tr>\n",
       "      <th>Goodwill</th>\n",
       "      <td>8.860000e+08</td>\n",
       "      <td>9.650000e+08</td>\n",
       "      <td>9.680000e+08</td>\n",
       "      <td>8.360000e+08</td>\n",
       "      <td>0.000000e+00</td>\n",
       "    </tr>\n",
       "    <tr>\n",
       "      <th>Net PPE</th>\n",
       "      <td>4.039000e+09</td>\n",
       "      <td>4.553000e+09</td>\n",
       "      <td>5.019000e+09</td>\n",
       "      <td>4.492000e+09</td>\n",
       "      <td>0.000000e+00</td>\n",
       "    </tr>\n",
       "    <tr>\n",
       "      <th>Accumulated Depreciation</th>\n",
       "      <td>-2.071000e+09</td>\n",
       "      <td>-1.818000e+09</td>\n",
       "      <td>-1.609000e+09</td>\n",
       "      <td>-1.453000e+09</td>\n",
       "      <td>0.000000e+00</td>\n",
       "    </tr>\n",
       "    <tr>\n",
       "      <th>Gross PPE</th>\n",
       "      <td>6.110000e+09</td>\n",
       "      <td>6.371000e+09</td>\n",
       "      <td>6.628000e+09</td>\n",
       "      <td>5.945000e+09</td>\n",
       "      <td>0.000000e+00</td>\n",
       "    </tr>\n",
       "    <tr>\n",
       "      <th>Construction In Progress</th>\n",
       "      <td>4.400000e+07</td>\n",
       "      <td>4.150000e+08</td>\n",
       "      <td>2.580000e+08</td>\n",
       "      <td>8.500000e+07</td>\n",
       "      <td>0.000000e+00</td>\n",
       "    </tr>\n",
       "    <tr>\n",
       "      <th>Other Properties</th>\n",
       "      <td>2.653000e+09</td>\n",
       "      <td>2.902000e+09</td>\n",
       "      <td>4.058000e+09</td>\n",
       "      <td>3.747000e+09</td>\n",
       "      <td>0.000000e+00</td>\n",
       "    </tr>\n",
       "    <tr>\n",
       "      <th>Machinery Furniture Equipment</th>\n",
       "      <td>2.003000e+09</td>\n",
       "      <td>1.872000e+09</td>\n",
       "      <td>1.100000e+09</td>\n",
       "      <td>9.870000e+08</td>\n",
       "      <td>0.000000e+00</td>\n",
       "    </tr>\n",
       "    <tr>\n",
       "      <th>Buildings And Improvements</th>\n",
       "      <td>1.399000e+09</td>\n",
       "      <td>1.171000e+09</td>\n",
       "      <td>1.197000e+09</td>\n",
       "      <td>1.111000e+09</td>\n",
       "      <td>0.000000e+00</td>\n",
       "    </tr>\n",
       "    <tr>\n",
       "      <th>Land And Improvements</th>\n",
       "      <td>1.100000e+07</td>\n",
       "      <td>1.100000e+07</td>\n",
       "      <td>1.500000e+07</td>\n",
       "      <td>1.500000e+07</td>\n",
       "      <td>0.000000e+00</td>\n",
       "    </tr>\n",
       "    <tr>\n",
       "      <th>Properties</th>\n",
       "      <td>0.000000e+00</td>\n",
       "      <td>0.000000e+00</td>\n",
       "      <td>0.000000e+00</td>\n",
       "      <td>0.000000e+00</td>\n",
       "      <td>0.000000e+00</td>\n",
       "    </tr>\n",
       "    <tr>\n",
       "      <th>Current Assets</th>\n",
       "      <td>1.335000e+10</td>\n",
       "      <td>1.712300e+10</td>\n",
       "      <td>1.846400e+10</td>\n",
       "      <td>1.924800e+10</td>\n",
       "      <td>0.000000e+00</td>\n",
       "    </tr>\n",
       "    <tr>\n",
       "      <th>Other Current Assets</th>\n",
       "      <td>6.580000e+08</td>\n",
       "      <td>5.780000e+08</td>\n",
       "      <td>3.600000e+08</td>\n",
       "      <td>2.970000e+08</td>\n",
       "      <td>0.000000e+00</td>\n",
       "    </tr>\n",
       "    <tr>\n",
       "      <th>Hedging Assets Current</th>\n",
       "      <td>0.000000e+00</td>\n",
       "      <td>0.000000e+00</td>\n",
       "      <td>0.000000e+00</td>\n",
       "      <td>0.000000e+00</td>\n",
       "      <td>2.000000e+06</td>\n",
       "    </tr>\n",
       "    <tr>\n",
       "      <th>Prepaid Assets</th>\n",
       "      <td>2.470000e+08</td>\n",
       "      <td>2.310000e+08</td>\n",
       "      <td>1.910000e+08</td>\n",
       "      <td>2.810000e+08</td>\n",
       "      <td>0.000000e+00</td>\n",
       "    </tr>\n",
       "    <tr>\n",
       "      <th>Inventory</th>\n",
       "      <td>4.353000e+09</td>\n",
       "      <td>5.574000e+09</td>\n",
       "      <td>7.152000e+09</td>\n",
       "      <td>6.176000e+09</td>\n",
       "      <td>0.000000e+00</td>\n",
       "    </tr>\n",
       "    <tr>\n",
       "      <th>Inventories Adjustments Allowances</th>\n",
       "      <td>-1.000000e+08</td>\n",
       "      <td>-3.900000e+07</td>\n",
       "      <td>-3.600000e+07</td>\n",
       "      <td>-4.200000e+07</td>\n",
       "      <td>0.000000e+00</td>\n",
       "    </tr>\n",
       "    <tr>\n",
       "      <th>Other Inventories</th>\n",
       "      <td>2.402000e+09</td>\n",
       "      <td>3.160000e+09</td>\n",
       "      <td>4.235000e+09</td>\n",
       "      <td>4.248000e+09</td>\n",
       "      <td>0.000000e+00</td>\n",
       "    </tr>\n",
       "    <tr>\n",
       "      <th>Raw Materials</th>\n",
       "      <td>2.051000e+09</td>\n",
       "      <td>2.453000e+09</td>\n",
       "      <td>2.953000e+09</td>\n",
       "      <td>1.970000e+09</td>\n",
       "      <td>0.000000e+00</td>\n",
       "    </tr>\n",
       "    <tr>\n",
       "      <th>Other Receivables</th>\n",
       "      <td>2.680000e+08</td>\n",
       "      <td>2.990000e+08</td>\n",
       "      <td>2.710000e+08</td>\n",
       "      <td>2.090000e+08</td>\n",
       "      <td>0.000000e+00</td>\n",
       "    </tr>\n",
       "    <tr>\n",
       "      <th>Taxes Receivable</th>\n",
       "      <td>1.663000e+09</td>\n",
       "      <td>1.827000e+09</td>\n",
       "      <td>1.809000e+09</td>\n",
       "      <td>1.394000e+09</td>\n",
       "      <td>0.000000e+00</td>\n",
       "    </tr>\n",
       "    <tr>\n",
       "      <th>Accounts Receivable</th>\n",
       "      <td>3.588000e+09</td>\n",
       "      <td>6.595000e+09</td>\n",
       "      <td>6.900000e+09</td>\n",
       "      <td>7.907000e+09</td>\n",
       "      <td>0.000000e+00</td>\n",
       "    </tr>\n",
       "    <tr>\n",
       "      <th>Cash Cash Equivalents And Short Term Investments</th>\n",
       "      <td>2.573000e+09</td>\n",
       "      <td>2.019000e+09</td>\n",
       "      <td>1.781000e+09</td>\n",
       "      <td>2.984000e+09</td>\n",
       "      <td>0.000000e+00</td>\n",
       "    </tr>\n",
       "    <tr>\n",
       "      <th>Cash And Cash Equivalents</th>\n",
       "      <td>2.573000e+09</td>\n",
       "      <td>2.019000e+09</td>\n",
       "      <td>1.781000e+09</td>\n",
       "      <td>2.984000e+09</td>\n",
       "      <td>0.000000e+00</td>\n",
       "    </tr>\n",
       "    <tr>\n",
       "      <th>Cash Equivalents</th>\n",
       "      <td>2.429000e+09</td>\n",
       "      <td>1.886000e+09</td>\n",
       "      <td>1.549000e+09</td>\n",
       "      <td>2.866000e+09</td>\n",
       "      <td>0.000000e+00</td>\n",
       "    </tr>\n",
       "    <tr>\n",
       "      <th>Cash Financial</th>\n",
       "      <td>1.440000e+08</td>\n",
       "      <td>1.330000e+08</td>\n",
       "      <td>2.320000e+08</td>\n",
       "      <td>1.180000e+08</td>\n",
       "      <td>0.000000e+00</td>\n",
       "    </tr>\n",
       "  </tbody>\n",
       "</table>\n",
       "</div>"
      ],
      "text/plain": [
       "                                                      2023-12-31  \\\n",
       "Treasury Shares Number                              2.198910e+05   \n",
       "Ordinary Shares Number                              9.486334e+07   \n",
       "Share Issued                                        9.508323e+07   \n",
       "Net Debt                                            6.386000e+09   \n",
       "Total Debt                                          1.244200e+10   \n",
       "Tangible Book Value                                 6.990000e+08   \n",
       "Invested Capital                                    1.241300e+10   \n",
       "Working Capital                                    -5.479000e+09   \n",
       "Net Tangible Assets                                 6.990000e+08   \n",
       "Capital Lease Obligations                           3.483000e+09   \n",
       "Common Stock Equity                                 3.454000e+09   \n",
       "Total Capitalization                                5.618000e+09   \n",
       "Total Equity Gross Minority Interest                3.454000e+09   \n",
       "Stockholders Equity                                 3.454000e+09   \n",
       "Other Equity Interest                              -1.232000e+09   \n",
       "Treasury Stock                                      2.200000e+07   \n",
       "Retained Earnings                                  -3.264000e+09   \n",
       "Capital Stock                                       5.340000e+09   \n",
       "Common Stock                                        5.340000e+09   \n",
       "Total Liabilities Net Minority Interest             2.854200e+10   \n",
       "Total Non Current Liabilities Net Minority Inte...  9.713000e+09   \n",
       "Other Non Current Liabilities                       1.200000e+07   \n",
       "Non Current Pension And Other Postretirement Be...  0.000000e+00   \n",
       "Tradeand Other Payables Non Current                 2.600000e+07   \n",
       "Non Current Deferred Revenue                        2.150000e+09   \n",
       "Non Current Deferred Taxes Liabilities              2.000000e+07   \n",
       "Long Term Debt And Capital Lease Obligation         5.041000e+09   \n",
       "Long Term Capital Lease Obligation                  2.877000e+09   \n",
       "Long Term Debt                                      2.164000e+09   \n",
       "Long Term Provisions                                2.464000e+09   \n",
       "Current Liabilities                                 1.882900e+10   \n",
       "Other Current Liabilities                           1.249000e+09   \n",
       "Current Debt And Capital Lease Obligation           7.401000e+09   \n",
       "Current Capital Lease Obligation                    6.060000e+08   \n",
       "Current Debt                                        6.795000e+09   \n",
       "Pensionand Other Post Retirement Benefit Plans ...  4.480000e+08   \n",
       "Payables                                            9.487000e+09   \n",
       "Other Payable                                       3.000000e+06   \n",
       "Dividends Payable                                   0.000000e+00   \n",
       "Total Tax Payable                                   5.170000e+08   \n",
       "Accounts Payable                                    8.967000e+09   \n",
       "Total Assets                                        3.199600e+10   \n",
       "Total Non Current Assets                            1.864600e+10   \n",
       "Other Non Current Assets                            4.600000e+08   \n",
       "Non Current Deferred Taxes Assets                   5.125000e+09   \n",
       "Financial Assets                                    0.000000e+00   \n",
       "Investmentin Financial Assets                       1.100000e+07   \n",
       "Available For Sale Securities                       1.100000e+07   \n",
       "Long Term Equity Investment                         2.980000e+08   \n",
       "Investmentsin Associatesat Cost                     0.000000e+00   \n",
       "Goodwill And Other Intangible Assets                2.755000e+09   \n",
       "Other Intangible Assets                             1.869000e+09   \n",
       "Goodwill                                            8.860000e+08   \n",
       "Net PPE                                             4.039000e+09   \n",
       "Accumulated Depreciation                           -2.071000e+09   \n",
       "Gross PPE                                           6.110000e+09   \n",
       "Construction In Progress                            4.400000e+07   \n",
       "Other Properties                                    2.653000e+09   \n",
       "Machinery Furniture Equipment                       2.003000e+09   \n",
       "Buildings And Improvements                          1.399000e+09   \n",
       "Land And Improvements                               1.100000e+07   \n",
       "Properties                                          0.000000e+00   \n",
       "Current Assets                                      1.335000e+10   \n",
       "Other Current Assets                                6.580000e+08   \n",
       "Hedging Assets Current                              0.000000e+00   \n",
       "Prepaid Assets                                      2.470000e+08   \n",
       "Inventory                                           4.353000e+09   \n",
       "Inventories Adjustments Allowances                 -1.000000e+08   \n",
       "Other Inventories                                   2.402000e+09   \n",
       "Raw Materials                                       2.051000e+09   \n",
       "Other Receivables                                   2.680000e+08   \n",
       "Taxes Receivable                                    1.663000e+09   \n",
       "Accounts Receivable                                 3.588000e+09   \n",
       "Cash Cash Equivalents And Short Term Investments    2.573000e+09   \n",
       "Cash And Cash Equivalents                           2.573000e+09   \n",
       "Cash Equivalents                                    2.429000e+09   \n",
       "Cash Financial                                      1.440000e+08   \n",
       "\n",
       "                                                      2022-12-31  \\\n",
       "Treasury Shares Number                              8.272010e+05   \n",
       "Ordinary Shares Number                              7.225025e+07   \n",
       "Share Issued                                        7.307745e+07   \n",
       "Net Debt                                            7.359000e+09   \n",
       "Total Debt                                          1.307700e+10   \n",
       "Tangible Book Value                                 2.580000e+09   \n",
       "Invested Capital                                    1.466200e+10   \n",
       "Working Capital                                    -2.627000e+09   \n",
       "Net Tangible Assets                                 2.580000e+09   \n",
       "Capital Lease Obligations                           3.699000e+09   \n",
       "Common Stock Equity                                 5.284000e+09   \n",
       "Total Capitalization                                8.289000e+09   \n",
       "Total Equity Gross Minority Interest                5.284000e+09   \n",
       "Stockholders Equity                                 5.284000e+09   \n",
       "Other Equity Interest                              -1.232000e+09   \n",
       "Treasury Stock                                      7.400000e+07   \n",
       "Retained Earnings                                  -6.390000e+08   \n",
       "Capital Stock                                       5.044000e+09   \n",
       "Common Stock                                        5.044000e+09   \n",
       "Total Liabilities Net Minority Interest             3.029000e+10   \n",
       "Total Non Current Liabilities Net Minority Inte...  1.054000e+10   \n",
       "Other Non Current Liabilities                       1.100000e+07   \n",
       "Non Current Pension And Other Postretirement Be...  0.000000e+00   \n",
       "Tradeand Other Payables Non Current                 2.000000e+07   \n",
       "Non Current Deferred Revenue                        2.228000e+09   \n",
       "Non Current Deferred Taxes Liabilities              3.400000e+07   \n",
       "Long Term Debt And Capital Lease Obligation         6.059000e+09   \n",
       "Long Term Capital Lease Obligation                  3.054000e+09   \n",
       "Long Term Debt                                      3.005000e+09   \n",
       "Long Term Provisions                                2.188000e+09   \n",
       "Current Liabilities                                 1.975000e+10   \n",
       "Other Current Liabilities                           1.445000e+09   \n",
       "Current Debt And Capital Lease Obligation           7.018000e+09   \n",
       "Current Capital Lease Obligation                    6.450000e+08   \n",
       "Current Debt                                        6.373000e+09   \n",
       "Pensionand Other Post Retirement Benefit Plans ...  4.400000e+08   \n",
       "Payables                                            1.064600e+10   \n",
       "Other Payable                                       2.000000e+07   \n",
       "Dividends Payable                                   0.000000e+00   \n",
       "Total Tax Payable                                   2.550000e+08   \n",
       "Accounts Payable                                    1.037100e+10   \n",
       "Total Assets                                        3.557400e+10   \n",
       "Total Non Current Assets                            1.845100e+10   \n",
       "Other Non Current Assets                            5.010000e+08   \n",
       "Non Current Deferred Taxes Assets                   3.635000e+09   \n",
       "Financial Assets                                    0.000000e+00   \n",
       "Investmentin Financial Assets                       1.000000e+07   \n",
       "Available For Sale Securities                       1.000000e+07   \n",
       "Long Term Equity Investment                         2.650000e+08   \n",
       "Investmentsin Associatesat Cost                     2.650000e+08   \n",
       "Goodwill And Other Intangible Assets                2.704000e+09   \n",
       "Other Intangible Assets                             1.739000e+09   \n",
       "Goodwill                                            9.650000e+08   \n",
       "Net PPE                                             4.553000e+09   \n",
       "Accumulated Depreciation                           -1.818000e+09   \n",
       "Gross PPE                                           6.371000e+09   \n",
       "Construction In Progress                            4.150000e+08   \n",
       "Other Properties                                    2.902000e+09   \n",
       "Machinery Furniture Equipment                       1.872000e+09   \n",
       "Buildings And Improvements                          1.171000e+09   \n",
       "Land And Improvements                               1.100000e+07   \n",
       "Properties                                          0.000000e+00   \n",
       "Current Assets                                      1.712300e+10   \n",
       "Other Current Assets                                5.780000e+08   \n",
       "Hedging Assets Current                              0.000000e+00   \n",
       "Prepaid Assets                                      2.310000e+08   \n",
       "Inventory                                           5.574000e+09   \n",
       "Inventories Adjustments Allowances                 -3.900000e+07   \n",
       "Other Inventories                                   3.160000e+09   \n",
       "Raw Materials                                       2.453000e+09   \n",
       "Other Receivables                                   2.990000e+08   \n",
       "Taxes Receivable                                    1.827000e+09   \n",
       "Accounts Receivable                                 6.595000e+09   \n",
       "Cash Cash Equivalents And Short Term Investments    2.019000e+09   \n",
       "Cash And Cash Equivalents                           2.019000e+09   \n",
       "Cash Equivalents                                    1.886000e+09   \n",
       "Cash Financial                                      1.330000e+08   \n",
       "\n",
       "                                                      2021-12-31  \\\n",
       "Treasury Shares Number                              9.143600e+04   \n",
       "Ordinary Shares Number                              7.298579e+07   \n",
       "Share Issued                                        7.307722e+07   \n",
       "Net Debt                                            7.641000e+09   \n",
       "Total Debt                                          1.362400e+10   \n",
       "Tangible Book Value                                 3.494000e+09   \n",
       "Invested Capital                                    1.505900e+10   \n",
       "Working Capital                                    -2.130000e+08   \n",
       "Net Tangible Assets                                 3.494000e+09   \n",
       "Capital Lease Obligations                           4.202000e+09   \n",
       "Common Stock Equity                                 5.637000e+09   \n",
       "Total Capitalization                                9.776000e+09   \n",
       "Total Equity Gross Minority Interest                5.637000e+09   \n",
       "Stockholders Equity                                 5.637000e+09   \n",
       "Other Equity Interest                              -1.232000e+09   \n",
       "Treasury Stock                                      1.000000e+07   \n",
       "Retained Earnings                                  -2.970000e+08   \n",
       "Capital Stock                                       5.044000e+09   \n",
       "Common Stock                                        5.044000e+09   \n",
       "Total Liabilities Net Minority Interest             2.970300e+10   \n",
       "Total Non Current Liabilities Net Minority Inte...  1.102600e+10   \n",
       "Other Non Current Liabilities                       4.100000e+07   \n",
       "Non Current Pension And Other Postretirement Be...  0.000000e+00   \n",
       "Tradeand Other Payables Non Current                 2.100000e+07   \n",
       "Non Current Deferred Revenue                        8.530000e+08   \n",
       "Non Current Deferred Taxes Liabilities              6.000000e+06   \n",
       "Long Term Debt And Capital Lease Obligation         7.512000e+09   \n",
       "Long Term Capital Lease Obligation                  3.373000e+09   \n",
       "Long Term Debt                                      4.139000e+09   \n",
       "Long Term Provisions                                2.593000e+09   \n",
       "Current Liabilities                                 1.867700e+10   \n",
       "Other Current Liabilities                           1.688000e+09   \n",
       "Current Debt And Capital Lease Obligation           6.112000e+09   \n",
       "Current Capital Lease Obligation                    8.290000e+08   \n",
       "Current Debt                                        5.283000e+09   \n",
       "Pensionand Other Post Retirement Benefit Plans ...  5.910000e+08   \n",
       "Payables                                            9.912000e+09   \n",
       "Other Payable                                       2.700000e+07   \n",
       "Dividends Payable                                   0.000000e+00   \n",
       "Total Tax Payable                                   2.310000e+08   \n",
       "Accounts Payable                                    9.654000e+09   \n",
       "Total Assets                                        3.534000e+10   \n",
       "Total Non Current Assets                            1.687600e+10   \n",
       "Other Non Current Assets                            4.670000e+08   \n",
       "Non Current Deferred Taxes Assets                   2.841000e+09   \n",
       "Financial Assets                                    0.000000e+00   \n",
       "Investmentin Financial Assets                       1.000000e+07   \n",
       "Available For Sale Securities                       1.000000e+07   \n",
       "Long Term Equity Investment                         2.250000e+08   \n",
       "Investmentsin Associatesat Cost                     2.250000e+08   \n",
       "Goodwill And Other Intangible Assets                2.143000e+09   \n",
       "Other Intangible Assets                             1.175000e+09   \n",
       "Goodwill                                            9.680000e+08   \n",
       "Net PPE                                             5.019000e+09   \n",
       "Accumulated Depreciation                           -1.609000e+09   \n",
       "Gross PPE                                           6.628000e+09   \n",
       "Construction In Progress                            2.580000e+08   \n",
       "Other Properties                                    4.058000e+09   \n",
       "Machinery Furniture Equipment                       1.100000e+09   \n",
       "Buildings And Improvements                          1.197000e+09   \n",
       "Land And Improvements                               1.500000e+07   \n",
       "Properties                                          0.000000e+00   \n",
       "Current Assets                                      1.846400e+10   \n",
       "Other Current Assets                                3.600000e+08   \n",
       "Hedging Assets Current                              0.000000e+00   \n",
       "Prepaid Assets                                      1.910000e+08   \n",
       "Inventory                                           7.152000e+09   \n",
       "Inventories Adjustments Allowances                 -3.600000e+07   \n",
       "Other Inventories                                   4.235000e+09   \n",
       "Raw Materials                                       2.953000e+09   \n",
       "Other Receivables                                   2.710000e+08   \n",
       "Taxes Receivable                                    1.809000e+09   \n",
       "Accounts Receivable                                 6.900000e+09   \n",
       "Cash Cash Equivalents And Short Term Investments    1.781000e+09   \n",
       "Cash And Cash Equivalents                           1.781000e+09   \n",
       "Cash Equivalents                                    1.549000e+09   \n",
       "Cash Financial                                      2.320000e+08   \n",
       "\n",
       "                                                      2020-12-31    2019-12-31  \n",
       "Treasury Shares Number                              1.371500e+04  0.000000e+00  \n",
       "Ordinary Shares Number                              7.301395e+07  0.000000e+00  \n",
       "Share Issued                                        7.302766e+07  0.000000e+00  \n",
       "Net Debt                                            6.112000e+09  0.000000e+00  \n",
       "Total Debt                                          1.305900e+10  0.000000e+00  \n",
       "Tangible Book Value                                 4.326000e+09  0.000000e+00  \n",
       "Invested Capital                                    1.507500e+10  0.000000e+00  \n",
       "Working Capital                                     7.510000e+08  0.000000e+00  \n",
       "Net Tangible Assets                                 4.326000e+09  0.000000e+00  \n",
       "Capital Lease Obligations                           3.963000e+09  0.000000e+00  \n",
       "Common Stock Equity                                 5.979000e+09  0.000000e+00  \n",
       "Total Capitalization                                8.388000e+09  0.000000e+00  \n",
       "Total Equity Gross Minority Interest                5.979000e+09  0.000000e+00  \n",
       "Stockholders Equity                                 5.979000e+09  0.000000e+00  \n",
       "Other Equity Interest                              -1.232000e+09  0.000000e+00  \n",
       "Treasury Stock                                      1.000000e+06  0.000000e+00  \n",
       "Retained Earnings                                  -1.420000e+09  0.000000e+00  \n",
       "Capital Stock                                       5.039000e+09  0.000000e+00  \n",
       "Common Stock                                        5.039000e+09  0.000000e+00  \n",
       "Total Liabilities Net Minority Interest             2.707700e+10  0.000000e+00  \n",
       "Total Non Current Liabilities Net Minority Inte...  8.580000e+09  0.000000e+00  \n",
       "Other Non Current Liabilities                       4.500000e+07  0.000000e+00  \n",
       "Non Current Pension And Other Postretirement Be...  1.691000e+09  1.865000e+09  \n",
       "Tradeand Other Payables Non Current                 2.300000e+07  0.000000e+00  \n",
       "Non Current Deferred Revenue                        1.108000e+09  0.000000e+00  \n",
       "Non Current Deferred Taxes Liabilities              6.000000e+06  0.000000e+00  \n",
       "Long Term Debt And Capital Lease Obligation         5.707000e+09  0.000000e+00  \n",
       "Long Term Capital Lease Obligation                  3.298000e+09  0.000000e+00  \n",
       "Long Term Debt                                      2.409000e+09  0.000000e+00  \n",
       "Long Term Provisions                                1.691000e+09  0.000000e+00  \n",
       "Current Liabilities                                 1.849700e+10  0.000000e+00  \n",
       "Other Current Liabilities                           1.563000e+09  0.000000e+00  \n",
       "Current Debt And Capital Lease Obligation           7.352000e+09  0.000000e+00  \n",
       "Current Capital Lease Obligation                    6.650000e+08  0.000000e+00  \n",
       "Current Debt                                        6.687000e+09  0.000000e+00  \n",
       "Pensionand Other Post Retirement Benefit Plans ...  6.120000e+08  0.000000e+00  \n",
       "Payables                                            8.585000e+09  0.000000e+00  \n",
       "Other Payable                                       2.600000e+07  0.000000e+00  \n",
       "Dividends Payable                                   0.000000e+00  0.000000e+00  \n",
       "Total Tax Payable                                   2.760000e+08  0.000000e+00  \n",
       "Accounts Payable                                    8.283000e+09  0.000000e+00  \n",
       "Total Assets                                        3.305600e+10  0.000000e+00  \n",
       "Total Non Current Assets                            1.380800e+10  0.000000e+00  \n",
       "Other Non Current Assets                            1.370000e+08  0.000000e+00  \n",
       "Non Current Deferred Taxes Assets                   1.607000e+09  0.000000e+00  \n",
       "Financial Assets                                    0.000000e+00  4.300000e+07  \n",
       "Investmentin Financial Assets                       0.000000e+00  0.000000e+00  \n",
       "Available For Sale Securities                       0.000000e+00  4.300000e+07  \n",
       "Long Term Equity Investment                         2.060000e+08  0.000000e+00  \n",
       "Investmentsin Associatesat Cost                     2.060000e+08  0.000000e+00  \n",
       "Goodwill And Other Intangible Assets                1.653000e+09  0.000000e+00  \n",
       "Other Intangible Assets                             8.170000e+08  0.000000e+00  \n",
       "Goodwill                                            8.360000e+08  0.000000e+00  \n",
       "Net PPE                                             4.492000e+09  0.000000e+00  \n",
       "Accumulated Depreciation                           -1.453000e+09  0.000000e+00  \n",
       "Gross PPE                                           5.945000e+09  0.000000e+00  \n",
       "Construction In Progress                            8.500000e+07  0.000000e+00  \n",
       "Other Properties                                    3.747000e+09  0.000000e+00  \n",
       "Machinery Furniture Equipment                       9.870000e+08  0.000000e+00  \n",
       "Buildings And Improvements                          1.111000e+09  0.000000e+00  \n",
       "Land And Improvements                               1.500000e+07  0.000000e+00  \n",
       "Properties                                          0.000000e+00  0.000000e+00  \n",
       "Current Assets                                      1.924800e+10  0.000000e+00  \n",
       "Other Current Assets                                2.970000e+08  0.000000e+00  \n",
       "Hedging Assets Current                              0.000000e+00  2.000000e+06  \n",
       "Prepaid Assets                                      2.810000e+08  0.000000e+00  \n",
       "Inventory                                           6.176000e+09  0.000000e+00  \n",
       "Inventories Adjustments Allowances                 -4.200000e+07  0.000000e+00  \n",
       "Other Inventories                                   4.248000e+09  0.000000e+00  \n",
       "Raw Materials                                       1.970000e+09  0.000000e+00  \n",
       "Other Receivables                                   2.090000e+08  0.000000e+00  \n",
       "Taxes Receivable                                    1.394000e+09  0.000000e+00  \n",
       "Accounts Receivable                                 7.907000e+09  0.000000e+00  \n",
       "Cash Cash Equivalents And Short Term Investments    2.984000e+09  0.000000e+00  \n",
       "Cash And Cash Equivalents                           2.984000e+09  0.000000e+00  \n",
       "Cash Equivalents                                    2.866000e+09  0.000000e+00  \n",
       "Cash Financial                                      1.180000e+08  0.000000e+00  "
      ]
     },
     "metadata": {},
     "output_type": "display_data"
    },
    {
     "name": "stdout",
     "output_type": "stream",
     "text": [
      "Balanço Patrimonial da yfinance.Ticker object <PCAR3.SA>\n"
     ]
    },
    {
     "name": "stderr",
     "output_type": "stream",
     "text": [
      "C:\\Users\\Usuario(a) Master\\AppData\\Local\\Temp\\ipykernel_14028\\1790073719.py:3: FutureWarning:\n",
      "\n",
      "Downcasting object dtype arrays on .fillna, .ffill, .bfill is deprecated and will change in a future version. Call result.infer_objects(copy=False) instead. To opt-in to the future behavior, set `pd.set_option('future.no_silent_downcasting', True)`\n",
      "\n"
     ]
    },
    {
     "data": {
      "text/html": [
       "<div>\n",
       "<style scoped>\n",
       "    .dataframe tbody tr th:only-of-type {\n",
       "        vertical-align: middle;\n",
       "    }\n",
       "\n",
       "    .dataframe tbody tr th {\n",
       "        vertical-align: top;\n",
       "    }\n",
       "\n",
       "    .dataframe thead th {\n",
       "        text-align: right;\n",
       "    }\n",
       "</style>\n",
       "<table border=\"1\" class=\"dataframe\">\n",
       "  <thead>\n",
       "    <tr style=\"text-align: right;\">\n",
       "      <th></th>\n",
       "      <th>2023-12-31</th>\n",
       "      <th>2022-12-31</th>\n",
       "      <th>2021-12-31</th>\n",
       "      <th>2020-12-31</th>\n",
       "      <th>2019-12-31</th>\n",
       "    </tr>\n",
       "  </thead>\n",
       "  <tbody>\n",
       "    <tr>\n",
       "      <th>Treasury Shares Number</th>\n",
       "      <td>1.783940e+05</td>\n",
       "      <td>1.783940e+05</td>\n",
       "      <td>1.791230e+05</td>\n",
       "      <td>2.670620e+05</td>\n",
       "      <td>0.0</td>\n",
       "    </tr>\n",
       "    <tr>\n",
       "      <th>Ordinary Shares Number</th>\n",
       "      <td>3.016037e+08</td>\n",
       "      <td>3.016037e+08</td>\n",
       "      <td>3.007504e+08</td>\n",
       "      <td>2.995182e+08</td>\n",
       "      <td>0.0</td>\n",
       "    </tr>\n",
       "    <tr>\n",
       "      <th>Share Issued</th>\n",
       "      <td>3.017821e+08</td>\n",
       "      <td>3.017821e+08</td>\n",
       "      <td>3.009295e+08</td>\n",
       "      <td>2.997852e+08</td>\n",
       "      <td>0.0</td>\n",
       "    </tr>\n",
       "    <tr>\n",
       "      <th>Net Debt</th>\n",
       "      <td>2.303000e+09</td>\n",
       "      <td>2.112000e+09</td>\n",
       "      <td>7.780000e+08</td>\n",
       "      <td>4.400000e+08</td>\n",
       "      <td>0.0</td>\n",
       "    </tr>\n",
       "    <tr>\n",
       "      <th>Total Debt</th>\n",
       "      <td>9.574000e+09</td>\n",
       "      <td>9.900000e+09</td>\n",
       "      <td>1.517000e+10</td>\n",
       "      <td>1.752500e+10</td>\n",
       "      <td>0.0</td>\n",
       "    </tr>\n",
       "    <tr>\n",
       "      <th>Tangible Book Value</th>\n",
       "      <td>2.744000e+09</td>\n",
       "      <td>9.507000e+09</td>\n",
       "      <td>3.021000e+09</td>\n",
       "      <td>7.531000e+09</td>\n",
       "      <td>0.0</td>\n",
       "    </tr>\n",
       "    <tr>\n",
       "      <th>Invested Capital</th>\n",
       "      <td>9.991000e+09</td>\n",
       "      <td>1.735600e+10</td>\n",
       "      <td>2.270100e+10</td>\n",
       "      <td>2.284600e+10</td>\n",
       "      <td>0.0</td>\n",
       "    </tr>\n",
       "    <tr>\n",
       "      <th>Working Capital</th>\n",
       "      <td>1.298000e+09</td>\n",
       "      <td>1.081200e+10</td>\n",
       "      <td>1.322000e+09</td>\n",
       "      <td>-8.420000e+08</td>\n",
       "      <td>0.0</td>\n",
       "    </tr>\n",
       "    <tr>\n",
       "      <th>Net Tangible Assets</th>\n",
       "      <td>2.744000e+09</td>\n",
       "      <td>9.507000e+09</td>\n",
       "      <td>3.021000e+09</td>\n",
       "      <td>7.531000e+09</td>\n",
       "      <td>0.0</td>\n",
       "    </tr>\n",
       "    <tr>\n",
       "      <th>Capital Lease Obligations</th>\n",
       "      <td>4.300000e+09</td>\n",
       "      <td>4.037000e+09</td>\n",
       "      <td>6.118000e+09</td>\n",
       "      <td>8.374000e+09</td>\n",
       "      <td>0.0</td>\n",
       "    </tr>\n",
       "    <tr>\n",
       "      <th>Common Stock Equity</th>\n",
       "      <td>4.717000e+09</td>\n",
       "      <td>1.149300e+10</td>\n",
       "      <td>1.364900e+10</td>\n",
       "      <td>1.369500e+10</td>\n",
       "      <td>0.0</td>\n",
       "    </tr>\n",
       "    <tr>\n",
       "      <th>Total Capitalization</th>\n",
       "      <td>9.019000e+09</td>\n",
       "      <td>1.635500e+10</td>\n",
       "      <td>2.123100e+10</td>\n",
       "      <td>2.053700e+10</td>\n",
       "      <td>0.0</td>\n",
       "    </tr>\n",
       "    <tr>\n",
       "      <th>Total Equity Gross Minority Interest</th>\n",
       "      <td>4.722000e+09</td>\n",
       "      <td>1.373300e+10</td>\n",
       "      <td>1.638000e+10</td>\n",
       "      <td>1.680700e+10</td>\n",
       "      <td>0.0</td>\n",
       "    </tr>\n",
       "    <tr>\n",
       "      <th>Minority Interest</th>\n",
       "      <td>5.000000e+06</td>\n",
       "      <td>2.240000e+09</td>\n",
       "      <td>2.731000e+09</td>\n",
       "      <td>3.112000e+09</td>\n",
       "      <td>0.0</td>\n",
       "    </tr>\n",
       "    <tr>\n",
       "      <th>Stockholders Equity</th>\n",
       "      <td>4.717000e+09</td>\n",
       "      <td>1.149300e+10</td>\n",
       "      <td>1.364900e+10</td>\n",
       "      <td>1.369500e+10</td>\n",
       "      <td>0.0</td>\n",
       "    </tr>\n",
       "    <tr>\n",
       "      <th>Gains Losses Not Affecting Retained Earnings</th>\n",
       "      <td>5.353000e+09</td>\n",
       "      <td>5.804000e+09</td>\n",
       "      <td>7.790000e+09</td>\n",
       "      <td>8.045000e+09</td>\n",
       "      <td>0.0</td>\n",
       "    </tr>\n",
       "    <tr>\n",
       "      <th>Other Equity Adjustments</th>\n",
       "      <td>5.353000e+09</td>\n",
       "      <td>5.804000e+09</td>\n",
       "      <td>7.790000e+09</td>\n",
       "      <td>8.045000e+09</td>\n",
       "      <td>0.0</td>\n",
       "    </tr>\n",
       "    <tr>\n",
       "      <th>Retained Earnings</th>\n",
       "      <td>-2.443000e+09</td>\n",
       "      <td>-1.720000e+08</td>\n",
       "      <td>0.000000e+00</td>\n",
       "      <td>0.000000e+00</td>\n",
       "      <td>0.0</td>\n",
       "    </tr>\n",
       "    <tr>\n",
       "      <th>Capital Stock</th>\n",
       "      <td>1.807000e+09</td>\n",
       "      <td>5.861000e+09</td>\n",
       "      <td>5.859000e+09</td>\n",
       "      <td>5.650000e+09</td>\n",
       "      <td>0.0</td>\n",
       "    </tr>\n",
       "    <tr>\n",
       "      <th>Common Stock</th>\n",
       "      <td>1.807000e+09</td>\n",
       "      <td>5.861000e+09</td>\n",
       "      <td>5.859000e+09</td>\n",
       "      <td>5.650000e+09</td>\n",
       "      <td>0.0</td>\n",
       "    </tr>\n",
       "    <tr>\n",
       "      <th>Total Liabilities Net Minority Interest</th>\n",
       "      <td>1.732800e+10</td>\n",
       "      <td>3.010600e+10</td>\n",
       "      <td>3.306300e+10</td>\n",
       "      <td>3.670400e+10</td>\n",
       "      <td>0.0</td>\n",
       "    </tr>\n",
       "    <tr>\n",
       "      <th>Total Non Current Liabilities Net Minority Interest</th>\n",
       "      <td>1.110300e+10</td>\n",
       "      <td>1.235900e+10</td>\n",
       "      <td>1.651300e+10</td>\n",
       "      <td>1.800500e+10</td>\n",
       "      <td>0.0</td>\n",
       "    </tr>\n",
       "    <tr>\n",
       "      <th>Other Non Current Liabilities</th>\n",
       "      <td>4.100000e+08</td>\n",
       "      <td>2.830000e+08</td>\n",
       "      <td>3.280000e+08</td>\n",
       "      <td>2.910000e+08</td>\n",
       "      <td>0.0</td>\n",
       "    </tr>\n",
       "    <tr>\n",
       "      <th>Dueto Related Parties Non Current</th>\n",
       "      <td>0.000000e+00</td>\n",
       "      <td>2.300000e+07</td>\n",
       "      <td>9.600000e+07</td>\n",
       "      <td>1.680000e+08</td>\n",
       "      <td>0.0</td>\n",
       "    </tr>\n",
       "    <tr>\n",
       "      <th>Tradeand Other Payables Non Current</th>\n",
       "      <td>3.390000e+08</td>\n",
       "      <td>5.500000e+07</td>\n",
       "      <td>1.530000e+08</td>\n",
       "      <td>2.480000e+08</td>\n",
       "      <td>0.0</td>\n",
       "    </tr>\n",
       "    <tr>\n",
       "      <th>Non Current Deferred Liabilities</th>\n",
       "      <td>7.500000e+07</td>\n",
       "      <td>9.700000e+07</td>\n",
       "      <td>1.000000e+09</td>\n",
       "      <td>1.053000e+09</td>\n",
       "      <td>0.0</td>\n",
       "    </tr>\n",
       "    <tr>\n",
       "      <th>Non Current Deferred Revenue</th>\n",
       "      <td>7.500000e+07</td>\n",
       "      <td>9.700000e+07</td>\n",
       "      <td>6.500000e+07</td>\n",
       "      <td>1.900000e+07</td>\n",
       "      <td>0.0</td>\n",
       "    </tr>\n",
       "    <tr>\n",
       "      <th>Non Current Deferred Taxes Liabilities</th>\n",
       "      <td>0.000000e+00</td>\n",
       "      <td>0.000000e+00</td>\n",
       "      <td>9.350000e+08</td>\n",
       "      <td>1.034000e+09</td>\n",
       "      <td>0.0</td>\n",
       "    </tr>\n",
       "    <tr>\n",
       "      <th>Long Term Debt And Capital Lease Obligation</th>\n",
       "      <td>8.128000e+09</td>\n",
       "      <td>8.409000e+09</td>\n",
       "      <td>1.280500e+10</td>\n",
       "      <td>1.426900e+10</td>\n",
       "      <td>0.0</td>\n",
       "    </tr>\n",
       "    <tr>\n",
       "      <th>Long Term Capital Lease Obligation</th>\n",
       "      <td>3.826000e+09</td>\n",
       "      <td>3.547000e+09</td>\n",
       "      <td>5.223000e+09</td>\n",
       "      <td>7.427000e+09</td>\n",
       "      <td>0.0</td>\n",
       "    </tr>\n",
       "    <tr>\n",
       "      <th>Long Term Debt</th>\n",
       "      <td>4.302000e+09</td>\n",
       "      <td>4.862000e+09</td>\n",
       "      <td>7.582000e+09</td>\n",
       "      <td>6.842000e+09</td>\n",
       "      <td>0.0</td>\n",
       "    </tr>\n",
       "    <tr>\n",
       "      <th>Long Term Provisions</th>\n",
       "      <td>2.151000e+09</td>\n",
       "      <td>3.492000e+09</td>\n",
       "      <td>2.131000e+09</td>\n",
       "      <td>1.976000e+09</td>\n",
       "      <td>0.0</td>\n",
       "    </tr>\n",
       "    <tr>\n",
       "      <th>Current Liabilities</th>\n",
       "      <td>6.225000e+09</td>\n",
       "      <td>1.774700e+10</td>\n",
       "      <td>1.655000e+10</td>\n",
       "      <td>1.869900e+10</td>\n",
       "      <td>0.0</td>\n",
       "    </tr>\n",
       "    <tr>\n",
       "      <th>Other Current Liabilities</th>\n",
       "      <td>4.820000e+08</td>\n",
       "      <td>1.198500e+10</td>\n",
       "      <td>1.853000e+09</td>\n",
       "      <td>1.490000e+09</td>\n",
       "      <td>0.0</td>\n",
       "    </tr>\n",
       "    <tr>\n",
       "      <th>Current Deferred Liabilities</th>\n",
       "      <td>1.680000e+08</td>\n",
       "      <td>1.560000e+08</td>\n",
       "      <td>3.830000e+08</td>\n",
       "      <td>2.970000e+08</td>\n",
       "      <td>0.0</td>\n",
       "    </tr>\n",
       "    <tr>\n",
       "      <th>Current Deferred Revenue</th>\n",
       "      <td>1.680000e+08</td>\n",
       "      <td>1.560000e+08</td>\n",
       "      <td>3.830000e+08</td>\n",
       "      <td>2.970000e+08</td>\n",
       "      <td>0.0</td>\n",
       "    </tr>\n",
       "    <tr>\n",
       "      <th>Current Debt And Capital Lease Obligation</th>\n",
       "      <td>1.446000e+09</td>\n",
       "      <td>1.491000e+09</td>\n",
       "      <td>2.365000e+09</td>\n",
       "      <td>3.256000e+09</td>\n",
       "      <td>0.0</td>\n",
       "    </tr>\n",
       "    <tr>\n",
       "      <th>Current Capital Lease Obligation</th>\n",
       "      <td>4.740000e+08</td>\n",
       "      <td>4.900000e+08</td>\n",
       "      <td>8.950000e+08</td>\n",
       "      <td>9.470000e+08</td>\n",
       "      <td>0.0</td>\n",
       "    </tr>\n",
       "    <tr>\n",
       "      <th>Current Debt</th>\n",
       "      <td>9.720000e+08</td>\n",
       "      <td>1.001000e+09</td>\n",
       "      <td>1.470000e+09</td>\n",
       "      <td>2.309000e+09</td>\n",
       "      <td>0.0</td>\n",
       "    </tr>\n",
       "    <tr>\n",
       "      <th>Other Current Borrowings</th>\n",
       "      <td>9.720000e+08</td>\n",
       "      <td>1.001000e+09</td>\n",
       "      <td>1.470000e+09</td>\n",
       "      <td>2.309000e+09</td>\n",
       "      <td>0.0</td>\n",
       "    </tr>\n",
       "    <tr>\n",
       "      <th>Current Provisions</th>\n",
       "      <td>1.100000e+07</td>\n",
       "      <td>0.000000e+00</td>\n",
       "      <td>0.000000e+00</td>\n",
       "      <td>0.000000e+00</td>\n",
       "      <td>0.0</td>\n",
       "    </tr>\n",
       "    <tr>\n",
       "      <th>Payables And Accrued Expenses</th>\n",
       "      <td>4.129000e+09</td>\n",
       "      <td>4.115000e+09</td>\n",
       "      <td>1.194900e+10</td>\n",
       "      <td>1.365600e+10</td>\n",
       "      <td>0.0</td>\n",
       "    </tr>\n",
       "    <tr>\n",
       "      <th>Current Accrued Expenses</th>\n",
       "      <td>3.810000e+08</td>\n",
       "      <td>0.000000e+00</td>\n",
       "      <td>0.000000e+00</td>\n",
       "      <td>0.000000e+00</td>\n",
       "      <td>0.0</td>\n",
       "    </tr>\n",
       "    <tr>\n",
       "      <th>Payables</th>\n",
       "      <td>4.129000e+09</td>\n",
       "      <td>4.115000e+09</td>\n",
       "      <td>1.194900e+10</td>\n",
       "      <td>1.365600e+10</td>\n",
       "      <td>0.0</td>\n",
       "    </tr>\n",
       "    <tr>\n",
       "      <th>Dueto Related Parties Current</th>\n",
       "      <td>8.500000e+07</td>\n",
       "      <td>3.350000e+08</td>\n",
       "      <td>3.710000e+08</td>\n",
       "      <td>1.940000e+08</td>\n",
       "      <td>0.0</td>\n",
       "    </tr>\n",
       "    <tr>\n",
       "      <th>Dividends Payable</th>\n",
       "      <td>0.000000e+00</td>\n",
       "      <td>1.000000e+06</td>\n",
       "      <td>1.120000e+08</td>\n",
       "      <td>5.560000e+08</td>\n",
       "      <td>168000000.0</td>\n",
       "    </tr>\n",
       "    <tr>\n",
       "      <th>Total Tax Payable</th>\n",
       "      <td>7.910000e+08</td>\n",
       "      <td>6.570000e+08</td>\n",
       "      <td>1.388000e+09</td>\n",
       "      <td>1.482000e+09</td>\n",
       "      <td>0.0</td>\n",
       "    </tr>\n",
       "    <tr>\n",
       "      <th>Income Tax Payable</th>\n",
       "      <td>8.200000e+07</td>\n",
       "      <td>5.100000e+07</td>\n",
       "      <td>0.000000e+00</td>\n",
       "      <td>0.000000e+00</td>\n",
       "      <td>0.0</td>\n",
       "    </tr>\n",
       "    <tr>\n",
       "      <th>Accounts Payable</th>\n",
       "      <td>3.253000e+09</td>\n",
       "      <td>3.123000e+09</td>\n",
       "      <td>1.007800e+10</td>\n",
       "      <td>1.142400e+10</td>\n",
       "      <td>0.0</td>\n",
       "    </tr>\n",
       "    <tr>\n",
       "      <th>Total Assets</th>\n",
       "      <td>2.205000e+10</td>\n",
       "      <td>4.383900e+10</td>\n",
       "      <td>4.944300e+10</td>\n",
       "      <td>5.351100e+10</td>\n",
       "      <td>0.0</td>\n",
       "    </tr>\n",
       "    <tr>\n",
       "      <th>Total Non Current Assets</th>\n",
       "      <td>1.452700e+10</td>\n",
       "      <td>1.528000e+10</td>\n",
       "      <td>3.157100e+10</td>\n",
       "      <td>3.565400e+10</td>\n",
       "      <td>0.0</td>\n",
       "    </tr>\n",
       "    <tr>\n",
       "      <th>Other Non Current Assets</th>\n",
       "      <td>6.360000e+08</td>\n",
       "      <td>8.590000e+08</td>\n",
       "      <td>-3.982000e+09</td>\n",
       "      <td>7.710000e+08</td>\n",
       "      <td>0.0</td>\n",
       "    </tr>\n",
       "    <tr>\n",
       "      <th>Non Current Deferred Assets</th>\n",
       "      <td>1.078000e+09</td>\n",
       "      <td>9.220000e+08</td>\n",
       "      <td>5.810000e+08</td>\n",
       "      <td>0.000000e+00</td>\n",
       "      <td>0.0</td>\n",
       "    </tr>\n",
       "    <tr>\n",
       "      <th>Non Current Deferred Taxes Assets</th>\n",
       "      <td>1.078000e+09</td>\n",
       "      <td>9.220000e+08</td>\n",
       "      <td>5.810000e+08</td>\n",
       "      <td>0.000000e+00</td>\n",
       "      <td>0.0</td>\n",
       "    </tr>\n",
       "    <tr>\n",
       "      <th>Duefrom Related Parties Non Current</th>\n",
       "      <td>5.200000e+07</td>\n",
       "      <td>3.010000e+08</td>\n",
       "      <td>5.170000e+08</td>\n",
       "      <td>1.540000e+08</td>\n",
       "      <td>0.0</td>\n",
       "    </tr>\n",
       "    <tr>\n",
       "      <th>Non Current Accounts Receivable</th>\n",
       "      <td>3.398000e+09</td>\n",
       "      <td>3.836000e+09</td>\n",
       "      <td>3.486000e+09</td>\n",
       "      <td>3.930000e+09</td>\n",
       "      <td>0.0</td>\n",
       "    </tr>\n",
       "    <tr>\n",
       "      <th>Financial Assets</th>\n",
       "      <td>1.000000e+06</td>\n",
       "      <td>0.000000e+00</td>\n",
       "      <td>6.000000e+06</td>\n",
       "      <td>1.200000e+07</td>\n",
       "      <td>0.0</td>\n",
       "    </tr>\n",
       "    <tr>\n",
       "      <th>Investments And Advances</th>\n",
       "      <td>8.640000e+08</td>\n",
       "      <td>8.330000e+08</td>\n",
       "      <td>1.254000e+09</td>\n",
       "      <td>1.250000e+09</td>\n",
       "      <td>0.0</td>\n",
       "    </tr>\n",
       "    <tr>\n",
       "      <th>Long Term Equity Investment</th>\n",
       "      <td>8.640000e+08</td>\n",
       "      <td>8.330000e+08</td>\n",
       "      <td>1.254000e+09</td>\n",
       "      <td>1.250000e+09</td>\n",
       "      <td>0.0</td>\n",
       "    </tr>\n",
       "    <tr>\n",
       "      <th>Investmentsin Associatesat Cost</th>\n",
       "      <td>8.640000e+08</td>\n",
       "      <td>8.330000e+08</td>\n",
       "      <td>1.254000e+09</td>\n",
       "      <td>1.250000e+09</td>\n",
       "      <td>0.0</td>\n",
       "    </tr>\n",
       "    <tr>\n",
       "      <th>Investment Properties</th>\n",
       "      <td>0.000000e+00</td>\n",
       "      <td>0.000000e+00</td>\n",
       "      <td>3.254000e+09</td>\n",
       "      <td>3.639000e+09</td>\n",
       "      <td>0.0</td>\n",
       "    </tr>\n",
       "    <tr>\n",
       "      <th>Goodwill And Other Intangible Assets</th>\n",
       "      <td>1.973000e+09</td>\n",
       "      <td>1.986000e+09</td>\n",
       "      <td>1.062800e+10</td>\n",
       "      <td>6.164000e+09</td>\n",
       "      <td>0.0</td>\n",
       "    </tr>\n",
       "    <tr>\n",
       "      <th>Other Intangible Assets</th>\n",
       "      <td>1.432000e+09</td>\n",
       "      <td>1.445000e+09</td>\n",
       "      <td>9.899000e+09</td>\n",
       "      <td>5.414000e+09</td>\n",
       "      <td>0.0</td>\n",
       "    </tr>\n",
       "    <tr>\n",
       "      <th>Goodwill</th>\n",
       "      <td>5.410000e+08</td>\n",
       "      <td>5.410000e+08</td>\n",
       "      <td>7.290000e+08</td>\n",
       "      <td>7.500000e+08</td>\n",
       "      <td>0.0</td>\n",
       "    </tr>\n",
       "    <tr>\n",
       "      <th>Net PPE</th>\n",
       "      <td>6.577000e+09</td>\n",
       "      <td>6.844000e+09</td>\n",
       "      <td>1.634400e+10</td>\n",
       "      <td>1.988800e+10</td>\n",
       "      <td>0.0</td>\n",
       "    </tr>\n",
       "    <tr>\n",
       "      <th>Accumulated Depreciation</th>\n",
       "      <td>-7.458000e+09</td>\n",
       "      <td>-7.205000e+09</td>\n",
       "      <td>-1.106400e+10</td>\n",
       "      <td>-1.135300e+10</td>\n",
       "      <td>0.0</td>\n",
       "    </tr>\n",
       "    <tr>\n",
       "      <th>Gross PPE</th>\n",
       "      <td>1.403500e+10</td>\n",
       "      <td>1.404900e+10</td>\n",
       "      <td>2.740800e+10</td>\n",
       "      <td>3.124100e+10</td>\n",
       "      <td>0.0</td>\n",
       "    </tr>\n",
       "    <tr>\n",
       "      <th>Leases</th>\n",
       "      <td>2.962000e+09</td>\n",
       "      <td>3.032000e+09</td>\n",
       "      <td>3.749000e+09</td>\n",
       "      <td>4.778000e+09</td>\n",
       "      <td>0.0</td>\n",
       "    </tr>\n",
       "    <tr>\n",
       "      <th>Construction In Progress</th>\n",
       "      <td>6.900000e+07</td>\n",
       "      <td>1.160000e+08</td>\n",
       "      <td>1.710000e+08</td>\n",
       "      <td>2.130000e+08</td>\n",
       "      <td>0.0</td>\n",
       "    </tr>\n",
       "    <tr>\n",
       "      <th>Other Properties</th>\n",
       "      <td>1.570000e+08</td>\n",
       "      <td>1.620000e+08</td>\n",
       "      <td>2.640000e+08</td>\n",
       "      <td>2.860000e+08</td>\n",
       "      <td>0.0</td>\n",
       "    </tr>\n",
       "    <tr>\n",
       "      <th>Machinery Furniture Equipment</th>\n",
       "      <td>3.768000e+09</td>\n",
       "      <td>3.700000e+09</td>\n",
       "      <td>6.565000e+09</td>\n",
       "      <td>7.129000e+09</td>\n",
       "      <td>0.0</td>\n",
       "    </tr>\n",
       "    <tr>\n",
       "      <th>Buildings And Improvements</th>\n",
       "      <td>6.847000e+09</td>\n",
       "      <td>6.617000e+09</td>\n",
       "      <td>1.352500e+10</td>\n",
       "      <td>1.528800e+10</td>\n",
       "      <td>0.0</td>\n",
       "    </tr>\n",
       "    <tr>\n",
       "      <th>Land And Improvements</th>\n",
       "      <td>2.320000e+08</td>\n",
       "      <td>4.220000e+08</td>\n",
       "      <td>3.134000e+09</td>\n",
       "      <td>3.547000e+09</td>\n",
       "      <td>0.0</td>\n",
       "    </tr>\n",
       "    <tr>\n",
       "      <th>Properties</th>\n",
       "      <td>0.000000e+00</td>\n",
       "      <td>0.000000e+00</td>\n",
       "      <td>0.000000e+00</td>\n",
       "      <td>0.000000e+00</td>\n",
       "      <td>0.0</td>\n",
       "    </tr>\n",
       "    <tr>\n",
       "      <th>Current Assets</th>\n",
       "      <td>7.523000e+09</td>\n",
       "      <td>2.855900e+10</td>\n",
       "      <td>1.787200e+10</td>\n",
       "      <td>1.785700e+10</td>\n",
       "      <td>0.0</td>\n",
       "    </tr>\n",
       "    <tr>\n",
       "      <th>Other Current Assets</th>\n",
       "      <td>1.720000e+08</td>\n",
       "      <td>1.090000e+08</td>\n",
       "      <td>2.510000e+08</td>\n",
       "      <td>2.510000e+08</td>\n",
       "      <td>0.0</td>\n",
       "    </tr>\n",
       "    <tr>\n",
       "      <th>Hedging Assets Current</th>\n",
       "      <td>0.000000e+00</td>\n",
       "      <td>0.000000e+00</td>\n",
       "      <td>1.900000e+07</td>\n",
       "      <td>0.000000e+00</td>\n",
       "      <td>73000000.0</td>\n",
       "    </tr>\n",
       "    <tr>\n",
       "      <th>Assets Held For Sale Current</th>\n",
       "      <td>0.000000e+00</td>\n",
       "      <td>2.084300e+10</td>\n",
       "      <td>1.187000e+09</td>\n",
       "      <td>1.090000e+08</td>\n",
       "      <td>0.0</td>\n",
       "    </tr>\n",
       "    <tr>\n",
       "      <th>Inventory</th>\n",
       "      <td>1.952000e+09</td>\n",
       "      <td>2.046000e+09</td>\n",
       "      <td>5.257000e+09</td>\n",
       "      <td>6.536000e+09</td>\n",
       "      <td>0.0</td>\n",
       "    </tr>\n",
       "    <tr>\n",
       "      <th>Inventories Adjustments Allowances</th>\n",
       "      <td>-8.600000e+07</td>\n",
       "      <td>-4.900000e+07</td>\n",
       "      <td>-9.600000e+07</td>\n",
       "      <td>-7.200000e+07</td>\n",
       "      <td>0.0</td>\n",
       "    </tr>\n",
       "    <tr>\n",
       "      <th>Other Inventories</th>\n",
       "      <td>2.038000e+09</td>\n",
       "      <td>2.095000e+09</td>\n",
       "      <td>5.303000e+09</td>\n",
       "      <td>6.466000e+09</td>\n",
       "      <td>0.0</td>\n",
       "    </tr>\n",
       "    <tr>\n",
       "      <th>Finished Goods</th>\n",
       "      <td>0.000000e+00</td>\n",
       "      <td>0.000000e+00</td>\n",
       "      <td>5.000000e+07</td>\n",
       "      <td>1.420000e+08</td>\n",
       "      <td>191000000.0</td>\n",
       "    </tr>\n",
       "    <tr>\n",
       "      <th>Receivables</th>\n",
       "      <td>1.651000e+09</td>\n",
       "      <td>1.810000e+09</td>\n",
       "      <td>2.884000e+09</td>\n",
       "      <td>2.250000e+09</td>\n",
       "      <td>0.0</td>\n",
       "    </tr>\n",
       "    <tr>\n",
       "      <th>Other Receivables</th>\n",
       "      <td>1.150000e+08</td>\n",
       "      <td>2.790000e+08</td>\n",
       "      <td>3.100000e+08</td>\n",
       "      <td>3.650000e+08</td>\n",
       "      <td>0.0</td>\n",
       "    </tr>\n",
       "    <tr>\n",
       "      <th>Duefrom Related Parties Current</th>\n",
       "      <td>1.100000e+07</td>\n",
       "      <td>0.000000e+00</td>\n",
       "      <td>0.000000e+00</td>\n",
       "      <td>0.000000e+00</td>\n",
       "      <td>0.0</td>\n",
       "    </tr>\n",
       "    <tr>\n",
       "      <th>Taxes Receivable</th>\n",
       "      <td>1.078000e+09</td>\n",
       "      <td>1.114000e+09</td>\n",
       "      <td>1.743000e+09</td>\n",
       "      <td>1.199000e+09</td>\n",
       "      <td>0.0</td>\n",
       "    </tr>\n",
       "    <tr>\n",
       "      <th>Accounts Receivable</th>\n",
       "      <td>4.580000e+08</td>\n",
       "      <td>4.170000e+08</td>\n",
       "      <td>8.310000e+08</td>\n",
       "      <td>6.860000e+08</td>\n",
       "      <td>0.0</td>\n",
       "    </tr>\n",
       "    <tr>\n",
       "      <th>Allowance For Doubtful Accounts Receivable</th>\n",
       "      <td>-3.000000e+06</td>\n",
       "      <td>-2.000000e+06</td>\n",
       "      <td>0.000000e+00</td>\n",
       "      <td>0.000000e+00</td>\n",
       "      <td>0.0</td>\n",
       "    </tr>\n",
       "    <tr>\n",
       "      <th>Gross Accounts Receivable</th>\n",
       "      <td>4.610000e+08</td>\n",
       "      <td>4.190000e+08</td>\n",
       "      <td>0.000000e+00</td>\n",
       "      <td>0.000000e+00</td>\n",
       "      <td>0.0</td>\n",
       "    </tr>\n",
       "    <tr>\n",
       "      <th>Cash Cash Equivalents And Short Term Investments</th>\n",
       "      <td>3.748000e+09</td>\n",
       "      <td>3.751000e+09</td>\n",
       "      <td>8.274000e+09</td>\n",
       "      <td>8.711000e+09</td>\n",
       "      <td>0.0</td>\n",
       "    </tr>\n",
       "    <tr>\n",
       "      <th>Other Short Term Investments</th>\n",
       "      <td>7.770000e+08</td>\n",
       "      <td>0.000000e+00</td>\n",
       "      <td>0.000000e+00</td>\n",
       "      <td>0.000000e+00</td>\n",
       "      <td>0.0</td>\n",
       "    </tr>\n",
       "    <tr>\n",
       "      <th>Cash And Cash Equivalents</th>\n",
       "      <td>2.971000e+09</td>\n",
       "      <td>3.751000e+09</td>\n",
       "      <td>8.274000e+09</td>\n",
       "      <td>8.711000e+09</td>\n",
       "      <td>0.0</td>\n",
       "    </tr>\n",
       "    <tr>\n",
       "      <th>Cash Equivalents</th>\n",
       "      <td>2.651000e+09</td>\n",
       "      <td>3.573000e+09</td>\n",
       "      <td>4.693000e+09</td>\n",
       "      <td>4.943000e+09</td>\n",
       "      <td>0.0</td>\n",
       "    </tr>\n",
       "    <tr>\n",
       "      <th>Cash Financial</th>\n",
       "      <td>3.200000e+08</td>\n",
       "      <td>1.780000e+08</td>\n",
       "      <td>3.581000e+09</td>\n",
       "      <td>3.768000e+09</td>\n",
       "      <td>0.0</td>\n",
       "    </tr>\n",
       "  </tbody>\n",
       "</table>\n",
       "</div>"
      ],
      "text/plain": [
       "                                                      2023-12-31  \\\n",
       "Treasury Shares Number                              1.783940e+05   \n",
       "Ordinary Shares Number                              3.016037e+08   \n",
       "Share Issued                                        3.017821e+08   \n",
       "Net Debt                                            2.303000e+09   \n",
       "Total Debt                                          9.574000e+09   \n",
       "Tangible Book Value                                 2.744000e+09   \n",
       "Invested Capital                                    9.991000e+09   \n",
       "Working Capital                                     1.298000e+09   \n",
       "Net Tangible Assets                                 2.744000e+09   \n",
       "Capital Lease Obligations                           4.300000e+09   \n",
       "Common Stock Equity                                 4.717000e+09   \n",
       "Total Capitalization                                9.019000e+09   \n",
       "Total Equity Gross Minority Interest                4.722000e+09   \n",
       "Minority Interest                                   5.000000e+06   \n",
       "Stockholders Equity                                 4.717000e+09   \n",
       "Gains Losses Not Affecting Retained Earnings        5.353000e+09   \n",
       "Other Equity Adjustments                            5.353000e+09   \n",
       "Retained Earnings                                  -2.443000e+09   \n",
       "Capital Stock                                       1.807000e+09   \n",
       "Common Stock                                        1.807000e+09   \n",
       "Total Liabilities Net Minority Interest             1.732800e+10   \n",
       "Total Non Current Liabilities Net Minority Inte...  1.110300e+10   \n",
       "Other Non Current Liabilities                       4.100000e+08   \n",
       "Dueto Related Parties Non Current                   0.000000e+00   \n",
       "Tradeand Other Payables Non Current                 3.390000e+08   \n",
       "Non Current Deferred Liabilities                    7.500000e+07   \n",
       "Non Current Deferred Revenue                        7.500000e+07   \n",
       "Non Current Deferred Taxes Liabilities              0.000000e+00   \n",
       "Long Term Debt And Capital Lease Obligation         8.128000e+09   \n",
       "Long Term Capital Lease Obligation                  3.826000e+09   \n",
       "Long Term Debt                                      4.302000e+09   \n",
       "Long Term Provisions                                2.151000e+09   \n",
       "Current Liabilities                                 6.225000e+09   \n",
       "Other Current Liabilities                           4.820000e+08   \n",
       "Current Deferred Liabilities                        1.680000e+08   \n",
       "Current Deferred Revenue                            1.680000e+08   \n",
       "Current Debt And Capital Lease Obligation           1.446000e+09   \n",
       "Current Capital Lease Obligation                    4.740000e+08   \n",
       "Current Debt                                        9.720000e+08   \n",
       "Other Current Borrowings                            9.720000e+08   \n",
       "Current Provisions                                  1.100000e+07   \n",
       "Payables And Accrued Expenses                       4.129000e+09   \n",
       "Current Accrued Expenses                            3.810000e+08   \n",
       "Payables                                            4.129000e+09   \n",
       "Dueto Related Parties Current                       8.500000e+07   \n",
       "Dividends Payable                                   0.000000e+00   \n",
       "Total Tax Payable                                   7.910000e+08   \n",
       "Income Tax Payable                                  8.200000e+07   \n",
       "Accounts Payable                                    3.253000e+09   \n",
       "Total Assets                                        2.205000e+10   \n",
       "Total Non Current Assets                            1.452700e+10   \n",
       "Other Non Current Assets                            6.360000e+08   \n",
       "Non Current Deferred Assets                         1.078000e+09   \n",
       "Non Current Deferred Taxes Assets                   1.078000e+09   \n",
       "Duefrom Related Parties Non Current                 5.200000e+07   \n",
       "Non Current Accounts Receivable                     3.398000e+09   \n",
       "Financial Assets                                    1.000000e+06   \n",
       "Investments And Advances                            8.640000e+08   \n",
       "Long Term Equity Investment                         8.640000e+08   \n",
       "Investmentsin Associatesat Cost                     8.640000e+08   \n",
       "Investment Properties                               0.000000e+00   \n",
       "Goodwill And Other Intangible Assets                1.973000e+09   \n",
       "Other Intangible Assets                             1.432000e+09   \n",
       "Goodwill                                            5.410000e+08   \n",
       "Net PPE                                             6.577000e+09   \n",
       "Accumulated Depreciation                           -7.458000e+09   \n",
       "Gross PPE                                           1.403500e+10   \n",
       "Leases                                              2.962000e+09   \n",
       "Construction In Progress                            6.900000e+07   \n",
       "Other Properties                                    1.570000e+08   \n",
       "Machinery Furniture Equipment                       3.768000e+09   \n",
       "Buildings And Improvements                          6.847000e+09   \n",
       "Land And Improvements                               2.320000e+08   \n",
       "Properties                                          0.000000e+00   \n",
       "Current Assets                                      7.523000e+09   \n",
       "Other Current Assets                                1.720000e+08   \n",
       "Hedging Assets Current                              0.000000e+00   \n",
       "Assets Held For Sale Current                        0.000000e+00   \n",
       "Inventory                                           1.952000e+09   \n",
       "Inventories Adjustments Allowances                 -8.600000e+07   \n",
       "Other Inventories                                   2.038000e+09   \n",
       "Finished Goods                                      0.000000e+00   \n",
       "Receivables                                         1.651000e+09   \n",
       "Other Receivables                                   1.150000e+08   \n",
       "Duefrom Related Parties Current                     1.100000e+07   \n",
       "Taxes Receivable                                    1.078000e+09   \n",
       "Accounts Receivable                                 4.580000e+08   \n",
       "Allowance For Doubtful Accounts Receivable         -3.000000e+06   \n",
       "Gross Accounts Receivable                           4.610000e+08   \n",
       "Cash Cash Equivalents And Short Term Investments    3.748000e+09   \n",
       "Other Short Term Investments                        7.770000e+08   \n",
       "Cash And Cash Equivalents                           2.971000e+09   \n",
       "Cash Equivalents                                    2.651000e+09   \n",
       "Cash Financial                                      3.200000e+08   \n",
       "\n",
       "                                                      2022-12-31  \\\n",
       "Treasury Shares Number                              1.783940e+05   \n",
       "Ordinary Shares Number                              3.016037e+08   \n",
       "Share Issued                                        3.017821e+08   \n",
       "Net Debt                                            2.112000e+09   \n",
       "Total Debt                                          9.900000e+09   \n",
       "Tangible Book Value                                 9.507000e+09   \n",
       "Invested Capital                                    1.735600e+10   \n",
       "Working Capital                                     1.081200e+10   \n",
       "Net Tangible Assets                                 9.507000e+09   \n",
       "Capital Lease Obligations                           4.037000e+09   \n",
       "Common Stock Equity                                 1.149300e+10   \n",
       "Total Capitalization                                1.635500e+10   \n",
       "Total Equity Gross Minority Interest                1.373300e+10   \n",
       "Minority Interest                                   2.240000e+09   \n",
       "Stockholders Equity                                 1.149300e+10   \n",
       "Gains Losses Not Affecting Retained Earnings        5.804000e+09   \n",
       "Other Equity Adjustments                            5.804000e+09   \n",
       "Retained Earnings                                  -1.720000e+08   \n",
       "Capital Stock                                       5.861000e+09   \n",
       "Common Stock                                        5.861000e+09   \n",
       "Total Liabilities Net Minority Interest             3.010600e+10   \n",
       "Total Non Current Liabilities Net Minority Inte...  1.235900e+10   \n",
       "Other Non Current Liabilities                       2.830000e+08   \n",
       "Dueto Related Parties Non Current                   2.300000e+07   \n",
       "Tradeand Other Payables Non Current                 5.500000e+07   \n",
       "Non Current Deferred Liabilities                    9.700000e+07   \n",
       "Non Current Deferred Revenue                        9.700000e+07   \n",
       "Non Current Deferred Taxes Liabilities              0.000000e+00   \n",
       "Long Term Debt And Capital Lease Obligation         8.409000e+09   \n",
       "Long Term Capital Lease Obligation                  3.547000e+09   \n",
       "Long Term Debt                                      4.862000e+09   \n",
       "Long Term Provisions                                3.492000e+09   \n",
       "Current Liabilities                                 1.774700e+10   \n",
       "Other Current Liabilities                           1.198500e+10   \n",
       "Current Deferred Liabilities                        1.560000e+08   \n",
       "Current Deferred Revenue                            1.560000e+08   \n",
       "Current Debt And Capital Lease Obligation           1.491000e+09   \n",
       "Current Capital Lease Obligation                    4.900000e+08   \n",
       "Current Debt                                        1.001000e+09   \n",
       "Other Current Borrowings                            1.001000e+09   \n",
       "Current Provisions                                  0.000000e+00   \n",
       "Payables And Accrued Expenses                       4.115000e+09   \n",
       "Current Accrued Expenses                            0.000000e+00   \n",
       "Payables                                            4.115000e+09   \n",
       "Dueto Related Parties Current                       3.350000e+08   \n",
       "Dividends Payable                                   1.000000e+06   \n",
       "Total Tax Payable                                   6.570000e+08   \n",
       "Income Tax Payable                                  5.100000e+07   \n",
       "Accounts Payable                                    3.123000e+09   \n",
       "Total Assets                                        4.383900e+10   \n",
       "Total Non Current Assets                            1.528000e+10   \n",
       "Other Non Current Assets                            8.590000e+08   \n",
       "Non Current Deferred Assets                         9.220000e+08   \n",
       "Non Current Deferred Taxes Assets                   9.220000e+08   \n",
       "Duefrom Related Parties Non Current                 3.010000e+08   \n",
       "Non Current Accounts Receivable                     3.836000e+09   \n",
       "Financial Assets                                    0.000000e+00   \n",
       "Investments And Advances                            8.330000e+08   \n",
       "Long Term Equity Investment                         8.330000e+08   \n",
       "Investmentsin Associatesat Cost                     8.330000e+08   \n",
       "Investment Properties                               0.000000e+00   \n",
       "Goodwill And Other Intangible Assets                1.986000e+09   \n",
       "Other Intangible Assets                             1.445000e+09   \n",
       "Goodwill                                            5.410000e+08   \n",
       "Net PPE                                             6.844000e+09   \n",
       "Accumulated Depreciation                           -7.205000e+09   \n",
       "Gross PPE                                           1.404900e+10   \n",
       "Leases                                              3.032000e+09   \n",
       "Construction In Progress                            1.160000e+08   \n",
       "Other Properties                                    1.620000e+08   \n",
       "Machinery Furniture Equipment                       3.700000e+09   \n",
       "Buildings And Improvements                          6.617000e+09   \n",
       "Land And Improvements                               4.220000e+08   \n",
       "Properties                                          0.000000e+00   \n",
       "Current Assets                                      2.855900e+10   \n",
       "Other Current Assets                                1.090000e+08   \n",
       "Hedging Assets Current                              0.000000e+00   \n",
       "Assets Held For Sale Current                        2.084300e+10   \n",
       "Inventory                                           2.046000e+09   \n",
       "Inventories Adjustments Allowances                 -4.900000e+07   \n",
       "Other Inventories                                   2.095000e+09   \n",
       "Finished Goods                                      0.000000e+00   \n",
       "Receivables                                         1.810000e+09   \n",
       "Other Receivables                                   2.790000e+08   \n",
       "Duefrom Related Parties Current                     0.000000e+00   \n",
       "Taxes Receivable                                    1.114000e+09   \n",
       "Accounts Receivable                                 4.170000e+08   \n",
       "Allowance For Doubtful Accounts Receivable         -2.000000e+06   \n",
       "Gross Accounts Receivable                           4.190000e+08   \n",
       "Cash Cash Equivalents And Short Term Investments    3.751000e+09   \n",
       "Other Short Term Investments                        0.000000e+00   \n",
       "Cash And Cash Equivalents                           3.751000e+09   \n",
       "Cash Equivalents                                    3.573000e+09   \n",
       "Cash Financial                                      1.780000e+08   \n",
       "\n",
       "                                                      2021-12-31  \\\n",
       "Treasury Shares Number                              1.791230e+05   \n",
       "Ordinary Shares Number                              3.007504e+08   \n",
       "Share Issued                                        3.009295e+08   \n",
       "Net Debt                                            7.780000e+08   \n",
       "Total Debt                                          1.517000e+10   \n",
       "Tangible Book Value                                 3.021000e+09   \n",
       "Invested Capital                                    2.270100e+10   \n",
       "Working Capital                                     1.322000e+09   \n",
       "Net Tangible Assets                                 3.021000e+09   \n",
       "Capital Lease Obligations                           6.118000e+09   \n",
       "Common Stock Equity                                 1.364900e+10   \n",
       "Total Capitalization                                2.123100e+10   \n",
       "Total Equity Gross Minority Interest                1.638000e+10   \n",
       "Minority Interest                                   2.731000e+09   \n",
       "Stockholders Equity                                 1.364900e+10   \n",
       "Gains Losses Not Affecting Retained Earnings        7.790000e+09   \n",
       "Other Equity Adjustments                            7.790000e+09   \n",
       "Retained Earnings                                   0.000000e+00   \n",
       "Capital Stock                                       5.859000e+09   \n",
       "Common Stock                                        5.859000e+09   \n",
       "Total Liabilities Net Minority Interest             3.306300e+10   \n",
       "Total Non Current Liabilities Net Minority Inte...  1.651300e+10   \n",
       "Other Non Current Liabilities                       3.280000e+08   \n",
       "Dueto Related Parties Non Current                   9.600000e+07   \n",
       "Tradeand Other Payables Non Current                 1.530000e+08   \n",
       "Non Current Deferred Liabilities                    1.000000e+09   \n",
       "Non Current Deferred Revenue                        6.500000e+07   \n",
       "Non Current Deferred Taxes Liabilities              9.350000e+08   \n",
       "Long Term Debt And Capital Lease Obligation         1.280500e+10   \n",
       "Long Term Capital Lease Obligation                  5.223000e+09   \n",
       "Long Term Debt                                      7.582000e+09   \n",
       "Long Term Provisions                                2.131000e+09   \n",
       "Current Liabilities                                 1.655000e+10   \n",
       "Other Current Liabilities                           1.853000e+09   \n",
       "Current Deferred Liabilities                        3.830000e+08   \n",
       "Current Deferred Revenue                            3.830000e+08   \n",
       "Current Debt And Capital Lease Obligation           2.365000e+09   \n",
       "Current Capital Lease Obligation                    8.950000e+08   \n",
       "Current Debt                                        1.470000e+09   \n",
       "Other Current Borrowings                            1.470000e+09   \n",
       "Current Provisions                                  0.000000e+00   \n",
       "Payables And Accrued Expenses                       1.194900e+10   \n",
       "Current Accrued Expenses                            0.000000e+00   \n",
       "Payables                                            1.194900e+10   \n",
       "Dueto Related Parties Current                       3.710000e+08   \n",
       "Dividends Payable                                   1.120000e+08   \n",
       "Total Tax Payable                                   1.388000e+09   \n",
       "Income Tax Payable                                  0.000000e+00   \n",
       "Accounts Payable                                    1.007800e+10   \n",
       "Total Assets                                        4.944300e+10   \n",
       "Total Non Current Assets                            3.157100e+10   \n",
       "Other Non Current Assets                           -3.982000e+09   \n",
       "Non Current Deferred Assets                         5.810000e+08   \n",
       "Non Current Deferred Taxes Assets                   5.810000e+08   \n",
       "Duefrom Related Parties Non Current                 5.170000e+08   \n",
       "Non Current Accounts Receivable                     3.486000e+09   \n",
       "Financial Assets                                    6.000000e+06   \n",
       "Investments And Advances                            1.254000e+09   \n",
       "Long Term Equity Investment                         1.254000e+09   \n",
       "Investmentsin Associatesat Cost                     1.254000e+09   \n",
       "Investment Properties                               3.254000e+09   \n",
       "Goodwill And Other Intangible Assets                1.062800e+10   \n",
       "Other Intangible Assets                             9.899000e+09   \n",
       "Goodwill                                            7.290000e+08   \n",
       "Net PPE                                             1.634400e+10   \n",
       "Accumulated Depreciation                           -1.106400e+10   \n",
       "Gross PPE                                           2.740800e+10   \n",
       "Leases                                              3.749000e+09   \n",
       "Construction In Progress                            1.710000e+08   \n",
       "Other Properties                                    2.640000e+08   \n",
       "Machinery Furniture Equipment                       6.565000e+09   \n",
       "Buildings And Improvements                          1.352500e+10   \n",
       "Land And Improvements                               3.134000e+09   \n",
       "Properties                                          0.000000e+00   \n",
       "Current Assets                                      1.787200e+10   \n",
       "Other Current Assets                                2.510000e+08   \n",
       "Hedging Assets Current                              1.900000e+07   \n",
       "Assets Held For Sale Current                        1.187000e+09   \n",
       "Inventory                                           5.257000e+09   \n",
       "Inventories Adjustments Allowances                 -9.600000e+07   \n",
       "Other Inventories                                   5.303000e+09   \n",
       "Finished Goods                                      5.000000e+07   \n",
       "Receivables                                         2.884000e+09   \n",
       "Other Receivables                                   3.100000e+08   \n",
       "Duefrom Related Parties Current                     0.000000e+00   \n",
       "Taxes Receivable                                    1.743000e+09   \n",
       "Accounts Receivable                                 8.310000e+08   \n",
       "Allowance For Doubtful Accounts Receivable          0.000000e+00   \n",
       "Gross Accounts Receivable                           0.000000e+00   \n",
       "Cash Cash Equivalents And Short Term Investments    8.274000e+09   \n",
       "Other Short Term Investments                        0.000000e+00   \n",
       "Cash And Cash Equivalents                           8.274000e+09   \n",
       "Cash Equivalents                                    4.693000e+09   \n",
       "Cash Financial                                      3.581000e+09   \n",
       "\n",
       "                                                      2020-12-31   2019-12-31  \n",
       "Treasury Shares Number                              2.670620e+05          0.0  \n",
       "Ordinary Shares Number                              2.995182e+08          0.0  \n",
       "Share Issued                                        2.997852e+08          0.0  \n",
       "Net Debt                                            4.400000e+08          0.0  \n",
       "Total Debt                                          1.752500e+10          0.0  \n",
       "Tangible Book Value                                 7.531000e+09          0.0  \n",
       "Invested Capital                                    2.284600e+10          0.0  \n",
       "Working Capital                                    -8.420000e+08          0.0  \n",
       "Net Tangible Assets                                 7.531000e+09          0.0  \n",
       "Capital Lease Obligations                           8.374000e+09          0.0  \n",
       "Common Stock Equity                                 1.369500e+10          0.0  \n",
       "Total Capitalization                                2.053700e+10          0.0  \n",
       "Total Equity Gross Minority Interest                1.680700e+10          0.0  \n",
       "Minority Interest                                   3.112000e+09          0.0  \n",
       "Stockholders Equity                                 1.369500e+10          0.0  \n",
       "Gains Losses Not Affecting Retained Earnings        8.045000e+09          0.0  \n",
       "Other Equity Adjustments                            8.045000e+09          0.0  \n",
       "Retained Earnings                                   0.000000e+00          0.0  \n",
       "Capital Stock                                       5.650000e+09          0.0  \n",
       "Common Stock                                        5.650000e+09          0.0  \n",
       "Total Liabilities Net Minority Interest             3.670400e+10          0.0  \n",
       "Total Non Current Liabilities Net Minority Inte...  1.800500e+10          0.0  \n",
       "Other Non Current Liabilities                       2.910000e+08          0.0  \n",
       "Dueto Related Parties Non Current                   1.680000e+08          0.0  \n",
       "Tradeand Other Payables Non Current                 2.480000e+08          0.0  \n",
       "Non Current Deferred Liabilities                    1.053000e+09          0.0  \n",
       "Non Current Deferred Revenue                        1.900000e+07          0.0  \n",
       "Non Current Deferred Taxes Liabilities              1.034000e+09          0.0  \n",
       "Long Term Debt And Capital Lease Obligation         1.426900e+10          0.0  \n",
       "Long Term Capital Lease Obligation                  7.427000e+09          0.0  \n",
       "Long Term Debt                                      6.842000e+09          0.0  \n",
       "Long Term Provisions                                1.976000e+09          0.0  \n",
       "Current Liabilities                                 1.869900e+10          0.0  \n",
       "Other Current Liabilities                           1.490000e+09          0.0  \n",
       "Current Deferred Liabilities                        2.970000e+08          0.0  \n",
       "Current Deferred Revenue                            2.970000e+08          0.0  \n",
       "Current Debt And Capital Lease Obligation           3.256000e+09          0.0  \n",
       "Current Capital Lease Obligation                    9.470000e+08          0.0  \n",
       "Current Debt                                        2.309000e+09          0.0  \n",
       "Other Current Borrowings                            2.309000e+09          0.0  \n",
       "Current Provisions                                  0.000000e+00          0.0  \n",
       "Payables And Accrued Expenses                       1.365600e+10          0.0  \n",
       "Current Accrued Expenses                            0.000000e+00          0.0  \n",
       "Payables                                            1.365600e+10          0.0  \n",
       "Dueto Related Parties Current                       1.940000e+08          0.0  \n",
       "Dividends Payable                                   5.560000e+08  168000000.0  \n",
       "Total Tax Payable                                   1.482000e+09          0.0  \n",
       "Income Tax Payable                                  0.000000e+00          0.0  \n",
       "Accounts Payable                                    1.142400e+10          0.0  \n",
       "Total Assets                                        5.351100e+10          0.0  \n",
       "Total Non Current Assets                            3.565400e+10          0.0  \n",
       "Other Non Current Assets                            7.710000e+08          0.0  \n",
       "Non Current Deferred Assets                         0.000000e+00          0.0  \n",
       "Non Current Deferred Taxes Assets                   0.000000e+00          0.0  \n",
       "Duefrom Related Parties Non Current                 1.540000e+08          0.0  \n",
       "Non Current Accounts Receivable                     3.930000e+09          0.0  \n",
       "Financial Assets                                    1.200000e+07          0.0  \n",
       "Investments And Advances                            1.250000e+09          0.0  \n",
       "Long Term Equity Investment                         1.250000e+09          0.0  \n",
       "Investmentsin Associatesat Cost                     1.250000e+09          0.0  \n",
       "Investment Properties                               3.639000e+09          0.0  \n",
       "Goodwill And Other Intangible Assets                6.164000e+09          0.0  \n",
       "Other Intangible Assets                             5.414000e+09          0.0  \n",
       "Goodwill                                            7.500000e+08          0.0  \n",
       "Net PPE                                             1.988800e+10          0.0  \n",
       "Accumulated Depreciation                           -1.135300e+10          0.0  \n",
       "Gross PPE                                           3.124100e+10          0.0  \n",
       "Leases                                              4.778000e+09          0.0  \n",
       "Construction In Progress                            2.130000e+08          0.0  \n",
       "Other Properties                                    2.860000e+08          0.0  \n",
       "Machinery Furniture Equipment                       7.129000e+09          0.0  \n",
       "Buildings And Improvements                          1.528800e+10          0.0  \n",
       "Land And Improvements                               3.547000e+09          0.0  \n",
       "Properties                                          0.000000e+00          0.0  \n",
       "Current Assets                                      1.785700e+10          0.0  \n",
       "Other Current Assets                                2.510000e+08          0.0  \n",
       "Hedging Assets Current                              0.000000e+00   73000000.0  \n",
       "Assets Held For Sale Current                        1.090000e+08          0.0  \n",
       "Inventory                                           6.536000e+09          0.0  \n",
       "Inventories Adjustments Allowances                 -7.200000e+07          0.0  \n",
       "Other Inventories                                   6.466000e+09          0.0  \n",
       "Finished Goods                                      1.420000e+08  191000000.0  \n",
       "Receivables                                         2.250000e+09          0.0  \n",
       "Other Receivables                                   3.650000e+08          0.0  \n",
       "Duefrom Related Parties Current                     0.000000e+00          0.0  \n",
       "Taxes Receivable                                    1.199000e+09          0.0  \n",
       "Accounts Receivable                                 6.860000e+08          0.0  \n",
       "Allowance For Doubtful Accounts Receivable          0.000000e+00          0.0  \n",
       "Gross Accounts Receivable                           0.000000e+00          0.0  \n",
       "Cash Cash Equivalents And Short Term Investments    8.711000e+09          0.0  \n",
       "Other Short Term Investments                        0.000000e+00          0.0  \n",
       "Cash And Cash Equivalents                           8.711000e+09          0.0  \n",
       "Cash Equivalents                                    4.943000e+09          0.0  \n",
       "Cash Financial                                      3.768000e+09          0.0  "
      ]
     },
     "metadata": {},
     "output_type": "display_data"
    },
    {
     "name": "stdout",
     "output_type": "stream",
     "text": [
      "Balanço Patrimonial da yfinance.Ticker object <NTCO3.SA>\n"
     ]
    },
    {
     "name": "stderr",
     "output_type": "stream",
     "text": [
      "C:\\Users\\Usuario(a) Master\\AppData\\Local\\Temp\\ipykernel_14028\\1790073719.py:3: FutureWarning:\n",
      "\n",
      "Downcasting object dtype arrays on .fillna, .ffill, .bfill is deprecated and will change in a future version. Call result.infer_objects(copy=False) instead. To opt-in to the future behavior, set `pd.set_option('future.no_silent_downcasting', True)`\n",
      "\n"
     ]
    },
    {
     "data": {
      "text/html": [
       "<div>\n",
       "<style scoped>\n",
       "    .dataframe tbody tr th:only-of-type {\n",
       "        vertical-align: middle;\n",
       "    }\n",
       "\n",
       "    .dataframe tbody tr th {\n",
       "        vertical-align: top;\n",
       "    }\n",
       "\n",
       "    .dataframe thead th {\n",
       "        text-align: right;\n",
       "    }\n",
       "</style>\n",
       "<table border=\"1\" class=\"dataframe\">\n",
       "  <thead>\n",
       "    <tr style=\"text-align: right;\">\n",
       "      <th></th>\n",
       "      <th>2023-12-31</th>\n",
       "      <th>2022-12-31</th>\n",
       "      <th>2021-12-31</th>\n",
       "      <th>2020-12-31</th>\n",
       "      <th>2019-12-31</th>\n",
       "    </tr>\n",
       "  </thead>\n",
       "  <tbody>\n",
       "    <tr>\n",
       "      <th>Treasury Shares Number</th>\n",
       "      <td>6.204048e+06</td>\n",
       "      <td>9.913855e+06</td>\n",
       "      <td>4.899540e+06</td>\n",
       "      <td>3.167010e+05</td>\n",
       "      <td>0.0</td>\n",
       "    </tr>\n",
       "    <tr>\n",
       "      <th>Ordinary Shares Number</th>\n",
       "      <td>1.380644e+09</td>\n",
       "      <td>1.373239e+09</td>\n",
       "      <td>1.374685e+09</td>\n",
       "      <td>1.375159e+09</td>\n",
       "      <td>0.0</td>\n",
       "    </tr>\n",
       "    <tr>\n",
       "      <th>Share Issued</th>\n",
       "      <td>1.386848e+09</td>\n",
       "      <td>1.383153e+09</td>\n",
       "      <td>1.379585e+09</td>\n",
       "      <td>1.375475e+09</td>\n",
       "      <td>0.0</td>\n",
       "    </tr>\n",
       "    <tr>\n",
       "      <th>Net Debt</th>\n",
       "      <td>2.360758e+09</td>\n",
       "      <td>9.396573e+09</td>\n",
       "      <td>8.709575e+09</td>\n",
       "      <td>8.001241e+09</td>\n",
       "      <td>0.0</td>\n",
       "    </tr>\n",
       "    <tr>\n",
       "      <th>Total Debt</th>\n",
       "      <td>7.262142e+09</td>\n",
       "      <td>1.686302e+10</td>\n",
       "      <td>1.626469e+10</td>\n",
       "      <td>1.768137e+10</td>\n",
       "      <td>0.0</td>\n",
       "    </tr>\n",
       "    <tr>\n",
       "      <th>Tangible Book Value</th>\n",
       "      <td>6.533373e+09</td>\n",
       "      <td>-9.282360e+08</td>\n",
       "      <td>1.687987e+09</td>\n",
       "      <td>4.471990e+08</td>\n",
       "      <td>0.0</td>\n",
       "    </tr>\n",
       "    <tr>\n",
       "      <th>Invested Capital</th>\n",
       "      <td>2.921494e+10</td>\n",
       "      <td>3.592502e+10</td>\n",
       "      <td>4.126240e+10</td>\n",
       "      <td>4.118724e+10</td>\n",
       "      <td>0.0</td>\n",
       "    </tr>\n",
       "    <tr>\n",
       "      <th>Working Capital</th>\n",
       "      <td>5.573723e+09</td>\n",
       "      <td>2.783659e+09</td>\n",
       "      <td>3.786947e+09</td>\n",
       "      <td>2.575234e+09</td>\n",
       "      <td>0.0</td>\n",
       "    </tr>\n",
       "    <tr>\n",
       "      <th>Net Tangible Assets</th>\n",
       "      <td>6.533373e+09</td>\n",
       "      <td>-9.282360e+08</td>\n",
       "      <td>1.687987e+09</td>\n",
       "      <td>4.471990e+08</td>\n",
       "      <td>0.0</td>\n",
       "    </tr>\n",
       "    <tr>\n",
       "      <th>Capital Lease Obligations</th>\n",
       "      <td>1.150440e+09</td>\n",
       "      <td>3.270737e+09</td>\n",
       "      <td>3.547862e+09</td>\n",
       "      <td>3.858455e+09</td>\n",
       "      <td>0.0</td>\n",
       "    </tr>\n",
       "    <tr>\n",
       "      <th>Common Stock Equity</th>\n",
       "      <td>2.310324e+10</td>\n",
       "      <td>2.233273e+10</td>\n",
       "      <td>2.854557e+10</td>\n",
       "      <td>2.736433e+10</td>\n",
       "      <td>0.0</td>\n",
       "    </tr>\n",
       "    <tr>\n",
       "      <th>Total Capitalization</th>\n",
       "      <td>2.905110e+10</td>\n",
       "      <td>3.559387e+10</td>\n",
       "      <td>4.031733e+10</td>\n",
       "      <td>3.738159e+10</td>\n",
       "      <td>0.0</td>\n",
       "    </tr>\n",
       "    <tr>\n",
       "      <th>Total Equity Gross Minority Interest</th>\n",
       "      <td>2.312046e+10</td>\n",
       "      <td>2.235118e+10</td>\n",
       "      <td>2.856672e+10</td>\n",
       "      <td>2.738711e+10</td>\n",
       "      <td>0.0</td>\n",
       "    </tr>\n",
       "    <tr>\n",
       "      <th>Minority Interest</th>\n",
       "      <td>1.722600e+07</td>\n",
       "      <td>1.845000e+07</td>\n",
       "      <td>2.115500e+07</td>\n",
       "      <td>2.278100e+07</td>\n",
       "      <td>0.0</td>\n",
       "    </tr>\n",
       "    <tr>\n",
       "      <th>Stockholders Equity</th>\n",
       "      <td>2.310324e+10</td>\n",
       "      <td>2.233273e+10</td>\n",
       "      <td>2.854557e+10</td>\n",
       "      <td>2.736433e+10</td>\n",
       "      <td>0.0</td>\n",
       "    </tr>\n",
       "    <tr>\n",
       "      <th>Other Equity Interest</th>\n",
       "      <td>0.000000e+00</td>\n",
       "      <td>0.000000e+00</td>\n",
       "      <td>4.865202e+09</td>\n",
       "      <td>4.585631e+09</td>\n",
       "      <td>815005000.0</td>\n",
       "    </tr>\n",
       "    <tr>\n",
       "      <th>Gains Losses Not Affecting Retained Earnings</th>\n",
       "      <td>5.864520e+08</td>\n",
       "      <td>1.834333e+09</td>\n",
       "      <td>1.621523e+10</td>\n",
       "      <td>1.117230e+10</td>\n",
       "      <td>0.0</td>\n",
       "    </tr>\n",
       "    <tr>\n",
       "      <th>Other Equity Adjustments</th>\n",
       "      <td>5.864520e+08</td>\n",
       "      <td>1.834333e+09</td>\n",
       "      <td>1.621523e+10</td>\n",
       "      <td>1.117230e+10</td>\n",
       "      <td>0.0</td>\n",
       "    </tr>\n",
       "    <tr>\n",
       "      <th>Treasury Stock</th>\n",
       "      <td>1.642360e+08</td>\n",
       "      <td>2.623600e+08</td>\n",
       "      <td>1.513420e+08</td>\n",
       "      <td>1.166700e+07</td>\n",
       "      <td>0.0</td>\n",
       "    </tr>\n",
       "    <tr>\n",
       "      <th>Retained Earnings</th>\n",
       "      <td>0.000000e+00</td>\n",
       "      <td>-1.994555e+09</td>\n",
       "      <td>0.000000e+00</td>\n",
       "      <td>-7.599370e+08</td>\n",
       "      <td>0.0</td>\n",
       "    </tr>\n",
       "    <tr>\n",
       "      <th>Additional Paid In Capital</th>\n",
       "      <td>1.019651e+10</td>\n",
       "      <td>1.027089e+10</td>\n",
       "      <td>0.000000e+00</td>\n",
       "      <td>0.000000e+00</td>\n",
       "      <td>0.0</td>\n",
       "    </tr>\n",
       "    <tr>\n",
       "      <th>Capital Stock</th>\n",
       "      <td>1.248452e+10</td>\n",
       "      <td>1.248442e+10</td>\n",
       "      <td>1.248168e+10</td>\n",
       "      <td>1.237800e+10</td>\n",
       "      <td>0.0</td>\n",
       "    </tr>\n",
       "    <tr>\n",
       "      <th>Common Stock</th>\n",
       "      <td>1.248452e+10</td>\n",
       "      <td>1.248442e+10</td>\n",
       "      <td>1.248168e+10</td>\n",
       "      <td>1.237800e+10</td>\n",
       "      <td>0.0</td>\n",
       "    </tr>\n",
       "    <tr>\n",
       "      <th>Total Liabilities Net Minority Interest</th>\n",
       "      <td>1.962655e+10</td>\n",
       "      <td>3.233421e+10</td>\n",
       "      <td>3.188176e+10</td>\n",
       "      <td>3.353049e+10</td>\n",
       "      <td>0.0</td>\n",
       "    </tr>\n",
       "    <tr>\n",
       "      <th>Total Non Current Liabilities Net Minority Interest</th>\n",
       "      <td>9.213051e+09</td>\n",
       "      <td>1.899634e+10</td>\n",
       "      <td>1.828055e+10</td>\n",
       "      <td>1.737090e+10</td>\n",
       "      <td>0.0</td>\n",
       "    </tr>\n",
       "    <tr>\n",
       "      <th>Other Non Current Liabilities</th>\n",
       "      <td>6.865330e+08</td>\n",
       "      <td>7.515660e+08</td>\n",
       "      <td>9.424560e+08</td>\n",
       "      <td>1.113139e+09</td>\n",
       "      <td>0.0</td>\n",
       "    </tr>\n",
       "    <tr>\n",
       "      <th>Derivative Product Liabilities</th>\n",
       "      <td>0.000000e+00</td>\n",
       "      <td>1.912740e+08</td>\n",
       "      <td>0.000000e+00</td>\n",
       "      <td>0.000000e+00</td>\n",
       "      <td>0.0</td>\n",
       "    </tr>\n",
       "    <tr>\n",
       "      <th>Non Current Accrued Expenses</th>\n",
       "      <td>1.606900e+07</td>\n",
       "      <td>2.615200e+07</td>\n",
       "      <td>5.374800e+07</td>\n",
       "      <td>4.376300e+07</td>\n",
       "      <td>0.0</td>\n",
       "    </tr>\n",
       "    <tr>\n",
       "      <th>Tradeand Other Payables Non Current</th>\n",
       "      <td>5.073700e+08</td>\n",
       "      <td>5.658900e+08</td>\n",
       "      <td>8.878550e+08</td>\n",
       "      <td>1.094540e+08</td>\n",
       "      <td>0.0</td>\n",
       "    </tr>\n",
       "    <tr>\n",
       "      <th>Non Current Deferred Liabilities</th>\n",
       "      <td>1.203381e+09</td>\n",
       "      <td>1.808032e+09</td>\n",
       "      <td>2.082386e+09</td>\n",
       "      <td>3.288489e+09</td>\n",
       "      <td>0.0</td>\n",
       "    </tr>\n",
       "    <tr>\n",
       "      <th>Non Current Deferred Taxes Liabilities</th>\n",
       "      <td>1.203381e+09</td>\n",
       "      <td>1.808032e+09</td>\n",
       "      <td>2.082386e+09</td>\n",
       "      <td>3.288489e+09</td>\n",
       "      <td>0.0</td>\n",
       "    </tr>\n",
       "    <tr>\n",
       "      <th>Long Term Debt And Capital Lease Obligation</th>\n",
       "      <td>6.799698e+09</td>\n",
       "      <td>1.565342e+10</td>\n",
       "      <td>1.431410e+10</td>\n",
       "      <td>1.281606e+10</td>\n",
       "      <td>0.0</td>\n",
       "    </tr>\n",
       "    <tr>\n",
       "      <th>Long Term Capital Lease Obligation</th>\n",
       "      <td>8.518400e+08</td>\n",
       "      <td>2.392289e+09</td>\n",
       "      <td>2.542339e+09</td>\n",
       "      <td>2.798794e+09</td>\n",
       "      <td>0.0</td>\n",
       "    </tr>\n",
       "    <tr>\n",
       "      <th>Long Term Debt</th>\n",
       "      <td>5.947858e+09</td>\n",
       "      <td>1.326114e+10</td>\n",
       "      <td>1.177176e+10</td>\n",
       "      <td>1.001726e+10</td>\n",
       "      <td>0.0</td>\n",
       "    </tr>\n",
       "    <tr>\n",
       "      <th>Current Liabilities</th>\n",
       "      <td>1.041350e+10</td>\n",
       "      <td>1.333787e+10</td>\n",
       "      <td>1.360122e+10</td>\n",
       "      <td>1.615959e+10</td>\n",
       "      <td>0.0</td>\n",
       "    </tr>\n",
       "    <tr>\n",
       "      <th>Other Current Liabilities</th>\n",
       "      <td>1.300155e+09</td>\n",
       "      <td>3.113028e+09</td>\n",
       "      <td>2.174602e+09</td>\n",
       "      <td>1.753035e+09</td>\n",
       "      <td>0.0</td>\n",
       "    </tr>\n",
       "    <tr>\n",
       "      <th>Current Deferred Liabilities</th>\n",
       "      <td>4.913010e+08</td>\n",
       "      <td>4.636550e+08</td>\n",
       "      <td>2.300970e+08</td>\n",
       "      <td>1.997330e+08</td>\n",
       "      <td>0.0</td>\n",
       "    </tr>\n",
       "    <tr>\n",
       "      <th>Current Deferred Taxes Liabilities</th>\n",
       "      <td>4.913010e+08</td>\n",
       "      <td>4.636550e+08</td>\n",
       "      <td>2.300970e+08</td>\n",
       "      <td>1.997330e+08</td>\n",
       "      <td>0.0</td>\n",
       "    </tr>\n",
       "    <tr>\n",
       "      <th>Current Debt And Capital Lease Obligation</th>\n",
       "      <td>4.624440e+08</td>\n",
       "      <td>1.209599e+09</td>\n",
       "      <td>1.950592e+09</td>\n",
       "      <td>4.865310e+09</td>\n",
       "      <td>0.0</td>\n",
       "    </tr>\n",
       "    <tr>\n",
       "      <th>Current Capital Lease Obligation</th>\n",
       "      <td>2.986000e+08</td>\n",
       "      <td>8.784480e+08</td>\n",
       "      <td>1.005523e+09</td>\n",
       "      <td>1.059661e+09</td>\n",
       "      <td>0.0</td>\n",
       "    </tr>\n",
       "    <tr>\n",
       "      <th>Current Debt</th>\n",
       "      <td>1.638440e+08</td>\n",
       "      <td>3.311510e+08</td>\n",
       "      <td>9.450690e+08</td>\n",
       "      <td>3.805649e+09</td>\n",
       "      <td>0.0</td>\n",
       "    </tr>\n",
       "    <tr>\n",
       "      <th>Other Current Borrowings</th>\n",
       "      <td>1.638440e+08</td>\n",
       "      <td>3.311510e+08</td>\n",
       "      <td>9.450690e+08</td>\n",
       "      <td>3.805649e+09</td>\n",
       "      <td>0.0</td>\n",
       "    </tr>\n",
       "    <tr>\n",
       "      <th>Payables And Accrued Expenses</th>\n",
       "      <td>8.159599e+09</td>\n",
       "      <td>8.551586e+09</td>\n",
       "      <td>9.245927e+09</td>\n",
       "      <td>9.341508e+09</td>\n",
       "      <td>0.0</td>\n",
       "    </tr>\n",
       "    <tr>\n",
       "      <th>Current Accrued Expenses</th>\n",
       "      <td>1.019688e+09</td>\n",
       "      <td>1.276977e+09</td>\n",
       "      <td>1.255348e+09</td>\n",
       "      <td>1.340683e+09</td>\n",
       "      <td>0.0</td>\n",
       "    </tr>\n",
       "    <tr>\n",
       "      <th>Payables</th>\n",
       "      <td>7.139911e+09</td>\n",
       "      <td>7.274609e+09</td>\n",
       "      <td>7.990579e+09</td>\n",
       "      <td>8.000825e+09</td>\n",
       "      <td>0.0</td>\n",
       "    </tr>\n",
       "    <tr>\n",
       "      <th>Other Payable</th>\n",
       "      <td>6.549610e+08</td>\n",
       "      <td>8.539000e+08</td>\n",
       "      <td>0.000000e+00</td>\n",
       "      <td>0.000000e+00</td>\n",
       "      <td>560376000.0</td>\n",
       "    </tr>\n",
       "    <tr>\n",
       "      <th>Dividends Payable</th>\n",
       "      <td>2.942310e+08</td>\n",
       "      <td>2.600000e+05</td>\n",
       "      <td>1.807720e+08</td>\n",
       "      <td>0.000000e+00</td>\n",
       "      <td>0.0</td>\n",
       "    </tr>\n",
       "    <tr>\n",
       "      <th>Total Tax Payable</th>\n",
       "      <td>1.543202e+09</td>\n",
       "      <td>8.984190e+08</td>\n",
       "      <td>1.039228e+09</td>\n",
       "      <td>1.226620e+09</td>\n",
       "      <td>0.0</td>\n",
       "    </tr>\n",
       "    <tr>\n",
       "      <th>Income Tax Payable</th>\n",
       "      <td>9.084420e+08</td>\n",
       "      <td>7.029400e+07</td>\n",
       "      <td>2.727980e+08</td>\n",
       "      <td>4.412530e+08</td>\n",
       "      <td>0.0</td>\n",
       "    </tr>\n",
       "    <tr>\n",
       "      <th>Accounts Payable</th>\n",
       "      <td>4.647517e+09</td>\n",
       "      <td>5.522030e+09</td>\n",
       "      <td>6.770579e+09</td>\n",
       "      <td>6.774205e+09</td>\n",
       "      <td>0.0</td>\n",
       "    </tr>\n",
       "    <tr>\n",
       "      <th>Total Assets</th>\n",
       "      <td>4.274702e+10</td>\n",
       "      <td>5.468539e+10</td>\n",
       "      <td>6.044849e+10</td>\n",
       "      <td>6.091760e+10</td>\n",
       "      <td>0.0</td>\n",
       "    </tr>\n",
       "    <tr>\n",
       "      <th>Total Non Current Assets</th>\n",
       "      <td>2.675979e+10</td>\n",
       "      <td>3.856386e+10</td>\n",
       "      <td>4.306032e+10</td>\n",
       "      <td>4.218278e+10</td>\n",
       "      <td>0.0</td>\n",
       "    </tr>\n",
       "    <tr>\n",
       "      <th>Other Non Current Assets</th>\n",
       "      <td>1.435709e+09</td>\n",
       "      <td>1.709987e+09</td>\n",
       "      <td>2.348335e+09</td>\n",
       "      <td>2.093858e+09</td>\n",
       "      <td>0.0</td>\n",
       "    </tr>\n",
       "    <tr>\n",
       "      <th>Non Current Prepaid Assets</th>\n",
       "      <td>0.000000e+00</td>\n",
       "      <td>0.000000e+00</td>\n",
       "      <td>0.000000e+00</td>\n",
       "      <td>0.000000e+00</td>\n",
       "      <td>337255000.0</td>\n",
       "    </tr>\n",
       "    <tr>\n",
       "      <th>Non Current Deferred Assets</th>\n",
       "      <td>2.200695e+09</td>\n",
       "      <td>3.519515e+09</td>\n",
       "      <td>3.100515e+09</td>\n",
       "      <td>1.339725e+09</td>\n",
       "      <td>0.0</td>\n",
       "    </tr>\n",
       "    <tr>\n",
       "      <th>Non Current Deferred Taxes Assets</th>\n",
       "      <td>2.200695e+09</td>\n",
       "      <td>3.519515e+09</td>\n",
       "      <td>3.100515e+09</td>\n",
       "      <td>1.339725e+09</td>\n",
       "      <td>0.0</td>\n",
       "    </tr>\n",
       "    <tr>\n",
       "      <th>Non Current Accounts Receivable</th>\n",
       "      <td>1.918989e+09</td>\n",
       "      <td>1.356868e+09</td>\n",
       "      <td>1.349624e+09</td>\n",
       "      <td>1.410736e+09</td>\n",
       "      <td>0.0</td>\n",
       "    </tr>\n",
       "    <tr>\n",
       "      <th>Financial Assets</th>\n",
       "      <td>8.945300e+07</td>\n",
       "      <td>7.732510e+08</td>\n",
       "      <td>8.939700e+08</td>\n",
       "      <td>1.768122e+09</td>\n",
       "      <td>0.0</td>\n",
       "    </tr>\n",
       "    <tr>\n",
       "      <th>Investments And Advances</th>\n",
       "      <td>3.669800e+07</td>\n",
       "      <td>3.523500e+07</td>\n",
       "      <td>3.692100e+07</td>\n",
       "      <td>1.610400e+07</td>\n",
       "      <td>0.0</td>\n",
       "    </tr>\n",
       "    <tr>\n",
       "      <th>Other Investments</th>\n",
       "      <td>0.000000e+00</td>\n",
       "      <td>0.000000e+00</td>\n",
       "      <td>0.000000e+00</td>\n",
       "      <td>0.000000e+00</td>\n",
       "      <td>7402000.0</td>\n",
       "    </tr>\n",
       "    <tr>\n",
       "      <th>Investmentin Financial Assets</th>\n",
       "      <td>3.669800e+07</td>\n",
       "      <td>3.523500e+07</td>\n",
       "      <td>3.692100e+07</td>\n",
       "      <td>1.610400e+07</td>\n",
       "      <td>0.0</td>\n",
       "    </tr>\n",
       "    <tr>\n",
       "      <th>Financial Assets Designatedas Fair Value Through Profitor Loss Total</th>\n",
       "      <td>3.669800e+07</td>\n",
       "      <td>3.523500e+07</td>\n",
       "      <td>3.692100e+07</td>\n",
       "      <td>1.610400e+07</td>\n",
       "      <td>0.0</td>\n",
       "    </tr>\n",
       "    <tr>\n",
       "      <th>Goodwill And Other Intangible Assets</th>\n",
       "      <td>1.656987e+10</td>\n",
       "      <td>2.326097e+10</td>\n",
       "      <td>2.685758e+10</td>\n",
       "      <td>2.691713e+10</td>\n",
       "      <td>0.0</td>\n",
       "    </tr>\n",
       "    <tr>\n",
       "      <th>Other Intangible Assets</th>\n",
       "      <td>5.264358e+09</td>\n",
       "      <td>9.181807e+09</td>\n",
       "      <td>1.126808e+10</td>\n",
       "      <td>1.152699e+10</td>\n",
       "      <td>0.0</td>\n",
       "    </tr>\n",
       "    <tr>\n",
       "      <th>Goodwill</th>\n",
       "      <td>1.130551e+10</td>\n",
       "      <td>1.407916e+10</td>\n",
       "      <td>1.558950e+10</td>\n",
       "      <td>1.539014e+10</td>\n",
       "      <td>0.0</td>\n",
       "    </tr>\n",
       "    <tr>\n",
       "      <th>Net PPE</th>\n",
       "      <td>4.508383e+09</td>\n",
       "      <td>7.908037e+09</td>\n",
       "      <td>8.473377e+09</td>\n",
       "      <td>8.637104e+09</td>\n",
       "      <td>0.0</td>\n",
       "    </tr>\n",
       "    <tr>\n",
       "      <th>Accumulated Depreciation</th>\n",
       "      <td>-3.096378e+09</td>\n",
       "      <td>-5.895383e+09</td>\n",
       "      <td>-4.953870e+09</td>\n",
       "      <td>-4.107994e+09</td>\n",
       "      <td>0.0</td>\n",
       "    </tr>\n",
       "    <tr>\n",
       "      <th>Gross PPE</th>\n",
       "      <td>7.604761e+09</td>\n",
       "      <td>1.380342e+10</td>\n",
       "      <td>1.342725e+10</td>\n",
       "      <td>1.274510e+10</td>\n",
       "      <td>0.0</td>\n",
       "    </tr>\n",
       "    <tr>\n",
       "      <th>Leases</th>\n",
       "      <td>1.384330e+08</td>\n",
       "      <td>1.128086e+09</td>\n",
       "      <td>1.128504e+09</td>\n",
       "      <td>9.639570e+08</td>\n",
       "      <td>0.0</td>\n",
       "    </tr>\n",
       "    <tr>\n",
       "      <th>Construction In Progress</th>\n",
       "      <td>4.982950e+08</td>\n",
       "      <td>5.806270e+08</td>\n",
       "      <td>5.614880e+08</td>\n",
       "      <td>4.083850e+08</td>\n",
       "      <td>0.0</td>\n",
       "    </tr>\n",
       "    <tr>\n",
       "      <th>Other Properties</th>\n",
       "      <td>6.030910e+08</td>\n",
       "      <td>3.799005e+09</td>\n",
       "      <td>3.786751e+09</td>\n",
       "      <td>3.704556e+09</td>\n",
       "      <td>0.0</td>\n",
       "    </tr>\n",
       "    <tr>\n",
       "      <th>Machinery Furniture Equipment</th>\n",
       "      <td>3.343959e+09</td>\n",
       "      <td>4.163018e+09</td>\n",
       "      <td>3.796868e+09</td>\n",
       "      <td>3.490578e+09</td>\n",
       "      <td>0.0</td>\n",
       "    </tr>\n",
       "    <tr>\n",
       "      <th>Buildings And Improvements</th>\n",
       "      <td>2.631109e+09</td>\n",
       "      <td>3.487027e+09</td>\n",
       "      <td>3.525263e+09</td>\n",
       "      <td>3.516009e+09</td>\n",
       "      <td>0.0</td>\n",
       "    </tr>\n",
       "    <tr>\n",
       "      <th>Land And Improvements</th>\n",
       "      <td>3.898740e+08</td>\n",
       "      <td>6.456570e+08</td>\n",
       "      <td>6.283730e+08</td>\n",
       "      <td>6.616130e+08</td>\n",
       "      <td>0.0</td>\n",
       "    </tr>\n",
       "    <tr>\n",
       "      <th>Properties</th>\n",
       "      <td>0.000000e+00</td>\n",
       "      <td>0.000000e+00</td>\n",
       "      <td>0.000000e+00</td>\n",
       "      <td>0.000000e+00</td>\n",
       "      <td>0.0</td>\n",
       "    </tr>\n",
       "    <tr>\n",
       "      <th>Current Assets</th>\n",
       "      <td>1.598722e+10</td>\n",
       "      <td>1.612153e+10</td>\n",
       "      <td>1.738816e+10</td>\n",
       "      <td>1.873482e+10</td>\n",
       "      <td>0.0</td>\n",
       "    </tr>\n",
       "    <tr>\n",
       "      <th>Other Current Assets</th>\n",
       "      <td>6.044270e+08</td>\n",
       "      <td>7.633840e+08</td>\n",
       "      <td>9.121600e+08</td>\n",
       "      <td>6.161200e+08</td>\n",
       "      <td>0.0</td>\n",
       "    </tr>\n",
       "    <tr>\n",
       "      <th>Hedging Assets Current</th>\n",
       "      <td>1.889970e+08</td>\n",
       "      <td>2.351140e+08</td>\n",
       "      <td>8.115900e+07</td>\n",
       "      <td>1.398560e+08</td>\n",
       "      <td>0.0</td>\n",
       "    </tr>\n",
       "    <tr>\n",
       "      <th>Assets Held For Sale Current</th>\n",
       "      <td>0.000000e+00</td>\n",
       "      <td>5.100000e+04</td>\n",
       "      <td>5.292100e+07</td>\n",
       "      <td>1.812790e+08</td>\n",
       "      <td>0.0</td>\n",
       "    </tr>\n",
       "    <tr>\n",
       "      <th>Inventory</th>\n",
       "      <td>3.087395e+09</td>\n",
       "      <td>4.516874e+09</td>\n",
       "      <td>5.403526e+09</td>\n",
       "      <td>4.544270e+09</td>\n",
       "      <td>0.0</td>\n",
       "    </tr>\n",
       "    <tr>\n",
       "      <th>Inventories Adjustments Allowances</th>\n",
       "      <td>-4.520920e+08</td>\n",
       "      <td>-4.919590e+08</td>\n",
       "      <td>-6.159450e+08</td>\n",
       "      <td>-6.023140e+08</td>\n",
       "      <td>0.0</td>\n",
       "    </tr>\n",
       "    <tr>\n",
       "      <th>Finished Goods</th>\n",
       "      <td>2.390999e+09</td>\n",
       "      <td>3.634068e+09</td>\n",
       "      <td>4.619237e+09</td>\n",
       "      <td>3.925215e+09</td>\n",
       "      <td>0.0</td>\n",
       "    </tr>\n",
       "    <tr>\n",
       "      <th>Work In Process</th>\n",
       "      <td>4.160400e+07</td>\n",
       "      <td>6.884900e+07</td>\n",
       "      <td>3.818900e+07</td>\n",
       "      <td>3.602500e+07</td>\n",
       "      <td>0.0</td>\n",
       "    </tr>\n",
       "    <tr>\n",
       "      <th>Raw Materials</th>\n",
       "      <td>1.106884e+09</td>\n",
       "      <td>1.305916e+09</td>\n",
       "      <td>1.362045e+09</td>\n",
       "      <td>1.185344e+09</td>\n",
       "      <td>0.0</td>\n",
       "    </tr>\n",
       "    <tr>\n",
       "      <th>Receivables</th>\n",
       "      <td>4.331403e+09</td>\n",
       "      <td>4.609952e+09</td>\n",
       "      <td>4.952402e+09</td>\n",
       "      <td>4.910975e+09</td>\n",
       "      <td>0.0</td>\n",
       "    </tr>\n",
       "    <tr>\n",
       "      <th>Other Receivables</th>\n",
       "      <td>2.291500e+07</td>\n",
       "      <td>0.000000e+00</td>\n",
       "      <td>0.000000e+00</td>\n",
       "      <td>0.000000e+00</td>\n",
       "      <td>0.0</td>\n",
       "    </tr>\n",
       "    <tr>\n",
       "      <th>Taxes Receivable</th>\n",
       "      <td>7.840930e+08</td>\n",
       "      <td>1.107553e+09</td>\n",
       "      <td>1.476043e+09</td>\n",
       "      <td>1.313440e+09</td>\n",
       "      <td>0.0</td>\n",
       "    </tr>\n",
       "    <tr>\n",
       "      <th>Accounts Receivable</th>\n",
       "      <td>3.524395e+09</td>\n",
       "      <td>3.502399e+09</td>\n",
       "      <td>3.476359e+09</td>\n",
       "      <td>3.597535e+09</td>\n",
       "      <td>0.0</td>\n",
       "    </tr>\n",
       "    <tr>\n",
       "      <th>Allowance For Doubtful Accounts Receivable</th>\n",
       "      <td>-3.694850e+08</td>\n",
       "      <td>-4.311510e+08</td>\n",
       "      <td>-4.539810e+08</td>\n",
       "      <td>-4.321080e+08</td>\n",
       "      <td>0.0</td>\n",
       "    </tr>\n",
       "    <tr>\n",
       "      <th>Gross Accounts Receivable</th>\n",
       "      <td>3.893880e+09</td>\n",
       "      <td>3.933550e+09</td>\n",
       "      <td>3.930340e+09</td>\n",
       "      <td>4.029643e+09</td>\n",
       "      <td>0.0</td>\n",
       "    </tr>\n",
       "    <tr>\n",
       "      <th>Cash Cash Equivalents And Short Term Investments</th>\n",
       "      <td>7.775000e+09</td>\n",
       "      <td>5.996152e+09</td>\n",
       "      <td>5.985997e+09</td>\n",
       "      <td>8.342320e+09</td>\n",
       "      <td>0.0</td>\n",
       "    </tr>\n",
       "    <tr>\n",
       "      <th>Other Short Term Investments</th>\n",
       "      <td>4.024056e+09</td>\n",
       "      <td>1.800439e+09</td>\n",
       "      <td>1.978740e+09</td>\n",
       "      <td>2.520648e+09</td>\n",
       "      <td>0.0</td>\n",
       "    </tr>\n",
       "    <tr>\n",
       "      <th>Cash And Cash Equivalents</th>\n",
       "      <td>3.750944e+09</td>\n",
       "      <td>4.195713e+09</td>\n",
       "      <td>4.007257e+09</td>\n",
       "      <td>5.821672e+09</td>\n",
       "      <td>0.0</td>\n",
       "    </tr>\n",
       "    <tr>\n",
       "      <th>Cash Equivalents</th>\n",
       "      <td>1.637378e+09</td>\n",
       "      <td>1.290905e+09</td>\n",
       "      <td>6.578590e+08</td>\n",
       "      <td>1.385096e+09</td>\n",
       "      <td>0.0</td>\n",
       "    </tr>\n",
       "    <tr>\n",
       "      <th>Cash Financial</th>\n",
       "      <td>2.113566e+09</td>\n",
       "      <td>2.904808e+09</td>\n",
       "      <td>3.349398e+09</td>\n",
       "      <td>4.436576e+09</td>\n",
       "      <td>0.0</td>\n",
       "    </tr>\n",
       "  </tbody>\n",
       "</table>\n",
       "</div>"
      ],
      "text/plain": [
       "                                                      2023-12-31  \\\n",
       "Treasury Shares Number                              6.204048e+06   \n",
       "Ordinary Shares Number                              1.380644e+09   \n",
       "Share Issued                                        1.386848e+09   \n",
       "Net Debt                                            2.360758e+09   \n",
       "Total Debt                                          7.262142e+09   \n",
       "Tangible Book Value                                 6.533373e+09   \n",
       "Invested Capital                                    2.921494e+10   \n",
       "Working Capital                                     5.573723e+09   \n",
       "Net Tangible Assets                                 6.533373e+09   \n",
       "Capital Lease Obligations                           1.150440e+09   \n",
       "Common Stock Equity                                 2.310324e+10   \n",
       "Total Capitalization                                2.905110e+10   \n",
       "Total Equity Gross Minority Interest                2.312046e+10   \n",
       "Minority Interest                                   1.722600e+07   \n",
       "Stockholders Equity                                 2.310324e+10   \n",
       "Other Equity Interest                               0.000000e+00   \n",
       "Gains Losses Not Affecting Retained Earnings        5.864520e+08   \n",
       "Other Equity Adjustments                            5.864520e+08   \n",
       "Treasury Stock                                      1.642360e+08   \n",
       "Retained Earnings                                   0.000000e+00   \n",
       "Additional Paid In Capital                          1.019651e+10   \n",
       "Capital Stock                                       1.248452e+10   \n",
       "Common Stock                                        1.248452e+10   \n",
       "Total Liabilities Net Minority Interest             1.962655e+10   \n",
       "Total Non Current Liabilities Net Minority Inte...  9.213051e+09   \n",
       "Other Non Current Liabilities                       6.865330e+08   \n",
       "Derivative Product Liabilities                      0.000000e+00   \n",
       "Non Current Accrued Expenses                        1.606900e+07   \n",
       "Tradeand Other Payables Non Current                 5.073700e+08   \n",
       "Non Current Deferred Liabilities                    1.203381e+09   \n",
       "Non Current Deferred Taxes Liabilities              1.203381e+09   \n",
       "Long Term Debt And Capital Lease Obligation         6.799698e+09   \n",
       "Long Term Capital Lease Obligation                  8.518400e+08   \n",
       "Long Term Debt                                      5.947858e+09   \n",
       "Current Liabilities                                 1.041350e+10   \n",
       "Other Current Liabilities                           1.300155e+09   \n",
       "Current Deferred Liabilities                        4.913010e+08   \n",
       "Current Deferred Taxes Liabilities                  4.913010e+08   \n",
       "Current Debt And Capital Lease Obligation           4.624440e+08   \n",
       "Current Capital Lease Obligation                    2.986000e+08   \n",
       "Current Debt                                        1.638440e+08   \n",
       "Other Current Borrowings                            1.638440e+08   \n",
       "Payables And Accrued Expenses                       8.159599e+09   \n",
       "Current Accrued Expenses                            1.019688e+09   \n",
       "Payables                                            7.139911e+09   \n",
       "Other Payable                                       6.549610e+08   \n",
       "Dividends Payable                                   2.942310e+08   \n",
       "Total Tax Payable                                   1.543202e+09   \n",
       "Income Tax Payable                                  9.084420e+08   \n",
       "Accounts Payable                                    4.647517e+09   \n",
       "Total Assets                                        4.274702e+10   \n",
       "Total Non Current Assets                            2.675979e+10   \n",
       "Other Non Current Assets                            1.435709e+09   \n",
       "Non Current Prepaid Assets                          0.000000e+00   \n",
       "Non Current Deferred Assets                         2.200695e+09   \n",
       "Non Current Deferred Taxes Assets                   2.200695e+09   \n",
       "Non Current Accounts Receivable                     1.918989e+09   \n",
       "Financial Assets                                    8.945300e+07   \n",
       "Investments And Advances                            3.669800e+07   \n",
       "Other Investments                                   0.000000e+00   \n",
       "Investmentin Financial Assets                       3.669800e+07   \n",
       "Financial Assets Designatedas Fair Value Throug...  3.669800e+07   \n",
       "Goodwill And Other Intangible Assets                1.656987e+10   \n",
       "Other Intangible Assets                             5.264358e+09   \n",
       "Goodwill                                            1.130551e+10   \n",
       "Net PPE                                             4.508383e+09   \n",
       "Accumulated Depreciation                           -3.096378e+09   \n",
       "Gross PPE                                           7.604761e+09   \n",
       "Leases                                              1.384330e+08   \n",
       "Construction In Progress                            4.982950e+08   \n",
       "Other Properties                                    6.030910e+08   \n",
       "Machinery Furniture Equipment                       3.343959e+09   \n",
       "Buildings And Improvements                          2.631109e+09   \n",
       "Land And Improvements                               3.898740e+08   \n",
       "Properties                                          0.000000e+00   \n",
       "Current Assets                                      1.598722e+10   \n",
       "Other Current Assets                                6.044270e+08   \n",
       "Hedging Assets Current                              1.889970e+08   \n",
       "Assets Held For Sale Current                        0.000000e+00   \n",
       "Inventory                                           3.087395e+09   \n",
       "Inventories Adjustments Allowances                 -4.520920e+08   \n",
       "Finished Goods                                      2.390999e+09   \n",
       "Work In Process                                     4.160400e+07   \n",
       "Raw Materials                                       1.106884e+09   \n",
       "Receivables                                         4.331403e+09   \n",
       "Other Receivables                                   2.291500e+07   \n",
       "Taxes Receivable                                    7.840930e+08   \n",
       "Accounts Receivable                                 3.524395e+09   \n",
       "Allowance For Doubtful Accounts Receivable         -3.694850e+08   \n",
       "Gross Accounts Receivable                           3.893880e+09   \n",
       "Cash Cash Equivalents And Short Term Investments    7.775000e+09   \n",
       "Other Short Term Investments                        4.024056e+09   \n",
       "Cash And Cash Equivalents                           3.750944e+09   \n",
       "Cash Equivalents                                    1.637378e+09   \n",
       "Cash Financial                                      2.113566e+09   \n",
       "\n",
       "                                                      2022-12-31  \\\n",
       "Treasury Shares Number                              9.913855e+06   \n",
       "Ordinary Shares Number                              1.373239e+09   \n",
       "Share Issued                                        1.383153e+09   \n",
       "Net Debt                                            9.396573e+09   \n",
       "Total Debt                                          1.686302e+10   \n",
       "Tangible Book Value                                -9.282360e+08   \n",
       "Invested Capital                                    3.592502e+10   \n",
       "Working Capital                                     2.783659e+09   \n",
       "Net Tangible Assets                                -9.282360e+08   \n",
       "Capital Lease Obligations                           3.270737e+09   \n",
       "Common Stock Equity                                 2.233273e+10   \n",
       "Total Capitalization                                3.559387e+10   \n",
       "Total Equity Gross Minority Interest                2.235118e+10   \n",
       "Minority Interest                                   1.845000e+07   \n",
       "Stockholders Equity                                 2.233273e+10   \n",
       "Other Equity Interest                               0.000000e+00   \n",
       "Gains Losses Not Affecting Retained Earnings        1.834333e+09   \n",
       "Other Equity Adjustments                            1.834333e+09   \n",
       "Treasury Stock                                      2.623600e+08   \n",
       "Retained Earnings                                  -1.994555e+09   \n",
       "Additional Paid In Capital                          1.027089e+10   \n",
       "Capital Stock                                       1.248442e+10   \n",
       "Common Stock                                        1.248442e+10   \n",
       "Total Liabilities Net Minority Interest             3.233421e+10   \n",
       "Total Non Current Liabilities Net Minority Inte...  1.899634e+10   \n",
       "Other Non Current Liabilities                       7.515660e+08   \n",
       "Derivative Product Liabilities                      1.912740e+08   \n",
       "Non Current Accrued Expenses                        2.615200e+07   \n",
       "Tradeand Other Payables Non Current                 5.658900e+08   \n",
       "Non Current Deferred Liabilities                    1.808032e+09   \n",
       "Non Current Deferred Taxes Liabilities              1.808032e+09   \n",
       "Long Term Debt And Capital Lease Obligation         1.565342e+10   \n",
       "Long Term Capital Lease Obligation                  2.392289e+09   \n",
       "Long Term Debt                                      1.326114e+10   \n",
       "Current Liabilities                                 1.333787e+10   \n",
       "Other Current Liabilities                           3.113028e+09   \n",
       "Current Deferred Liabilities                        4.636550e+08   \n",
       "Current Deferred Taxes Liabilities                  4.636550e+08   \n",
       "Current Debt And Capital Lease Obligation           1.209599e+09   \n",
       "Current Capital Lease Obligation                    8.784480e+08   \n",
       "Current Debt                                        3.311510e+08   \n",
       "Other Current Borrowings                            3.311510e+08   \n",
       "Payables And Accrued Expenses                       8.551586e+09   \n",
       "Current Accrued Expenses                            1.276977e+09   \n",
       "Payables                                            7.274609e+09   \n",
       "Other Payable                                       8.539000e+08   \n",
       "Dividends Payable                                   2.600000e+05   \n",
       "Total Tax Payable                                   8.984190e+08   \n",
       "Income Tax Payable                                  7.029400e+07   \n",
       "Accounts Payable                                    5.522030e+09   \n",
       "Total Assets                                        5.468539e+10   \n",
       "Total Non Current Assets                            3.856386e+10   \n",
       "Other Non Current Assets                            1.709987e+09   \n",
       "Non Current Prepaid Assets                          0.000000e+00   \n",
       "Non Current Deferred Assets                         3.519515e+09   \n",
       "Non Current Deferred Taxes Assets                   3.519515e+09   \n",
       "Non Current Accounts Receivable                     1.356868e+09   \n",
       "Financial Assets                                    7.732510e+08   \n",
       "Investments And Advances                            3.523500e+07   \n",
       "Other Investments                                   0.000000e+00   \n",
       "Investmentin Financial Assets                       3.523500e+07   \n",
       "Financial Assets Designatedas Fair Value Throug...  3.523500e+07   \n",
       "Goodwill And Other Intangible Assets                2.326097e+10   \n",
       "Other Intangible Assets                             9.181807e+09   \n",
       "Goodwill                                            1.407916e+10   \n",
       "Net PPE                                             7.908037e+09   \n",
       "Accumulated Depreciation                           -5.895383e+09   \n",
       "Gross PPE                                           1.380342e+10   \n",
       "Leases                                              1.128086e+09   \n",
       "Construction In Progress                            5.806270e+08   \n",
       "Other Properties                                    3.799005e+09   \n",
       "Machinery Furniture Equipment                       4.163018e+09   \n",
       "Buildings And Improvements                          3.487027e+09   \n",
       "Land And Improvements                               6.456570e+08   \n",
       "Properties                                          0.000000e+00   \n",
       "Current Assets                                      1.612153e+10   \n",
       "Other Current Assets                                7.633840e+08   \n",
       "Hedging Assets Current                              2.351140e+08   \n",
       "Assets Held For Sale Current                        5.100000e+04   \n",
       "Inventory                                           4.516874e+09   \n",
       "Inventories Adjustments Allowances                 -4.919590e+08   \n",
       "Finished Goods                                      3.634068e+09   \n",
       "Work In Process                                     6.884900e+07   \n",
       "Raw Materials                                       1.305916e+09   \n",
       "Receivables                                         4.609952e+09   \n",
       "Other Receivables                                   0.000000e+00   \n",
       "Taxes Receivable                                    1.107553e+09   \n",
       "Accounts Receivable                                 3.502399e+09   \n",
       "Allowance For Doubtful Accounts Receivable         -4.311510e+08   \n",
       "Gross Accounts Receivable                           3.933550e+09   \n",
       "Cash Cash Equivalents And Short Term Investments    5.996152e+09   \n",
       "Other Short Term Investments                        1.800439e+09   \n",
       "Cash And Cash Equivalents                           4.195713e+09   \n",
       "Cash Equivalents                                    1.290905e+09   \n",
       "Cash Financial                                      2.904808e+09   \n",
       "\n",
       "                                                      2021-12-31  \\\n",
       "Treasury Shares Number                              4.899540e+06   \n",
       "Ordinary Shares Number                              1.374685e+09   \n",
       "Share Issued                                        1.379585e+09   \n",
       "Net Debt                                            8.709575e+09   \n",
       "Total Debt                                          1.626469e+10   \n",
       "Tangible Book Value                                 1.687987e+09   \n",
       "Invested Capital                                    4.126240e+10   \n",
       "Working Capital                                     3.786947e+09   \n",
       "Net Tangible Assets                                 1.687987e+09   \n",
       "Capital Lease Obligations                           3.547862e+09   \n",
       "Common Stock Equity                                 2.854557e+10   \n",
       "Total Capitalization                                4.031733e+10   \n",
       "Total Equity Gross Minority Interest                2.856672e+10   \n",
       "Minority Interest                                   2.115500e+07   \n",
       "Stockholders Equity                                 2.854557e+10   \n",
       "Other Equity Interest                               4.865202e+09   \n",
       "Gains Losses Not Affecting Retained Earnings        1.621523e+10   \n",
       "Other Equity Adjustments                            1.621523e+10   \n",
       "Treasury Stock                                      1.513420e+08   \n",
       "Retained Earnings                                   0.000000e+00   \n",
       "Additional Paid In Capital                          0.000000e+00   \n",
       "Capital Stock                                       1.248168e+10   \n",
       "Common Stock                                        1.248168e+10   \n",
       "Total Liabilities Net Minority Interest             3.188176e+10   \n",
       "Total Non Current Liabilities Net Minority Inte...  1.828055e+10   \n",
       "Other Non Current Liabilities                       9.424560e+08   \n",
       "Derivative Product Liabilities                      0.000000e+00   \n",
       "Non Current Accrued Expenses                        5.374800e+07   \n",
       "Tradeand Other Payables Non Current                 8.878550e+08   \n",
       "Non Current Deferred Liabilities                    2.082386e+09   \n",
       "Non Current Deferred Taxes Liabilities              2.082386e+09   \n",
       "Long Term Debt And Capital Lease Obligation         1.431410e+10   \n",
       "Long Term Capital Lease Obligation                  2.542339e+09   \n",
       "Long Term Debt                                      1.177176e+10   \n",
       "Current Liabilities                                 1.360122e+10   \n",
       "Other Current Liabilities                           2.174602e+09   \n",
       "Current Deferred Liabilities                        2.300970e+08   \n",
       "Current Deferred Taxes Liabilities                  2.300970e+08   \n",
       "Current Debt And Capital Lease Obligation           1.950592e+09   \n",
       "Current Capital Lease Obligation                    1.005523e+09   \n",
       "Current Debt                                        9.450690e+08   \n",
       "Other Current Borrowings                            9.450690e+08   \n",
       "Payables And Accrued Expenses                       9.245927e+09   \n",
       "Current Accrued Expenses                            1.255348e+09   \n",
       "Payables                                            7.990579e+09   \n",
       "Other Payable                                       0.000000e+00   \n",
       "Dividends Payable                                   1.807720e+08   \n",
       "Total Tax Payable                                   1.039228e+09   \n",
       "Income Tax Payable                                  2.727980e+08   \n",
       "Accounts Payable                                    6.770579e+09   \n",
       "Total Assets                                        6.044849e+10   \n",
       "Total Non Current Assets                            4.306032e+10   \n",
       "Other Non Current Assets                            2.348335e+09   \n",
       "Non Current Prepaid Assets                          0.000000e+00   \n",
       "Non Current Deferred Assets                         3.100515e+09   \n",
       "Non Current Deferred Taxes Assets                   3.100515e+09   \n",
       "Non Current Accounts Receivable                     1.349624e+09   \n",
       "Financial Assets                                    8.939700e+08   \n",
       "Investments And Advances                            3.692100e+07   \n",
       "Other Investments                                   0.000000e+00   \n",
       "Investmentin Financial Assets                       3.692100e+07   \n",
       "Financial Assets Designatedas Fair Value Throug...  3.692100e+07   \n",
       "Goodwill And Other Intangible Assets                2.685758e+10   \n",
       "Other Intangible Assets                             1.126808e+10   \n",
       "Goodwill                                            1.558950e+10   \n",
       "Net PPE                                             8.473377e+09   \n",
       "Accumulated Depreciation                           -4.953870e+09   \n",
       "Gross PPE                                           1.342725e+10   \n",
       "Leases                                              1.128504e+09   \n",
       "Construction In Progress                            5.614880e+08   \n",
       "Other Properties                                    3.786751e+09   \n",
       "Machinery Furniture Equipment                       3.796868e+09   \n",
       "Buildings And Improvements                          3.525263e+09   \n",
       "Land And Improvements                               6.283730e+08   \n",
       "Properties                                          0.000000e+00   \n",
       "Current Assets                                      1.738816e+10   \n",
       "Other Current Assets                                9.121600e+08   \n",
       "Hedging Assets Current                              8.115900e+07   \n",
       "Assets Held For Sale Current                        5.292100e+07   \n",
       "Inventory                                           5.403526e+09   \n",
       "Inventories Adjustments Allowances                 -6.159450e+08   \n",
       "Finished Goods                                      4.619237e+09   \n",
       "Work In Process                                     3.818900e+07   \n",
       "Raw Materials                                       1.362045e+09   \n",
       "Receivables                                         4.952402e+09   \n",
       "Other Receivables                                   0.000000e+00   \n",
       "Taxes Receivable                                    1.476043e+09   \n",
       "Accounts Receivable                                 3.476359e+09   \n",
       "Allowance For Doubtful Accounts Receivable         -4.539810e+08   \n",
       "Gross Accounts Receivable                           3.930340e+09   \n",
       "Cash Cash Equivalents And Short Term Investments    5.985997e+09   \n",
       "Other Short Term Investments                        1.978740e+09   \n",
       "Cash And Cash Equivalents                           4.007257e+09   \n",
       "Cash Equivalents                                    6.578590e+08   \n",
       "Cash Financial                                      3.349398e+09   \n",
       "\n",
       "                                                      2020-12-31   2019-12-31  \n",
       "Treasury Shares Number                              3.167010e+05          0.0  \n",
       "Ordinary Shares Number                              1.375159e+09          0.0  \n",
       "Share Issued                                        1.375475e+09          0.0  \n",
       "Net Debt                                            8.001241e+09          0.0  \n",
       "Total Debt                                          1.768137e+10          0.0  \n",
       "Tangible Book Value                                 4.471990e+08          0.0  \n",
       "Invested Capital                                    4.118724e+10          0.0  \n",
       "Working Capital                                     2.575234e+09          0.0  \n",
       "Net Tangible Assets                                 4.471990e+08          0.0  \n",
       "Capital Lease Obligations                           3.858455e+09          0.0  \n",
       "Common Stock Equity                                 2.736433e+10          0.0  \n",
       "Total Capitalization                                3.738159e+10          0.0  \n",
       "Total Equity Gross Minority Interest                2.738711e+10          0.0  \n",
       "Minority Interest                                   2.278100e+07          0.0  \n",
       "Stockholders Equity                                 2.736433e+10          0.0  \n",
       "Other Equity Interest                               4.585631e+09  815005000.0  \n",
       "Gains Losses Not Affecting Retained Earnings        1.117230e+10          0.0  \n",
       "Other Equity Adjustments                            1.117230e+10          0.0  \n",
       "Treasury Stock                                      1.166700e+07          0.0  \n",
       "Retained Earnings                                  -7.599370e+08          0.0  \n",
       "Additional Paid In Capital                          0.000000e+00          0.0  \n",
       "Capital Stock                                       1.237800e+10          0.0  \n",
       "Common Stock                                        1.237800e+10          0.0  \n",
       "Total Liabilities Net Minority Interest             3.353049e+10          0.0  \n",
       "Total Non Current Liabilities Net Minority Inte...  1.737090e+10          0.0  \n",
       "Other Non Current Liabilities                       1.113139e+09          0.0  \n",
       "Derivative Product Liabilities                      0.000000e+00          0.0  \n",
       "Non Current Accrued Expenses                        4.376300e+07          0.0  \n",
       "Tradeand Other Payables Non Current                 1.094540e+08          0.0  \n",
       "Non Current Deferred Liabilities                    3.288489e+09          0.0  \n",
       "Non Current Deferred Taxes Liabilities              3.288489e+09          0.0  \n",
       "Long Term Debt And Capital Lease Obligation         1.281606e+10          0.0  \n",
       "Long Term Capital Lease Obligation                  2.798794e+09          0.0  \n",
       "Long Term Debt                                      1.001726e+10          0.0  \n",
       "Current Liabilities                                 1.615959e+10          0.0  \n",
       "Other Current Liabilities                           1.753035e+09          0.0  \n",
       "Current Deferred Liabilities                        1.997330e+08          0.0  \n",
       "Current Deferred Taxes Liabilities                  1.997330e+08          0.0  \n",
       "Current Debt And Capital Lease Obligation           4.865310e+09          0.0  \n",
       "Current Capital Lease Obligation                    1.059661e+09          0.0  \n",
       "Current Debt                                        3.805649e+09          0.0  \n",
       "Other Current Borrowings                            3.805649e+09          0.0  \n",
       "Payables And Accrued Expenses                       9.341508e+09          0.0  \n",
       "Current Accrued Expenses                            1.340683e+09          0.0  \n",
       "Payables                                            8.000825e+09          0.0  \n",
       "Other Payable                                       0.000000e+00  560376000.0  \n",
       "Dividends Payable                                   0.000000e+00          0.0  \n",
       "Total Tax Payable                                   1.226620e+09          0.0  \n",
       "Income Tax Payable                                  4.412530e+08          0.0  \n",
       "Accounts Payable                                    6.774205e+09          0.0  \n",
       "Total Assets                                        6.091760e+10          0.0  \n",
       "Total Non Current Assets                            4.218278e+10          0.0  \n",
       "Other Non Current Assets                            2.093858e+09          0.0  \n",
       "Non Current Prepaid Assets                          0.000000e+00  337255000.0  \n",
       "Non Current Deferred Assets                         1.339725e+09          0.0  \n",
       "Non Current Deferred Taxes Assets                   1.339725e+09          0.0  \n",
       "Non Current Accounts Receivable                     1.410736e+09          0.0  \n",
       "Financial Assets                                    1.768122e+09          0.0  \n",
       "Investments And Advances                            1.610400e+07          0.0  \n",
       "Other Investments                                   0.000000e+00    7402000.0  \n",
       "Investmentin Financial Assets                       1.610400e+07          0.0  \n",
       "Financial Assets Designatedas Fair Value Throug...  1.610400e+07          0.0  \n",
       "Goodwill And Other Intangible Assets                2.691713e+10          0.0  \n",
       "Other Intangible Assets                             1.152699e+10          0.0  \n",
       "Goodwill                                            1.539014e+10          0.0  \n",
       "Net PPE                                             8.637104e+09          0.0  \n",
       "Accumulated Depreciation                           -4.107994e+09          0.0  \n",
       "Gross PPE                                           1.274510e+10          0.0  \n",
       "Leases                                              9.639570e+08          0.0  \n",
       "Construction In Progress                            4.083850e+08          0.0  \n",
       "Other Properties                                    3.704556e+09          0.0  \n",
       "Machinery Furniture Equipment                       3.490578e+09          0.0  \n",
       "Buildings And Improvements                          3.516009e+09          0.0  \n",
       "Land And Improvements                               6.616130e+08          0.0  \n",
       "Properties                                          0.000000e+00          0.0  \n",
       "Current Assets                                      1.873482e+10          0.0  \n",
       "Other Current Assets                                6.161200e+08          0.0  \n",
       "Hedging Assets Current                              1.398560e+08          0.0  \n",
       "Assets Held For Sale Current                        1.812790e+08          0.0  \n",
       "Inventory                                           4.544270e+09          0.0  \n",
       "Inventories Adjustments Allowances                 -6.023140e+08          0.0  \n",
       "Finished Goods                                      3.925215e+09          0.0  \n",
       "Work In Process                                     3.602500e+07          0.0  \n",
       "Raw Materials                                       1.185344e+09          0.0  \n",
       "Receivables                                         4.910975e+09          0.0  \n",
       "Other Receivables                                   0.000000e+00          0.0  \n",
       "Taxes Receivable                                    1.313440e+09          0.0  \n",
       "Accounts Receivable                                 3.597535e+09          0.0  \n",
       "Allowance For Doubtful Accounts Receivable         -4.321080e+08          0.0  \n",
       "Gross Accounts Receivable                           4.029643e+09          0.0  \n",
       "Cash Cash Equivalents And Short Term Investments    8.342320e+09          0.0  \n",
       "Other Short Term Investments                        2.520648e+09          0.0  \n",
       "Cash And Cash Equivalents                           5.821672e+09          0.0  \n",
       "Cash Equivalents                                    1.385096e+09          0.0  \n",
       "Cash Financial                                      4.436576e+09          0.0  "
      ]
     },
     "metadata": {},
     "output_type": "display_data"
    }
   ],
   "source": [
    "for empresas in empresas_valores:\n",
    "    print(F\"Balanço Patrimonial da {empresas}\")\n",
    "    display(empresas.balancesheet.fillna(0))"
   ]
  },
  {
   "cell_type": "code",
   "execution_count": 106,
   "metadata": {},
   "outputs": [
    {
     "data": {
      "text/plain": [
       "715465009.0"
      ]
     },
     "execution_count": 106,
     "metadata": {},
     "output_type": "execute_result"
    }
   ],
   "source": [
    "Magazine_luiza.balance_sheet.loc[\"Share Issued\", \"2023-12-31\"] - Magazine_luiza.balance_sheet.loc[\"Treasury Shares Number\", \"2023-12-31\"]\n",
    "\n"
   ]
  },
  {
   "cell_type": "code",
   "execution_count": 107,
   "metadata": {},
   "outputs": [
    {
     "data": {
      "text/html": [
       "<div>\n",
       "<style scoped>\n",
       "    .dataframe tbody tr th:only-of-type {\n",
       "        vertical-align: middle;\n",
       "    }\n",
       "\n",
       "    .dataframe tbody tr th {\n",
       "        vertical-align: top;\n",
       "    }\n",
       "\n",
       "    .dataframe thead th {\n",
       "        text-align: right;\n",
       "    }\n",
       "</style>\n",
       "<table border=\"1\" class=\"dataframe\">\n",
       "  <thead>\n",
       "    <tr style=\"text-align: right;\">\n",
       "      <th></th>\n",
       "      <th>2023-12-31</th>\n",
       "      <th>2022-12-31</th>\n",
       "      <th>2021-12-31</th>\n",
       "      <th>2020-12-31</th>\n",
       "      <th>2019-12-31</th>\n",
       "    </tr>\n",
       "  </thead>\n",
       "  <tbody>\n",
       "    <tr>\n",
       "      <th>Treasury Shares Number</th>\n",
       "      <td>6095820.0</td>\n",
       "      <td>7666266.0</td>\n",
       "      <td>8917611.0</td>\n",
       "      <td>3799722.0</td>\n",
       "      <td>NaN</td>\n",
       "    </tr>\n",
       "    <tr>\n",
       "      <th>Ordinary Shares Number</th>\n",
       "      <td>715465009.0</td>\n",
       "      <td>713894564.0</td>\n",
       "      <td>712643218.0</td>\n",
       "      <td>691032383.0</td>\n",
       "      <td>NaN</td>\n",
       "    </tr>\n",
       "    <tr>\n",
       "      <th>Share Issued</th>\n",
       "      <td>721560829.0</td>\n",
       "      <td>721560830.0</td>\n",
       "      <td>721560829.0</td>\n",
       "      <td>694832105.0</td>\n",
       "      <td>NaN</td>\n",
       "    </tr>\n",
       "    <tr>\n",
       "      <th>Net Debt</th>\n",
       "      <td>4761509000.0</td>\n",
       "      <td>4688712000.0</td>\n",
       "      <td>4226654000.0</td>\n",
       "      <td>5386000.0</td>\n",
       "      <td>NaN</td>\n",
       "    </tr>\n",
       "    <tr>\n",
       "      <th>Total Debt</th>\n",
       "      <td>10933010000.0</td>\n",
       "      <td>10802273000.0</td>\n",
       "      <td>10247550000.0</td>\n",
       "      <td>4213066000.0</td>\n",
       "      <td>NaN</td>\n",
       "    </tr>\n",
       "    <tr>\n",
       "      <th>Tangible Book Value</th>\n",
       "      <td>5105727000.0</td>\n",
       "      <td>6221191000.0</td>\n",
       "      <td>6954644000.0</td>\n",
       "      <td>5438290000.0</td>\n",
       "      <td>NaN</td>\n",
       "    </tr>\n",
       "    <tr>\n",
       "      <th>Invested Capital</th>\n",
       "      <td>16965389000.0</td>\n",
       "      <td>17757458000.0</td>\n",
       "      <td>18054103000.0</td>\n",
       "      <td>9012049000.0</td>\n",
       "      <td>NaN</td>\n",
       "    </tr>\n",
       "    <tr>\n",
       "      <th>Working Capital</th>\n",
       "      <td>2813036000.0</td>\n",
       "      <td>7105211000.0</td>\n",
       "      <td>9252621000.0</td>\n",
       "      <td>3382665000.0</td>\n",
       "      <td>NaN</td>\n",
       "    </tr>\n",
       "    <tr>\n",
       "      <th>Net Tangible Assets</th>\n",
       "      <td>5105727000.0</td>\n",
       "      <td>6221191000.0</td>\n",
       "      <td>6954644000.0</td>\n",
       "      <td>5438290000.0</td>\n",
       "      <td>NaN</td>\n",
       "    </tr>\n",
       "    <tr>\n",
       "      <th>Capital Lease Obligations</th>\n",
       "      <td>3578155000.0</td>\n",
       "      <td>3693516000.0</td>\n",
       "      <td>3454678000.0</td>\n",
       "      <td>2526304000.0</td>\n",
       "      <td>NaN</td>\n",
       "    </tr>\n",
       "    <tr>\n",
       "      <th>Common Stock Equity</th>\n",
       "      <td>9610534000.0</td>\n",
       "      <td>10648701000.0</td>\n",
       "      <td>11261231000.0</td>\n",
       "      <td>7325287000.0</td>\n",
       "      <td>NaN</td>\n",
       "    </tr>\n",
       "    <tr>\n",
       "      <th>Total Capitalization</th>\n",
       "      <td>14011042000.0</td>\n",
       "      <td>17633161000.0</td>\n",
       "      <td>17646135000.0</td>\n",
       "      <td>7344868000.0</td>\n",
       "      <td>NaN</td>\n",
       "    </tr>\n",
       "    <tr>\n",
       "      <th>Total Equity Gross Minority Interest</th>\n",
       "      <td>9610534000.0</td>\n",
       "      <td>10648701000.0</td>\n",
       "      <td>11261231000.0</td>\n",
       "      <td>7325287000.0</td>\n",
       "      <td>NaN</td>\n",
       "    </tr>\n",
       "    <tr>\n",
       "      <th>Stockholders Equity</th>\n",
       "      <td>9610534000.0</td>\n",
       "      <td>10648701000.0</td>\n",
       "      <td>11261231000.0</td>\n",
       "      <td>7325287000.0</td>\n",
       "      <td>NaN</td>\n",
       "    </tr>\n",
       "    <tr>\n",
       "      <th>Other Equity Interest</th>\n",
       "      <td>-121382000.0</td>\n",
       "      <td>2012000.0</td>\n",
       "      <td>840000.0</td>\n",
       "      <td>11151000.0</td>\n",
       "      <td>NaN</td>\n",
       "    </tr>\n",
       "    <tr>\n",
       "      <th>Treasury Stock</th>\n",
       "      <td>990603000.0</td>\n",
       "      <td>1245809000.0</td>\n",
       "      <td>1449159000.0</td>\n",
       "      <td>603681000.0</td>\n",
       "      <td>NaN</td>\n",
       "    </tr>\n",
       "    <tr>\n",
       "      <th>Capital Stock</th>\n",
       "      <td>12352498000.0</td>\n",
       "      <td>12352498000.0</td>\n",
       "      <td>12352498000.0</td>\n",
       "      <td>5952282000.0</td>\n",
       "      <td>NaN</td>\n",
       "    </tr>\n",
       "    <tr>\n",
       "      <th>Common Stock</th>\n",
       "      <td>12352498000.0</td>\n",
       "      <td>12352498000.0</td>\n",
       "      <td>12352498000.0</td>\n",
       "      <td>5952282000.0</td>\n",
       "      <td>NaN</td>\n",
       "    </tr>\n",
       "    <tr>\n",
       "      <th>Total Liabilities Net Minority Interest</th>\n",
       "      <td>27844533000.0</td>\n",
       "      <td>27117144000.0</td>\n",
       "      <td>27123385000.0</td>\n",
       "      <td>17321916000.0</td>\n",
       "      <td>NaN</td>\n",
       "    </tr>\n",
       "    <tr>\n",
       "      <th>Total Non Current Liabilities Net Minority Interest</th>\n",
       "      <td>10436406000.0</td>\n",
       "      <td>12284219000.0</td>\n",
       "      <td>11866196000.0</td>\n",
       "      <td>3905771000.0</td>\n",
       "      <td>NaN</td>\n",
       "    </tr>\n",
       "    <tr>\n",
       "      <th>Other Non Current Liabilities</th>\n",
       "      <td>134219000.0</td>\n",
       "      <td>492144000.0</td>\n",
       "      <td>922908000.0</td>\n",
       "      <td>NaN</td>\n",
       "      <td>NaN</td>\n",
       "    </tr>\n",
       "    <tr>\n",
       "      <th>Tradeand Other Payables Non Current</th>\n",
       "      <td>4837000.0</td>\n",
       "      <td>7836000.0</td>\n",
       "      <td>24274000.0</td>\n",
       "      <td>4990000.0</td>\n",
       "      <td>NaN</td>\n",
       "    </tr>\n",
       "    <tr>\n",
       "      <th>Non Current Deferred Revenue</th>\n",
       "      <td>1102758000.0</td>\n",
       "      <td>423464000.0</td>\n",
       "      <td>245258000.0</td>\n",
       "      <td>301270000.0</td>\n",
       "      <td>NaN</td>\n",
       "    </tr>\n",
       "    <tr>\n",
       "      <th>Non Current Deferred Taxes Liabilities</th>\n",
       "      <td>1724288000.0</td>\n",
       "      <td>1302587000.0</td>\n",
       "      <td>1268008000.0</td>\n",
       "      <td>1404778000.0</td>\n",
       "      <td>NaN</td>\n",
       "    </tr>\n",
       "    <tr>\n",
       "      <th>Long Term Debt And Capital Lease Obligation</th>\n",
       "      <td>7470304000.0</td>\n",
       "      <td>10058188000.0</td>\n",
       "      <td>9405748000.0</td>\n",
       "      <td>2194733000.0</td>\n",
       "      <td>NaN</td>\n",
       "    </tr>\n",
       "    <tr>\n",
       "      <th>Long Term Capital Lease Obligation</th>\n",
       "      <td>3069796000.0</td>\n",
       "      <td>3073728000.0</td>\n",
       "      <td>3020844000.0</td>\n",
       "      <td>2175152000.0</td>\n",
       "      <td>NaN</td>\n",
       "    </tr>\n",
       "    <tr>\n",
       "      <th>Long Term Debt</th>\n",
       "      <td>4400508000.0</td>\n",
       "      <td>6984460000.0</td>\n",
       "      <td>6384904000.0</td>\n",
       "      <td>19581000.0</td>\n",
       "      <td>NaN</td>\n",
       "    </tr>\n",
       "    <tr>\n",
       "      <th>Current Liabilities</th>\n",
       "      <td>17408127000.0</td>\n",
       "      <td>14832925000.0</td>\n",
       "      <td>15257189000.0</td>\n",
       "      <td>13416145000.0</td>\n",
       "      <td>NaN</td>\n",
       "    </tr>\n",
       "    <tr>\n",
       "      <th>Other Current Liabilities</th>\n",
       "      <td>1847502000.0</td>\n",
       "      <td>2118136000.0</td>\n",
       "      <td>2070710000.0</td>\n",
       "      <td>NaN</td>\n",
       "      <td>NaN</td>\n",
       "    </tr>\n",
       "    <tr>\n",
       "      <th>Current Debt And Capital Lease Obligation</th>\n",
       "      <td>3462706000.0</td>\n",
       "      <td>744085000.0</td>\n",
       "      <td>841802000.0</td>\n",
       "      <td>2018333000.0</td>\n",
       "      <td>NaN</td>\n",
       "    </tr>\n",
       "    <tr>\n",
       "      <th>Current Capital Lease Obligation</th>\n",
       "      <td>508359000.0</td>\n",
       "      <td>619788000.0</td>\n",
       "      <td>433834000.0</td>\n",
       "      <td>351152000.0</td>\n",
       "      <td>NaN</td>\n",
       "    </tr>\n",
       "    <tr>\n",
       "      <th>Current Debt</th>\n",
       "      <td>2954347000.0</td>\n",
       "      <td>124297000.0</td>\n",
       "      <td>407968000.0</td>\n",
       "      <td>1667181000.0</td>\n",
       "      <td>NaN</td>\n",
       "    </tr>\n",
       "    <tr>\n",
       "      <th>Payables</th>\n",
       "      <td>11550153000.0</td>\n",
       "      <td>11473300000.0</td>\n",
       "      <td>11924172000.0</td>\n",
       "      <td>10995082000.0</td>\n",
       "      <td>NaN</td>\n",
       "    </tr>\n",
       "    <tr>\n",
       "      <th>Other Payable</th>\n",
       "      <td>1866110000.0</td>\n",
       "      <td>1705154000.0</td>\n",
       "      <td>1544199000.0</td>\n",
       "      <td>2052423000.0</td>\n",
       "      <td>NaN</td>\n",
       "    </tr>\n",
       "    <tr>\n",
       "      <th>Dividends Payable</th>\n",
       "      <td>NaN</td>\n",
       "      <td>0.0</td>\n",
       "      <td>41434000.0</td>\n",
       "      <td>39953000.0</td>\n",
       "      <td>123566000.0</td>\n",
       "    </tr>\n",
       "    <tr>\n",
       "      <th>Total Tax Payable</th>\n",
       "      <td>359971000.0</td>\n",
       "      <td>224889000.0</td>\n",
       "      <td>239595000.0</td>\n",
       "      <td>401308000.0</td>\n",
       "      <td>NaN</td>\n",
       "    </tr>\n",
       "    <tr>\n",
       "      <th>Accounts Payable</th>\n",
       "      <td>9324072000.0</td>\n",
       "      <td>9543257000.0</td>\n",
       "      <td>10098944000.0</td>\n",
       "      <td>8501398000.0</td>\n",
       "      <td>NaN</td>\n",
       "    </tr>\n",
       "    <tr>\n",
       "      <th>Total Assets</th>\n",
       "      <td>37455067000.0</td>\n",
       "      <td>37765845000.0</td>\n",
       "      <td>38384616000.0</td>\n",
       "      <td>24647203000.0</td>\n",
       "      <td>NaN</td>\n",
       "    </tr>\n",
       "    <tr>\n",
       "      <th>Total Non Current Assets</th>\n",
       "      <td>17233904000.0</td>\n",
       "      <td>15827709000.0</td>\n",
       "      <td>13874806000.0</td>\n",
       "      <td>7848393000.0</td>\n",
       "      <td>NaN</td>\n",
       "    </tr>\n",
       "    <tr>\n",
       "      <th>Other Non Current Assets</th>\n",
       "      <td>113671000.0</td>\n",
       "      <td>116786000.0</td>\n",
       "      <td>184816000.0</td>\n",
       "      <td>6333000.0</td>\n",
       "      <td>NaN</td>\n",
       "    </tr>\n",
       "    <tr>\n",
       "      <th>Non Current Deferred Taxes Assets</th>\n",
       "      <td>2836852000.0</td>\n",
       "      <td>1686360000.0</td>\n",
       "      <td>915111000.0</td>\n",
       "      <td>196736000.0</td>\n",
       "      <td>NaN</td>\n",
       "    </tr>\n",
       "    <tr>\n",
       "      <th>Investmentin Financial Assets</th>\n",
       "      <td>NaN</td>\n",
       "      <td>NaN</td>\n",
       "      <td>NaN</td>\n",
       "      <td>NaN</td>\n",
       "      <td>214000.0</td>\n",
       "    </tr>\n",
       "    <tr>\n",
       "      <th>Trading Securities</th>\n",
       "      <td>NaN</td>\n",
       "      <td>NaN</td>\n",
       "      <td>NaN</td>\n",
       "      <td>NaN</td>\n",
       "      <td>214000.0</td>\n",
       "    </tr>\n",
       "    <tr>\n",
       "      <th>Long Term Equity Investment</th>\n",
       "      <td>322516000.0</td>\n",
       "      <td>338833000.0</td>\n",
       "      <td>407780000.0</td>\n",
       "      <td>386725000.0</td>\n",
       "      <td>NaN</td>\n",
       "    </tr>\n",
       "    <tr>\n",
       "      <th>Investmentsin Joint Venturesat Cost</th>\n",
       "      <td>322516000.0</td>\n",
       "      <td>338833000.0</td>\n",
       "      <td>407780000.0</td>\n",
       "      <td>386725000.0</td>\n",
       "      <td>NaN</td>\n",
       "    </tr>\n",
       "    <tr>\n",
       "      <th>Investmentsin Subsidiariesat Cost</th>\n",
       "      <td>0.0</td>\n",
       "      <td>0.0</td>\n",
       "      <td>0.0</td>\n",
       "      <td>0.0</td>\n",
       "      <td>NaN</td>\n",
       "    </tr>\n",
       "    <tr>\n",
       "      <th>Goodwill And Other Intangible Assets</th>\n",
       "      <td>4504807000.0</td>\n",
       "      <td>4427510000.0</td>\n",
       "      <td>4306587000.0</td>\n",
       "      <td>1886997000.0</td>\n",
       "      <td>NaN</td>\n",
       "    </tr>\n",
       "    <tr>\n",
       "      <th>Other Intangible Assets</th>\n",
       "      <td>2251630000.0</td>\n",
       "      <td>2174221000.0</td>\n",
       "      <td>2054836000.0</td>\n",
       "      <td>782022000.0</td>\n",
       "      <td>NaN</td>\n",
       "    </tr>\n",
       "    <tr>\n",
       "      <th>Goodwill</th>\n",
       "      <td>2253177000.0</td>\n",
       "      <td>2253289000.0</td>\n",
       "      <td>2251751000.0</td>\n",
       "      <td>1104975000.0</td>\n",
       "      <td>NaN</td>\n",
       "    </tr>\n",
       "    <tr>\n",
       "      <th>Net PPE</th>\n",
       "      <td>5184576000.0</td>\n",
       "      <td>5466976000.0</td>\n",
       "      <td>5301711000.0</td>\n",
       "      <td>3723676000.0</td>\n",
       "      <td>NaN</td>\n",
       "    </tr>\n",
       "    <tr>\n",
       "      <th>Accumulated Depreciation</th>\n",
       "      <td>-3646737000.0</td>\n",
       "      <td>-2860974000.0</td>\n",
       "      <td>-867949000.0</td>\n",
       "      <td>-984021000.0</td>\n",
       "      <td>NaN</td>\n",
       "    </tr>\n",
       "    <tr>\n",
       "      <th>Gross PPE</th>\n",
       "      <td>8831313000.0</td>\n",
       "      <td>8327950000.0</td>\n",
       "      <td>6169660000.0</td>\n",
       "      <td>4707697000.0</td>\n",
       "      <td>NaN</td>\n",
       "    </tr>\n",
       "    <tr>\n",
       "      <th>Construction In Progress</th>\n",
       "      <td>29569000.0</td>\n",
       "      <td>45361000.0</td>\n",
       "      <td>201842000.0</td>\n",
       "      <td>82095000.0</td>\n",
       "      <td>NaN</td>\n",
       "    </tr>\n",
       "    <tr>\n",
       "      <th>Other Properties</th>\n",
       "      <td>5767174000.0</td>\n",
       "      <td>5377652000.0</td>\n",
       "      <td>3443293000.0</td>\n",
       "      <td>2527038000.0</td>\n",
       "      <td>NaN</td>\n",
       "    </tr>\n",
       "    <tr>\n",
       "      <th>Machinery Furniture Equipment</th>\n",
       "      <td>1652664000.0</td>\n",
       "      <td>1583642000.0</td>\n",
       "      <td>1491894000.0</td>\n",
       "      <td>980943000.0</td>\n",
       "      <td>NaN</td>\n",
       "    </tr>\n",
       "    <tr>\n",
       "      <th>Buildings And Improvements</th>\n",
       "      <td>1381906000.0</td>\n",
       "      <td>1321295000.0</td>\n",
       "      <td>1032631000.0</td>\n",
       "      <td>1117621000.0</td>\n",
       "      <td>NaN</td>\n",
       "    </tr>\n",
       "    <tr>\n",
       "      <th>Properties</th>\n",
       "      <td>0.0</td>\n",
       "      <td>0.0</td>\n",
       "      <td>0.0</td>\n",
       "      <td>0.0</td>\n",
       "      <td>NaN</td>\n",
       "    </tr>\n",
       "    <tr>\n",
       "      <th>Current Assets</th>\n",
       "      <td>20221163000.0</td>\n",
       "      <td>21938136000.0</td>\n",
       "      <td>24509810000.0</td>\n",
       "      <td>16798810000.0</td>\n",
       "      <td>NaN</td>\n",
       "    </tr>\n",
       "    <tr>\n",
       "      <th>Other Current Assets</th>\n",
       "      <td>334743000.0</td>\n",
       "      <td>208237000.0</td>\n",
       "      <td>402821000.0</td>\n",
       "      <td>160754000.0</td>\n",
       "      <td>NaN</td>\n",
       "    </tr>\n",
       "    <tr>\n",
       "      <th>Inventory</th>\n",
       "      <td>7497299000.0</td>\n",
       "      <td>7790069000.0</td>\n",
       "      <td>9112214000.0</td>\n",
       "      <td>5927236000.0</td>\n",
       "      <td>NaN</td>\n",
       "    </tr>\n",
       "    <tr>\n",
       "      <th>Inventories Adjustments Allowances</th>\n",
       "      <td>-179561000.0</td>\n",
       "      <td>-184484000.0</td>\n",
       "      <td>-163556000.0</td>\n",
       "      <td>-101178000.0</td>\n",
       "      <td>NaN</td>\n",
       "    </tr>\n",
       "    <tr>\n",
       "      <th>Finished Goods</th>\n",
       "      <td>7641437000.0</td>\n",
       "      <td>7943173000.0</td>\n",
       "      <td>9210072000.0</td>\n",
       "      <td>5989773000.0</td>\n",
       "      <td>NaN</td>\n",
       "    </tr>\n",
       "    <tr>\n",
       "      <th>Raw Materials</th>\n",
       "      <td>35423000.0</td>\n",
       "      <td>31380000.0</td>\n",
       "      <td>65698000.0</td>\n",
       "      <td>38641000.0</td>\n",
       "      <td>NaN</td>\n",
       "    </tr>\n",
       "    <tr>\n",
       "      <th>Other Receivables</th>\n",
       "      <td>1273718000.0</td>\n",
       "      <td>2576572000.0</td>\n",
       "      <td>3707284000.0</td>\n",
       "      <td>2329648000.0</td>\n",
       "      <td>NaN</td>\n",
       "    </tr>\n",
       "    <tr>\n",
       "      <th>Taxes Receivable</th>\n",
       "      <td>1857535000.0</td>\n",
       "      <td>1878645000.0</td>\n",
       "      <td>1514143000.0</td>\n",
       "      <td>716118000.0</td>\n",
       "      <td>NaN</td>\n",
       "    </tr>\n",
       "    <tr>\n",
       "      <th>Accounts Receivable</th>\n",
       "      <td>5885450000.0</td>\n",
       "      <td>6760270000.0</td>\n",
       "      <td>5650759000.0</td>\n",
       "      <td>4761899000.0</td>\n",
       "      <td>NaN</td>\n",
       "    </tr>\n",
       "    <tr>\n",
       "      <th>Cash Cash Equivalents And Short Term Investments</th>\n",
       "      <td>3372418000.0</td>\n",
       "      <td>2724343000.0</td>\n",
       "      <td>4122589000.0</td>\n",
       "      <td>2903155000.0</td>\n",
       "      <td>NaN</td>\n",
       "    </tr>\n",
       "    <tr>\n",
       "      <th>Other Short Term Investments</th>\n",
       "      <td>779072000.0</td>\n",
       "      <td>304298000.0</td>\n",
       "      <td>1556371000.0</td>\n",
       "      <td>1221779000.0</td>\n",
       "      <td>NaN</td>\n",
       "    </tr>\n",
       "    <tr>\n",
       "      <th>Cash And Cash Equivalents</th>\n",
       "      <td>2593346000.0</td>\n",
       "      <td>2420045000.0</td>\n",
       "      <td>2566218000.0</td>\n",
       "      <td>1681376000.0</td>\n",
       "      <td>NaN</td>\n",
       "    </tr>\n",
       "    <tr>\n",
       "      <th>Cash Equivalents</th>\n",
       "      <td>2409700000.0</td>\n",
       "      <td>2170031000.0</td>\n",
       "      <td>1776993000.0</td>\n",
       "      <td>1319210000.0</td>\n",
       "      <td>NaN</td>\n",
       "    </tr>\n",
       "    <tr>\n",
       "      <th>Cash Financial</th>\n",
       "      <td>183646000.0</td>\n",
       "      <td>250014000.0</td>\n",
       "      <td>789225000.0</td>\n",
       "      <td>362166000.0</td>\n",
       "      <td>NaN</td>\n",
       "    </tr>\n",
       "  </tbody>\n",
       "</table>\n",
       "</div>"
      ],
      "text/plain": [
       "                                                       2023-12-31  \\\n",
       "Treasury Shares Number                                  6095820.0   \n",
       "Ordinary Shares Number                                715465009.0   \n",
       "Share Issued                                          721560829.0   \n",
       "Net Debt                                             4761509000.0   \n",
       "Total Debt                                          10933010000.0   \n",
       "Tangible Book Value                                  5105727000.0   \n",
       "Invested Capital                                    16965389000.0   \n",
       "Working Capital                                      2813036000.0   \n",
       "Net Tangible Assets                                  5105727000.0   \n",
       "Capital Lease Obligations                            3578155000.0   \n",
       "Common Stock Equity                                  9610534000.0   \n",
       "Total Capitalization                                14011042000.0   \n",
       "Total Equity Gross Minority Interest                 9610534000.0   \n",
       "Stockholders Equity                                  9610534000.0   \n",
       "Other Equity Interest                                -121382000.0   \n",
       "Treasury Stock                                        990603000.0   \n",
       "Capital Stock                                       12352498000.0   \n",
       "Common Stock                                        12352498000.0   \n",
       "Total Liabilities Net Minority Interest             27844533000.0   \n",
       "Total Non Current Liabilities Net Minority Inte...  10436406000.0   \n",
       "Other Non Current Liabilities                         134219000.0   \n",
       "Tradeand Other Payables Non Current                     4837000.0   \n",
       "Non Current Deferred Revenue                         1102758000.0   \n",
       "Non Current Deferred Taxes Liabilities               1724288000.0   \n",
       "Long Term Debt And Capital Lease Obligation          7470304000.0   \n",
       "Long Term Capital Lease Obligation                   3069796000.0   \n",
       "Long Term Debt                                       4400508000.0   \n",
       "Current Liabilities                                 17408127000.0   \n",
       "Other Current Liabilities                            1847502000.0   \n",
       "Current Debt And Capital Lease Obligation            3462706000.0   \n",
       "Current Capital Lease Obligation                      508359000.0   \n",
       "Current Debt                                         2954347000.0   \n",
       "Payables                                            11550153000.0   \n",
       "Other Payable                                        1866110000.0   \n",
       "Dividends Payable                                             NaN   \n",
       "Total Tax Payable                                     359971000.0   \n",
       "Accounts Payable                                     9324072000.0   \n",
       "Total Assets                                        37455067000.0   \n",
       "Total Non Current Assets                            17233904000.0   \n",
       "Other Non Current Assets                              113671000.0   \n",
       "Non Current Deferred Taxes Assets                    2836852000.0   \n",
       "Investmentin Financial Assets                                 NaN   \n",
       "Trading Securities                                            NaN   \n",
       "Long Term Equity Investment                           322516000.0   \n",
       "Investmentsin Joint Venturesat Cost                   322516000.0   \n",
       "Investmentsin Subsidiariesat Cost                             0.0   \n",
       "Goodwill And Other Intangible Assets                 4504807000.0   \n",
       "Other Intangible Assets                              2251630000.0   \n",
       "Goodwill                                             2253177000.0   \n",
       "Net PPE                                              5184576000.0   \n",
       "Accumulated Depreciation                            -3646737000.0   \n",
       "Gross PPE                                            8831313000.0   \n",
       "Construction In Progress                               29569000.0   \n",
       "Other Properties                                     5767174000.0   \n",
       "Machinery Furniture Equipment                        1652664000.0   \n",
       "Buildings And Improvements                           1381906000.0   \n",
       "Properties                                                    0.0   \n",
       "Current Assets                                      20221163000.0   \n",
       "Other Current Assets                                  334743000.0   \n",
       "Inventory                                            7497299000.0   \n",
       "Inventories Adjustments Allowances                   -179561000.0   \n",
       "Finished Goods                                       7641437000.0   \n",
       "Raw Materials                                          35423000.0   \n",
       "Other Receivables                                    1273718000.0   \n",
       "Taxes Receivable                                     1857535000.0   \n",
       "Accounts Receivable                                  5885450000.0   \n",
       "Cash Cash Equivalents And Short Term Investments     3372418000.0   \n",
       "Other Short Term Investments                          779072000.0   \n",
       "Cash And Cash Equivalents                            2593346000.0   \n",
       "Cash Equivalents                                     2409700000.0   \n",
       "Cash Financial                                        183646000.0   \n",
       "\n",
       "                                                       2022-12-31  \\\n",
       "Treasury Shares Number                                  7666266.0   \n",
       "Ordinary Shares Number                                713894564.0   \n",
       "Share Issued                                          721560830.0   \n",
       "Net Debt                                             4688712000.0   \n",
       "Total Debt                                          10802273000.0   \n",
       "Tangible Book Value                                  6221191000.0   \n",
       "Invested Capital                                    17757458000.0   \n",
       "Working Capital                                      7105211000.0   \n",
       "Net Tangible Assets                                  6221191000.0   \n",
       "Capital Lease Obligations                            3693516000.0   \n",
       "Common Stock Equity                                 10648701000.0   \n",
       "Total Capitalization                                17633161000.0   \n",
       "Total Equity Gross Minority Interest                10648701000.0   \n",
       "Stockholders Equity                                 10648701000.0   \n",
       "Other Equity Interest                                   2012000.0   \n",
       "Treasury Stock                                       1245809000.0   \n",
       "Capital Stock                                       12352498000.0   \n",
       "Common Stock                                        12352498000.0   \n",
       "Total Liabilities Net Minority Interest             27117144000.0   \n",
       "Total Non Current Liabilities Net Minority Inte...  12284219000.0   \n",
       "Other Non Current Liabilities                         492144000.0   \n",
       "Tradeand Other Payables Non Current                     7836000.0   \n",
       "Non Current Deferred Revenue                          423464000.0   \n",
       "Non Current Deferred Taxes Liabilities               1302587000.0   \n",
       "Long Term Debt And Capital Lease Obligation         10058188000.0   \n",
       "Long Term Capital Lease Obligation                   3073728000.0   \n",
       "Long Term Debt                                       6984460000.0   \n",
       "Current Liabilities                                 14832925000.0   \n",
       "Other Current Liabilities                            2118136000.0   \n",
       "Current Debt And Capital Lease Obligation             744085000.0   \n",
       "Current Capital Lease Obligation                      619788000.0   \n",
       "Current Debt                                          124297000.0   \n",
       "Payables                                            11473300000.0   \n",
       "Other Payable                                        1705154000.0   \n",
       "Dividends Payable                                             0.0   \n",
       "Total Tax Payable                                     224889000.0   \n",
       "Accounts Payable                                     9543257000.0   \n",
       "Total Assets                                        37765845000.0   \n",
       "Total Non Current Assets                            15827709000.0   \n",
       "Other Non Current Assets                              116786000.0   \n",
       "Non Current Deferred Taxes Assets                    1686360000.0   \n",
       "Investmentin Financial Assets                                 NaN   \n",
       "Trading Securities                                            NaN   \n",
       "Long Term Equity Investment                           338833000.0   \n",
       "Investmentsin Joint Venturesat Cost                   338833000.0   \n",
       "Investmentsin Subsidiariesat Cost                             0.0   \n",
       "Goodwill And Other Intangible Assets                 4427510000.0   \n",
       "Other Intangible Assets                              2174221000.0   \n",
       "Goodwill                                             2253289000.0   \n",
       "Net PPE                                              5466976000.0   \n",
       "Accumulated Depreciation                            -2860974000.0   \n",
       "Gross PPE                                            8327950000.0   \n",
       "Construction In Progress                               45361000.0   \n",
       "Other Properties                                     5377652000.0   \n",
       "Machinery Furniture Equipment                        1583642000.0   \n",
       "Buildings And Improvements                           1321295000.0   \n",
       "Properties                                                    0.0   \n",
       "Current Assets                                      21938136000.0   \n",
       "Other Current Assets                                  208237000.0   \n",
       "Inventory                                            7790069000.0   \n",
       "Inventories Adjustments Allowances                   -184484000.0   \n",
       "Finished Goods                                       7943173000.0   \n",
       "Raw Materials                                          31380000.0   \n",
       "Other Receivables                                    2576572000.0   \n",
       "Taxes Receivable                                     1878645000.0   \n",
       "Accounts Receivable                                  6760270000.0   \n",
       "Cash Cash Equivalents And Short Term Investments     2724343000.0   \n",
       "Other Short Term Investments                          304298000.0   \n",
       "Cash And Cash Equivalents                            2420045000.0   \n",
       "Cash Equivalents                                     2170031000.0   \n",
       "Cash Financial                                        250014000.0   \n",
       "\n",
       "                                                       2021-12-31  \\\n",
       "Treasury Shares Number                                  8917611.0   \n",
       "Ordinary Shares Number                                712643218.0   \n",
       "Share Issued                                          721560829.0   \n",
       "Net Debt                                             4226654000.0   \n",
       "Total Debt                                          10247550000.0   \n",
       "Tangible Book Value                                  6954644000.0   \n",
       "Invested Capital                                    18054103000.0   \n",
       "Working Capital                                      9252621000.0   \n",
       "Net Tangible Assets                                  6954644000.0   \n",
       "Capital Lease Obligations                            3454678000.0   \n",
       "Common Stock Equity                                 11261231000.0   \n",
       "Total Capitalization                                17646135000.0   \n",
       "Total Equity Gross Minority Interest                11261231000.0   \n",
       "Stockholders Equity                                 11261231000.0   \n",
       "Other Equity Interest                                    840000.0   \n",
       "Treasury Stock                                       1449159000.0   \n",
       "Capital Stock                                       12352498000.0   \n",
       "Common Stock                                        12352498000.0   \n",
       "Total Liabilities Net Minority Interest             27123385000.0   \n",
       "Total Non Current Liabilities Net Minority Inte...  11866196000.0   \n",
       "Other Non Current Liabilities                         922908000.0   \n",
       "Tradeand Other Payables Non Current                    24274000.0   \n",
       "Non Current Deferred Revenue                          245258000.0   \n",
       "Non Current Deferred Taxes Liabilities               1268008000.0   \n",
       "Long Term Debt And Capital Lease Obligation          9405748000.0   \n",
       "Long Term Capital Lease Obligation                   3020844000.0   \n",
       "Long Term Debt                                       6384904000.0   \n",
       "Current Liabilities                                 15257189000.0   \n",
       "Other Current Liabilities                            2070710000.0   \n",
       "Current Debt And Capital Lease Obligation             841802000.0   \n",
       "Current Capital Lease Obligation                      433834000.0   \n",
       "Current Debt                                          407968000.0   \n",
       "Payables                                            11924172000.0   \n",
       "Other Payable                                        1544199000.0   \n",
       "Dividends Payable                                      41434000.0   \n",
       "Total Tax Payable                                     239595000.0   \n",
       "Accounts Payable                                    10098944000.0   \n",
       "Total Assets                                        38384616000.0   \n",
       "Total Non Current Assets                            13874806000.0   \n",
       "Other Non Current Assets                              184816000.0   \n",
       "Non Current Deferred Taxes Assets                     915111000.0   \n",
       "Investmentin Financial Assets                                 NaN   \n",
       "Trading Securities                                            NaN   \n",
       "Long Term Equity Investment                           407780000.0   \n",
       "Investmentsin Joint Venturesat Cost                   407780000.0   \n",
       "Investmentsin Subsidiariesat Cost                             0.0   \n",
       "Goodwill And Other Intangible Assets                 4306587000.0   \n",
       "Other Intangible Assets                              2054836000.0   \n",
       "Goodwill                                             2251751000.0   \n",
       "Net PPE                                              5301711000.0   \n",
       "Accumulated Depreciation                             -867949000.0   \n",
       "Gross PPE                                            6169660000.0   \n",
       "Construction In Progress                              201842000.0   \n",
       "Other Properties                                     3443293000.0   \n",
       "Machinery Furniture Equipment                        1491894000.0   \n",
       "Buildings And Improvements                           1032631000.0   \n",
       "Properties                                                    0.0   \n",
       "Current Assets                                      24509810000.0   \n",
       "Other Current Assets                                  402821000.0   \n",
       "Inventory                                            9112214000.0   \n",
       "Inventories Adjustments Allowances                   -163556000.0   \n",
       "Finished Goods                                       9210072000.0   \n",
       "Raw Materials                                          65698000.0   \n",
       "Other Receivables                                    3707284000.0   \n",
       "Taxes Receivable                                     1514143000.0   \n",
       "Accounts Receivable                                  5650759000.0   \n",
       "Cash Cash Equivalents And Short Term Investments     4122589000.0   \n",
       "Other Short Term Investments                         1556371000.0   \n",
       "Cash And Cash Equivalents                            2566218000.0   \n",
       "Cash Equivalents                                     1776993000.0   \n",
       "Cash Financial                                        789225000.0   \n",
       "\n",
       "                                                       2020-12-31   2019-12-31  \n",
       "Treasury Shares Number                                  3799722.0          NaN  \n",
       "Ordinary Shares Number                                691032383.0          NaN  \n",
       "Share Issued                                          694832105.0          NaN  \n",
       "Net Debt                                                5386000.0          NaN  \n",
       "Total Debt                                           4213066000.0          NaN  \n",
       "Tangible Book Value                                  5438290000.0          NaN  \n",
       "Invested Capital                                     9012049000.0          NaN  \n",
       "Working Capital                                      3382665000.0          NaN  \n",
       "Net Tangible Assets                                  5438290000.0          NaN  \n",
       "Capital Lease Obligations                            2526304000.0          NaN  \n",
       "Common Stock Equity                                  7325287000.0          NaN  \n",
       "Total Capitalization                                 7344868000.0          NaN  \n",
       "Total Equity Gross Minority Interest                 7325287000.0          NaN  \n",
       "Stockholders Equity                                  7325287000.0          NaN  \n",
       "Other Equity Interest                                  11151000.0          NaN  \n",
       "Treasury Stock                                        603681000.0          NaN  \n",
       "Capital Stock                                        5952282000.0          NaN  \n",
       "Common Stock                                         5952282000.0          NaN  \n",
       "Total Liabilities Net Minority Interest             17321916000.0          NaN  \n",
       "Total Non Current Liabilities Net Minority Inte...   3905771000.0          NaN  \n",
       "Other Non Current Liabilities                                 NaN          NaN  \n",
       "Tradeand Other Payables Non Current                     4990000.0          NaN  \n",
       "Non Current Deferred Revenue                          301270000.0          NaN  \n",
       "Non Current Deferred Taxes Liabilities               1404778000.0          NaN  \n",
       "Long Term Debt And Capital Lease Obligation          2194733000.0          NaN  \n",
       "Long Term Capital Lease Obligation                   2175152000.0          NaN  \n",
       "Long Term Debt                                         19581000.0          NaN  \n",
       "Current Liabilities                                 13416145000.0          NaN  \n",
       "Other Current Liabilities                                     NaN          NaN  \n",
       "Current Debt And Capital Lease Obligation            2018333000.0          NaN  \n",
       "Current Capital Lease Obligation                      351152000.0          NaN  \n",
       "Current Debt                                         1667181000.0          NaN  \n",
       "Payables                                            10995082000.0          NaN  \n",
       "Other Payable                                        2052423000.0          NaN  \n",
       "Dividends Payable                                      39953000.0  123566000.0  \n",
       "Total Tax Payable                                     401308000.0          NaN  \n",
       "Accounts Payable                                     8501398000.0          NaN  \n",
       "Total Assets                                        24647203000.0          NaN  \n",
       "Total Non Current Assets                             7848393000.0          NaN  \n",
       "Other Non Current Assets                                6333000.0          NaN  \n",
       "Non Current Deferred Taxes Assets                     196736000.0          NaN  \n",
       "Investmentin Financial Assets                                 NaN     214000.0  \n",
       "Trading Securities                                            NaN     214000.0  \n",
       "Long Term Equity Investment                           386725000.0          NaN  \n",
       "Investmentsin Joint Venturesat Cost                   386725000.0          NaN  \n",
       "Investmentsin Subsidiariesat Cost                             0.0          NaN  \n",
       "Goodwill And Other Intangible Assets                 1886997000.0          NaN  \n",
       "Other Intangible Assets                               782022000.0          NaN  \n",
       "Goodwill                                             1104975000.0          NaN  \n",
       "Net PPE                                              3723676000.0          NaN  \n",
       "Accumulated Depreciation                             -984021000.0          NaN  \n",
       "Gross PPE                                            4707697000.0          NaN  \n",
       "Construction In Progress                               82095000.0          NaN  \n",
       "Other Properties                                     2527038000.0          NaN  \n",
       "Machinery Furniture Equipment                         980943000.0          NaN  \n",
       "Buildings And Improvements                           1117621000.0          NaN  \n",
       "Properties                                                    0.0          NaN  \n",
       "Current Assets                                      16798810000.0          NaN  \n",
       "Other Current Assets                                  160754000.0          NaN  \n",
       "Inventory                                            5927236000.0          NaN  \n",
       "Inventories Adjustments Allowances                   -101178000.0          NaN  \n",
       "Finished Goods                                       5989773000.0          NaN  \n",
       "Raw Materials                                          38641000.0          NaN  \n",
       "Other Receivables                                    2329648000.0          NaN  \n",
       "Taxes Receivable                                      716118000.0          NaN  \n",
       "Accounts Receivable                                  4761899000.0          NaN  \n",
       "Cash Cash Equivalents And Short Term Investments     2903155000.0          NaN  \n",
       "Other Short Term Investments                         1221779000.0          NaN  \n",
       "Cash And Cash Equivalents                            1681376000.0          NaN  \n",
       "Cash Equivalents                                     1319210000.0          NaN  \n",
       "Cash Financial                                        362166000.0          NaN  "
      ]
     },
     "execution_count": 107,
     "metadata": {},
     "output_type": "execute_result"
    }
   ],
   "source": [
    "Magazine_luiza.balance_sheet"
   ]
  },
  {
   "cell_type": "markdown",
   "metadata": {},
   "source": [
    "## Demonstrações de Resultado "
   ]
  },
  {
   "cell_type": "code",
   "execution_count": 108,
   "metadata": {},
   "outputs": [
    {
     "name": "stdout",
     "output_type": "stream",
     "text": [
      "Demonstração de Resultado da Empresa yfinance.Ticker object <MGLU3.SA>\n"
     ]
    },
    {
     "data": {
      "text/html": [
       "<div>\n",
       "<style scoped>\n",
       "    .dataframe tbody tr th:only-of-type {\n",
       "        vertical-align: middle;\n",
       "    }\n",
       "\n",
       "    .dataframe tbody tr th {\n",
       "        vertical-align: top;\n",
       "    }\n",
       "\n",
       "    .dataframe thead th {\n",
       "        text-align: right;\n",
       "    }\n",
       "</style>\n",
       "<table border=\"1\" class=\"dataframe\">\n",
       "  <thead>\n",
       "    <tr style=\"text-align: right;\">\n",
       "      <th></th>\n",
       "      <th>2023-12-31</th>\n",
       "      <th>2022-12-31</th>\n",
       "      <th>2021-12-31</th>\n",
       "      <th>2020-12-31</th>\n",
       "    </tr>\n",
       "  </thead>\n",
       "  <tbody>\n",
       "    <tr>\n",
       "      <th>Tax Effect Of Unusual Items</th>\n",
       "      <td>11422640.0</td>\n",
       "      <td>-675580.0</td>\n",
       "      <td>-11810580.0</td>\n",
       "      <td>-961308.0</td>\n",
       "    </tr>\n",
       "    <tr>\n",
       "      <th>Tax Rate For Calcs</th>\n",
       "      <td>0.34</td>\n",
       "      <td>0.34</td>\n",
       "      <td>0.34</td>\n",
       "      <td>0.054</td>\n",
       "    </tr>\n",
       "    <tr>\n",
       "      <th>Normalized EBITDA</th>\n",
       "      <td>440378000.0</td>\n",
       "      <td>1091858000.0</td>\n",
       "      <td>1030940000.0</td>\n",
       "      <td>1360414000.0</td>\n",
       "    </tr>\n",
       "    <tr>\n",
       "      <th>Total Unusual Items</th>\n",
       "      <td>33596000.0</td>\n",
       "      <td>-1987000.0</td>\n",
       "      <td>-34737000.0</td>\n",
       "      <td>-17802000.0</td>\n",
       "    </tr>\n",
       "    <tr>\n",
       "      <th>Total Unusual Items Excluding Goodwill</th>\n",
       "      <td>33596000.0</td>\n",
       "      <td>-1987000.0</td>\n",
       "      <td>-34737000.0</td>\n",
       "      <td>-17802000.0</td>\n",
       "    </tr>\n",
       "    <tr>\n",
       "      <th>Net Income From Continuing Operation Net Minority Interest</th>\n",
       "      <td>-979104000.0</td>\n",
       "      <td>-498975000.0</td>\n",
       "      <td>590661000.0</td>\n",
       "      <td>391709000.0</td>\n",
       "    </tr>\n",
       "    <tr>\n",
       "      <th>Reconciled Depreciation</th>\n",
       "      <td>1242690000.0</td>\n",
       "      <td>1163624000.0</td>\n",
       "      <td>816964000.0</td>\n",
       "      <td>702523000.0</td>\n",
       "    </tr>\n",
       "    <tr>\n",
       "      <th>Reconciled Cost Of Revenue</th>\n",
       "      <td>26604266000.0</td>\n",
       "      <td>26860106000.0</td>\n",
       "      <td>26791345000.0</td>\n",
       "      <td>21657151000.0</td>\n",
       "    </tr>\n",
       "    <tr>\n",
       "      <th>EBITDA</th>\n",
       "      <td>473974000.0</td>\n",
       "      <td>1089871000.0</td>\n",
       "      <td>996203000.0</td>\n",
       "      <td>1342612000.0</td>\n",
       "    </tr>\n",
       "    <tr>\n",
       "      <th>EBIT</th>\n",
       "      <td>-768716000.0</td>\n",
       "      <td>-73753000.0</td>\n",
       "      <td>179239000.0</td>\n",
       "      <td>640089000.0</td>\n",
       "    </tr>\n",
       "    <tr>\n",
       "      <th>Net Interest Income</th>\n",
       "      <td>-1728705000.0</td>\n",
       "      <td>-2046544000.0</td>\n",
       "      <td>-687730000.0</td>\n",
       "      <td>-391851000.0</td>\n",
       "    </tr>\n",
       "    <tr>\n",
       "      <th>Interest Expense</th>\n",
       "      <td>1295651000.0</td>\n",
       "      <td>1195645000.0</td>\n",
       "      <td>397648000.0</td>\n",
       "      <td>226008000.0</td>\n",
       "    </tr>\n",
       "    <tr>\n",
       "      <th>Interest Income</th>\n",
       "      <td>176181000.0</td>\n",
       "      <td>150832000.0</td>\n",
       "      <td>72955000.0</td>\n",
       "      <td>58668000.0</td>\n",
       "    </tr>\n",
       "    <tr>\n",
       "      <th>Normalized Income</th>\n",
       "      <td>-1001277360.0</td>\n",
       "      <td>-497663580.0</td>\n",
       "      <td>613587420.0</td>\n",
       "      <td>408549692.0</td>\n",
       "    </tr>\n",
       "    <tr>\n",
       "      <th>Net Income From Continuing And Discontinued Operation</th>\n",
       "      <td>-979104000.0</td>\n",
       "      <td>-498975000.0</td>\n",
       "      <td>590661000.0</td>\n",
       "      <td>391709000.0</td>\n",
       "    </tr>\n",
       "    <tr>\n",
       "      <th>Total Expenses</th>\n",
       "      <td>37118397000.0</td>\n",
       "      <td>36484131000.0</td>\n",
       "      <td>34873420000.0</td>\n",
       "      <td>28473308000.0</td>\n",
       "    </tr>\n",
       "    <tr>\n",
       "      <th>Total Operating Income As Reported</th>\n",
       "      <td>-372148000.0</td>\n",
       "      <td>771635000.0</td>\n",
       "      <td>NaN</td>\n",
       "      <td>NaN</td>\n",
       "    </tr>\n",
       "    <tr>\n",
       "      <th>Diluted Average Shares</th>\n",
       "      <td>721738896.0</td>\n",
       "      <td>720595601.0</td>\n",
       "      <td>720179185.0</td>\n",
       "      <td>700546850.0</td>\n",
       "    </tr>\n",
       "    <tr>\n",
       "      <th>Basic Average Shares</th>\n",
       "      <td>715465009.0</td>\n",
       "      <td>713894564.0</td>\n",
       "      <td>712643218.0</td>\n",
       "      <td>692370220.0</td>\n",
       "    </tr>\n",
       "    <tr>\n",
       "      <th>Diluted EPS</th>\n",
       "      <td>-1.365572</td>\n",
       "      <td>-0.701493</td>\n",
       "      <td>0.823085</td>\n",
       "      <td>0.561194</td>\n",
       "    </tr>\n",
       "    <tr>\n",
       "      <th>Basic EPS</th>\n",
       "      <td>-1.365572</td>\n",
       "      <td>-0.701493</td>\n",
       "      <td>0.832438</td>\n",
       "      <td>0.570547</td>\n",
       "    </tr>\n",
       "    <tr>\n",
       "      <th>Diluted NI Availto Com Stockholders</th>\n",
       "      <td>-979104000.0</td>\n",
       "      <td>-498975000.0</td>\n",
       "      <td>590661000.0</td>\n",
       "      <td>391709000.0</td>\n",
       "    </tr>\n",
       "    <tr>\n",
       "      <th>Net Income Common Stockholders</th>\n",
       "      <td>-979104000.0</td>\n",
       "      <td>-498975000.0</td>\n",
       "      <td>590661000.0</td>\n",
       "      <td>391709000.0</td>\n",
       "    </tr>\n",
       "    <tr>\n",
       "      <th>Otherunder Preferred Stock Dividend</th>\n",
       "      <td>0.0</td>\n",
       "      <td>0.0</td>\n",
       "      <td>0.0</td>\n",
       "      <td>0.0</td>\n",
       "    </tr>\n",
       "    <tr>\n",
       "      <th>Net Income</th>\n",
       "      <td>-979104000.0</td>\n",
       "      <td>-498975000.0</td>\n",
       "      <td>590661000.0</td>\n",
       "      <td>391709000.0</td>\n",
       "    </tr>\n",
       "    <tr>\n",
       "      <th>Net Income Including Noncontrolling Interests</th>\n",
       "      <td>-979104000.0</td>\n",
       "      <td>-498975000.0</td>\n",
       "      <td>590661000.0</td>\n",
       "      <td>391709000.0</td>\n",
       "    </tr>\n",
       "    <tr>\n",
       "      <th>Net Income Continuous Operations</th>\n",
       "      <td>-979104000.0</td>\n",
       "      <td>-498975000.0</td>\n",
       "      <td>590661000.0</td>\n",
       "      <td>391709000.0</td>\n",
       "    </tr>\n",
       "    <tr>\n",
       "      <th>Tax Provision</th>\n",
       "      <td>-1085263000.0</td>\n",
       "      <td>-770423000.0</td>\n",
       "      <td>-809070000.0</td>\n",
       "      <td>22372000.0</td>\n",
       "    </tr>\n",
       "    <tr>\n",
       "      <th>Pretax Income</th>\n",
       "      <td>-2064367000.0</td>\n",
       "      <td>-1269398000.0</td>\n",
       "      <td>-218409000.0</td>\n",
       "      <td>414081000.0</td>\n",
       "    </tr>\n",
       "    <tr>\n",
       "      <th>Special Income Charges</th>\n",
       "      <td>-118534000.0</td>\n",
       "      <td>-136929000.0</td>\n",
       "      <td>-77437000.0</td>\n",
       "      <td>-36755000.0</td>\n",
       "    </tr>\n",
       "    <tr>\n",
       "      <th>Other Special Charges</th>\n",
       "      <td>-201920000.0</td>\n",
       "      <td>19746000.0</td>\n",
       "      <td>77437000.0</td>\n",
       "      <td>36755000.0</td>\n",
       "    </tr>\n",
       "    <tr>\n",
       "      <th>Write Off</th>\n",
       "      <td>20512000.0</td>\n",
       "      <td>695000.0</td>\n",
       "      <td>NaN</td>\n",
       "      <td>NaN</td>\n",
       "    </tr>\n",
       "    <tr>\n",
       "      <th>Restructuring And Mergern Acquisition</th>\n",
       "      <td>299942000.0</td>\n",
       "      <td>136234000.0</td>\n",
       "      <td>NaN</td>\n",
       "      <td>NaN</td>\n",
       "    </tr>\n",
       "    <tr>\n",
       "      <th>Net Non Operating Interest Income Expense</th>\n",
       "      <td>-1728705000.0</td>\n",
       "      <td>-2046544000.0</td>\n",
       "      <td>-687730000.0</td>\n",
       "      <td>-391851000.0</td>\n",
       "    </tr>\n",
       "    <tr>\n",
       "      <th>Total Other Finance Cost</th>\n",
       "      <td>609235000.0</td>\n",
       "      <td>1001731000.0</td>\n",
       "      <td>363037000.0</td>\n",
       "      <td>224511000.0</td>\n",
       "    </tr>\n",
       "    <tr>\n",
       "      <th>Interest Expense Non Operating</th>\n",
       "      <td>1295651000.0</td>\n",
       "      <td>1195645000.0</td>\n",
       "      <td>397648000.0</td>\n",
       "      <td>226008000.0</td>\n",
       "    </tr>\n",
       "    <tr>\n",
       "      <th>Interest Income Non Operating</th>\n",
       "      <td>176181000.0</td>\n",
       "      <td>150832000.0</td>\n",
       "      <td>72955000.0</td>\n",
       "      <td>58668000.0</td>\n",
       "    </tr>\n",
       "    <tr>\n",
       "      <th>Operating Income</th>\n",
       "      <td>-350248000.0</td>\n",
       "      <td>814871000.0</td>\n",
       "      <td>404730000.0</td>\n",
       "      <td>703805000.0</td>\n",
       "    </tr>\n",
       "    <tr>\n",
       "      <th>Operating Expense</th>\n",
       "      <td>10514131000.0</td>\n",
       "      <td>9624025000.0</td>\n",
       "      <td>8082075000.0</td>\n",
       "      <td>6816157000.0</td>\n",
       "    </tr>\n",
       "    <tr>\n",
       "      <th>Other Operating Expenses</th>\n",
       "      <td>1046891000.0</td>\n",
       "      <td>425052000.0</td>\n",
       "      <td>-85675000.0</td>\n",
       "      <td>101249000.0</td>\n",
       "    </tr>\n",
       "    <tr>\n",
       "      <th>Depreciation And Amortization In Income Statement</th>\n",
       "      <td>1242690000.0</td>\n",
       "      <td>1163624000.0</td>\n",
       "      <td>816964000.0</td>\n",
       "      <td>702523000.0</td>\n",
       "    </tr>\n",
       "    <tr>\n",
       "      <th>Depreciation Income Statement</th>\n",
       "      <td>1242690000.0</td>\n",
       "      <td>1163624000.0</td>\n",
       "      <td>816964000.0</td>\n",
       "      <td>702523000.0</td>\n",
       "    </tr>\n",
       "    <tr>\n",
       "      <th>Selling General And Administration</th>\n",
       "      <td>8337270000.0</td>\n",
       "      <td>8111307000.0</td>\n",
       "      <td>7406083000.0</td>\n",
       "      <td>6069417000.0</td>\n",
       "    </tr>\n",
       "    <tr>\n",
       "      <th>Selling And Marketing Expense</th>\n",
       "      <td>7002066000.0</td>\n",
       "      <td>6741109000.0</td>\n",
       "      <td>6374429000.0</td>\n",
       "      <td>5162618000.0</td>\n",
       "    </tr>\n",
       "    <tr>\n",
       "      <th>General And Administrative Expense</th>\n",
       "      <td>1335204000.0</td>\n",
       "      <td>1370198000.0</td>\n",
       "      <td>1031654000.0</td>\n",
       "      <td>906799000.0</td>\n",
       "    </tr>\n",
       "    <tr>\n",
       "      <th>Gross Profit</th>\n",
       "      <td>10163883000.0</td>\n",
       "      <td>10438896000.0</td>\n",
       "      <td>8486805000.0</td>\n",
       "      <td>7519962000.0</td>\n",
       "    </tr>\n",
       "    <tr>\n",
       "      <th>Cost Of Revenue</th>\n",
       "      <td>26604266000.0</td>\n",
       "      <td>26860106000.0</td>\n",
       "      <td>26791345000.0</td>\n",
       "      <td>21657151000.0</td>\n",
       "    </tr>\n",
       "    <tr>\n",
       "      <th>Total Revenue</th>\n",
       "      <td>36768149000.0</td>\n",
       "      <td>37299002000.0</td>\n",
       "      <td>35278150000.0</td>\n",
       "      <td>29177113000.0</td>\n",
       "    </tr>\n",
       "    <tr>\n",
       "      <th>Operating Revenue</th>\n",
       "      <td>36768149000.0</td>\n",
       "      <td>37299002000.0</td>\n",
       "      <td>35278150000.0</td>\n",
       "      <td>29177113000.0</td>\n",
       "    </tr>\n",
       "  </tbody>\n",
       "</table>\n",
       "</div>"
      ],
      "text/plain": [
       "                                                       2023-12-31  \\\n",
       "Tax Effect Of Unusual Items                            11422640.0   \n",
       "Tax Rate For Calcs                                           0.34   \n",
       "Normalized EBITDA                                     440378000.0   \n",
       "Total Unusual Items                                    33596000.0   \n",
       "Total Unusual Items Excluding Goodwill                 33596000.0   \n",
       "Net Income From Continuing Operation Net Minori...   -979104000.0   \n",
       "Reconciled Depreciation                              1242690000.0   \n",
       "Reconciled Cost Of Revenue                          26604266000.0   \n",
       "EBITDA                                                473974000.0   \n",
       "EBIT                                                 -768716000.0   \n",
       "Net Interest Income                                 -1728705000.0   \n",
       "Interest Expense                                     1295651000.0   \n",
       "Interest Income                                       176181000.0   \n",
       "Normalized Income                                   -1001277360.0   \n",
       "Net Income From Continuing And Discontinued Ope...   -979104000.0   \n",
       "Total Expenses                                      37118397000.0   \n",
       "Total Operating Income As Reported                   -372148000.0   \n",
       "Diluted Average Shares                                721738896.0   \n",
       "Basic Average Shares                                  715465009.0   \n",
       "Diluted EPS                                             -1.365572   \n",
       "Basic EPS                                               -1.365572   \n",
       "Diluted NI Availto Com Stockholders                  -979104000.0   \n",
       "Net Income Common Stockholders                       -979104000.0   \n",
       "Otherunder Preferred Stock Dividend                           0.0   \n",
       "Net Income                                           -979104000.0   \n",
       "Net Income Including Noncontrolling Interests        -979104000.0   \n",
       "Net Income Continuous Operations                     -979104000.0   \n",
       "Tax Provision                                       -1085263000.0   \n",
       "Pretax Income                                       -2064367000.0   \n",
       "Special Income Charges                               -118534000.0   \n",
       "Other Special Charges                                -201920000.0   \n",
       "Write Off                                              20512000.0   \n",
       "Restructuring And Mergern Acquisition                 299942000.0   \n",
       "Net Non Operating Interest Income Expense           -1728705000.0   \n",
       "Total Other Finance Cost                              609235000.0   \n",
       "Interest Expense Non Operating                       1295651000.0   \n",
       "Interest Income Non Operating                         176181000.0   \n",
       "Operating Income                                     -350248000.0   \n",
       "Operating Expense                                   10514131000.0   \n",
       "Other Operating Expenses                             1046891000.0   \n",
       "Depreciation And Amortization In Income Statement    1242690000.0   \n",
       "Depreciation Income Statement                        1242690000.0   \n",
       "Selling General And Administration                   8337270000.0   \n",
       "Selling And Marketing Expense                        7002066000.0   \n",
       "General And Administrative Expense                   1335204000.0   \n",
       "Gross Profit                                        10163883000.0   \n",
       "Cost Of Revenue                                     26604266000.0   \n",
       "Total Revenue                                       36768149000.0   \n",
       "Operating Revenue                                   36768149000.0   \n",
       "\n",
       "                                                       2022-12-31  \\\n",
       "Tax Effect Of Unusual Items                             -675580.0   \n",
       "Tax Rate For Calcs                                           0.34   \n",
       "Normalized EBITDA                                    1091858000.0   \n",
       "Total Unusual Items                                    -1987000.0   \n",
       "Total Unusual Items Excluding Goodwill                 -1987000.0   \n",
       "Net Income From Continuing Operation Net Minori...   -498975000.0   \n",
       "Reconciled Depreciation                              1163624000.0   \n",
       "Reconciled Cost Of Revenue                          26860106000.0   \n",
       "EBITDA                                               1089871000.0   \n",
       "EBIT                                                  -73753000.0   \n",
       "Net Interest Income                                 -2046544000.0   \n",
       "Interest Expense                                     1195645000.0   \n",
       "Interest Income                                       150832000.0   \n",
       "Normalized Income                                    -497663580.0   \n",
       "Net Income From Continuing And Discontinued Ope...   -498975000.0   \n",
       "Total Expenses                                      36484131000.0   \n",
       "Total Operating Income As Reported                    771635000.0   \n",
       "Diluted Average Shares                                720595601.0   \n",
       "Basic Average Shares                                  713894564.0   \n",
       "Diluted EPS                                             -0.701493   \n",
       "Basic EPS                                               -0.701493   \n",
       "Diluted NI Availto Com Stockholders                  -498975000.0   \n",
       "Net Income Common Stockholders                       -498975000.0   \n",
       "Otherunder Preferred Stock Dividend                           0.0   \n",
       "Net Income                                           -498975000.0   \n",
       "Net Income Including Noncontrolling Interests        -498975000.0   \n",
       "Net Income Continuous Operations                     -498975000.0   \n",
       "Tax Provision                                        -770423000.0   \n",
       "Pretax Income                                       -1269398000.0   \n",
       "Special Income Charges                               -136929000.0   \n",
       "Other Special Charges                                  19746000.0   \n",
       "Write Off                                                695000.0   \n",
       "Restructuring And Mergern Acquisition                 136234000.0   \n",
       "Net Non Operating Interest Income Expense           -2046544000.0   \n",
       "Total Other Finance Cost                             1001731000.0   \n",
       "Interest Expense Non Operating                       1195645000.0   \n",
       "Interest Income Non Operating                         150832000.0   \n",
       "Operating Income                                      814871000.0   \n",
       "Operating Expense                                    9624025000.0   \n",
       "Other Operating Expenses                              425052000.0   \n",
       "Depreciation And Amortization In Income Statement    1163624000.0   \n",
       "Depreciation Income Statement                        1163624000.0   \n",
       "Selling General And Administration                   8111307000.0   \n",
       "Selling And Marketing Expense                        6741109000.0   \n",
       "General And Administrative Expense                   1370198000.0   \n",
       "Gross Profit                                        10438896000.0   \n",
       "Cost Of Revenue                                     26860106000.0   \n",
       "Total Revenue                                       37299002000.0   \n",
       "Operating Revenue                                   37299002000.0   \n",
       "\n",
       "                                                       2021-12-31  \\\n",
       "Tax Effect Of Unusual Items                           -11810580.0   \n",
       "Tax Rate For Calcs                                           0.34   \n",
       "Normalized EBITDA                                    1030940000.0   \n",
       "Total Unusual Items                                   -34737000.0   \n",
       "Total Unusual Items Excluding Goodwill                -34737000.0   \n",
       "Net Income From Continuing Operation Net Minori...    590661000.0   \n",
       "Reconciled Depreciation                               816964000.0   \n",
       "Reconciled Cost Of Revenue                          26791345000.0   \n",
       "EBITDA                                                996203000.0   \n",
       "EBIT                                                  179239000.0   \n",
       "Net Interest Income                                  -687730000.0   \n",
       "Interest Expense                                      397648000.0   \n",
       "Interest Income                                        72955000.0   \n",
       "Normalized Income                                     613587420.0   \n",
       "Net Income From Continuing And Discontinued Ope...    590661000.0   \n",
       "Total Expenses                                      34873420000.0   \n",
       "Total Operating Income As Reported                            NaN   \n",
       "Diluted Average Shares                                720179185.0   \n",
       "Basic Average Shares                                  712643218.0   \n",
       "Diluted EPS                                              0.823085   \n",
       "Basic EPS                                                0.832438   \n",
       "Diluted NI Availto Com Stockholders                   590661000.0   \n",
       "Net Income Common Stockholders                        590661000.0   \n",
       "Otherunder Preferred Stock Dividend                           0.0   \n",
       "Net Income                                            590661000.0   \n",
       "Net Income Including Noncontrolling Interests         590661000.0   \n",
       "Net Income Continuous Operations                      590661000.0   \n",
       "Tax Provision                                        -809070000.0   \n",
       "Pretax Income                                        -218409000.0   \n",
       "Special Income Charges                                -77437000.0   \n",
       "Other Special Charges                                  77437000.0   \n",
       "Write Off                                                     NaN   \n",
       "Restructuring And Mergern Acquisition                         NaN   \n",
       "Net Non Operating Interest Income Expense            -687730000.0   \n",
       "Total Other Finance Cost                              363037000.0   \n",
       "Interest Expense Non Operating                        397648000.0   \n",
       "Interest Income Non Operating                          72955000.0   \n",
       "Operating Income                                      404730000.0   \n",
       "Operating Expense                                    8082075000.0   \n",
       "Other Operating Expenses                              -85675000.0   \n",
       "Depreciation And Amortization In Income Statement     816964000.0   \n",
       "Depreciation Income Statement                         816964000.0   \n",
       "Selling General And Administration                   7406083000.0   \n",
       "Selling And Marketing Expense                        6374429000.0   \n",
       "General And Administrative Expense                   1031654000.0   \n",
       "Gross Profit                                         8486805000.0   \n",
       "Cost Of Revenue                                     26791345000.0   \n",
       "Total Revenue                                       35278150000.0   \n",
       "Operating Revenue                                   35278150000.0   \n",
       "\n",
       "                                                       2020-12-31  \n",
       "Tax Effect Of Unusual Items                             -961308.0  \n",
       "Tax Rate For Calcs                                          0.054  \n",
       "Normalized EBITDA                                    1360414000.0  \n",
       "Total Unusual Items                                   -17802000.0  \n",
       "Total Unusual Items Excluding Goodwill                -17802000.0  \n",
       "Net Income From Continuing Operation Net Minori...    391709000.0  \n",
       "Reconciled Depreciation                               702523000.0  \n",
       "Reconciled Cost Of Revenue                          21657151000.0  \n",
       "EBITDA                                               1342612000.0  \n",
       "EBIT                                                  640089000.0  \n",
       "Net Interest Income                                  -391851000.0  \n",
       "Interest Expense                                      226008000.0  \n",
       "Interest Income                                        58668000.0  \n",
       "Normalized Income                                     408549692.0  \n",
       "Net Income From Continuing And Discontinued Ope...    391709000.0  \n",
       "Total Expenses                                      28473308000.0  \n",
       "Total Operating Income As Reported                            NaN  \n",
       "Diluted Average Shares                                700546850.0  \n",
       "Basic Average Shares                                  692370220.0  \n",
       "Diluted EPS                                              0.561194  \n",
       "Basic EPS                                                0.570547  \n",
       "Diluted NI Availto Com Stockholders                   391709000.0  \n",
       "Net Income Common Stockholders                        391709000.0  \n",
       "Otherunder Preferred Stock Dividend                           0.0  \n",
       "Net Income                                            391709000.0  \n",
       "Net Income Including Noncontrolling Interests         391709000.0  \n",
       "Net Income Continuous Operations                      391709000.0  \n",
       "Tax Provision                                          22372000.0  \n",
       "Pretax Income                                         414081000.0  \n",
       "Special Income Charges                                -36755000.0  \n",
       "Other Special Charges                                  36755000.0  \n",
       "Write Off                                                     NaN  \n",
       "Restructuring And Mergern Acquisition                         NaN  \n",
       "Net Non Operating Interest Income Expense            -391851000.0  \n",
       "Total Other Finance Cost                              224511000.0  \n",
       "Interest Expense Non Operating                        226008000.0  \n",
       "Interest Income Non Operating                          58668000.0  \n",
       "Operating Income                                      703805000.0  \n",
       "Operating Expense                                    6816157000.0  \n",
       "Other Operating Expenses                              101249000.0  \n",
       "Depreciation And Amortization In Income Statement     702523000.0  \n",
       "Depreciation Income Statement                         702523000.0  \n",
       "Selling General And Administration                   6069417000.0  \n",
       "Selling And Marketing Expense                        5162618000.0  \n",
       "General And Administrative Expense                    906799000.0  \n",
       "Gross Profit                                         7519962000.0  \n",
       "Cost Of Revenue                                     21657151000.0  \n",
       "Total Revenue                                       29177113000.0  \n",
       "Operating Revenue                                   29177113000.0  "
      ]
     },
     "metadata": {},
     "output_type": "display_data"
    },
    {
     "name": "stdout",
     "output_type": "stream",
     "text": [
      "Demonstração de Resultado da Empresa yfinance.Ticker object <BHIA3.SA>\n"
     ]
    },
    {
     "data": {
      "text/html": [
       "<div>\n",
       "<style scoped>\n",
       "    .dataframe tbody tr th:only-of-type {\n",
       "        vertical-align: middle;\n",
       "    }\n",
       "\n",
       "    .dataframe tbody tr th {\n",
       "        vertical-align: top;\n",
       "    }\n",
       "\n",
       "    .dataframe thead th {\n",
       "        text-align: right;\n",
       "    }\n",
       "</style>\n",
       "<table border=\"1\" class=\"dataframe\">\n",
       "  <thead>\n",
       "    <tr style=\"text-align: right;\">\n",
       "      <th></th>\n",
       "      <th>2023-12-31</th>\n",
       "      <th>2022-12-31</th>\n",
       "      <th>2021-12-31</th>\n",
       "      <th>2020-12-31</th>\n",
       "    </tr>\n",
       "  </thead>\n",
       "  <tbody>\n",
       "    <tr>\n",
       "      <th>Tax Effect Of Unusual Items</th>\n",
       "      <td>-266461208.94812</td>\n",
       "      <td>-50320000.0</td>\n",
       "      <td>-254320000.0</td>\n",
       "      <td>-162520000.0</td>\n",
       "    </tr>\n",
       "    <tr>\n",
       "      <th>Tax Rate For Calcs</th>\n",
       "      <td>0.375297</td>\n",
       "      <td>0.34</td>\n",
       "      <td>0.34</td>\n",
       "      <td>0.34</td>\n",
       "    </tr>\n",
       "    <tr>\n",
       "      <th>Normalized EBITDA</th>\n",
       "      <td>-200000000.0</td>\n",
       "      <td>2047000000.0</td>\n",
       "      <td>1201000000.0</td>\n",
       "      <td>3118000000.0</td>\n",
       "    </tr>\n",
       "    <tr>\n",
       "      <th>Total Unusual Items</th>\n",
       "      <td>-710000000.0</td>\n",
       "      <td>-148000000.0</td>\n",
       "      <td>-748000000.0</td>\n",
       "      <td>-478000000.0</td>\n",
       "    </tr>\n",
       "    <tr>\n",
       "      <th>Total Unusual Items Excluding Goodwill</th>\n",
       "      <td>-710000000.0</td>\n",
       "      <td>-148000000.0</td>\n",
       "      <td>-748000000.0</td>\n",
       "      <td>-478000000.0</td>\n",
       "    </tr>\n",
       "    <tr>\n",
       "      <th>Net Income From Continuing Operation Net Minority Interest</th>\n",
       "      <td>-2625000000.0</td>\n",
       "      <td>-342000000.0</td>\n",
       "      <td>-297000000.0</td>\n",
       "      <td>1004000000.0</td>\n",
       "    </tr>\n",
       "    <tr>\n",
       "      <th>Reconciled Depreciation</th>\n",
       "      <td>1139000000.0</td>\n",
       "      <td>1118000000.0</td>\n",
       "      <td>993000000.0</td>\n",
       "      <td>912000000.0</td>\n",
       "    </tr>\n",
       "    <tr>\n",
       "      <th>Reconciled Cost Of Revenue</th>\n",
       "      <td>20792000000.0</td>\n",
       "      <td>21684000000.0</td>\n",
       "      <td>21572000000.0</td>\n",
       "      <td>19435000000.0</td>\n",
       "    </tr>\n",
       "    <tr>\n",
       "      <th>EBITDA</th>\n",
       "      <td>-910000000.0</td>\n",
       "      <td>1899000000.0</td>\n",
       "      <td>453000000.0</td>\n",
       "      <td>2640000000.0</td>\n",
       "    </tr>\n",
       "    <tr>\n",
       "      <th>EBIT</th>\n",
       "      <td>-2049000000.0</td>\n",
       "      <td>781000000.0</td>\n",
       "      <td>-540000000.0</td>\n",
       "      <td>1728000000.0</td>\n",
       "    </tr>\n",
       "    <tr>\n",
       "      <th>Net Interest Income</th>\n",
       "      <td>-3041000000.0</td>\n",
       "      <td>-2244000000.0</td>\n",
       "      <td>-1217000000.0</td>\n",
       "      <td>-696000000.0</td>\n",
       "    </tr>\n",
       "    <tr>\n",
       "      <th>Interest Expense</th>\n",
       "      <td>2153000000.0</td>\n",
       "      <td>1864000000.0</td>\n",
       "      <td>1020000000.0</td>\n",
       "      <td>805000000.0</td>\n",
       "    </tr>\n",
       "    <tr>\n",
       "      <th>Interest Income</th>\n",
       "      <td>69000000.0</td>\n",
       "      <td>83000000.0</td>\n",
       "      <td>14000000.0</td>\n",
       "      <td>36000000.0</td>\n",
       "    </tr>\n",
       "    <tr>\n",
       "      <th>Normalized Income</th>\n",
       "      <td>-2181461208.94812</td>\n",
       "      <td>-244320000.0</td>\n",
       "      <td>196680000.0</td>\n",
       "      <td>1319480000.0</td>\n",
       "    </tr>\n",
       "    <tr>\n",
       "      <th>Net Income From Continuing And Discontinued Operation</th>\n",
       "      <td>-2625000000.0</td>\n",
       "      <td>-342000000.0</td>\n",
       "      <td>-297000000.0</td>\n",
       "      <td>1004000000.0</td>\n",
       "    </tr>\n",
       "    <tr>\n",
       "      <th>Total Expenses</th>\n",
       "      <td>29348000000.0</td>\n",
       "      <td>29629000000.0</td>\n",
       "      <td>30539000000.0</td>\n",
       "      <td>26857000000.0</td>\n",
       "    </tr>\n",
       "    <tr>\n",
       "      <th>Diluted Average Shares</th>\n",
       "      <td>72737000.0</td>\n",
       "      <td>63213000.0</td>\n",
       "      <td>72938330.0</td>\n",
       "      <td>68672727.0</td>\n",
       "    </tr>\n",
       "    <tr>\n",
       "      <th>Basic Average Shares</th>\n",
       "      <td>72737000.0</td>\n",
       "      <td>63213000.0</td>\n",
       "      <td>72938330.0</td>\n",
       "      <td>66804223.0</td>\n",
       "    </tr>\n",
       "    <tr>\n",
       "      <th>Diluted EPS</th>\n",
       "      <td>-36.09253</td>\n",
       "      <td>-5.40726</td>\n",
       "      <td>-4.066867</td>\n",
       "      <td>14.619548</td>\n",
       "    </tr>\n",
       "    <tr>\n",
       "      <th>Basic EPS</th>\n",
       "      <td>-36.09253</td>\n",
       "      <td>-5.40726</td>\n",
       "      <td>-4.066867</td>\n",
       "      <td>15.028356</td>\n",
       "    </tr>\n",
       "    <tr>\n",
       "      <th>Diluted NI Availto Com Stockholders</th>\n",
       "      <td>-2625000000.0</td>\n",
       "      <td>-342000000.0</td>\n",
       "      <td>-297000000.0</td>\n",
       "      <td>1004000000.0</td>\n",
       "    </tr>\n",
       "    <tr>\n",
       "      <th>Net Income Common Stockholders</th>\n",
       "      <td>-2625000000.0</td>\n",
       "      <td>-342000000.0</td>\n",
       "      <td>-297000000.0</td>\n",
       "      <td>1004000000.0</td>\n",
       "    </tr>\n",
       "    <tr>\n",
       "      <th>Otherunder Preferred Stock Dividend</th>\n",
       "      <td>0.0</td>\n",
       "      <td>0.0</td>\n",
       "      <td>0.0</td>\n",
       "      <td>0.0</td>\n",
       "    </tr>\n",
       "    <tr>\n",
       "      <th>Net Income</th>\n",
       "      <td>-2625000000.0</td>\n",
       "      <td>-342000000.0</td>\n",
       "      <td>-297000000.0</td>\n",
       "      <td>1004000000.0</td>\n",
       "    </tr>\n",
       "    <tr>\n",
       "      <th>Net Income Including Noncontrolling Interests</th>\n",
       "      <td>-2625000000.0</td>\n",
       "      <td>-342000000.0</td>\n",
       "      <td>-297000000.0</td>\n",
       "      <td>1004000000.0</td>\n",
       "    </tr>\n",
       "    <tr>\n",
       "      <th>Net Income Continuous Operations</th>\n",
       "      <td>-2625000000.0</td>\n",
       "      <td>-342000000.0</td>\n",
       "      <td>-297000000.0</td>\n",
       "      <td>1004000000.0</td>\n",
       "    </tr>\n",
       "    <tr>\n",
       "      <th>Tax Provision</th>\n",
       "      <td>-1577000000.0</td>\n",
       "      <td>-741000000.0</td>\n",
       "      <td>-1263000000.0</td>\n",
       "      <td>-81000000.0</td>\n",
       "    </tr>\n",
       "    <tr>\n",
       "      <th>Pretax Income</th>\n",
       "      <td>-4202000000.0</td>\n",
       "      <td>-1083000000.0</td>\n",
       "      <td>-1560000000.0</td>\n",
       "      <td>923000000.0</td>\n",
       "    </tr>\n",
       "    <tr>\n",
       "      <th>Special Income Charges</th>\n",
       "      <td>-710000000.0</td>\n",
       "      <td>-148000000.0</td>\n",
       "      <td>-748000000.0</td>\n",
       "      <td>-478000000.0</td>\n",
       "    </tr>\n",
       "    <tr>\n",
       "      <th>Other Special Charges</th>\n",
       "      <td>129000000.0</td>\n",
       "      <td>-38000000.0</td>\n",
       "      <td>38000000.0</td>\n",
       "      <td>-59000000.0</td>\n",
       "    </tr>\n",
       "    <tr>\n",
       "      <th>Restructuring And Mergern Acquisition</th>\n",
       "      <td>581000000.0</td>\n",
       "      <td>186000000.0</td>\n",
       "      <td>710000000.0</td>\n",
       "      <td>537000000.0</td>\n",
       "    </tr>\n",
       "    <tr>\n",
       "      <th>Net Non Operating Interest Income Expense</th>\n",
       "      <td>-3041000000.0</td>\n",
       "      <td>-2244000000.0</td>\n",
       "      <td>-1217000000.0</td>\n",
       "      <td>-696000000.0</td>\n",
       "    </tr>\n",
       "    <tr>\n",
       "      <th>Total Other Finance Cost</th>\n",
       "      <td>957000000.0</td>\n",
       "      <td>463000000.0</td>\n",
       "      <td>211000000.0</td>\n",
       "      <td>-73000000.0</td>\n",
       "    </tr>\n",
       "    <tr>\n",
       "      <th>Interest Expense Non Operating</th>\n",
       "      <td>2153000000.0</td>\n",
       "      <td>1864000000.0</td>\n",
       "      <td>1020000000.0</td>\n",
       "      <td>805000000.0</td>\n",
       "    </tr>\n",
       "    <tr>\n",
       "      <th>Interest Income Non Operating</th>\n",
       "      <td>69000000.0</td>\n",
       "      <td>83000000.0</td>\n",
       "      <td>14000000.0</td>\n",
       "      <td>36000000.0</td>\n",
       "    </tr>\n",
       "    <tr>\n",
       "      <th>Operating Income</th>\n",
       "      <td>-501000000.0</td>\n",
       "      <td>1269000000.0</td>\n",
       "      <td>360000000.0</td>\n",
       "      <td>2044000000.0</td>\n",
       "    </tr>\n",
       "    <tr>\n",
       "      <th>Operating Expense</th>\n",
       "      <td>8556000000.0</td>\n",
       "      <td>7945000000.0</td>\n",
       "      <td>8967000000.0</td>\n",
       "      <td>7422000000.0</td>\n",
       "    </tr>\n",
       "    <tr>\n",
       "      <th>Other Operating Expenses</th>\n",
       "      <td>552000000.0</td>\n",
       "      <td>NaN</td>\n",
       "      <td>NaN</td>\n",
       "      <td>NaN</td>\n",
       "    </tr>\n",
       "    <tr>\n",
       "      <th>Depreciation And Amortization In Income Statement</th>\n",
       "      <td>940000000.0</td>\n",
       "      <td>895000000.0</td>\n",
       "      <td>799000000.0</td>\n",
       "      <td>731000000.0</td>\n",
       "    </tr>\n",
       "    <tr>\n",
       "      <th>Depreciation Income Statement</th>\n",
       "      <td>940000000.0</td>\n",
       "      <td>895000000.0</td>\n",
       "      <td>799000000.0</td>\n",
       "      <td>731000000.0</td>\n",
       "    </tr>\n",
       "    <tr>\n",
       "      <th>Selling General And Administration</th>\n",
       "      <td>7064000000.0</td>\n",
       "      <td>7096000000.0</td>\n",
       "      <td>8198000000.0</td>\n",
       "      <td>6783000000.0</td>\n",
       "    </tr>\n",
       "    <tr>\n",
       "      <th>Selling And Marketing Expense</th>\n",
       "      <td>5883000000.0</td>\n",
       "      <td>6160000000.0</td>\n",
       "      <td>7121000000.0</td>\n",
       "      <td>5892000000.0</td>\n",
       "    </tr>\n",
       "    <tr>\n",
       "      <th>General And Administrative Expense</th>\n",
       "      <td>1181000000.0</td>\n",
       "      <td>936000000.0</td>\n",
       "      <td>1077000000.0</td>\n",
       "      <td>891000000.0</td>\n",
       "    </tr>\n",
       "    <tr>\n",
       "      <th>Gross Profit</th>\n",
       "      <td>8055000000.0</td>\n",
       "      <td>9214000000.0</td>\n",
       "      <td>9327000000.0</td>\n",
       "      <td>9466000000.0</td>\n",
       "    </tr>\n",
       "    <tr>\n",
       "      <th>Cost Of Revenue</th>\n",
       "      <td>20792000000.0</td>\n",
       "      <td>21684000000.0</td>\n",
       "      <td>21572000000.0</td>\n",
       "      <td>19435000000.0</td>\n",
       "    </tr>\n",
       "    <tr>\n",
       "      <th>Total Revenue</th>\n",
       "      <td>28847000000.0</td>\n",
       "      <td>30898000000.0</td>\n",
       "      <td>30899000000.0</td>\n",
       "      <td>28901000000.0</td>\n",
       "    </tr>\n",
       "    <tr>\n",
       "      <th>Operating Revenue</th>\n",
       "      <td>28847000000.0</td>\n",
       "      <td>30898000000.0</td>\n",
       "      <td>30899000000.0</td>\n",
       "      <td>28901000000.0</td>\n",
       "    </tr>\n",
       "  </tbody>\n",
       "</table>\n",
       "</div>"
      ],
      "text/plain": [
       "                                                          2023-12-31  \\\n",
       "Tax Effect Of Unusual Items                         -266461208.94812   \n",
       "Tax Rate For Calcs                                          0.375297   \n",
       "Normalized EBITDA                                       -200000000.0   \n",
       "Total Unusual Items                                     -710000000.0   \n",
       "Total Unusual Items Excluding Goodwill                  -710000000.0   \n",
       "Net Income From Continuing Operation Net Minori...     -2625000000.0   \n",
       "Reconciled Depreciation                                 1139000000.0   \n",
       "Reconciled Cost Of Revenue                             20792000000.0   \n",
       "EBITDA                                                  -910000000.0   \n",
       "EBIT                                                   -2049000000.0   \n",
       "Net Interest Income                                    -3041000000.0   \n",
       "Interest Expense                                        2153000000.0   \n",
       "Interest Income                                           69000000.0   \n",
       "Normalized Income                                  -2181461208.94812   \n",
       "Net Income From Continuing And Discontinued Ope...     -2625000000.0   \n",
       "Total Expenses                                         29348000000.0   \n",
       "Diluted Average Shares                                    72737000.0   \n",
       "Basic Average Shares                                      72737000.0   \n",
       "Diluted EPS                                                -36.09253   \n",
       "Basic EPS                                                  -36.09253   \n",
       "Diluted NI Availto Com Stockholders                    -2625000000.0   \n",
       "Net Income Common Stockholders                         -2625000000.0   \n",
       "Otherunder Preferred Stock Dividend                              0.0   \n",
       "Net Income                                             -2625000000.0   \n",
       "Net Income Including Noncontrolling Interests          -2625000000.0   \n",
       "Net Income Continuous Operations                       -2625000000.0   \n",
       "Tax Provision                                          -1577000000.0   \n",
       "Pretax Income                                          -4202000000.0   \n",
       "Special Income Charges                                  -710000000.0   \n",
       "Other Special Charges                                    129000000.0   \n",
       "Restructuring And Mergern Acquisition                    581000000.0   \n",
       "Net Non Operating Interest Income Expense              -3041000000.0   \n",
       "Total Other Finance Cost                                 957000000.0   \n",
       "Interest Expense Non Operating                          2153000000.0   \n",
       "Interest Income Non Operating                             69000000.0   \n",
       "Operating Income                                        -501000000.0   \n",
       "Operating Expense                                       8556000000.0   \n",
       "Other Operating Expenses                                 552000000.0   \n",
       "Depreciation And Amortization In Income Statement        940000000.0   \n",
       "Depreciation Income Statement                            940000000.0   \n",
       "Selling General And Administration                      7064000000.0   \n",
       "Selling And Marketing Expense                           5883000000.0   \n",
       "General And Administrative Expense                      1181000000.0   \n",
       "Gross Profit                                            8055000000.0   \n",
       "Cost Of Revenue                                        20792000000.0   \n",
       "Total Revenue                                          28847000000.0   \n",
       "Operating Revenue                                      28847000000.0   \n",
       "\n",
       "                                                       2022-12-31  \\\n",
       "Tax Effect Of Unusual Items                           -50320000.0   \n",
       "Tax Rate For Calcs                                           0.34   \n",
       "Normalized EBITDA                                    2047000000.0   \n",
       "Total Unusual Items                                  -148000000.0   \n",
       "Total Unusual Items Excluding Goodwill               -148000000.0   \n",
       "Net Income From Continuing Operation Net Minori...   -342000000.0   \n",
       "Reconciled Depreciation                              1118000000.0   \n",
       "Reconciled Cost Of Revenue                          21684000000.0   \n",
       "EBITDA                                               1899000000.0   \n",
       "EBIT                                                  781000000.0   \n",
       "Net Interest Income                                 -2244000000.0   \n",
       "Interest Expense                                     1864000000.0   \n",
       "Interest Income                                        83000000.0   \n",
       "Normalized Income                                    -244320000.0   \n",
       "Net Income From Continuing And Discontinued Ope...   -342000000.0   \n",
       "Total Expenses                                      29629000000.0   \n",
       "Diluted Average Shares                                 63213000.0   \n",
       "Basic Average Shares                                   63213000.0   \n",
       "Diluted EPS                                              -5.40726   \n",
       "Basic EPS                                                -5.40726   \n",
       "Diluted NI Availto Com Stockholders                  -342000000.0   \n",
       "Net Income Common Stockholders                       -342000000.0   \n",
       "Otherunder Preferred Stock Dividend                           0.0   \n",
       "Net Income                                           -342000000.0   \n",
       "Net Income Including Noncontrolling Interests        -342000000.0   \n",
       "Net Income Continuous Operations                     -342000000.0   \n",
       "Tax Provision                                        -741000000.0   \n",
       "Pretax Income                                       -1083000000.0   \n",
       "Special Income Charges                               -148000000.0   \n",
       "Other Special Charges                                 -38000000.0   \n",
       "Restructuring And Mergern Acquisition                 186000000.0   \n",
       "Net Non Operating Interest Income Expense           -2244000000.0   \n",
       "Total Other Finance Cost                              463000000.0   \n",
       "Interest Expense Non Operating                       1864000000.0   \n",
       "Interest Income Non Operating                          83000000.0   \n",
       "Operating Income                                     1269000000.0   \n",
       "Operating Expense                                    7945000000.0   \n",
       "Other Operating Expenses                                      NaN   \n",
       "Depreciation And Amortization In Income Statement     895000000.0   \n",
       "Depreciation Income Statement                         895000000.0   \n",
       "Selling General And Administration                   7096000000.0   \n",
       "Selling And Marketing Expense                        6160000000.0   \n",
       "General And Administrative Expense                    936000000.0   \n",
       "Gross Profit                                         9214000000.0   \n",
       "Cost Of Revenue                                     21684000000.0   \n",
       "Total Revenue                                       30898000000.0   \n",
       "Operating Revenue                                   30898000000.0   \n",
       "\n",
       "                                                       2021-12-31  \\\n",
       "Tax Effect Of Unusual Items                          -254320000.0   \n",
       "Tax Rate For Calcs                                           0.34   \n",
       "Normalized EBITDA                                    1201000000.0   \n",
       "Total Unusual Items                                  -748000000.0   \n",
       "Total Unusual Items Excluding Goodwill               -748000000.0   \n",
       "Net Income From Continuing Operation Net Minori...   -297000000.0   \n",
       "Reconciled Depreciation                               993000000.0   \n",
       "Reconciled Cost Of Revenue                          21572000000.0   \n",
       "EBITDA                                                453000000.0   \n",
       "EBIT                                                 -540000000.0   \n",
       "Net Interest Income                                 -1217000000.0   \n",
       "Interest Expense                                     1020000000.0   \n",
       "Interest Income                                        14000000.0   \n",
       "Normalized Income                                     196680000.0   \n",
       "Net Income From Continuing And Discontinued Ope...   -297000000.0   \n",
       "Total Expenses                                      30539000000.0   \n",
       "Diluted Average Shares                                 72938330.0   \n",
       "Basic Average Shares                                   72938330.0   \n",
       "Diluted EPS                                             -4.066867   \n",
       "Basic EPS                                               -4.066867   \n",
       "Diluted NI Availto Com Stockholders                  -297000000.0   \n",
       "Net Income Common Stockholders                       -297000000.0   \n",
       "Otherunder Preferred Stock Dividend                           0.0   \n",
       "Net Income                                           -297000000.0   \n",
       "Net Income Including Noncontrolling Interests        -297000000.0   \n",
       "Net Income Continuous Operations                     -297000000.0   \n",
       "Tax Provision                                       -1263000000.0   \n",
       "Pretax Income                                       -1560000000.0   \n",
       "Special Income Charges                               -748000000.0   \n",
       "Other Special Charges                                  38000000.0   \n",
       "Restructuring And Mergern Acquisition                 710000000.0   \n",
       "Net Non Operating Interest Income Expense           -1217000000.0   \n",
       "Total Other Finance Cost                              211000000.0   \n",
       "Interest Expense Non Operating                       1020000000.0   \n",
       "Interest Income Non Operating                          14000000.0   \n",
       "Operating Income                                      360000000.0   \n",
       "Operating Expense                                    8967000000.0   \n",
       "Other Operating Expenses                                      NaN   \n",
       "Depreciation And Amortization In Income Statement     799000000.0   \n",
       "Depreciation Income Statement                         799000000.0   \n",
       "Selling General And Administration                   8198000000.0   \n",
       "Selling And Marketing Expense                        7121000000.0   \n",
       "General And Administrative Expense                   1077000000.0   \n",
       "Gross Profit                                         9327000000.0   \n",
       "Cost Of Revenue                                     21572000000.0   \n",
       "Total Revenue                                       30899000000.0   \n",
       "Operating Revenue                                   30899000000.0   \n",
       "\n",
       "                                                       2020-12-31  \n",
       "Tax Effect Of Unusual Items                          -162520000.0  \n",
       "Tax Rate For Calcs                                           0.34  \n",
       "Normalized EBITDA                                    3118000000.0  \n",
       "Total Unusual Items                                  -478000000.0  \n",
       "Total Unusual Items Excluding Goodwill               -478000000.0  \n",
       "Net Income From Continuing Operation Net Minori...   1004000000.0  \n",
       "Reconciled Depreciation                               912000000.0  \n",
       "Reconciled Cost Of Revenue                          19435000000.0  \n",
       "EBITDA                                               2640000000.0  \n",
       "EBIT                                                 1728000000.0  \n",
       "Net Interest Income                                  -696000000.0  \n",
       "Interest Expense                                      805000000.0  \n",
       "Interest Income                                        36000000.0  \n",
       "Normalized Income                                    1319480000.0  \n",
       "Net Income From Continuing And Discontinued Ope...   1004000000.0  \n",
       "Total Expenses                                      26857000000.0  \n",
       "Diluted Average Shares                                 68672727.0  \n",
       "Basic Average Shares                                   66804223.0  \n",
       "Diluted EPS                                             14.619548  \n",
       "Basic EPS                                               15.028356  \n",
       "Diluted NI Availto Com Stockholders                  1004000000.0  \n",
       "Net Income Common Stockholders                       1004000000.0  \n",
       "Otherunder Preferred Stock Dividend                           0.0  \n",
       "Net Income                                           1004000000.0  \n",
       "Net Income Including Noncontrolling Interests        1004000000.0  \n",
       "Net Income Continuous Operations                     1004000000.0  \n",
       "Tax Provision                                         -81000000.0  \n",
       "Pretax Income                                         923000000.0  \n",
       "Special Income Charges                               -478000000.0  \n",
       "Other Special Charges                                 -59000000.0  \n",
       "Restructuring And Mergern Acquisition                 537000000.0  \n",
       "Net Non Operating Interest Income Expense            -696000000.0  \n",
       "Total Other Finance Cost                              -73000000.0  \n",
       "Interest Expense Non Operating                        805000000.0  \n",
       "Interest Income Non Operating                          36000000.0  \n",
       "Operating Income                                     2044000000.0  \n",
       "Operating Expense                                    7422000000.0  \n",
       "Other Operating Expenses                                      NaN  \n",
       "Depreciation And Amortization In Income Statement     731000000.0  \n",
       "Depreciation Income Statement                         731000000.0  \n",
       "Selling General And Administration                   6783000000.0  \n",
       "Selling And Marketing Expense                        5892000000.0  \n",
       "General And Administrative Expense                    891000000.0  \n",
       "Gross Profit                                         9466000000.0  \n",
       "Cost Of Revenue                                     19435000000.0  \n",
       "Total Revenue                                       28901000000.0  \n",
       "Operating Revenue                                   28901000000.0  "
      ]
     },
     "metadata": {},
     "output_type": "display_data"
    },
    {
     "name": "stdout",
     "output_type": "stream",
     "text": [
      "Demonstração de Resultado da Empresa yfinance.Ticker object <PCAR3.SA>\n"
     ]
    },
    {
     "data": {
      "text/html": [
       "<div>\n",
       "<style scoped>\n",
       "    .dataframe tbody tr th:only-of-type {\n",
       "        vertical-align: middle;\n",
       "    }\n",
       "\n",
       "    .dataframe tbody tr th {\n",
       "        vertical-align: top;\n",
       "    }\n",
       "\n",
       "    .dataframe thead th {\n",
       "        text-align: right;\n",
       "    }\n",
       "</style>\n",
       "<table border=\"1\" class=\"dataframe\">\n",
       "  <thead>\n",
       "    <tr style=\"text-align: right;\">\n",
       "      <th></th>\n",
       "      <th>2023-12-31</th>\n",
       "      <th>2022-12-31</th>\n",
       "      <th>2021-12-31</th>\n",
       "      <th>2020-12-31</th>\n",
       "      <th>2019-12-31</th>\n",
       "    </tr>\n",
       "  </thead>\n",
       "  <tbody>\n",
       "    <tr>\n",
       "      <th>Tax Effect Of Unusual Items</th>\n",
       "      <td>72080000.0</td>\n",
       "      <td>-53506000.0</td>\n",
       "      <td>-43520000.0</td>\n",
       "      <td>241060000.0</td>\n",
       "      <td>NaN</td>\n",
       "    </tr>\n",
       "    <tr>\n",
       "      <th>Tax Rate For Calcs</th>\n",
       "      <td>0.34</td>\n",
       "      <td>0.3452</td>\n",
       "      <td>0.34</td>\n",
       "      <td>0.34</td>\n",
       "      <td>NaN</td>\n",
       "    </tr>\n",
       "    <tr>\n",
       "      <th>Normalized EBITDA</th>\n",
       "      <td>1972000000.0</td>\n",
       "      <td>2051000000.0</td>\n",
       "      <td>2435000000.0</td>\n",
       "      <td>3104000000.0</td>\n",
       "      <td>NaN</td>\n",
       "    </tr>\n",
       "    <tr>\n",
       "      <th>Total Unusual Items</th>\n",
       "      <td>212000000.0</td>\n",
       "      <td>-155000000.0</td>\n",
       "      <td>-128000000.0</td>\n",
       "      <td>709000000.0</td>\n",
       "      <td>NaN</td>\n",
       "    </tr>\n",
       "    <tr>\n",
       "      <th>Total Unusual Items Excluding Goodwill</th>\n",
       "      <td>212000000.0</td>\n",
       "      <td>-155000000.0</td>\n",
       "      <td>-128000000.0</td>\n",
       "      <td>709000000.0</td>\n",
       "      <td>NaN</td>\n",
       "    </tr>\n",
       "    <tr>\n",
       "      <th>Net Income From Continuing Operation Net Minority Interest</th>\n",
       "      <td>-51000000.0</td>\n",
       "      <td>-1029000000.0</td>\n",
       "      <td>-3000000.0</td>\n",
       "      <td>164000000.0</td>\n",
       "      <td>NaN</td>\n",
       "    </tr>\n",
       "    <tr>\n",
       "      <th>Reconciled Depreciation</th>\n",
       "      <td>1136000000.0</td>\n",
       "      <td>1902000000.0</td>\n",
       "      <td>2117000000.0</td>\n",
       "      <td>2564000000.0</td>\n",
       "      <td>NaN</td>\n",
       "    </tr>\n",
       "    <tr>\n",
       "      <th>Reconciled Cost Of Revenue</th>\n",
       "      <td>14314000000.0</td>\n",
       "      <td>12048000000.0</td>\n",
       "      <td>10635000000.0</td>\n",
       "      <td>10147000000.0</td>\n",
       "      <td>NaN</td>\n",
       "    </tr>\n",
       "    <tr>\n",
       "      <th>EBITDA</th>\n",
       "      <td>2184000000.0</td>\n",
       "      <td>1896000000.0</td>\n",
       "      <td>2307000000.0</td>\n",
       "      <td>3813000000.0</td>\n",
       "      <td>NaN</td>\n",
       "    </tr>\n",
       "    <tr>\n",
       "      <th>EBIT</th>\n",
       "      <td>1048000000.0</td>\n",
       "      <td>-6000000.0</td>\n",
       "      <td>190000000.0</td>\n",
       "      <td>1249000000.0</td>\n",
       "      <td>NaN</td>\n",
       "    </tr>\n",
       "    <tr>\n",
       "      <th>Net Interest Income</th>\n",
       "      <td>-1409000000.0</td>\n",
       "      <td>-887000000.0</td>\n",
       "      <td>-701000000.0</td>\n",
       "      <td>-394000000.0</td>\n",
       "      <td>NaN</td>\n",
       "    </tr>\n",
       "    <tr>\n",
       "      <th>Interest Expense</th>\n",
       "      <td>1380000000.0</td>\n",
       "      <td>1309000000.0</td>\n",
       "      <td>760000000.0</td>\n",
       "      <td>620000000.0</td>\n",
       "      <td>NaN</td>\n",
       "    </tr>\n",
       "    <tr>\n",
       "      <th>Interest Income</th>\n",
       "      <td>229000000.0</td>\n",
       "      <td>640000000.0</td>\n",
       "      <td>238000000.0</td>\n",
       "      <td>8000000.0</td>\n",
       "      <td>NaN</td>\n",
       "    </tr>\n",
       "    <tr>\n",
       "      <th>Normalized Income</th>\n",
       "      <td>-190920000.0</td>\n",
       "      <td>-927506000.0</td>\n",
       "      <td>81480000.0</td>\n",
       "      <td>-303940000.0</td>\n",
       "      <td>NaN</td>\n",
       "    </tr>\n",
       "    <tr>\n",
       "      <th>Net Income From Continuing And Discontinued Operation</th>\n",
       "      <td>-2271000000.0</td>\n",
       "      <td>-172000000.0</td>\n",
       "      <td>802000000.0</td>\n",
       "      <td>2179000000.0</td>\n",
       "      <td>NaN</td>\n",
       "    </tr>\n",
       "    <tr>\n",
       "      <th>Total Expenses</th>\n",
       "      <td>19153000000.0</td>\n",
       "      <td>17389000000.0</td>\n",
       "      <td>15981000000.0</td>\n",
       "      <td>16553000000.0</td>\n",
       "      <td>NaN</td>\n",
       "    </tr>\n",
       "    <tr>\n",
       "      <th>Total Operating Income As Reported</th>\n",
       "      <td>NaN</td>\n",
       "      <td>-360000000.0</td>\n",
       "      <td>1737000000.0</td>\n",
       "      <td>892000000.0</td>\n",
       "      <td>501000000.0</td>\n",
       "    </tr>\n",
       "    <tr>\n",
       "      <th>Diluted Average Shares</th>\n",
       "      <td>275000000.0</td>\n",
       "      <td>269000000.0</td>\n",
       "      <td>269000000.0</td>\n",
       "      <td>269000000.0</td>\n",
       "      <td>NaN</td>\n",
       "    </tr>\n",
       "    <tr>\n",
       "      <th>Basic Average Shares</th>\n",
       "      <td>270000000.0</td>\n",
       "      <td>269000000.0</td>\n",
       "      <td>269000000.0</td>\n",
       "      <td>268000000.0</td>\n",
       "      <td>NaN</td>\n",
       "    </tr>\n",
       "    <tr>\n",
       "      <th>Diluted EPS</th>\n",
       "      <td>-8.41791</td>\n",
       "      <td>-0.63851</td>\n",
       "      <td>2.9804</td>\n",
       "      <td>8.12104</td>\n",
       "      <td>NaN</td>\n",
       "    </tr>\n",
       "    <tr>\n",
       "      <th>Basic EPS</th>\n",
       "      <td>-8.41175</td>\n",
       "      <td>-0.63851</td>\n",
       "      <td>2.98481</td>\n",
       "      <td>8.13283</td>\n",
       "      <td>NaN</td>\n",
       "    </tr>\n",
       "    <tr>\n",
       "      <th>Diluted NI Availto Com Stockholders</th>\n",
       "      <td>-2271000000.0</td>\n",
       "      <td>-172000000.0</td>\n",
       "      <td>802000000.0</td>\n",
       "      <td>2179000000.0</td>\n",
       "      <td>NaN</td>\n",
       "    </tr>\n",
       "    <tr>\n",
       "      <th>Net Income Common Stockholders</th>\n",
       "      <td>-2271000000.0</td>\n",
       "      <td>-172000000.0</td>\n",
       "      <td>802000000.0</td>\n",
       "      <td>2179000000.0</td>\n",
       "      <td>NaN</td>\n",
       "    </tr>\n",
       "    <tr>\n",
       "      <th>Net Income</th>\n",
       "      <td>-2271000000.0</td>\n",
       "      <td>-172000000.0</td>\n",
       "      <td>802000000.0</td>\n",
       "      <td>2179000000.0</td>\n",
       "      <td>NaN</td>\n",
       "    </tr>\n",
       "    <tr>\n",
       "      <th>Minority Interests</th>\n",
       "      <td>-137000000.0</td>\n",
       "      <td>-168000000.0</td>\n",
       "      <td>-158000000.0</td>\n",
       "      <td>-147000000.0</td>\n",
       "      <td>NaN</td>\n",
       "    </tr>\n",
       "    <tr>\n",
       "      <th>Net Income Including Noncontrolling Interests</th>\n",
       "      <td>-2134000000.0</td>\n",
       "      <td>-4000000.0</td>\n",
       "      <td>960000000.0</td>\n",
       "      <td>2326000000.0</td>\n",
       "      <td>NaN</td>\n",
       "    </tr>\n",
       "    <tr>\n",
       "      <th>Net Income Discontinuous Operations</th>\n",
       "      <td>-2220000000.0</td>\n",
       "      <td>857000000.0</td>\n",
       "      <td>805000000.0</td>\n",
       "      <td>2015000000.0</td>\n",
       "      <td>NaN</td>\n",
       "    </tr>\n",
       "    <tr>\n",
       "      <th>Net Income Continuous Operations</th>\n",
       "      <td>86000000.0</td>\n",
       "      <td>-861000000.0</td>\n",
       "      <td>155000000.0</td>\n",
       "      <td>311000000.0</td>\n",
       "      <td>NaN</td>\n",
       "    </tr>\n",
       "    <tr>\n",
       "      <th>Tax Provision</th>\n",
       "      <td>-418000000.0</td>\n",
       "      <td>-454000000.0</td>\n",
       "      <td>-725000000.0</td>\n",
       "      <td>318000000.0</td>\n",
       "      <td>NaN</td>\n",
       "    </tr>\n",
       "    <tr>\n",
       "      <th>Pretax Income</th>\n",
       "      <td>-332000000.0</td>\n",
       "      <td>-1315000000.0</td>\n",
       "      <td>-570000000.0</td>\n",
       "      <td>629000000.0</td>\n",
       "      <td>NaN</td>\n",
       "    </tr>\n",
       "    <tr>\n",
       "      <th>Other Income Expense</th>\n",
       "      <td>980000000.0</td>\n",
       "      <td>-360000000.0</td>\n",
       "      <td>-186000000.0</td>\n",
       "      <td>780000000.0</td>\n",
       "      <td>NaN</td>\n",
       "    </tr>\n",
       "    <tr>\n",
       "      <th>Special Income Charges</th>\n",
       "      <td>-188000000.0</td>\n",
       "      <td>-292000000.0</td>\n",
       "      <td>-206000000.0</td>\n",
       "      <td>649000000.0</td>\n",
       "      <td>NaN</td>\n",
       "    </tr>\n",
       "    <tr>\n",
       "      <th>Gain On Sale Of Ppe</th>\n",
       "      <td>186000000.0</td>\n",
       "      <td>23000000.0</td>\n",
       "      <td>57000000.0</td>\n",
       "      <td>518000000.0</td>\n",
       "      <td>NaN</td>\n",
       "    </tr>\n",
       "    <tr>\n",
       "      <th>Gain On Sale Of Business</th>\n",
       "      <td>NaN</td>\n",
       "      <td>NaN</td>\n",
       "      <td>426000000.0</td>\n",
       "      <td>0.0</td>\n",
       "      <td>0.0</td>\n",
       "    </tr>\n",
       "    <tr>\n",
       "      <th>Other Special Charges</th>\n",
       "      <td>NaN</td>\n",
       "      <td>NaN</td>\n",
       "      <td>NaN</td>\n",
       "      <td>84000000.0</td>\n",
       "      <td>NaN</td>\n",
       "    </tr>\n",
       "    <tr>\n",
       "      <th>Restructuring And Mergern Acquisition</th>\n",
       "      <td>374000000.0</td>\n",
       "      <td>315000000.0</td>\n",
       "      <td>263000000.0</td>\n",
       "      <td>-215000000.0</td>\n",
       "      <td>NaN</td>\n",
       "    </tr>\n",
       "    <tr>\n",
       "      <th>Earnings From Equity Interest</th>\n",
       "      <td>768000000.0</td>\n",
       "      <td>-205000000.0</td>\n",
       "      <td>-58000000.0</td>\n",
       "      <td>71000000.0</td>\n",
       "      <td>NaN</td>\n",
       "    </tr>\n",
       "    <tr>\n",
       "      <th>Gain On Sale Of Security</th>\n",
       "      <td>400000000.0</td>\n",
       "      <td>137000000.0</td>\n",
       "      <td>78000000.0</td>\n",
       "      <td>60000000.0</td>\n",
       "      <td>NaN</td>\n",
       "    </tr>\n",
       "    <tr>\n",
       "      <th>Net Non Operating Interest Income Expense</th>\n",
       "      <td>-1409000000.0</td>\n",
       "      <td>-887000000.0</td>\n",
       "      <td>-701000000.0</td>\n",
       "      <td>-394000000.0</td>\n",
       "      <td>NaN</td>\n",
       "    </tr>\n",
       "    <tr>\n",
       "      <th>Total Other Finance Cost</th>\n",
       "      <td>258000000.0</td>\n",
       "      <td>218000000.0</td>\n",
       "      <td>179000000.0</td>\n",
       "      <td>-226000000.0</td>\n",
       "      <td>NaN</td>\n",
       "    </tr>\n",
       "    <tr>\n",
       "      <th>Interest Expense Non Operating</th>\n",
       "      <td>1380000000.0</td>\n",
       "      <td>1309000000.0</td>\n",
       "      <td>760000000.0</td>\n",
       "      <td>620000000.0</td>\n",
       "      <td>NaN</td>\n",
       "    </tr>\n",
       "    <tr>\n",
       "      <th>Interest Income Non Operating</th>\n",
       "      <td>229000000.0</td>\n",
       "      <td>640000000.0</td>\n",
       "      <td>238000000.0</td>\n",
       "      <td>8000000.0</td>\n",
       "      <td>NaN</td>\n",
       "    </tr>\n",
       "    <tr>\n",
       "      <th>Operating Income</th>\n",
       "      <td>97000000.0</td>\n",
       "      <td>-68000000.0</td>\n",
       "      <td>317000000.0</td>\n",
       "      <td>243000000.0</td>\n",
       "      <td>NaN</td>\n",
       "    </tr>\n",
       "    <tr>\n",
       "      <th>Operating Expense</th>\n",
       "      <td>4720000000.0</td>\n",
       "      <td>4370000000.0</td>\n",
       "      <td>4039000000.0</td>\n",
       "      <td>4614000000.0</td>\n",
       "      <td>NaN</td>\n",
       "    </tr>\n",
       "    <tr>\n",
       "      <th>Other Operating Expenses</th>\n",
       "      <td>213000000.0</td>\n",
       "      <td>1000000.0</td>\n",
       "      <td>-11000000.0</td>\n",
       "      <td>NaN</td>\n",
       "      <td>NaN</td>\n",
       "    </tr>\n",
       "    <tr>\n",
       "      <th>Other Taxes</th>\n",
       "      <td>25000000.0</td>\n",
       "      <td>141000000.0</td>\n",
       "      <td>-27000000.0</td>\n",
       "      <td>306000000.0</td>\n",
       "      <td>NaN</td>\n",
       "    </tr>\n",
       "    <tr>\n",
       "      <th>Depreciation Amortization Depletion Income Statement</th>\n",
       "      <td>1017000000.0</td>\n",
       "      <td>931000000.0</td>\n",
       "      <td>810000000.0</td>\n",
       "      <td>772000000.0</td>\n",
       "      <td>NaN</td>\n",
       "    </tr>\n",
       "    <tr>\n",
       "      <th>Depreciation And Amortization In Income Statement</th>\n",
       "      <td>1017000000.0</td>\n",
       "      <td>931000000.0</td>\n",
       "      <td>810000000.0</td>\n",
       "      <td>772000000.0</td>\n",
       "      <td>NaN</td>\n",
       "    </tr>\n",
       "    <tr>\n",
       "      <th>Selling General And Administration</th>\n",
       "      <td>3678000000.0</td>\n",
       "      <td>3297000000.0</td>\n",
       "      <td>3267000000.0</td>\n",
       "      <td>3536000000.0</td>\n",
       "      <td>NaN</td>\n",
       "    </tr>\n",
       "    <tr>\n",
       "      <th>Selling And Marketing Expense</th>\n",
       "      <td>3104000000.0</td>\n",
       "      <td>2699000000.0</td>\n",
       "      <td>2572000000.0</td>\n",
       "      <td>2809000000.0</td>\n",
       "      <td>NaN</td>\n",
       "    </tr>\n",
       "    <tr>\n",
       "      <th>General And Administrative Expense</th>\n",
       "      <td>574000000.0</td>\n",
       "      <td>598000000.0</td>\n",
       "      <td>695000000.0</td>\n",
       "      <td>727000000.0</td>\n",
       "      <td>NaN</td>\n",
       "    </tr>\n",
       "    <tr>\n",
       "      <th>Other Gand A</th>\n",
       "      <td>574000000.0</td>\n",
       "      <td>598000000.0</td>\n",
       "      <td>695000000.0</td>\n",
       "      <td>727000000.0</td>\n",
       "      <td>NaN</td>\n",
       "    </tr>\n",
       "    <tr>\n",
       "      <th>Gross Profit</th>\n",
       "      <td>4817000000.0</td>\n",
       "      <td>4302000000.0</td>\n",
       "      <td>4356000000.0</td>\n",
       "      <td>4857000000.0</td>\n",
       "      <td>NaN</td>\n",
       "    </tr>\n",
       "    <tr>\n",
       "      <th>Cost Of Revenue</th>\n",
       "      <td>14433000000.0</td>\n",
       "      <td>13019000000.0</td>\n",
       "      <td>11942000000.0</td>\n",
       "      <td>11939000000.0</td>\n",
       "      <td>NaN</td>\n",
       "    </tr>\n",
       "    <tr>\n",
       "      <th>Total Revenue</th>\n",
       "      <td>19250000000.0</td>\n",
       "      <td>17321000000.0</td>\n",
       "      <td>16298000000.0</td>\n",
       "      <td>16796000000.0</td>\n",
       "      <td>NaN</td>\n",
       "    </tr>\n",
       "    <tr>\n",
       "      <th>Excise Taxes</th>\n",
       "      <td>1368000000.0</td>\n",
       "      <td>1210000000.0</td>\n",
       "      <td>1101000000.0</td>\n",
       "      <td>825000000.0</td>\n",
       "      <td>NaN</td>\n",
       "    </tr>\n",
       "    <tr>\n",
       "      <th>Operating Revenue</th>\n",
       "      <td>20770000000.0</td>\n",
       "      <td>18681000000.0</td>\n",
       "      <td>17527000000.0</td>\n",
       "      <td>17698000000.0</td>\n",
       "      <td>NaN</td>\n",
       "    </tr>\n",
       "  </tbody>\n",
       "</table>\n",
       "</div>"
      ],
      "text/plain": [
       "                                                       2023-12-31  \\\n",
       "Tax Effect Of Unusual Items                            72080000.0   \n",
       "Tax Rate For Calcs                                           0.34   \n",
       "Normalized EBITDA                                    1972000000.0   \n",
       "Total Unusual Items                                   212000000.0   \n",
       "Total Unusual Items Excluding Goodwill                212000000.0   \n",
       "Net Income From Continuing Operation Net Minori...    -51000000.0   \n",
       "Reconciled Depreciation                              1136000000.0   \n",
       "Reconciled Cost Of Revenue                          14314000000.0   \n",
       "EBITDA                                               2184000000.0   \n",
       "EBIT                                                 1048000000.0   \n",
       "Net Interest Income                                 -1409000000.0   \n",
       "Interest Expense                                     1380000000.0   \n",
       "Interest Income                                       229000000.0   \n",
       "Normalized Income                                    -190920000.0   \n",
       "Net Income From Continuing And Discontinued Ope...  -2271000000.0   \n",
       "Total Expenses                                      19153000000.0   \n",
       "Total Operating Income As Reported                            NaN   \n",
       "Diluted Average Shares                                275000000.0   \n",
       "Basic Average Shares                                  270000000.0   \n",
       "Diluted EPS                                              -8.41791   \n",
       "Basic EPS                                                -8.41175   \n",
       "Diluted NI Availto Com Stockholders                 -2271000000.0   \n",
       "Net Income Common Stockholders                      -2271000000.0   \n",
       "Net Income                                          -2271000000.0   \n",
       "Minority Interests                                   -137000000.0   \n",
       "Net Income Including Noncontrolling Interests       -2134000000.0   \n",
       "Net Income Discontinuous Operations                 -2220000000.0   \n",
       "Net Income Continuous Operations                       86000000.0   \n",
       "Tax Provision                                        -418000000.0   \n",
       "Pretax Income                                        -332000000.0   \n",
       "Other Income Expense                                  980000000.0   \n",
       "Special Income Charges                               -188000000.0   \n",
       "Gain On Sale Of Ppe                                   186000000.0   \n",
       "Gain On Sale Of Business                                      NaN   \n",
       "Other Special Charges                                         NaN   \n",
       "Restructuring And Mergern Acquisition                 374000000.0   \n",
       "Earnings From Equity Interest                         768000000.0   \n",
       "Gain On Sale Of Security                              400000000.0   \n",
       "Net Non Operating Interest Income Expense           -1409000000.0   \n",
       "Total Other Finance Cost                              258000000.0   \n",
       "Interest Expense Non Operating                       1380000000.0   \n",
       "Interest Income Non Operating                         229000000.0   \n",
       "Operating Income                                       97000000.0   \n",
       "Operating Expense                                    4720000000.0   \n",
       "Other Operating Expenses                              213000000.0   \n",
       "Other Taxes                                            25000000.0   \n",
       "Depreciation Amortization Depletion Income Stat...   1017000000.0   \n",
       "Depreciation And Amortization In Income Statement    1017000000.0   \n",
       "Selling General And Administration                   3678000000.0   \n",
       "Selling And Marketing Expense                        3104000000.0   \n",
       "General And Administrative Expense                    574000000.0   \n",
       "Other Gand A                                          574000000.0   \n",
       "Gross Profit                                         4817000000.0   \n",
       "Cost Of Revenue                                     14433000000.0   \n",
       "Total Revenue                                       19250000000.0   \n",
       "Excise Taxes                                         1368000000.0   \n",
       "Operating Revenue                                   20770000000.0   \n",
       "\n",
       "                                                       2022-12-31  \\\n",
       "Tax Effect Of Unusual Items                           -53506000.0   \n",
       "Tax Rate For Calcs                                         0.3452   \n",
       "Normalized EBITDA                                    2051000000.0   \n",
       "Total Unusual Items                                  -155000000.0   \n",
       "Total Unusual Items Excluding Goodwill               -155000000.0   \n",
       "Net Income From Continuing Operation Net Minori...  -1029000000.0   \n",
       "Reconciled Depreciation                              1902000000.0   \n",
       "Reconciled Cost Of Revenue                          12048000000.0   \n",
       "EBITDA                                               1896000000.0   \n",
       "EBIT                                                   -6000000.0   \n",
       "Net Interest Income                                  -887000000.0   \n",
       "Interest Expense                                     1309000000.0   \n",
       "Interest Income                                       640000000.0   \n",
       "Normalized Income                                    -927506000.0   \n",
       "Net Income From Continuing And Discontinued Ope...   -172000000.0   \n",
       "Total Expenses                                      17389000000.0   \n",
       "Total Operating Income As Reported                   -360000000.0   \n",
       "Diluted Average Shares                                269000000.0   \n",
       "Basic Average Shares                                  269000000.0   \n",
       "Diluted EPS                                              -0.63851   \n",
       "Basic EPS                                                -0.63851   \n",
       "Diluted NI Availto Com Stockholders                  -172000000.0   \n",
       "Net Income Common Stockholders                       -172000000.0   \n",
       "Net Income                                           -172000000.0   \n",
       "Minority Interests                                   -168000000.0   \n",
       "Net Income Including Noncontrolling Interests          -4000000.0   \n",
       "Net Income Discontinuous Operations                   857000000.0   \n",
       "Net Income Continuous Operations                     -861000000.0   \n",
       "Tax Provision                                        -454000000.0   \n",
       "Pretax Income                                       -1315000000.0   \n",
       "Other Income Expense                                 -360000000.0   \n",
       "Special Income Charges                               -292000000.0   \n",
       "Gain On Sale Of Ppe                                    23000000.0   \n",
       "Gain On Sale Of Business                                      NaN   \n",
       "Other Special Charges                                         NaN   \n",
       "Restructuring And Mergern Acquisition                 315000000.0   \n",
       "Earnings From Equity Interest                        -205000000.0   \n",
       "Gain On Sale Of Security                              137000000.0   \n",
       "Net Non Operating Interest Income Expense            -887000000.0   \n",
       "Total Other Finance Cost                              218000000.0   \n",
       "Interest Expense Non Operating                       1309000000.0   \n",
       "Interest Income Non Operating                         640000000.0   \n",
       "Operating Income                                      -68000000.0   \n",
       "Operating Expense                                    4370000000.0   \n",
       "Other Operating Expenses                                1000000.0   \n",
       "Other Taxes                                           141000000.0   \n",
       "Depreciation Amortization Depletion Income Stat...    931000000.0   \n",
       "Depreciation And Amortization In Income Statement     931000000.0   \n",
       "Selling General And Administration                   3297000000.0   \n",
       "Selling And Marketing Expense                        2699000000.0   \n",
       "General And Administrative Expense                    598000000.0   \n",
       "Other Gand A                                          598000000.0   \n",
       "Gross Profit                                         4302000000.0   \n",
       "Cost Of Revenue                                     13019000000.0   \n",
       "Total Revenue                                       17321000000.0   \n",
       "Excise Taxes                                         1210000000.0   \n",
       "Operating Revenue                                   18681000000.0   \n",
       "\n",
       "                                                       2021-12-31  \\\n",
       "Tax Effect Of Unusual Items                           -43520000.0   \n",
       "Tax Rate For Calcs                                           0.34   \n",
       "Normalized EBITDA                                    2435000000.0   \n",
       "Total Unusual Items                                  -128000000.0   \n",
       "Total Unusual Items Excluding Goodwill               -128000000.0   \n",
       "Net Income From Continuing Operation Net Minori...     -3000000.0   \n",
       "Reconciled Depreciation                              2117000000.0   \n",
       "Reconciled Cost Of Revenue                          10635000000.0   \n",
       "EBITDA                                               2307000000.0   \n",
       "EBIT                                                  190000000.0   \n",
       "Net Interest Income                                  -701000000.0   \n",
       "Interest Expense                                      760000000.0   \n",
       "Interest Income                                       238000000.0   \n",
       "Normalized Income                                      81480000.0   \n",
       "Net Income From Continuing And Discontinued Ope...    802000000.0   \n",
       "Total Expenses                                      15981000000.0   \n",
       "Total Operating Income As Reported                   1737000000.0   \n",
       "Diluted Average Shares                                269000000.0   \n",
       "Basic Average Shares                                  269000000.0   \n",
       "Diluted EPS                                                2.9804   \n",
       "Basic EPS                                                 2.98481   \n",
       "Diluted NI Availto Com Stockholders                   802000000.0   \n",
       "Net Income Common Stockholders                        802000000.0   \n",
       "Net Income                                            802000000.0   \n",
       "Minority Interests                                   -158000000.0   \n",
       "Net Income Including Noncontrolling Interests         960000000.0   \n",
       "Net Income Discontinuous Operations                   805000000.0   \n",
       "Net Income Continuous Operations                      155000000.0   \n",
       "Tax Provision                                        -725000000.0   \n",
       "Pretax Income                                        -570000000.0   \n",
       "Other Income Expense                                 -186000000.0   \n",
       "Special Income Charges                               -206000000.0   \n",
       "Gain On Sale Of Ppe                                    57000000.0   \n",
       "Gain On Sale Of Business                              426000000.0   \n",
       "Other Special Charges                                         NaN   \n",
       "Restructuring And Mergern Acquisition                 263000000.0   \n",
       "Earnings From Equity Interest                         -58000000.0   \n",
       "Gain On Sale Of Security                               78000000.0   \n",
       "Net Non Operating Interest Income Expense            -701000000.0   \n",
       "Total Other Finance Cost                              179000000.0   \n",
       "Interest Expense Non Operating                        760000000.0   \n",
       "Interest Income Non Operating                         238000000.0   \n",
       "Operating Income                                      317000000.0   \n",
       "Operating Expense                                    4039000000.0   \n",
       "Other Operating Expenses                              -11000000.0   \n",
       "Other Taxes                                           -27000000.0   \n",
       "Depreciation Amortization Depletion Income Stat...    810000000.0   \n",
       "Depreciation And Amortization In Income Statement     810000000.0   \n",
       "Selling General And Administration                   3267000000.0   \n",
       "Selling And Marketing Expense                        2572000000.0   \n",
       "General And Administrative Expense                    695000000.0   \n",
       "Other Gand A                                          695000000.0   \n",
       "Gross Profit                                         4356000000.0   \n",
       "Cost Of Revenue                                     11942000000.0   \n",
       "Total Revenue                                       16298000000.0   \n",
       "Excise Taxes                                         1101000000.0   \n",
       "Operating Revenue                                   17527000000.0   \n",
       "\n",
       "                                                       2020-12-31   2019-12-31  \n",
       "Tax Effect Of Unusual Items                           241060000.0          NaN  \n",
       "Tax Rate For Calcs                                           0.34          NaN  \n",
       "Normalized EBITDA                                    3104000000.0          NaN  \n",
       "Total Unusual Items                                   709000000.0          NaN  \n",
       "Total Unusual Items Excluding Goodwill                709000000.0          NaN  \n",
       "Net Income From Continuing Operation Net Minori...    164000000.0          NaN  \n",
       "Reconciled Depreciation                              2564000000.0          NaN  \n",
       "Reconciled Cost Of Revenue                          10147000000.0          NaN  \n",
       "EBITDA                                               3813000000.0          NaN  \n",
       "EBIT                                                 1249000000.0          NaN  \n",
       "Net Interest Income                                  -394000000.0          NaN  \n",
       "Interest Expense                                      620000000.0          NaN  \n",
       "Interest Income                                         8000000.0          NaN  \n",
       "Normalized Income                                    -303940000.0          NaN  \n",
       "Net Income From Continuing And Discontinued Ope...   2179000000.0          NaN  \n",
       "Total Expenses                                      16553000000.0          NaN  \n",
       "Total Operating Income As Reported                    892000000.0  501000000.0  \n",
       "Diluted Average Shares                                269000000.0          NaN  \n",
       "Basic Average Shares                                  268000000.0          NaN  \n",
       "Diluted EPS                                               8.12104          NaN  \n",
       "Basic EPS                                                 8.13283          NaN  \n",
       "Diluted NI Availto Com Stockholders                  2179000000.0          NaN  \n",
       "Net Income Common Stockholders                       2179000000.0          NaN  \n",
       "Net Income                                           2179000000.0          NaN  \n",
       "Minority Interests                                   -147000000.0          NaN  \n",
       "Net Income Including Noncontrolling Interests        2326000000.0          NaN  \n",
       "Net Income Discontinuous Operations                  2015000000.0          NaN  \n",
       "Net Income Continuous Operations                      311000000.0          NaN  \n",
       "Tax Provision                                         318000000.0          NaN  \n",
       "Pretax Income                                         629000000.0          NaN  \n",
       "Other Income Expense                                  780000000.0          NaN  \n",
       "Special Income Charges                                649000000.0          NaN  \n",
       "Gain On Sale Of Ppe                                   518000000.0          NaN  \n",
       "Gain On Sale Of Business                                      0.0          0.0  \n",
       "Other Special Charges                                  84000000.0          NaN  \n",
       "Restructuring And Mergern Acquisition                -215000000.0          NaN  \n",
       "Earnings From Equity Interest                          71000000.0          NaN  \n",
       "Gain On Sale Of Security                               60000000.0          NaN  \n",
       "Net Non Operating Interest Income Expense            -394000000.0          NaN  \n",
       "Total Other Finance Cost                             -226000000.0          NaN  \n",
       "Interest Expense Non Operating                        620000000.0          NaN  \n",
       "Interest Income Non Operating                           8000000.0          NaN  \n",
       "Operating Income                                      243000000.0          NaN  \n",
       "Operating Expense                                    4614000000.0          NaN  \n",
       "Other Operating Expenses                                      NaN          NaN  \n",
       "Other Taxes                                           306000000.0          NaN  \n",
       "Depreciation Amortization Depletion Income Stat...    772000000.0          NaN  \n",
       "Depreciation And Amortization In Income Statement     772000000.0          NaN  \n",
       "Selling General And Administration                   3536000000.0          NaN  \n",
       "Selling And Marketing Expense                        2809000000.0          NaN  \n",
       "General And Administrative Expense                    727000000.0          NaN  \n",
       "Other Gand A                                          727000000.0          NaN  \n",
       "Gross Profit                                         4857000000.0          NaN  \n",
       "Cost Of Revenue                                     11939000000.0          NaN  \n",
       "Total Revenue                                       16796000000.0          NaN  \n",
       "Excise Taxes                                          825000000.0          NaN  \n",
       "Operating Revenue                                   17698000000.0          NaN  "
      ]
     },
     "metadata": {},
     "output_type": "display_data"
    },
    {
     "name": "stdout",
     "output_type": "stream",
     "text": [
      "Demonstração de Resultado da Empresa yfinance.Ticker object <NTCO3.SA>\n"
     ]
    },
    {
     "data": {
      "text/html": [
       "<div>\n",
       "<style scoped>\n",
       "    .dataframe tbody tr th:only-of-type {\n",
       "        vertical-align: middle;\n",
       "    }\n",
       "\n",
       "    .dataframe tbody tr th {\n",
       "        vertical-align: top;\n",
       "    }\n",
       "\n",
       "    .dataframe thead th {\n",
       "        text-align: right;\n",
       "    }\n",
       "</style>\n",
       "<table border=\"1\" class=\"dataframe\">\n",
       "  <thead>\n",
       "    <tr style=\"text-align: right;\">\n",
       "      <th></th>\n",
       "      <th>2023-12-31</th>\n",
       "      <th>2022-12-31</th>\n",
       "      <th>2021-12-31</th>\n",
       "      <th>2020-12-31</th>\n",
       "      <th>2019-12-31</th>\n",
       "    </tr>\n",
       "  </thead>\n",
       "  <tbody>\n",
       "    <tr>\n",
       "      <th>Tax Effect Of Unusual Items</th>\n",
       "      <td>-131752645.0</td>\n",
       "      <td>-705745140.0</td>\n",
       "      <td>-388472100.0</td>\n",
       "      <td>-481089120.0</td>\n",
       "      <td>NaN</td>\n",
       "    </tr>\n",
       "    <tr>\n",
       "      <th>Tax Rate For Calcs</th>\n",
       "      <td>0.043</td>\n",
       "      <td>0.34</td>\n",
       "      <td>0.34</td>\n",
       "      <td>0.34</td>\n",
       "      <td>NaN</td>\n",
       "    </tr>\n",
       "    <tr>\n",
       "      <th>Normalized EBITDA</th>\n",
       "      <td>2962633000.0</td>\n",
       "      <td>2336959000.0</td>\n",
       "      <td>3289450000.0</td>\n",
       "      <td>4837192000.0</td>\n",
       "      <td>NaN</td>\n",
       "    </tr>\n",
       "    <tr>\n",
       "      <th>Total Unusual Items</th>\n",
       "      <td>-3064015000.0</td>\n",
       "      <td>-2075721000.0</td>\n",
       "      <td>-1142565000.0</td>\n",
       "      <td>-1414968000.0</td>\n",
       "      <td>NaN</td>\n",
       "    </tr>\n",
       "    <tr>\n",
       "      <th>Total Unusual Items Excluding Goodwill</th>\n",
       "      <td>-3064015000.0</td>\n",
       "      <td>-2075721000.0</td>\n",
       "      <td>-1142565000.0</td>\n",
       "      <td>-1414968000.0</td>\n",
       "      <td>NaN</td>\n",
       "    </tr>\n",
       "    <tr>\n",
       "      <th>Net Income From Continuing Operation Net Minority Interest</th>\n",
       "      <td>-2582726000.0</td>\n",
       "      <td>-2261974000.0</td>\n",
       "      <td>957227000.0</td>\n",
       "      <td>-507084000.0</td>\n",
       "      <td>NaN</td>\n",
       "    </tr>\n",
       "    <tr>\n",
       "      <th>Reconciled Depreciation</th>\n",
       "      <td>1587995000.0</td>\n",
       "      <td>1596317000.0</td>\n",
       "      <td>1766872000.0</td>\n",
       "      <td>2718856000.0</td>\n",
       "      <td>NaN</td>\n",
       "    </tr>\n",
       "    <tr>\n",
       "      <th>Reconciled Cost Of Revenue</th>\n",
       "      <td>9505008000.0</td>\n",
       "      <td>11600606000.0</td>\n",
       "      <td>12478228000.0</td>\n",
       "      <td>13084365000.0</td>\n",
       "      <td>NaN</td>\n",
       "    </tr>\n",
       "    <tr>\n",
       "      <th>EBITDA</th>\n",
       "      <td>-101382000.0</td>\n",
       "      <td>261238000.0</td>\n",
       "      <td>2146885000.0</td>\n",
       "      <td>3422224000.0</td>\n",
       "      <td>NaN</td>\n",
       "    </tr>\n",
       "    <tr>\n",
       "      <th>EBIT</th>\n",
       "      <td>-1689377000.0</td>\n",
       "      <td>-1335079000.0</td>\n",
       "      <td>380013000.0</td>\n",
       "      <td>703368000.0</td>\n",
       "      <td>NaN</td>\n",
       "    </tr>\n",
       "    <tr>\n",
       "      <th>Net Interest Income</th>\n",
       "      <td>-1574729000.0</td>\n",
       "      <td>-1240407000.0</td>\n",
       "      <td>-1133177000.0</td>\n",
       "      <td>-1052369000.0</td>\n",
       "      <td>NaN</td>\n",
       "    </tr>\n",
       "    <tr>\n",
       "      <th>Interest Expense</th>\n",
       "      <td>978970000.0</td>\n",
       "      <td>833539000.0</td>\n",
       "      <td>727294000.0</td>\n",
       "      <td>949190000.0</td>\n",
       "      <td>NaN</td>\n",
       "    </tr>\n",
       "    <tr>\n",
       "      <th>Interest Income</th>\n",
       "      <td>NaN</td>\n",
       "      <td>537289000.0</td>\n",
       "      <td>264764000.0</td>\n",
       "      <td>167967000.0</td>\n",
       "      <td>83115000.0</td>\n",
       "    </tr>\n",
       "    <tr>\n",
       "      <th>Normalized Income</th>\n",
       "      <td>349536355.0</td>\n",
       "      <td>-891998140.0</td>\n",
       "      <td>1711319900.0</td>\n",
       "      <td>426794880.0</td>\n",
       "      <td>NaN</td>\n",
       "    </tr>\n",
       "    <tr>\n",
       "      <th>Net Income From Continuing And Discontinued Operation</th>\n",
       "      <td>2973731000.0</td>\n",
       "      <td>-2859629000.0</td>\n",
       "      <td>1047960000.0</td>\n",
       "      <td>-650196000.0</td>\n",
       "      <td>NaN</td>\n",
       "    </tr>\n",
       "    <tr>\n",
       "      <th>Total Expenses</th>\n",
       "      <td>24766880000.0</td>\n",
       "      <td>28076146000.0</td>\n",
       "      <td>29814265000.0</td>\n",
       "      <td>34700465000.0</td>\n",
       "      <td>NaN</td>\n",
       "    </tr>\n",
       "    <tr>\n",
       "      <th>Total Operating Income As Reported</th>\n",
       "      <td>-154848000.0</td>\n",
       "      <td>-383637000.0</td>\n",
       "      <td>560809000.0</td>\n",
       "      <td>789597000.0</td>\n",
       "      <td>NaN</td>\n",
       "    </tr>\n",
       "    <tr>\n",
       "      <th>Diluted Average Shares</th>\n",
       "      <td>1384270846.0</td>\n",
       "      <td>1371980871.0</td>\n",
       "      <td>1396675894.0</td>\n",
       "      <td>1245586207.0</td>\n",
       "      <td>NaN</td>\n",
       "    </tr>\n",
       "    <tr>\n",
       "      <th>Basic Average Shares</th>\n",
       "      <td>1377868926.0</td>\n",
       "      <td>1371980871.0</td>\n",
       "      <td>1377143943.0</td>\n",
       "      <td>1245586207.0</td>\n",
       "      <td>NaN</td>\n",
       "    </tr>\n",
       "    <tr>\n",
       "      <th>Diluted EPS</th>\n",
       "      <td>2.1482</td>\n",
       "      <td>-2.0843</td>\n",
       "      <td>0.7503</td>\n",
       "      <td>-0.522</td>\n",
       "      <td>NaN</td>\n",
       "    </tr>\n",
       "    <tr>\n",
       "      <th>Basic EPS</th>\n",
       "      <td>2.1582</td>\n",
       "      <td>-2.0843</td>\n",
       "      <td>0.761</td>\n",
       "      <td>-0.522</td>\n",
       "      <td>NaN</td>\n",
       "    </tr>\n",
       "    <tr>\n",
       "      <th>Diluted NI Availto Com Stockholders</th>\n",
       "      <td>2973731000.0</td>\n",
       "      <td>-2859629000.0</td>\n",
       "      <td>1047960000.0</td>\n",
       "      <td>-650196000.0</td>\n",
       "      <td>NaN</td>\n",
       "    </tr>\n",
       "    <tr>\n",
       "      <th>Net Income Common Stockholders</th>\n",
       "      <td>2973731000.0</td>\n",
       "      <td>-2859629000.0</td>\n",
       "      <td>1047960000.0</td>\n",
       "      <td>-650196000.0</td>\n",
       "      <td>NaN</td>\n",
       "    </tr>\n",
       "    <tr>\n",
       "      <th>Net Income</th>\n",
       "      <td>2973731000.0</td>\n",
       "      <td>-2859629000.0</td>\n",
       "      <td>1047960000.0</td>\n",
       "      <td>-650196000.0</td>\n",
       "      <td>NaN</td>\n",
       "    </tr>\n",
       "    <tr>\n",
       "      <th>Minority Interests</th>\n",
       "      <td>-779000.0</td>\n",
       "      <td>-1003000.0</td>\n",
       "      <td>7271000.0</td>\n",
       "      <td>13482000.0</td>\n",
       "      <td>NaN</td>\n",
       "    </tr>\n",
       "    <tr>\n",
       "      <th>Net Income Including Noncontrolling Interests</th>\n",
       "      <td>2974510000.0</td>\n",
       "      <td>-2858626000.0</td>\n",
       "      <td>1040689000.0</td>\n",
       "      <td>-663678000.0</td>\n",
       "      <td>NaN</td>\n",
       "    </tr>\n",
       "    <tr>\n",
       "      <th>Net Income Discontinuous Operations</th>\n",
       "      <td>5556457000.0</td>\n",
       "      <td>-597655000.0</td>\n",
       "      <td>90733000.0</td>\n",
       "      <td>-143112000.0</td>\n",
       "      <td>NaN</td>\n",
       "    </tr>\n",
       "    <tr>\n",
       "      <th>Net Income Continuous Operations</th>\n",
       "      <td>-2581947000.0</td>\n",
       "      <td>-2260971000.0</td>\n",
       "      <td>949956000.0</td>\n",
       "      <td>-520566000.0</td>\n",
       "      <td>NaN</td>\n",
       "    </tr>\n",
       "    <tr>\n",
       "      <th>Tax Provision</th>\n",
       "      <td>-86400000.0</td>\n",
       "      <td>92353000.0</td>\n",
       "      <td>-1297237000.0</td>\n",
       "      <td>274744000.0</td>\n",
       "      <td>NaN</td>\n",
       "    </tr>\n",
       "    <tr>\n",
       "      <th>Pretax Income</th>\n",
       "      <td>-2668347000.0</td>\n",
       "      <td>-2168618000.0</td>\n",
       "      <td>-347281000.0</td>\n",
       "      <td>-245822000.0</td>\n",
       "      <td>NaN</td>\n",
       "    </tr>\n",
       "    <tr>\n",
       "      <th>Other Income Expense</th>\n",
       "      <td>-3064015000.0</td>\n",
       "      <td>-2075721000.0</td>\n",
       "      <td>-1142565000.0</td>\n",
       "      <td>-1414968000.0</td>\n",
       "      <td>NaN</td>\n",
       "    </tr>\n",
       "    <tr>\n",
       "      <th>Special Income Charges</th>\n",
       "      <td>-2242798000.0</td>\n",
       "      <td>-1718759000.0</td>\n",
       "      <td>-1394180000.0</td>\n",
       "      <td>-1447514000.0</td>\n",
       "      <td>NaN</td>\n",
       "    </tr>\n",
       "    <tr>\n",
       "      <th>Other Special Charges</th>\n",
       "      <td>117553000.0</td>\n",
       "      <td>187612000.0</td>\n",
       "      <td>26528000.0</td>\n",
       "      <td>15596000.0</td>\n",
       "      <td>NaN</td>\n",
       "    </tr>\n",
       "    <tr>\n",
       "      <th>Write Off</th>\n",
       "      <td>605874000.0</td>\n",
       "      <td>645117000.0</td>\n",
       "      <td>844403000.0</td>\n",
       "      <td>883157000.0</td>\n",
       "      <td>NaN</td>\n",
       "    </tr>\n",
       "    <tr>\n",
       "      <th>Impairment Of Capital Assets</th>\n",
       "      <td>696596000.0</td>\n",
       "      <td>286091000.0</td>\n",
       "      <td>9122000.0</td>\n",
       "      <td>-11855000.0</td>\n",
       "      <td>NaN</td>\n",
       "    </tr>\n",
       "    <tr>\n",
       "      <th>Restructuring And Mergern Acquisition</th>\n",
       "      <td>822775000.0</td>\n",
       "      <td>599939000.0</td>\n",
       "      <td>514127000.0</td>\n",
       "      <td>560616000.0</td>\n",
       "      <td>NaN</td>\n",
       "    </tr>\n",
       "    <tr>\n",
       "      <th>Earnings From Equity Interest</th>\n",
       "      <td>NaN</td>\n",
       "      <td>NaN</td>\n",
       "      <td>NaN</td>\n",
       "      <td>0.0</td>\n",
       "      <td>0.0</td>\n",
       "    </tr>\n",
       "    <tr>\n",
       "      <th>Gain On Sale Of Security</th>\n",
       "      <td>-821217000.0</td>\n",
       "      <td>-356962000.0</td>\n",
       "      <td>251615000.0</td>\n",
       "      <td>32546000.0</td>\n",
       "      <td>NaN</td>\n",
       "    </tr>\n",
       "    <tr>\n",
       "      <th>Net Non Operating Interest Income Expense</th>\n",
       "      <td>-1574729000.0</td>\n",
       "      <td>-1240407000.0</td>\n",
       "      <td>-1133177000.0</td>\n",
       "      <td>-1052369000.0</td>\n",
       "      <td>NaN</td>\n",
       "    </tr>\n",
       "    <tr>\n",
       "      <th>Total Other Finance Cost</th>\n",
       "      <td>595759000.0</td>\n",
       "      <td>406868000.0</td>\n",
       "      <td>405883000.0</td>\n",
       "      <td>271146000.0</td>\n",
       "      <td>NaN</td>\n",
       "    </tr>\n",
       "    <tr>\n",
       "      <th>Interest Expense Non Operating</th>\n",
       "      <td>978970000.0</td>\n",
       "      <td>833539000.0</td>\n",
       "      <td>727294000.0</td>\n",
       "      <td>949190000.0</td>\n",
       "      <td>NaN</td>\n",
       "    </tr>\n",
       "    <tr>\n",
       "      <th>Interest Income Non Operating</th>\n",
       "      <td>NaN</td>\n",
       "      <td>537289000.0</td>\n",
       "      <td>264764000.0</td>\n",
       "      <td>167967000.0</td>\n",
       "      <td>83115000.0</td>\n",
       "    </tr>\n",
       "    <tr>\n",
       "      <th>Operating Income</th>\n",
       "      <td>1970397000.0</td>\n",
       "      <td>1147510000.0</td>\n",
       "      <td>1928461000.0</td>\n",
       "      <td>2221515000.0</td>\n",
       "      <td>NaN</td>\n",
       "    </tr>\n",
       "    <tr>\n",
       "      <th>Operating Expense</th>\n",
       "      <td>15091445000.0</td>\n",
       "      <td>16305384000.0</td>\n",
       "      <td>17282962000.0</td>\n",
       "      <td>21400745000.0</td>\n",
       "      <td>NaN</td>\n",
       "    </tr>\n",
       "    <tr>\n",
       "      <th>Other Operating Expenses</th>\n",
       "      <td>46988000.0</td>\n",
       "      <td>63155000.0</td>\n",
       "      <td>-18593000.0</td>\n",
       "      <td>91316000.0</td>\n",
       "      <td>NaN</td>\n",
       "    </tr>\n",
       "    <tr>\n",
       "      <th>Other Taxes</th>\n",
       "      <td>-195780000.0</td>\n",
       "      <td>-174189000.0</td>\n",
       "      <td>-297225000.0</td>\n",
       "      <td>-123887000.0</td>\n",
       "      <td>NaN</td>\n",
       "    </tr>\n",
       "    <tr>\n",
       "      <th>Depreciation Amortization Depletion Income Statement</th>\n",
       "      <td>1417568000.0</td>\n",
       "      <td>1426161000.0</td>\n",
       "      <td>1713797000.0</td>\n",
       "      <td>2503501000.0</td>\n",
       "      <td>NaN</td>\n",
       "    </tr>\n",
       "    <tr>\n",
       "      <th>Depreciation And Amortization In Income Statement</th>\n",
       "      <td>1417568000.0</td>\n",
       "      <td>1426161000.0</td>\n",
       "      <td>1713797000.0</td>\n",
       "      <td>2503501000.0</td>\n",
       "      <td>NaN</td>\n",
       "    </tr>\n",
       "    <tr>\n",
       "      <th>Research And Development</th>\n",
       "      <td>161477000.0</td>\n",
       "      <td>262646000.0</td>\n",
       "      <td>210170000.0</td>\n",
       "      <td>270256000.0</td>\n",
       "      <td>NaN</td>\n",
       "    </tr>\n",
       "    <tr>\n",
       "      <th>Selling General And Administration</th>\n",
       "      <td>13661192000.0</td>\n",
       "      <td>14727611000.0</td>\n",
       "      <td>15674813000.0</td>\n",
       "      <td>18659559000.0</td>\n",
       "      <td>NaN</td>\n",
       "    </tr>\n",
       "    <tr>\n",
       "      <th>Selling And Marketing Expense</th>\n",
       "      <td>7747671000.0</td>\n",
       "      <td>8299087000.0</td>\n",
       "      <td>8533777000.0</td>\n",
       "      <td>9977516000.0</td>\n",
       "      <td>NaN</td>\n",
       "    </tr>\n",
       "    <tr>\n",
       "      <th>General And Administrative Expense</th>\n",
       "      <td>5913521000.0</td>\n",
       "      <td>6428524000.0</td>\n",
       "      <td>7141036000.0</td>\n",
       "      <td>8682043000.0</td>\n",
       "      <td>NaN</td>\n",
       "    </tr>\n",
       "    <tr>\n",
       "      <th>Other Gand A</th>\n",
       "      <td>1354083000.0</td>\n",
       "      <td>1619949000.0</td>\n",
       "      <td>2030979000.0</td>\n",
       "      <td>1985872000.0</td>\n",
       "      <td>NaN</td>\n",
       "    </tr>\n",
       "    <tr>\n",
       "      <th>Salaries And Wages</th>\n",
       "      <td>4559438000.0</td>\n",
       "      <td>4808575000.0</td>\n",
       "      <td>5110057000.0</td>\n",
       "      <td>6696171000.0</td>\n",
       "      <td>NaN</td>\n",
       "    </tr>\n",
       "    <tr>\n",
       "      <th>Gross Profit</th>\n",
       "      <td>17061842000.0</td>\n",
       "      <td>17452894000.0</td>\n",
       "      <td>19211423000.0</td>\n",
       "      <td>23622260000.0</td>\n",
       "      <td>NaN</td>\n",
       "    </tr>\n",
       "    <tr>\n",
       "      <th>Cost Of Revenue</th>\n",
       "      <td>9675435000.0</td>\n",
       "      <td>11770762000.0</td>\n",
       "      <td>12531303000.0</td>\n",
       "      <td>13299720000.0</td>\n",
       "      <td>NaN</td>\n",
       "    </tr>\n",
       "    <tr>\n",
       "      <th>Total Revenue</th>\n",
       "      <td>26737277000.0</td>\n",
       "      <td>29223656000.0</td>\n",
       "      <td>31742726000.0</td>\n",
       "      <td>36921980000.0</td>\n",
       "      <td>NaN</td>\n",
       "    </tr>\n",
       "    <tr>\n",
       "      <th>Excise Taxes</th>\n",
       "      <td>7526987000.0</td>\n",
       "      <td>8074136000.0</td>\n",
       "      <td>8462517000.0</td>\n",
       "      <td>9096294000.0</td>\n",
       "      <td>NaN</td>\n",
       "    </tr>\n",
       "    <tr>\n",
       "      <th>Operating Revenue</th>\n",
       "      <td>33410706000.0</td>\n",
       "      <td>36180510000.0</td>\n",
       "      <td>39156893000.0</td>\n",
       "      <td>44628063000.0</td>\n",
       "      <td>NaN</td>\n",
       "    </tr>\n",
       "  </tbody>\n",
       "</table>\n",
       "</div>"
      ],
      "text/plain": [
       "                                                       2023-12-31  \\\n",
       "Tax Effect Of Unusual Items                          -131752645.0   \n",
       "Tax Rate For Calcs                                          0.043   \n",
       "Normalized EBITDA                                    2962633000.0   \n",
       "Total Unusual Items                                 -3064015000.0   \n",
       "Total Unusual Items Excluding Goodwill              -3064015000.0   \n",
       "Net Income From Continuing Operation Net Minori...  -2582726000.0   \n",
       "Reconciled Depreciation                              1587995000.0   \n",
       "Reconciled Cost Of Revenue                           9505008000.0   \n",
       "EBITDA                                               -101382000.0   \n",
       "EBIT                                                -1689377000.0   \n",
       "Net Interest Income                                 -1574729000.0   \n",
       "Interest Expense                                      978970000.0   \n",
       "Interest Income                                               NaN   \n",
       "Normalized Income                                     349536355.0   \n",
       "Net Income From Continuing And Discontinued Ope...   2973731000.0   \n",
       "Total Expenses                                      24766880000.0   \n",
       "Total Operating Income As Reported                   -154848000.0   \n",
       "Diluted Average Shares                               1384270846.0   \n",
       "Basic Average Shares                                 1377868926.0   \n",
       "Diluted EPS                                                2.1482   \n",
       "Basic EPS                                                  2.1582   \n",
       "Diluted NI Availto Com Stockholders                  2973731000.0   \n",
       "Net Income Common Stockholders                       2973731000.0   \n",
       "Net Income                                           2973731000.0   \n",
       "Minority Interests                                      -779000.0   \n",
       "Net Income Including Noncontrolling Interests        2974510000.0   \n",
       "Net Income Discontinuous Operations                  5556457000.0   \n",
       "Net Income Continuous Operations                    -2581947000.0   \n",
       "Tax Provision                                         -86400000.0   \n",
       "Pretax Income                                       -2668347000.0   \n",
       "Other Income Expense                                -3064015000.0   \n",
       "Special Income Charges                              -2242798000.0   \n",
       "Other Special Charges                                 117553000.0   \n",
       "Write Off                                             605874000.0   \n",
       "Impairment Of Capital Assets                          696596000.0   \n",
       "Restructuring And Mergern Acquisition                 822775000.0   \n",
       "Earnings From Equity Interest                                 NaN   \n",
       "Gain On Sale Of Security                             -821217000.0   \n",
       "Net Non Operating Interest Income Expense           -1574729000.0   \n",
       "Total Other Finance Cost                              595759000.0   \n",
       "Interest Expense Non Operating                        978970000.0   \n",
       "Interest Income Non Operating                                 NaN   \n",
       "Operating Income                                     1970397000.0   \n",
       "Operating Expense                                   15091445000.0   \n",
       "Other Operating Expenses                               46988000.0   \n",
       "Other Taxes                                          -195780000.0   \n",
       "Depreciation Amortization Depletion Income Stat...   1417568000.0   \n",
       "Depreciation And Amortization In Income Statement    1417568000.0   \n",
       "Research And Development                              161477000.0   \n",
       "Selling General And Administration                  13661192000.0   \n",
       "Selling And Marketing Expense                        7747671000.0   \n",
       "General And Administrative Expense                   5913521000.0   \n",
       "Other Gand A                                         1354083000.0   \n",
       "Salaries And Wages                                   4559438000.0   \n",
       "Gross Profit                                        17061842000.0   \n",
       "Cost Of Revenue                                      9675435000.0   \n",
       "Total Revenue                                       26737277000.0   \n",
       "Excise Taxes                                         7526987000.0   \n",
       "Operating Revenue                                   33410706000.0   \n",
       "\n",
       "                                                       2022-12-31  \\\n",
       "Tax Effect Of Unusual Items                          -705745140.0   \n",
       "Tax Rate For Calcs                                           0.34   \n",
       "Normalized EBITDA                                    2336959000.0   \n",
       "Total Unusual Items                                 -2075721000.0   \n",
       "Total Unusual Items Excluding Goodwill              -2075721000.0   \n",
       "Net Income From Continuing Operation Net Minori...  -2261974000.0   \n",
       "Reconciled Depreciation                              1596317000.0   \n",
       "Reconciled Cost Of Revenue                          11600606000.0   \n",
       "EBITDA                                                261238000.0   \n",
       "EBIT                                                -1335079000.0   \n",
       "Net Interest Income                                 -1240407000.0   \n",
       "Interest Expense                                      833539000.0   \n",
       "Interest Income                                       537289000.0   \n",
       "Normalized Income                                    -891998140.0   \n",
       "Net Income From Continuing And Discontinued Ope...  -2859629000.0   \n",
       "Total Expenses                                      28076146000.0   \n",
       "Total Operating Income As Reported                   -383637000.0   \n",
       "Diluted Average Shares                               1371980871.0   \n",
       "Basic Average Shares                                 1371980871.0   \n",
       "Diluted EPS                                               -2.0843   \n",
       "Basic EPS                                                 -2.0843   \n",
       "Diluted NI Availto Com Stockholders                 -2859629000.0   \n",
       "Net Income Common Stockholders                      -2859629000.0   \n",
       "Net Income                                          -2859629000.0   \n",
       "Minority Interests                                     -1003000.0   \n",
       "Net Income Including Noncontrolling Interests       -2858626000.0   \n",
       "Net Income Discontinuous Operations                  -597655000.0   \n",
       "Net Income Continuous Operations                    -2260971000.0   \n",
       "Tax Provision                                          92353000.0   \n",
       "Pretax Income                                       -2168618000.0   \n",
       "Other Income Expense                                -2075721000.0   \n",
       "Special Income Charges                              -1718759000.0   \n",
       "Other Special Charges                                 187612000.0   \n",
       "Write Off                                             645117000.0   \n",
       "Impairment Of Capital Assets                          286091000.0   \n",
       "Restructuring And Mergern Acquisition                 599939000.0   \n",
       "Earnings From Equity Interest                                 NaN   \n",
       "Gain On Sale Of Security                             -356962000.0   \n",
       "Net Non Operating Interest Income Expense           -1240407000.0   \n",
       "Total Other Finance Cost                              406868000.0   \n",
       "Interest Expense Non Operating                        833539000.0   \n",
       "Interest Income Non Operating                         537289000.0   \n",
       "Operating Income                                     1147510000.0   \n",
       "Operating Expense                                   16305384000.0   \n",
       "Other Operating Expenses                               63155000.0   \n",
       "Other Taxes                                          -174189000.0   \n",
       "Depreciation Amortization Depletion Income Stat...   1426161000.0   \n",
       "Depreciation And Amortization In Income Statement    1426161000.0   \n",
       "Research And Development                              262646000.0   \n",
       "Selling General And Administration                  14727611000.0   \n",
       "Selling And Marketing Expense                        8299087000.0   \n",
       "General And Administrative Expense                   6428524000.0   \n",
       "Other Gand A                                         1619949000.0   \n",
       "Salaries And Wages                                   4808575000.0   \n",
       "Gross Profit                                        17452894000.0   \n",
       "Cost Of Revenue                                     11770762000.0   \n",
       "Total Revenue                                       29223656000.0   \n",
       "Excise Taxes                                         8074136000.0   \n",
       "Operating Revenue                                   36180510000.0   \n",
       "\n",
       "                                                       2021-12-31  \\\n",
       "Tax Effect Of Unusual Items                          -388472100.0   \n",
       "Tax Rate For Calcs                                           0.34   \n",
       "Normalized EBITDA                                    3289450000.0   \n",
       "Total Unusual Items                                 -1142565000.0   \n",
       "Total Unusual Items Excluding Goodwill              -1142565000.0   \n",
       "Net Income From Continuing Operation Net Minori...    957227000.0   \n",
       "Reconciled Depreciation                              1766872000.0   \n",
       "Reconciled Cost Of Revenue                          12478228000.0   \n",
       "EBITDA                                               2146885000.0   \n",
       "EBIT                                                  380013000.0   \n",
       "Net Interest Income                                 -1133177000.0   \n",
       "Interest Expense                                      727294000.0   \n",
       "Interest Income                                       264764000.0   \n",
       "Normalized Income                                    1711319900.0   \n",
       "Net Income From Continuing And Discontinued Ope...   1047960000.0   \n",
       "Total Expenses                                      29814265000.0   \n",
       "Total Operating Income As Reported                    560809000.0   \n",
       "Diluted Average Shares                               1396675894.0   \n",
       "Basic Average Shares                                 1377143943.0   \n",
       "Diluted EPS                                                0.7503   \n",
       "Basic EPS                                                   0.761   \n",
       "Diluted NI Availto Com Stockholders                  1047960000.0   \n",
       "Net Income Common Stockholders                       1047960000.0   \n",
       "Net Income                                           1047960000.0   \n",
       "Minority Interests                                      7271000.0   \n",
       "Net Income Including Noncontrolling Interests        1040689000.0   \n",
       "Net Income Discontinuous Operations                    90733000.0   \n",
       "Net Income Continuous Operations                      949956000.0   \n",
       "Tax Provision                                       -1297237000.0   \n",
       "Pretax Income                                        -347281000.0   \n",
       "Other Income Expense                                -1142565000.0   \n",
       "Special Income Charges                              -1394180000.0   \n",
       "Other Special Charges                                  26528000.0   \n",
       "Write Off                                             844403000.0   \n",
       "Impairment Of Capital Assets                            9122000.0   \n",
       "Restructuring And Mergern Acquisition                 514127000.0   \n",
       "Earnings From Equity Interest                                 NaN   \n",
       "Gain On Sale Of Security                              251615000.0   \n",
       "Net Non Operating Interest Income Expense           -1133177000.0   \n",
       "Total Other Finance Cost                              405883000.0   \n",
       "Interest Expense Non Operating                        727294000.0   \n",
       "Interest Income Non Operating                         264764000.0   \n",
       "Operating Income                                     1928461000.0   \n",
       "Operating Expense                                   17282962000.0   \n",
       "Other Operating Expenses                              -18593000.0   \n",
       "Other Taxes                                          -297225000.0   \n",
       "Depreciation Amortization Depletion Income Stat...   1713797000.0   \n",
       "Depreciation And Amortization In Income Statement    1713797000.0   \n",
       "Research And Development                              210170000.0   \n",
       "Selling General And Administration                  15674813000.0   \n",
       "Selling And Marketing Expense                        8533777000.0   \n",
       "General And Administrative Expense                   7141036000.0   \n",
       "Other Gand A                                         2030979000.0   \n",
       "Salaries And Wages                                   5110057000.0   \n",
       "Gross Profit                                        19211423000.0   \n",
       "Cost Of Revenue                                     12531303000.0   \n",
       "Total Revenue                                       31742726000.0   \n",
       "Excise Taxes                                         8462517000.0   \n",
       "Operating Revenue                                   39156893000.0   \n",
       "\n",
       "                                                       2020-12-31  2019-12-31  \n",
       "Tax Effect Of Unusual Items                          -481089120.0         NaN  \n",
       "Tax Rate For Calcs                                           0.34         NaN  \n",
       "Normalized EBITDA                                    4837192000.0         NaN  \n",
       "Total Unusual Items                                 -1414968000.0         NaN  \n",
       "Total Unusual Items Excluding Goodwill              -1414968000.0         NaN  \n",
       "Net Income From Continuing Operation Net Minori...   -507084000.0         NaN  \n",
       "Reconciled Depreciation                              2718856000.0         NaN  \n",
       "Reconciled Cost Of Revenue                          13084365000.0         NaN  \n",
       "EBITDA                                               3422224000.0         NaN  \n",
       "EBIT                                                  703368000.0         NaN  \n",
       "Net Interest Income                                 -1052369000.0         NaN  \n",
       "Interest Expense                                      949190000.0         NaN  \n",
       "Interest Income                                       167967000.0  83115000.0  \n",
       "Normalized Income                                     426794880.0         NaN  \n",
       "Net Income From Continuing And Discontinued Ope...   -650196000.0         NaN  \n",
       "Total Expenses                                      34700465000.0         NaN  \n",
       "Total Operating Income As Reported                    789597000.0         NaN  \n",
       "Diluted Average Shares                               1245586207.0         NaN  \n",
       "Basic Average Shares                                 1245586207.0         NaN  \n",
       "Diluted EPS                                                -0.522         NaN  \n",
       "Basic EPS                                                  -0.522         NaN  \n",
       "Diluted NI Availto Com Stockholders                  -650196000.0         NaN  \n",
       "Net Income Common Stockholders                       -650196000.0         NaN  \n",
       "Net Income                                           -650196000.0         NaN  \n",
       "Minority Interests                                     13482000.0         NaN  \n",
       "Net Income Including Noncontrolling Interests        -663678000.0         NaN  \n",
       "Net Income Discontinuous Operations                  -143112000.0         NaN  \n",
       "Net Income Continuous Operations                     -520566000.0         NaN  \n",
       "Tax Provision                                         274744000.0         NaN  \n",
       "Pretax Income                                        -245822000.0         NaN  \n",
       "Other Income Expense                                -1414968000.0         NaN  \n",
       "Special Income Charges                              -1447514000.0         NaN  \n",
       "Other Special Charges                                  15596000.0         NaN  \n",
       "Write Off                                             883157000.0         NaN  \n",
       "Impairment Of Capital Assets                          -11855000.0         NaN  \n",
       "Restructuring And Mergern Acquisition                 560616000.0         NaN  \n",
       "Earnings From Equity Interest                                 0.0         0.0  \n",
       "Gain On Sale Of Security                               32546000.0         NaN  \n",
       "Net Non Operating Interest Income Expense           -1052369000.0         NaN  \n",
       "Total Other Finance Cost                              271146000.0         NaN  \n",
       "Interest Expense Non Operating                        949190000.0         NaN  \n",
       "Interest Income Non Operating                         167967000.0  83115000.0  \n",
       "Operating Income                                     2221515000.0         NaN  \n",
       "Operating Expense                                   21400745000.0         NaN  \n",
       "Other Operating Expenses                               91316000.0         NaN  \n",
       "Other Taxes                                          -123887000.0         NaN  \n",
       "Depreciation Amortization Depletion Income Stat...   2503501000.0         NaN  \n",
       "Depreciation And Amortization In Income Statement    2503501000.0         NaN  \n",
       "Research And Development                              270256000.0         NaN  \n",
       "Selling General And Administration                  18659559000.0         NaN  \n",
       "Selling And Marketing Expense                        9977516000.0         NaN  \n",
       "General And Administrative Expense                   8682043000.0         NaN  \n",
       "Other Gand A                                         1985872000.0         NaN  \n",
       "Salaries And Wages                                   6696171000.0         NaN  \n",
       "Gross Profit                                        23622260000.0         NaN  \n",
       "Cost Of Revenue                                     13299720000.0         NaN  \n",
       "Total Revenue                                       36921980000.0         NaN  \n",
       "Excise Taxes                                         9096294000.0         NaN  \n",
       "Operating Revenue                                   44628063000.0         NaN  "
      ]
     },
     "metadata": {},
     "output_type": "display_data"
    }
   ],
   "source": [
    "for empresas in empresas_valores:\n",
    "    print(f'Demonstração de Resultado da Empresa {empresas}')\n",
    "    display(empresas.income_stmt)"
   ]
  },
  {
   "cell_type": "markdown",
   "metadata": {},
   "source": [
    "## Valor de Mercado\n",
    "#### Algumas métricas dependem do valor de mercado da empresa. Para calcular isso podemos usar a expressão que diz que o valor da empresa, (Enterprise Value), é a soma dos valores capturados do mercado, o total de débitos - dinheiro em caixa.\n",
    "\n",
    "$ EV=Market Capitalization+Total Debt−Cash and Cash Equivalents $"
   ]
  },
  {
   "cell_type": "code",
   "execution_count": 109,
   "metadata": {},
   "outputs": [
    {
     "name": "stderr",
     "output_type": "stream",
     "text": [
      "[*********************100%%**********************]  1 of 1 completed\n",
      "[*********************100%%**********************]  1 of 1 completed\n",
      "[*********************100%%**********************]  1 of 1 completed\n",
      "[*********************100%%**********************]  1 of 1 completed\n"
     ]
    }
   ],
   "source": [
    "##Criando uma função que cria um histórico de uma ação até o fim de 2023\n",
    "\n",
    "Magazine_luiza_ação  = yf.download(tickers=\"MGLU3.SA\", start = \"2019-12-31\", end = \"2024-09-01\")\n",
    "Grupo_Boticario_ação = yf.download(tickers=\"NTCO3.SA\", start = \"2019-12-31\", end = \"2024-09-01\")\n",
    "Pão_de_açúcar_ação = yf.download(tickers= \"PCAR3.SA\", start = \"2019-12-31\", end = \"2024-09-01\")\n",
    "Casas_bahia_ação = yf.download(tickers=\"BHIA3.SA\", start = \"2017-12-31\", end = \"2024-09-01\")\n",
    "\n",
    "ações = [Magazine_luiza_ação, Grupo_Boticario_ação, Pão_de_açúcar_ação, Casas_bahia_ação]"
   ]
  },
  {
   "cell_type": "code",
   "execution_count": 110,
   "metadata": {},
   "outputs": [
    {
     "name": "stdout",
     "output_type": "stream",
     "text": [
      "Valores do caixa da Magazine Luiza de 2020 a 2023 [2593346000.0, 2420045000.0, 2566218000.0, 1681376000.0]\n"
     ]
    }
   ],
   "source": [
    "def cash(empresa):\n",
    "    anos = [\"2023-12-31\", \"2022-12-31\", \"2021-12-31\", \"2020-12-31\"]\n",
    "    cash_and_equivalents = []\n",
    "\n",
    "    for ano in anos:\n",
    "        #for ane in ano_ação:\n",
    "        cash = empresa.balancesheet.loc[\"Cash And Cash Equivalents\", ano]\n",
    "        cash_and_equivalents.append(cash)\n",
    "\n",
    "    return(cash_and_equivalents)\n",
    "\n",
    "print(f'Valores do caixa da Magazine Luiza de 2020 a 2023 {cash(Magazine_luiza)}')"
   ]
  },
  {
   "cell_type": "code",
   "execution_count": 111,
   "metadata": {},
   "outputs": [
    {
     "data": {
      "text/plain": [
       "[10933010000.0, 10802273000.0, 10247550000.0, 4213066000.0]"
      ]
     },
     "execution_count": 111,
     "metadata": {},
     "output_type": "execute_result"
    }
   ],
   "source": [
    "def total_debt(empresa):\n",
    "    anos = [\"2023-12-31\", \"2022-12-31\", \"2021-12-31\", \"2020-12-31\"]\n",
    "    total_debt = []\n",
    "\n",
    "    for ano in anos:\n",
    "        debt = empresa.balancesheet.loc[\"Total Debt\", ano]\n",
    "        total_debt.append(debt)\n",
    "\n",
    "    return(total_debt)\n",
    "\n",
    "total_debt(Magazine_luiza)"
   ]
  },
  {
   "cell_type": "code",
   "execution_count": 112,
   "metadata": {},
   "outputs": [],
   "source": [
    "def market_cap(empresa, empresa_ação):\n",
    "    periodos = [\"2023-12-31\", \"2022-12-31\", \"2021-12-31\", \"2020-12-31\"]\n",
    "    dias = [\"2023-12-28\", \"2022-12-28\", \"2021-12-28\", \"2020-12-28\"]\n",
    "    market_capitalization = []\n",
    "\n",
    "    dias = [pd.to_datetime(date) for date in dias]\n",
    "\n",
    "\n",
    "    for periodo, dia in zip(periodos,dias):\n",
    "        market = (empresa.balancesheet.loc[\"Share Issued\", periodo] - empresa.balancesheet.loc[\"Treasury Shares Number\", periodo])*empresa_ação.loc[dia, \"Adj Close\"]\n",
    "        market_capitalization.append(market)\n",
    "\n",
    "    return(market_capitalization)"
   ]
  },
  {
   "cell_type": "code",
   "execution_count": 113,
   "metadata": {},
   "outputs": [
    {
     "data": {
      "text/plain": [
       "[14454528026.503826, 17961727370.827858, 45525489963.80252, 162912581927.3462]"
      ]
     },
     "execution_count": 113,
     "metadata": {},
     "output_type": "execute_result"
    }
   ],
   "source": [
    "market_cap(Magazine_luiza, Magazine_luiza_ação)"
   ]
  },
  {
   "cell_type": "code",
   "execution_count": 114,
   "metadata": {},
   "outputs": [],
   "source": [
    "def EV(empresa, empresa_ação):\n",
    "    Enterprise_value_no_tempo = []\n",
    "    valor_de_capit = market_cap(empresa, empresa_ação)\n",
    "    valor_debt = total_debt(empresa)\n",
    "    valor_caixa = cash(empresa)\n",
    "    i = 0\n",
    "\n",
    "    while i < len(valor_de_capit):\n",
    "        valor_empresa = (valor_de_capit[i] + valor_debt[i]) - valor_caixa[i]\n",
    "        Enterprise_value_no_tempo.append(valor_empresa)\n",
    "        i = i+1\n",
    "\n",
    "    return(Enterprise_value_no_tempo)\n",
    "\n"
   ]
  },
  {
   "cell_type": "code",
   "execution_count": 115,
   "metadata": {},
   "outputs": [
    {
     "name": "stdout",
     "output_type": "stream",
     "text": [
      "EV da Magazine Luiza: [22794192026.503826, 26343955370.827858, 53206821963.80252, 165444271927.3462]\n",
      "EV do Grupo Boticario: [25897298148.225426, 27761805383.433777, 45570602626.84156, 80083367884.52065]\n",
      "EV da Pão de Açúcar: [7827511033.162098, 11203878198.35161, 13586584004.059658, 11614011279.642971]\n",
      "EV da Casas Bahia: [10948544820.056248, 14929826966.347694, 19745308900.87599, 36569927467.66455]\n"
     ]
    }
   ],
   "source": [
    "#ações = [Magazine_luiza_ação, Americanas_ação, Pão_de_açúcar_ação, Casas_bahia_ação]\n",
    "\n",
    "print(f'EV da Magazine Luiza: {EV(Magazine_luiza, Magazine_luiza_ação)}')\n",
    "\n",
    "print(f'EV do Grupo Boticario: {EV(Grupo_Boticario, Grupo_Boticario_ação)}')\n",
    "\n",
    "print(f'EV da Pão de Açúcar: {EV(Pão_de_açúcar, Pão_de_açúcar_ação)}')\n",
    "\n",
    "print(f'EV da Casas Bahia: {EV(Casas_bahia, Casas_bahia_ação)}')"
   ]
  },
  {
   "cell_type": "code",
   "execution_count": 116,
   "metadata": {},
   "outputs": [],
   "source": [
    "def calcula_EV_sobre_EBITDA(empresa, ação):\n",
    "    periodos = [\"2023-12-31\", \"2022-12-31\", \"2021-12-31\", \"2020-12-31\"]\n",
    "\n",
    "    Ent_V = EV(empresa, ação)\n",
    "\n",
    "    EBITDAs = []\n",
    "\n",
    "    valor_de_ev_sobre_ebitda_empresa = []\n",
    "\n",
    "    i = 0\n",
    "\n",
    "    for periodo in periodos:\n",
    "        EBITDA = empresa.income_stmt.loc[\"EBITDA\", periodo]\n",
    "        EBITDAs.append(EBITDA)\n",
    "\n",
    "    while i < len(EBITDAs):\n",
    "         valor_de_ev_sobre_ebitda = Ent_V[i]/EBITDAs[i]\n",
    "         valor_de_ev_sobre_ebitda_empresa.append(valor_de_ev_sobre_ebitda)\n",
    "         i += 1\n",
    "\n",
    "         \n",
    "         \n",
    "    return(valor_de_ev_sobre_ebitda_empresa)\n"
   ]
  },
  {
   "cell_type": "code",
   "execution_count": 117,
   "metadata": {},
   "outputs": [
    {
     "data": {
      "text/plain": [
       "[22794192026.503826, 26343955370.827858, 53206821963.80252, 165444271927.3462]"
      ]
     },
     "execution_count": 117,
     "metadata": {},
     "output_type": "execute_result"
    }
   ],
   "source": [
    "Ent_V = EV(Magazine_luiza,Magazine_luiza_ação)\n",
    "Ent_V"
   ]
  },
  {
   "cell_type": "code",
   "execution_count": 118,
   "metadata": {},
   "outputs": [
    {
     "name": "stdout",
     "output_type": "stream",
     "text": [
      "EV/EBITDA da Magazine Luiza [48.0916506527865, 24.171627074055422, 53.4096182844285, 123.2256764630036]\n",
      "EV/EBITDA do Grupo Boticário [-255.44276250444287, 106.27016507335755, 21.226382701840834, 23.400971965751115]\n",
      "EV/EBITDA do Pão de Açúcar [3.584025198334294, 5.909218459046208, 5.889286521048833, 3.045898578453441]\n",
      "EV/EBITDA da Casas Bahia [-12.031367934127745, 7.861941530462188, 43.58787836837967, 13.85224525290324]\n"
     ]
    }
   ],
   "source": [
    "print(f'EV/EBITDA da Magazine Luiza {calcula_EV_sobre_EBITDA(Magazine_luiza, Magazine_luiza_ação)}')\n",
    "print(f'EV/EBITDA do Grupo Boticário {calcula_EV_sobre_EBITDA(Grupo_Boticario, Grupo_Boticario_ação)}')\n",
    "print(f'EV/EBITDA do Pão de Açúcar {calcula_EV_sobre_EBITDA(Pão_de_açúcar, Pão_de_açúcar_ação)}')\n",
    "print(f'EV/EBITDA da Casas Bahia {calcula_EV_sobre_EBITDA(Casas_bahia, Casas_bahia_ação)}')"
   ]
  },
  {
   "cell_type": "markdown",
   "metadata": {},
   "source": [
    "## Calculando os outros índices fundamentais \n",
    "#### P/L\n",
    "#### Dividend Yield\n",
    "#### ROE e ROA"
   ]
  },
  {
   "cell_type": "code",
   "execution_count": 119,
   "metadata": {},
   "outputs": [],
   "source": [
    "def calculaPL(empresa, ação):\n",
    "    períodos = [\"2023-12-31\", \"2022-12-31\", \"2021-12-31\", \"2020-12-31\"]\n",
    "    dias = [\"2023-12-28\", \"2022-12-28\", \"2021-12-28\", \"2020-12-28\"]\n",
    "\n",
    "    dias = [pd.to_datetime(date) for date in dias]\n",
    "\n",
    "    P = []\n",
    "    L = []\n",
    "    PL = []\n",
    "\n",
    "    for periodo in períodos:\n",
    "        LPA = empresa.income_stmt.loc[\"Net Income\", periodo]/(empresa.balancesheet.loc[\"Share Issued\", periodo] - empresa.balancesheet.loc[\"Treasury Shares Number\", periodo])\n",
    "        L.append(LPA)\n",
    "    \n",
    "    for dia in dias:\n",
    "        Preço = ação.loc[dia, \"Adj Close\"]\n",
    "        P.append(Preço)\n",
    "\n",
    "    for preço, lucro in zip(P, L):\n",
    "        valor_pl = preço/lucro\n",
    "        PL.append(valor_pl)\n",
    "\n",
    "    return(PL)\n"
   ]
  },
  {
   "cell_type": "code",
   "execution_count": 120,
   "metadata": {},
   "outputs": [
    {
     "data": {
      "text/plain": [
       "[-14.763016009028485,\n",
       " -35.997249102315465,\n",
       " 77.07549671267024,\n",
       " 415.90206486791516]"
      ]
     },
     "execution_count": 120,
     "metadata": {},
     "output_type": "execute_result"
    }
   ],
   "source": [
    "calculaPL(Magazine_luiza, Magazine_luiza_ação)"
   ]
  },
  {
   "cell_type": "code",
   "execution_count": 121,
   "metadata": {},
   "outputs": [
    {
     "data": {
      "text/plain": [
       "715465009.0"
      ]
     },
     "execution_count": 121,
     "metadata": {},
     "output_type": "execute_result"
    }
   ],
   "source": [
    "Magazine_luiza.balancesheet.loc[\"Share Issued\", \"2023-12-31\"] - Magazine_luiza.balancesheet.loc[\"Treasury Shares Number\", \"2023-12-31\"]"
   ]
  },
  {
   "cell_type": "code",
   "execution_count": 122,
   "metadata": {},
   "outputs": [
    {
     "name": "stdout",
     "output_type": "stream",
     "text": [
      "A Relação P/L da Magazine Luiza foi: [-14.763016009028485, -35.997249102315465, 77.07549671267024, 415.90206486791516]\n",
      "A relação P/L do Grupo Boticário foi: [7.5279506277553105, -5.27848031455611, 31.788585086111645, -104.9278554228581]\n",
      "A Relação P/L da Pão de Açúcar foi: [-0.5391946425196378, -29.388826734602386, 8.342374069899822, 1.2849982926310102]\n",
      "A relação P/L da Casas Bahia foi: [-0.4112551695452372, -11.321131480548813, -26.60710067635014, 26.389369987713696]\n"
     ]
    }
   ],
   "source": [
    "print(f'A Relação P/L da Magazine Luiza foi: {calculaPL(Magazine_luiza, Magazine_luiza_ação)}')\n",
    "print(f'A relação P/L do Grupo Boticário foi: {calculaPL(Grupo_Boticario, Grupo_Boticario_ação)}')\n",
    "print(f'A Relação P/L da Pão de Açúcar foi: {calculaPL(Pão_de_açúcar, Pão_de_açúcar_ação)}')\n",
    "print(f'A relação P/L da Casas Bahia foi: {calculaPL(Casas_bahia, Casas_bahia_ação)}')"
   ]
  },
  {
   "cell_type": "code",
   "execution_count": 123,
   "metadata": {},
   "outputs": [
    {
     "data": {
      "text/html": [
       "<div>\n",
       "<style scoped>\n",
       "    .dataframe tbody tr th:only-of-type {\n",
       "        vertical-align: middle;\n",
       "    }\n",
       "\n",
       "    .dataframe tbody tr th {\n",
       "        vertical-align: top;\n",
       "    }\n",
       "\n",
       "    .dataframe thead th {\n",
       "        text-align: right;\n",
       "    }\n",
       "</style>\n",
       "<table border=\"1\" class=\"dataframe\">\n",
       "  <thead>\n",
       "    <tr style=\"text-align: right;\">\n",
       "      <th></th>\n",
       "      <th>Dividends</th>\n",
       "      <th>Stock Splits</th>\n",
       "    </tr>\n",
       "    <tr>\n",
       "      <th>Date</th>\n",
       "      <th></th>\n",
       "      <th></th>\n",
       "    </tr>\n",
       "  </thead>\n",
       "  <tbody>\n",
       "    <tr>\n",
       "      <th>2012-05-02 00:00:00-03:00</th>\n",
       "      <td>0.004343</td>\n",
       "      <td>0.000</td>\n",
       "    </tr>\n",
       "    <tr>\n",
       "      <th>2014-02-21 00:00:00-03:00</th>\n",
       "      <td>0.019198</td>\n",
       "      <td>0.000</td>\n",
       "    </tr>\n",
       "    <tr>\n",
       "      <th>2014-04-23 00:00:00-03:00</th>\n",
       "      <td>0.031380</td>\n",
       "      <td>0.000</td>\n",
       "    </tr>\n",
       "    <tr>\n",
       "      <th>2015-01-15 00:00:00-02:00</th>\n",
       "      <td>0.022848</td>\n",
       "      <td>0.000</td>\n",
       "    </tr>\n",
       "    <tr>\n",
       "      <th>2015-04-28 00:00:00-03:00</th>\n",
       "      <td>0.031818</td>\n",
       "      <td>0.000</td>\n",
       "    </tr>\n",
       "    <tr>\n",
       "      <th>2015-10-01 00:00:00-03:00</th>\n",
       "      <td>0.000000</td>\n",
       "      <td>0.125</td>\n",
       "    </tr>\n",
       "    <tr>\n",
       "      <th>2017-04-26 00:00:00-03:00</th>\n",
       "      <td>0.037167</td>\n",
       "      <td>0.000</td>\n",
       "    </tr>\n",
       "    <tr>\n",
       "      <th>2017-09-05 00:00:00-03:00</th>\n",
       "      <td>0.000000</td>\n",
       "      <td>8.000</td>\n",
       "    </tr>\n",
       "    <tr>\n",
       "      <th>2017-12-20 00:00:00-02:00</th>\n",
       "      <td>0.115776</td>\n",
       "      <td>0.000</td>\n",
       "    </tr>\n",
       "    <tr>\n",
       "      <th>2018-04-17 00:00:00-03:00</th>\n",
       "      <td>0.077300</td>\n",
       "      <td>0.000</td>\n",
       "    </tr>\n",
       "    <tr>\n",
       "      <th>2019-01-02 00:00:00-02:00</th>\n",
       "      <td>0.173241</td>\n",
       "      <td>0.000</td>\n",
       "    </tr>\n",
       "    <tr>\n",
       "      <th>2019-04-16 00:00:00-03:00</th>\n",
       "      <td>0.108222</td>\n",
       "      <td>0.000</td>\n",
       "    </tr>\n",
       "    <tr>\n",
       "      <th>2019-08-06 00:00:00-03:00</th>\n",
       "      <td>0.000000</td>\n",
       "      <td>8.000</td>\n",
       "    </tr>\n",
       "    <tr>\n",
       "      <th>2019-10-08 00:00:00-03:00</th>\n",
       "      <td>0.172114</td>\n",
       "      <td>0.000</td>\n",
       "    </tr>\n",
       "    <tr>\n",
       "      <th>2020-01-02 00:00:00-03:00</th>\n",
       "      <td>0.083686</td>\n",
       "      <td>0.000</td>\n",
       "    </tr>\n",
       "    <tr>\n",
       "      <th>2020-07-31 00:00:00-03:00</th>\n",
       "      <td>0.220187</td>\n",
       "      <td>0.000</td>\n",
       "    </tr>\n",
       "    <tr>\n",
       "      <th>2020-10-14 00:00:00-03:00</th>\n",
       "      <td>0.000000</td>\n",
       "      <td>4.000</td>\n",
       "    </tr>\n",
       "    <tr>\n",
       "      <th>2020-12-30 00:00:00-03:00</th>\n",
       "      <td>0.245999</td>\n",
       "      <td>0.000</td>\n",
       "    </tr>\n",
       "    <tr>\n",
       "      <th>2021-07-06 00:00:00-03:00</th>\n",
       "      <td>0.144919</td>\n",
       "      <td>0.000</td>\n",
       "    </tr>\n",
       "    <tr>\n",
       "      <th>2024-05-27 00:00:00-03:00</th>\n",
       "      <td>0.000000</td>\n",
       "      <td>0.100</td>\n",
       "    </tr>\n",
       "  </tbody>\n",
       "</table>\n",
       "</div>"
      ],
      "text/plain": [
       "                           Dividends  Stock Splits\n",
       "Date                                              \n",
       "2012-05-02 00:00:00-03:00   0.004343         0.000\n",
       "2014-02-21 00:00:00-03:00   0.019198         0.000\n",
       "2014-04-23 00:00:00-03:00   0.031380         0.000\n",
       "2015-01-15 00:00:00-02:00   0.022848         0.000\n",
       "2015-04-28 00:00:00-03:00   0.031818         0.000\n",
       "2015-10-01 00:00:00-03:00   0.000000         0.125\n",
       "2017-04-26 00:00:00-03:00   0.037167         0.000\n",
       "2017-09-05 00:00:00-03:00   0.000000         8.000\n",
       "2017-12-20 00:00:00-02:00   0.115776         0.000\n",
       "2018-04-17 00:00:00-03:00   0.077300         0.000\n",
       "2019-01-02 00:00:00-02:00   0.173241         0.000\n",
       "2019-04-16 00:00:00-03:00   0.108222         0.000\n",
       "2019-08-06 00:00:00-03:00   0.000000         8.000\n",
       "2019-10-08 00:00:00-03:00   0.172114         0.000\n",
       "2020-01-02 00:00:00-03:00   0.083686         0.000\n",
       "2020-07-31 00:00:00-03:00   0.220187         0.000\n",
       "2020-10-14 00:00:00-03:00   0.000000         4.000\n",
       "2020-12-30 00:00:00-03:00   0.245999         0.000\n",
       "2021-07-06 00:00:00-03:00   0.144919         0.000\n",
       "2024-05-27 00:00:00-03:00   0.000000         0.100"
      ]
     },
     "execution_count": 123,
     "metadata": {},
     "output_type": "execute_result"
    }
   ],
   "source": [
    "Magazine_luiza.actions"
   ]
  },
  {
   "cell_type": "code",
   "execution_count": 124,
   "metadata": {},
   "outputs": [
    {
     "data": {
      "text/html": [
       "<div>\n",
       "<style scoped>\n",
       "    .dataframe tbody tr th:only-of-type {\n",
       "        vertical-align: middle;\n",
       "    }\n",
       "\n",
       "    .dataframe tbody tr th {\n",
       "        vertical-align: top;\n",
       "    }\n",
       "\n",
       "    .dataframe thead th {\n",
       "        text-align: right;\n",
       "    }\n",
       "</style>\n",
       "<table border=\"1\" class=\"dataframe\">\n",
       "  <thead>\n",
       "    <tr style=\"text-align: right;\">\n",
       "      <th></th>\n",
       "      <th>Dividends</th>\n",
       "      <th>Stock Splits</th>\n",
       "    </tr>\n",
       "    <tr>\n",
       "      <th>Date</th>\n",
       "      <th></th>\n",
       "      <th></th>\n",
       "    </tr>\n",
       "  </thead>\n",
       "  <tbody>\n",
       "    <tr>\n",
       "      <th>2007-09-03 00:00:00-03:00</th>\n",
       "      <td>0.000000</td>\n",
       "      <td>0.002</td>\n",
       "    </tr>\n",
       "    <tr>\n",
       "      <th>2008-05-02 00:00:00-03:00</th>\n",
       "      <td>0.186062</td>\n",
       "      <td>0.000</td>\n",
       "    </tr>\n",
       "    <tr>\n",
       "      <th>2009-05-04 00:00:00-03:00</th>\n",
       "      <td>0.222695</td>\n",
       "      <td>0.000</td>\n",
       "    </tr>\n",
       "    <tr>\n",
       "      <th>2009-08-12 00:00:00-03:00</th>\n",
       "      <td>0.110236</td>\n",
       "      <td>0.000</td>\n",
       "    </tr>\n",
       "    <tr>\n",
       "      <th>2009-11-19 00:00:00-02:00</th>\n",
       "      <td>0.053698</td>\n",
       "      <td>0.000</td>\n",
       "    </tr>\n",
       "    <tr>\n",
       "      <th>2010-04-30 00:00:00-03:00</th>\n",
       "      <td>0.320118</td>\n",
       "      <td>0.000</td>\n",
       "    </tr>\n",
       "    <tr>\n",
       "      <th>2010-05-18 00:00:00-03:00</th>\n",
       "      <td>0.065044</td>\n",
       "      <td>0.000</td>\n",
       "    </tr>\n",
       "    <tr>\n",
       "      <th>2010-08-04 00:00:00-03:00</th>\n",
       "      <td>0.065044</td>\n",
       "      <td>0.000</td>\n",
       "    </tr>\n",
       "    <tr>\n",
       "      <th>2010-11-18 00:00:00-02:00</th>\n",
       "      <td>0.065044</td>\n",
       "      <td>0.000</td>\n",
       "    </tr>\n",
       "    <tr>\n",
       "      <th>2011-04-01 00:00:00-03:00</th>\n",
       "      <td>0.366281</td>\n",
       "      <td>0.000</td>\n",
       "    </tr>\n",
       "    <tr>\n",
       "      <th>2011-05-20 00:00:00-03:00</th>\n",
       "      <td>0.073239</td>\n",
       "      <td>0.000</td>\n",
       "    </tr>\n",
       "    <tr>\n",
       "      <th>2011-08-02 00:00:00-03:00</th>\n",
       "      <td>0.073239</td>\n",
       "      <td>0.000</td>\n",
       "    </tr>\n",
       "    <tr>\n",
       "      <th>2011-11-16 00:00:00-02:00</th>\n",
       "      <td>0.073239</td>\n",
       "      <td>0.000</td>\n",
       "    </tr>\n",
       "    <tr>\n",
       "      <th>2012-04-30 00:00:00-03:00</th>\n",
       "      <td>0.334186</td>\n",
       "      <td>0.000</td>\n",
       "    </tr>\n",
       "    <tr>\n",
       "      <th>2012-06-12 00:00:00-03:00</th>\n",
       "      <td>0.089515</td>\n",
       "      <td>0.000</td>\n",
       "    </tr>\n",
       "    <tr>\n",
       "      <th>2012-08-01 00:00:00-03:00</th>\n",
       "      <td>0.089515</td>\n",
       "      <td>0.000</td>\n",
       "    </tr>\n",
       "    <tr>\n",
       "      <th>2012-11-13 00:00:00-02:00</th>\n",
       "      <td>0.089515</td>\n",
       "      <td>0.000</td>\n",
       "    </tr>\n",
       "    <tr>\n",
       "      <th>2013-04-18 00:00:00-03:00</th>\n",
       "      <td>0.531463</td>\n",
       "      <td>0.000</td>\n",
       "    </tr>\n",
       "    <tr>\n",
       "      <th>2013-05-06 00:00:00-03:00</th>\n",
       "      <td>0.105790</td>\n",
       "      <td>0.000</td>\n",
       "    </tr>\n",
       "    <tr>\n",
       "      <th>2013-08-01 00:00:00-03:00</th>\n",
       "      <td>0.105790</td>\n",
       "      <td>0.000</td>\n",
       "    </tr>\n",
       "    <tr>\n",
       "      <th>2013-10-28 00:00:00-02:00</th>\n",
       "      <td>0.105790</td>\n",
       "      <td>0.000</td>\n",
       "    </tr>\n",
       "    <tr>\n",
       "      <th>2014-04-17 00:00:00-03:00</th>\n",
       "      <td>0.479257</td>\n",
       "      <td>0.000</td>\n",
       "    </tr>\n",
       "    <tr>\n",
       "      <th>2014-05-06 00:00:00-03:00</th>\n",
       "      <td>0.113927</td>\n",
       "      <td>0.000</td>\n",
       "    </tr>\n",
       "    <tr>\n",
       "      <th>2014-08-04 00:00:00-03:00</th>\n",
       "      <td>0.113927</td>\n",
       "      <td>0.000</td>\n",
       "    </tr>\n",
       "    <tr>\n",
       "      <th>2014-11-11 00:00:00-02:00</th>\n",
       "      <td>0.113927</td>\n",
       "      <td>0.000</td>\n",
       "    </tr>\n",
       "    <tr>\n",
       "      <th>2015-04-27 00:00:00-03:00</th>\n",
       "      <td>0.616748</td>\n",
       "      <td>0.000</td>\n",
       "    </tr>\n",
       "    <tr>\n",
       "      <th>2015-05-19 00:00:00-03:00</th>\n",
       "      <td>0.122067</td>\n",
       "      <td>0.000</td>\n",
       "    </tr>\n",
       "    <tr>\n",
       "      <th>2015-07-29 00:00:00-03:00</th>\n",
       "      <td>0.122067</td>\n",
       "      <td>0.000</td>\n",
       "    </tr>\n",
       "    <tr>\n",
       "      <th>2015-11-03 00:00:00-02:00</th>\n",
       "      <td>0.122067</td>\n",
       "      <td>0.000</td>\n",
       "    </tr>\n",
       "    <tr>\n",
       "      <th>2016-04-28 00:00:00-03:00</th>\n",
       "      <td>0.012266</td>\n",
       "      <td>0.000</td>\n",
       "    </tr>\n",
       "    <tr>\n",
       "      <th>2017-12-07 00:00:00-02:00</th>\n",
       "      <td>0.256398</td>\n",
       "      <td>0.000</td>\n",
       "    </tr>\n",
       "    <tr>\n",
       "      <th>2018-04-02 00:00:00-03:00</th>\n",
       "      <td>0.288128</td>\n",
       "      <td>0.000</td>\n",
       "    </tr>\n",
       "    <tr>\n",
       "      <th>2018-05-04 00:00:00-03:00</th>\n",
       "      <td>0.236879</td>\n",
       "      <td>0.000</td>\n",
       "    </tr>\n",
       "    <tr>\n",
       "      <th>2018-10-03 00:00:00-03:00</th>\n",
       "      <td>0.363424</td>\n",
       "      <td>0.000</td>\n",
       "    </tr>\n",
       "    <tr>\n",
       "      <th>2018-12-05 00:00:00-02:00</th>\n",
       "      <td>0.225743</td>\n",
       "      <td>0.000</td>\n",
       "    </tr>\n",
       "    <tr>\n",
       "      <th>2019-03-29 00:00:00-03:00</th>\n",
       "      <td>0.608004</td>\n",
       "      <td>0.000</td>\n",
       "    </tr>\n",
       "    <tr>\n",
       "      <th>2019-06-28 00:00:00-03:00</th>\n",
       "      <td>0.115972</td>\n",
       "      <td>0.000</td>\n",
       "    </tr>\n",
       "    <tr>\n",
       "      <th>2020-05-04 00:00:00-03:00</th>\n",
       "      <td>0.520997</td>\n",
       "      <td>0.000</td>\n",
       "    </tr>\n",
       "    <tr>\n",
       "      <th>2021-05-06 00:00:00-03:00</th>\n",
       "      <td>1.948627</td>\n",
       "      <td>0.000</td>\n",
       "    </tr>\n",
       "    <tr>\n",
       "      <th>2022-04-28 00:00:00-03:00</th>\n",
       "      <td>0.317293</td>\n",
       "      <td>0.000</td>\n",
       "    </tr>\n",
       "  </tbody>\n",
       "</table>\n",
       "</div>"
      ],
      "text/plain": [
       "                           Dividends  Stock Splits\n",
       "Date                                              \n",
       "2007-09-03 00:00:00-03:00   0.000000         0.002\n",
       "2008-05-02 00:00:00-03:00   0.186062         0.000\n",
       "2009-05-04 00:00:00-03:00   0.222695         0.000\n",
       "2009-08-12 00:00:00-03:00   0.110236         0.000\n",
       "2009-11-19 00:00:00-02:00   0.053698         0.000\n",
       "2010-04-30 00:00:00-03:00   0.320118         0.000\n",
       "2010-05-18 00:00:00-03:00   0.065044         0.000\n",
       "2010-08-04 00:00:00-03:00   0.065044         0.000\n",
       "2010-11-18 00:00:00-02:00   0.065044         0.000\n",
       "2011-04-01 00:00:00-03:00   0.366281         0.000\n",
       "2011-05-20 00:00:00-03:00   0.073239         0.000\n",
       "2011-08-02 00:00:00-03:00   0.073239         0.000\n",
       "2011-11-16 00:00:00-02:00   0.073239         0.000\n",
       "2012-04-30 00:00:00-03:00   0.334186         0.000\n",
       "2012-06-12 00:00:00-03:00   0.089515         0.000\n",
       "2012-08-01 00:00:00-03:00   0.089515         0.000\n",
       "2012-11-13 00:00:00-02:00   0.089515         0.000\n",
       "2013-04-18 00:00:00-03:00   0.531463         0.000\n",
       "2013-05-06 00:00:00-03:00   0.105790         0.000\n",
       "2013-08-01 00:00:00-03:00   0.105790         0.000\n",
       "2013-10-28 00:00:00-02:00   0.105790         0.000\n",
       "2014-04-17 00:00:00-03:00   0.479257         0.000\n",
       "2014-05-06 00:00:00-03:00   0.113927         0.000\n",
       "2014-08-04 00:00:00-03:00   0.113927         0.000\n",
       "2014-11-11 00:00:00-02:00   0.113927         0.000\n",
       "2015-04-27 00:00:00-03:00   0.616748         0.000\n",
       "2015-05-19 00:00:00-03:00   0.122067         0.000\n",
       "2015-07-29 00:00:00-03:00   0.122067         0.000\n",
       "2015-11-03 00:00:00-02:00   0.122067         0.000\n",
       "2016-04-28 00:00:00-03:00   0.012266         0.000\n",
       "2017-12-07 00:00:00-02:00   0.256398         0.000\n",
       "2018-04-02 00:00:00-03:00   0.288128         0.000\n",
       "2018-05-04 00:00:00-03:00   0.236879         0.000\n",
       "2018-10-03 00:00:00-03:00   0.363424         0.000\n",
       "2018-12-05 00:00:00-02:00   0.225743         0.000\n",
       "2019-03-29 00:00:00-03:00   0.608004         0.000\n",
       "2019-06-28 00:00:00-03:00   0.115972         0.000\n",
       "2020-05-04 00:00:00-03:00   0.520997         0.000\n",
       "2021-05-06 00:00:00-03:00   1.948627         0.000\n",
       "2022-04-28 00:00:00-03:00   0.317293         0.000"
      ]
     },
     "execution_count": 124,
     "metadata": {},
     "output_type": "execute_result"
    }
   ],
   "source": [
    "Pão_de_açúcar.actions"
   ]
  },
  {
   "cell_type": "code",
   "execution_count": 125,
   "metadata": {},
   "outputs": [
    {
     "data": {
      "text/html": [
       "<div>\n",
       "<style scoped>\n",
       "    .dataframe tbody tr th:only-of-type {\n",
       "        vertical-align: middle;\n",
       "    }\n",
       "\n",
       "    .dataframe tbody tr th {\n",
       "        vertical-align: top;\n",
       "    }\n",
       "\n",
       "    .dataframe thead th {\n",
       "        text-align: right;\n",
       "    }\n",
       "</style>\n",
       "<table border=\"1\" class=\"dataframe\">\n",
       "  <thead>\n",
       "    <tr style=\"text-align: right;\">\n",
       "      <th></th>\n",
       "      <th>Dividends</th>\n",
       "      <th>Stock Splits</th>\n",
       "    </tr>\n",
       "    <tr>\n",
       "      <th>Date</th>\n",
       "      <th></th>\n",
       "      <th></th>\n",
       "    </tr>\n",
       "  </thead>\n",
       "  <tbody>\n",
       "    <tr>\n",
       "      <th>2002-03-01 00:00:00-03:00</th>\n",
       "      <td>0.000000</td>\n",
       "      <td>1.4038</td>\n",
       "    </tr>\n",
       "    <tr>\n",
       "      <th>2008-01-07 00:00:00-02:00</th>\n",
       "      <td>0.000000</td>\n",
       "      <td>1.3831</td>\n",
       "    </tr>\n",
       "    <tr>\n",
       "      <th>2008-04-30 00:00:00-03:00</th>\n",
       "      <td>1.899253</td>\n",
       "      <td>0.0000</td>\n",
       "    </tr>\n",
       "    <tr>\n",
       "      <th>2013-04-15 00:00:00-03:00</th>\n",
       "      <td>0.079487</td>\n",
       "      <td>0.0000</td>\n",
       "    </tr>\n",
       "    <tr>\n",
       "      <th>2013-09-27 00:00:00-03:00</th>\n",
       "      <td>3.522965</td>\n",
       "      <td>0.0000</td>\n",
       "    </tr>\n",
       "    <tr>\n",
       "      <th>2013-11-25 00:00:00-02:00</th>\n",
       "      <td>0.000000</td>\n",
       "      <td>4.0000</td>\n",
       "    </tr>\n",
       "    <tr>\n",
       "      <th>2015-04-24 00:00:00-03:00</th>\n",
       "      <td>3.773767</td>\n",
       "      <td>0.0000</td>\n",
       "    </tr>\n",
       "    <tr>\n",
       "      <th>2016-04-27 00:00:00-03:00</th>\n",
       "      <td>0.011505</td>\n",
       "      <td>0.0000</td>\n",
       "    </tr>\n",
       "    <tr>\n",
       "      <th>2016-09-13 00:00:00-03:00</th>\n",
       "      <td>0.045190</td>\n",
       "      <td>0.0000</td>\n",
       "    </tr>\n",
       "    <tr>\n",
       "      <th>2017-12-18 00:00:00-02:00</th>\n",
       "      <td>0.591339</td>\n",
       "      <td>0.0000</td>\n",
       "    </tr>\n",
       "    <tr>\n",
       "      <th>2018-04-27 00:00:00-03:00</th>\n",
       "      <td>0.261056</td>\n",
       "      <td>0.0000</td>\n",
       "    </tr>\n",
       "    <tr>\n",
       "      <th>2023-12-15 00:00:00-03:00</th>\n",
       "      <td>0.000000</td>\n",
       "      <td>0.0400</td>\n",
       "    </tr>\n",
       "    <tr>\n",
       "      <th>2023-12-28 00:00:00-03:00</th>\n",
       "      <td>0.000000</td>\n",
       "      <td>0.0400</td>\n",
       "    </tr>\n",
       "  </tbody>\n",
       "</table>\n",
       "</div>"
      ],
      "text/plain": [
       "                           Dividends  Stock Splits\n",
       "Date                                              \n",
       "2002-03-01 00:00:00-03:00   0.000000        1.4038\n",
       "2008-01-07 00:00:00-02:00   0.000000        1.3831\n",
       "2008-04-30 00:00:00-03:00   1.899253        0.0000\n",
       "2013-04-15 00:00:00-03:00   0.079487        0.0000\n",
       "2013-09-27 00:00:00-03:00   3.522965        0.0000\n",
       "2013-11-25 00:00:00-02:00   0.000000        4.0000\n",
       "2015-04-24 00:00:00-03:00   3.773767        0.0000\n",
       "2016-04-27 00:00:00-03:00   0.011505        0.0000\n",
       "2016-09-13 00:00:00-03:00   0.045190        0.0000\n",
       "2017-12-18 00:00:00-02:00   0.591339        0.0000\n",
       "2018-04-27 00:00:00-03:00   0.261056        0.0000\n",
       "2023-12-15 00:00:00-03:00   0.000000        0.0400\n",
       "2023-12-28 00:00:00-03:00   0.000000        0.0400"
      ]
     },
     "execution_count": 125,
     "metadata": {},
     "output_type": "execute_result"
    }
   ],
   "source": [
    "Casas_bahia.actions"
   ]
  },
  {
   "cell_type": "code",
   "execution_count": 126,
   "metadata": {},
   "outputs": [
    {
     "data": {
      "text/html": [
       "<div>\n",
       "<style scoped>\n",
       "    .dataframe tbody tr th:only-of-type {\n",
       "        vertical-align: middle;\n",
       "    }\n",
       "\n",
       "    .dataframe tbody tr th {\n",
       "        vertical-align: top;\n",
       "    }\n",
       "\n",
       "    .dataframe thead th {\n",
       "        text-align: right;\n",
       "    }\n",
       "</style>\n",
       "<table border=\"1\" class=\"dataframe\">\n",
       "  <thead>\n",
       "    <tr style=\"text-align: right;\">\n",
       "      <th></th>\n",
       "      <th>Dividends</th>\n",
       "      <th>Stock Splits</th>\n",
       "    </tr>\n",
       "    <tr>\n",
       "      <th>Date</th>\n",
       "      <th></th>\n",
       "      <th></th>\n",
       "    </tr>\n",
       "  </thead>\n",
       "  <tbody>\n",
       "    <tr>\n",
       "      <th>2019-12-27 00:00:00-03:00</th>\n",
       "      <td>0.016039</td>\n",
       "      <td>0.0</td>\n",
       "    </tr>\n",
       "    <tr>\n",
       "      <th>2022-04-22 00:00:00-03:00</th>\n",
       "      <td>0.131741</td>\n",
       "      <td>0.0</td>\n",
       "    </tr>\n",
       "    <tr>\n",
       "      <th>2024-03-20 00:00:00-03:00</th>\n",
       "      <td>0.707658</td>\n",
       "      <td>0.0</td>\n",
       "    </tr>\n",
       "    <tr>\n",
       "      <th>2024-04-09 00:00:00-03:00</th>\n",
       "      <td>0.032416</td>\n",
       "      <td>0.0</td>\n",
       "    </tr>\n",
       "  </tbody>\n",
       "</table>\n",
       "</div>"
      ],
      "text/plain": [
       "                           Dividends  Stock Splits\n",
       "Date                                              \n",
       "2019-12-27 00:00:00-03:00   0.016039           0.0\n",
       "2022-04-22 00:00:00-03:00   0.131741           0.0\n",
       "2024-03-20 00:00:00-03:00   0.707658           0.0\n",
       "2024-04-09 00:00:00-03:00   0.032416           0.0"
      ]
     },
     "execution_count": 126,
     "metadata": {},
     "output_type": "execute_result"
    }
   ],
   "source": [
    "Grupo_Boticario.actions"
   ]
  },
  {
   "cell_type": "code",
   "execution_count": null,
   "metadata": {},
   "outputs": [],
   "source": []
  },
  {
   "cell_type": "markdown",
   "metadata": {},
   "source": [
    "## Dividends Yields\n",
    "#### Algumas ações só distribuiram dividendos em períodos especificos e não todos os quatro anos em que nos estamos analisando, por isso não foi possível analisar todos os dividends yields de todos os anos. Para fins de métrica vamos considerar apenas os valores mais recentes dos dividendos com os valores mais altos."
   ]
  },
  {
   "cell_type": "code",
   "execution_count": 127,
   "metadata": {},
   "outputs": [],
   "source": [
    "def calculayield(empresa, ação, dividendo_day, dia_ação):\n",
    "    valor = empresa.actions.loc[dividendo_day, \"Dividends\"]/ação.loc[dia_ação, \"Adj Close\"]\n",
    "\n",
    "    return(valor)\n",
    "\n"
   ]
  },
  {
   "cell_type": "code",
   "execution_count": 128,
   "metadata": {},
   "outputs": [
    {
     "name": "stdout",
     "output_type": "stream",
     "text": [
      "Dividend Yield da Magazine Luiza 0.10434631455379462\n",
      "Dividend Yield da Pão de Açúcar 5.494046294246211\n",
      "Divididend Yield da Casas Bahia 0.14379543008228965\n",
      "Dividend Yield Grupo Boticario 3.878301190909251\n"
     ]
    }
   ],
   "source": [
    "print(f'Dividend Yield da Magazine Luiza {calculayield(Magazine_luiza, Magazine_luiza_ação, dividendo_day=\"2020-12-30 00:00:00-03:00\", dia_ação= \"2020-12-28\")*100}')\n",
    "print(f'Dividend Yield da Pão de Açúcar {calculayield(Pão_de_açúcar, Pão_de_açúcar_ação, dividendo_day=\"2021-05-06 00:00:00-03:00\", dia_ação= \"2021-5-06\")*100}')\n",
    "print(f'Divididend Yield da Casas Bahia {calculayield(Casas_bahia, Casas_bahia_ação, dividendo_day=\"2018-04-27 00:00:00-03:00\", dia_ação= \"2018-04-27\")*100}')\n",
    "print(f'Dividend Yield Grupo Boticario {calculayield(Grupo_Boticario, Grupo_Boticario_ação, dividendo_day=\"2024-03-20 00:00:00-03:00\", dia_ação= \"2024-03-20\")*100}')"
   ]
  },
  {
   "cell_type": "markdown",
   "metadata": {},
   "source": [
    "## Calculando o ROE\n",
    "#### O ROE representa o retorno sobre o patrimônio, nesse caso ele é a relação entre o lucro líquido da empresa e o patrimônio líquido"
   ]
  },
  {
   "cell_type": "code",
   "execution_count": 129,
   "metadata": {},
   "outputs": [],
   "source": [
    "#Stockholders Equity = Patrimônio Líquido\n",
    "#Lucro Líquido = Net Income"
   ]
  },
  {
   "cell_type": "code",
   "execution_count": 130,
   "metadata": {},
   "outputs": [],
   "source": [
    "def calculaROE(empresa):\n",
    "    periodos = [\"2023-12-31\", \"2022-12-31\", \"2021-12-31\", \"2020-12-31\"]\n",
    "    ROEs = []\n",
    "\n",
    "    for periodo in periodos:\n",
    "        ROE = (empresa.income_stmt.loc[\"Net Income\", periodo]/empresa.balancesheet.loc[\"Stockholders Equity\", periodo])*100\n",
    "        ROEs.append(ROE)\n",
    "\n",
    "    return(ROEs)"
   ]
  },
  {
   "cell_type": "code",
   "execution_count": 131,
   "metadata": {},
   "outputs": [
    {
     "name": "stdout",
     "output_type": "stream",
     "text": [
      "ROE do Magazine Luiza nos ultimos anos [-10.187820988927358, -4.685782801113488, 5.245083774589119, 5.3473536258715875]\n",
      "ROE do Grupo Boticário: [12.871489577716789, -12.804652578587108, 3.6711826038155837, -2.3760715913093713]\n",
      "ROE do Pão de Açúcar: [-48.14500741997032, -1.4965631253806666, 5.875888343468386, 15.910916392844104]\n",
      "ROE das Casas Bahia: [-75.9988419224088, -6.472369417108251, -5.2687599787120805, 16.792105703294865]\n"
     ]
    }
   ],
   "source": [
    "print(f'ROE do Magazine Luiza nos ultimos anos {calculaROE(Magazine_luiza)}')\n",
    "print(f'ROE do Grupo Boticário: {calculaROE(Grupo_Boticario)}')\n",
    "print(f'ROE do Pão de Açúcar: {calculaROE(Pão_de_açúcar)}')\n",
    "print(f'ROE das Casas Bahia: {calculaROE(Casas_bahia)}')"
   ]
  },
  {
   "cell_type": "markdown",
   "metadata": {},
   "source": [
    "## Calculando o ROA\n",
    "#### O ROA é relação entre o lucro líquido e os ativos totais que a empresa possuí. Se for em um período, ele será a média dos retornos totais."
   ]
  },
  {
   "cell_type": "code",
   "execution_count": 132,
   "metadata": {},
   "outputs": [],
   "source": [
    "def calculaROA(empresa):\n",
    "    periodos = [\"2023-12-31\", \"2022-12-31\", \"2021-12-31\", \"2020-12-31\"]\n",
    "    ROAs = []\n",
    "\n",
    "    for periodo in periodos:\n",
    "        ROA = empresa.income_stmt.loc[\"Net Income\", periodo]/empresa.balancesheet.loc[\"Total Assets\", periodo]*100\n",
    "        ROAs.append(ROA)\n",
    "\n",
    "    return(ROAs)"
   ]
  },
  {
   "cell_type": "code",
   "execution_count": 133,
   "metadata": {},
   "outputs": [
    {
     "name": "stdout",
     "output_type": "stream",
     "text": [
      "ROA da Magazine Luiza: [-2.6140762209823305, -1.3212335113910467, 1.5387961677146906, 1.589263495740267]\n",
      "ROA do Grupo Boticário: [6.9565816466950965, -5.229237644643295, 1.7336413200726768, -1.0673369141596312]\n",
      "ROA do Pão de Açúcar: [-10.299319727891158, -0.39234471589224207, 1.6220698582205773, 4.072059950290594]\n",
      "ROA da Casas Bahia: [-8.204150518814853, -0.9613762860516107, -0.8404074702886248, 3.0372700871248792]\n"
     ]
    }
   ],
   "source": [
    "print(f'ROA da Magazine Luiza: {calculaROA(Magazine_luiza)}')\n",
    "print(f'ROA do Grupo Boticário: {calculaROA(Grupo_Boticario)}')\n",
    "print(f'ROA do Pão de Açúcar: {calculaROA(Pão_de_açúcar)}')\n",
    "print(f'ROA da Casas Bahia: {calculaROA(Casas_bahia)}')\n"
   ]
  },
  {
   "cell_type": "markdown",
   "metadata": {},
   "source": [
    "## Net Debt/EBITDA\n",
    "#### O Net Debt/EBITDA indica em quantas vezes uma empresa deverá aumentar o seu caixa para conseguir pagar as dívidas que ela possui. \n"
   ]
  },
  {
   "cell_type": "code",
   "execution_count": 134,
   "metadata": {},
   "outputs": [],
   "source": [
    "def calculaNetEbit(empresa):\n",
    "    periodos = [\"2023-12-31\", \"2022-12-31\", \"2021-12-31\", \"2020-12-31\"]\n",
    "    DividaLiquida_sobre_EBITDA = []\n",
    "\n",
    "    for periodo in periodos:\n",
    "        valor = empresa.balancesheet.loc[\"Net Debt\", periodo]/empresa.income_stmt.loc[\"EBITDA\", periodo]\n",
    "        DividaLiquida_sobre_EBITDA.append(valor)\n",
    "\n",
    "        \n",
    "        \n",
    "    return(DividaLiquida_sobre_EBITDA)"
   ]
  },
  {
   "cell_type": "code",
   "execution_count": 135,
   "metadata": {},
   "outputs": [
    {
     "name": "stdout",
     "output_type": "stream",
     "text": [
      "Divida Líquida/ EBITDA do grupo Magazine Luiza:[10.045928679632215, 4.3020797874243835, 4.2427637740500685, 0.004011583391180773]\n",
      "Divida Líquida/ EBITDA do Grupo Boticário: [-23.285770649622222, 35.96939572343993, 4.056842821110585, 2.338023752974674]\n",
      "Divida Líquida/ EBITDA do Pão de Açúcar: [1.0544871794871795, 1.1139240506329113, 0.3372345036844387, 0.11539470233412012]\n",
      "Divida Líquida/ EBITDA da Casas Bahia [-7.0175824175824175, 3.8751974723538702, 16.867549668874172, 2.315151515151515]\n"
     ]
    }
   ],
   "source": [
    "print(f'Divida Líquida/ EBITDA do grupo Magazine Luiza:{calculaNetEbit(Magazine_luiza)}')\n",
    "print(f'Divida Líquida/ EBITDA do Grupo Boticário: {calculaNetEbit(Grupo_Boticario)}')\n",
    "print(f'Divida Líquida/ EBITDA do Pão de Açúcar: {calculaNetEbit(Pão_de_açúcar)}')\n",
    "print(f'Divida Líquida/ EBITDA da Casas Bahia {calculaNetEbit(Casas_bahia)}')"
   ]
  },
  {
   "cell_type": "code",
   "execution_count": 136,
   "metadata": {},
   "outputs": [
    {
     "data": {
      "text/html": [
       "<div>\n",
       "<style scoped>\n",
       "    .dataframe tbody tr th:only-of-type {\n",
       "        vertical-align: middle;\n",
       "    }\n",
       "\n",
       "    .dataframe tbody tr th {\n",
       "        vertical-align: top;\n",
       "    }\n",
       "\n",
       "    .dataframe thead th {\n",
       "        text-align: right;\n",
       "    }\n",
       "</style>\n",
       "<table border=\"1\" class=\"dataframe\">\n",
       "  <thead>\n",
       "    <tr style=\"text-align: right;\">\n",
       "      <th></th>\n",
       "      <th>2023-12-31</th>\n",
       "      <th>2022-12-31</th>\n",
       "      <th>2021-12-31</th>\n",
       "      <th>2020-12-31</th>\n",
       "    </tr>\n",
       "  </thead>\n",
       "  <tbody>\n",
       "    <tr>\n",
       "      <th>Tax Effect Of Unusual Items</th>\n",
       "      <td>11422640.0</td>\n",
       "      <td>-675580.0</td>\n",
       "      <td>-11810580.0</td>\n",
       "      <td>-961308.0</td>\n",
       "    </tr>\n",
       "    <tr>\n",
       "      <th>Tax Rate For Calcs</th>\n",
       "      <td>0.34</td>\n",
       "      <td>0.34</td>\n",
       "      <td>0.34</td>\n",
       "      <td>0.054</td>\n",
       "    </tr>\n",
       "    <tr>\n",
       "      <th>Normalized EBITDA</th>\n",
       "      <td>440378000.0</td>\n",
       "      <td>1091858000.0</td>\n",
       "      <td>1030940000.0</td>\n",
       "      <td>1360414000.0</td>\n",
       "    </tr>\n",
       "    <tr>\n",
       "      <th>Total Unusual Items</th>\n",
       "      <td>33596000.0</td>\n",
       "      <td>-1987000.0</td>\n",
       "      <td>-34737000.0</td>\n",
       "      <td>-17802000.0</td>\n",
       "    </tr>\n",
       "    <tr>\n",
       "      <th>Total Unusual Items Excluding Goodwill</th>\n",
       "      <td>33596000.0</td>\n",
       "      <td>-1987000.0</td>\n",
       "      <td>-34737000.0</td>\n",
       "      <td>-17802000.0</td>\n",
       "    </tr>\n",
       "    <tr>\n",
       "      <th>Net Income From Continuing Operation Net Minority Interest</th>\n",
       "      <td>-979104000.0</td>\n",
       "      <td>-498975000.0</td>\n",
       "      <td>590661000.0</td>\n",
       "      <td>391709000.0</td>\n",
       "    </tr>\n",
       "    <tr>\n",
       "      <th>Reconciled Depreciation</th>\n",
       "      <td>1242690000.0</td>\n",
       "      <td>1163624000.0</td>\n",
       "      <td>816964000.0</td>\n",
       "      <td>702523000.0</td>\n",
       "    </tr>\n",
       "    <tr>\n",
       "      <th>Reconciled Cost Of Revenue</th>\n",
       "      <td>26604266000.0</td>\n",
       "      <td>26860106000.0</td>\n",
       "      <td>26791345000.0</td>\n",
       "      <td>21657151000.0</td>\n",
       "    </tr>\n",
       "    <tr>\n",
       "      <th>EBITDA</th>\n",
       "      <td>473974000.0</td>\n",
       "      <td>1089871000.0</td>\n",
       "      <td>996203000.0</td>\n",
       "      <td>1342612000.0</td>\n",
       "    </tr>\n",
       "    <tr>\n",
       "      <th>EBIT</th>\n",
       "      <td>-768716000.0</td>\n",
       "      <td>-73753000.0</td>\n",
       "      <td>179239000.0</td>\n",
       "      <td>640089000.0</td>\n",
       "    </tr>\n",
       "    <tr>\n",
       "      <th>Net Interest Income</th>\n",
       "      <td>-1728705000.0</td>\n",
       "      <td>-2046544000.0</td>\n",
       "      <td>-687730000.0</td>\n",
       "      <td>-391851000.0</td>\n",
       "    </tr>\n",
       "    <tr>\n",
       "      <th>Interest Expense</th>\n",
       "      <td>1295651000.0</td>\n",
       "      <td>1195645000.0</td>\n",
       "      <td>397648000.0</td>\n",
       "      <td>226008000.0</td>\n",
       "    </tr>\n",
       "    <tr>\n",
       "      <th>Interest Income</th>\n",
       "      <td>176181000.0</td>\n",
       "      <td>150832000.0</td>\n",
       "      <td>72955000.0</td>\n",
       "      <td>58668000.0</td>\n",
       "    </tr>\n",
       "    <tr>\n",
       "      <th>Normalized Income</th>\n",
       "      <td>-1001277360.0</td>\n",
       "      <td>-497663580.0</td>\n",
       "      <td>613587420.0</td>\n",
       "      <td>408549692.0</td>\n",
       "    </tr>\n",
       "    <tr>\n",
       "      <th>Net Income From Continuing And Discontinued Operation</th>\n",
       "      <td>-979104000.0</td>\n",
       "      <td>-498975000.0</td>\n",
       "      <td>590661000.0</td>\n",
       "      <td>391709000.0</td>\n",
       "    </tr>\n",
       "    <tr>\n",
       "      <th>Total Expenses</th>\n",
       "      <td>37118397000.0</td>\n",
       "      <td>36484131000.0</td>\n",
       "      <td>34873420000.0</td>\n",
       "      <td>28473308000.0</td>\n",
       "    </tr>\n",
       "    <tr>\n",
       "      <th>Total Operating Income As Reported</th>\n",
       "      <td>-372148000.0</td>\n",
       "      <td>771635000.0</td>\n",
       "      <td>NaN</td>\n",
       "      <td>NaN</td>\n",
       "    </tr>\n",
       "    <tr>\n",
       "      <th>Diluted Average Shares</th>\n",
       "      <td>721738896.0</td>\n",
       "      <td>720595601.0</td>\n",
       "      <td>720179185.0</td>\n",
       "      <td>700546850.0</td>\n",
       "    </tr>\n",
       "    <tr>\n",
       "      <th>Basic Average Shares</th>\n",
       "      <td>715465009.0</td>\n",
       "      <td>713894564.0</td>\n",
       "      <td>712643218.0</td>\n",
       "      <td>692370220.0</td>\n",
       "    </tr>\n",
       "    <tr>\n",
       "      <th>Diluted EPS</th>\n",
       "      <td>-1.365572</td>\n",
       "      <td>-0.701493</td>\n",
       "      <td>0.823085</td>\n",
       "      <td>0.561194</td>\n",
       "    </tr>\n",
       "    <tr>\n",
       "      <th>Basic EPS</th>\n",
       "      <td>-1.365572</td>\n",
       "      <td>-0.701493</td>\n",
       "      <td>0.832438</td>\n",
       "      <td>0.570547</td>\n",
       "    </tr>\n",
       "    <tr>\n",
       "      <th>Diluted NI Availto Com Stockholders</th>\n",
       "      <td>-979104000.0</td>\n",
       "      <td>-498975000.0</td>\n",
       "      <td>590661000.0</td>\n",
       "      <td>391709000.0</td>\n",
       "    </tr>\n",
       "    <tr>\n",
       "      <th>Net Income Common Stockholders</th>\n",
       "      <td>-979104000.0</td>\n",
       "      <td>-498975000.0</td>\n",
       "      <td>590661000.0</td>\n",
       "      <td>391709000.0</td>\n",
       "    </tr>\n",
       "    <tr>\n",
       "      <th>Otherunder Preferred Stock Dividend</th>\n",
       "      <td>0.0</td>\n",
       "      <td>0.0</td>\n",
       "      <td>0.0</td>\n",
       "      <td>0.0</td>\n",
       "    </tr>\n",
       "    <tr>\n",
       "      <th>Net Income</th>\n",
       "      <td>-979104000.0</td>\n",
       "      <td>-498975000.0</td>\n",
       "      <td>590661000.0</td>\n",
       "      <td>391709000.0</td>\n",
       "    </tr>\n",
       "    <tr>\n",
       "      <th>Net Income Including Noncontrolling Interests</th>\n",
       "      <td>-979104000.0</td>\n",
       "      <td>-498975000.0</td>\n",
       "      <td>590661000.0</td>\n",
       "      <td>391709000.0</td>\n",
       "    </tr>\n",
       "    <tr>\n",
       "      <th>Net Income Continuous Operations</th>\n",
       "      <td>-979104000.0</td>\n",
       "      <td>-498975000.0</td>\n",
       "      <td>590661000.0</td>\n",
       "      <td>391709000.0</td>\n",
       "    </tr>\n",
       "    <tr>\n",
       "      <th>Tax Provision</th>\n",
       "      <td>-1085263000.0</td>\n",
       "      <td>-770423000.0</td>\n",
       "      <td>-809070000.0</td>\n",
       "      <td>22372000.0</td>\n",
       "    </tr>\n",
       "    <tr>\n",
       "      <th>Pretax Income</th>\n",
       "      <td>-2064367000.0</td>\n",
       "      <td>-1269398000.0</td>\n",
       "      <td>-218409000.0</td>\n",
       "      <td>414081000.0</td>\n",
       "    </tr>\n",
       "    <tr>\n",
       "      <th>Special Income Charges</th>\n",
       "      <td>-118534000.0</td>\n",
       "      <td>-136929000.0</td>\n",
       "      <td>-77437000.0</td>\n",
       "      <td>-36755000.0</td>\n",
       "    </tr>\n",
       "    <tr>\n",
       "      <th>Other Special Charges</th>\n",
       "      <td>-201920000.0</td>\n",
       "      <td>19746000.0</td>\n",
       "      <td>77437000.0</td>\n",
       "      <td>36755000.0</td>\n",
       "    </tr>\n",
       "    <tr>\n",
       "      <th>Write Off</th>\n",
       "      <td>20512000.0</td>\n",
       "      <td>695000.0</td>\n",
       "      <td>NaN</td>\n",
       "      <td>NaN</td>\n",
       "    </tr>\n",
       "    <tr>\n",
       "      <th>Restructuring And Mergern Acquisition</th>\n",
       "      <td>299942000.0</td>\n",
       "      <td>136234000.0</td>\n",
       "      <td>NaN</td>\n",
       "      <td>NaN</td>\n",
       "    </tr>\n",
       "    <tr>\n",
       "      <th>Net Non Operating Interest Income Expense</th>\n",
       "      <td>-1728705000.0</td>\n",
       "      <td>-2046544000.0</td>\n",
       "      <td>-687730000.0</td>\n",
       "      <td>-391851000.0</td>\n",
       "    </tr>\n",
       "    <tr>\n",
       "      <th>Total Other Finance Cost</th>\n",
       "      <td>609235000.0</td>\n",
       "      <td>1001731000.0</td>\n",
       "      <td>363037000.0</td>\n",
       "      <td>224511000.0</td>\n",
       "    </tr>\n",
       "    <tr>\n",
       "      <th>Interest Expense Non Operating</th>\n",
       "      <td>1295651000.0</td>\n",
       "      <td>1195645000.0</td>\n",
       "      <td>397648000.0</td>\n",
       "      <td>226008000.0</td>\n",
       "    </tr>\n",
       "    <tr>\n",
       "      <th>Interest Income Non Operating</th>\n",
       "      <td>176181000.0</td>\n",
       "      <td>150832000.0</td>\n",
       "      <td>72955000.0</td>\n",
       "      <td>58668000.0</td>\n",
       "    </tr>\n",
       "    <tr>\n",
       "      <th>Operating Income</th>\n",
       "      <td>-350248000.0</td>\n",
       "      <td>814871000.0</td>\n",
       "      <td>404730000.0</td>\n",
       "      <td>703805000.0</td>\n",
       "    </tr>\n",
       "    <tr>\n",
       "      <th>Operating Expense</th>\n",
       "      <td>10514131000.0</td>\n",
       "      <td>9624025000.0</td>\n",
       "      <td>8082075000.0</td>\n",
       "      <td>6816157000.0</td>\n",
       "    </tr>\n",
       "    <tr>\n",
       "      <th>Other Operating Expenses</th>\n",
       "      <td>1046891000.0</td>\n",
       "      <td>425052000.0</td>\n",
       "      <td>-85675000.0</td>\n",
       "      <td>101249000.0</td>\n",
       "    </tr>\n",
       "    <tr>\n",
       "      <th>Depreciation And Amortization In Income Statement</th>\n",
       "      <td>1242690000.0</td>\n",
       "      <td>1163624000.0</td>\n",
       "      <td>816964000.0</td>\n",
       "      <td>702523000.0</td>\n",
       "    </tr>\n",
       "    <tr>\n",
       "      <th>Depreciation Income Statement</th>\n",
       "      <td>1242690000.0</td>\n",
       "      <td>1163624000.0</td>\n",
       "      <td>816964000.0</td>\n",
       "      <td>702523000.0</td>\n",
       "    </tr>\n",
       "    <tr>\n",
       "      <th>Selling General And Administration</th>\n",
       "      <td>8337270000.0</td>\n",
       "      <td>8111307000.0</td>\n",
       "      <td>7406083000.0</td>\n",
       "      <td>6069417000.0</td>\n",
       "    </tr>\n",
       "    <tr>\n",
       "      <th>Selling And Marketing Expense</th>\n",
       "      <td>7002066000.0</td>\n",
       "      <td>6741109000.0</td>\n",
       "      <td>6374429000.0</td>\n",
       "      <td>5162618000.0</td>\n",
       "    </tr>\n",
       "    <tr>\n",
       "      <th>General And Administrative Expense</th>\n",
       "      <td>1335204000.0</td>\n",
       "      <td>1370198000.0</td>\n",
       "      <td>1031654000.0</td>\n",
       "      <td>906799000.0</td>\n",
       "    </tr>\n",
       "    <tr>\n",
       "      <th>Gross Profit</th>\n",
       "      <td>10163883000.0</td>\n",
       "      <td>10438896000.0</td>\n",
       "      <td>8486805000.0</td>\n",
       "      <td>7519962000.0</td>\n",
       "    </tr>\n",
       "    <tr>\n",
       "      <th>Cost Of Revenue</th>\n",
       "      <td>26604266000.0</td>\n",
       "      <td>26860106000.0</td>\n",
       "      <td>26791345000.0</td>\n",
       "      <td>21657151000.0</td>\n",
       "    </tr>\n",
       "    <tr>\n",
       "      <th>Total Revenue</th>\n",
       "      <td>36768149000.0</td>\n",
       "      <td>37299002000.0</td>\n",
       "      <td>35278150000.0</td>\n",
       "      <td>29177113000.0</td>\n",
       "    </tr>\n",
       "    <tr>\n",
       "      <th>Operating Revenue</th>\n",
       "      <td>36768149000.0</td>\n",
       "      <td>37299002000.0</td>\n",
       "      <td>35278150000.0</td>\n",
       "      <td>29177113000.0</td>\n",
       "    </tr>\n",
       "  </tbody>\n",
       "</table>\n",
       "</div>"
      ],
      "text/plain": [
       "                                                       2023-12-31  \\\n",
       "Tax Effect Of Unusual Items                            11422640.0   \n",
       "Tax Rate For Calcs                                           0.34   \n",
       "Normalized EBITDA                                     440378000.0   \n",
       "Total Unusual Items                                    33596000.0   \n",
       "Total Unusual Items Excluding Goodwill                 33596000.0   \n",
       "Net Income From Continuing Operation Net Minori...   -979104000.0   \n",
       "Reconciled Depreciation                              1242690000.0   \n",
       "Reconciled Cost Of Revenue                          26604266000.0   \n",
       "EBITDA                                                473974000.0   \n",
       "EBIT                                                 -768716000.0   \n",
       "Net Interest Income                                 -1728705000.0   \n",
       "Interest Expense                                     1295651000.0   \n",
       "Interest Income                                       176181000.0   \n",
       "Normalized Income                                   -1001277360.0   \n",
       "Net Income From Continuing And Discontinued Ope...   -979104000.0   \n",
       "Total Expenses                                      37118397000.0   \n",
       "Total Operating Income As Reported                   -372148000.0   \n",
       "Diluted Average Shares                                721738896.0   \n",
       "Basic Average Shares                                  715465009.0   \n",
       "Diluted EPS                                             -1.365572   \n",
       "Basic EPS                                               -1.365572   \n",
       "Diluted NI Availto Com Stockholders                  -979104000.0   \n",
       "Net Income Common Stockholders                       -979104000.0   \n",
       "Otherunder Preferred Stock Dividend                           0.0   \n",
       "Net Income                                           -979104000.0   \n",
       "Net Income Including Noncontrolling Interests        -979104000.0   \n",
       "Net Income Continuous Operations                     -979104000.0   \n",
       "Tax Provision                                       -1085263000.0   \n",
       "Pretax Income                                       -2064367000.0   \n",
       "Special Income Charges                               -118534000.0   \n",
       "Other Special Charges                                -201920000.0   \n",
       "Write Off                                              20512000.0   \n",
       "Restructuring And Mergern Acquisition                 299942000.0   \n",
       "Net Non Operating Interest Income Expense           -1728705000.0   \n",
       "Total Other Finance Cost                              609235000.0   \n",
       "Interest Expense Non Operating                       1295651000.0   \n",
       "Interest Income Non Operating                         176181000.0   \n",
       "Operating Income                                     -350248000.0   \n",
       "Operating Expense                                   10514131000.0   \n",
       "Other Operating Expenses                             1046891000.0   \n",
       "Depreciation And Amortization In Income Statement    1242690000.0   \n",
       "Depreciation Income Statement                        1242690000.0   \n",
       "Selling General And Administration                   8337270000.0   \n",
       "Selling And Marketing Expense                        7002066000.0   \n",
       "General And Administrative Expense                   1335204000.0   \n",
       "Gross Profit                                        10163883000.0   \n",
       "Cost Of Revenue                                     26604266000.0   \n",
       "Total Revenue                                       36768149000.0   \n",
       "Operating Revenue                                   36768149000.0   \n",
       "\n",
       "                                                       2022-12-31  \\\n",
       "Tax Effect Of Unusual Items                             -675580.0   \n",
       "Tax Rate For Calcs                                           0.34   \n",
       "Normalized EBITDA                                    1091858000.0   \n",
       "Total Unusual Items                                    -1987000.0   \n",
       "Total Unusual Items Excluding Goodwill                 -1987000.0   \n",
       "Net Income From Continuing Operation Net Minori...   -498975000.0   \n",
       "Reconciled Depreciation                              1163624000.0   \n",
       "Reconciled Cost Of Revenue                          26860106000.0   \n",
       "EBITDA                                               1089871000.0   \n",
       "EBIT                                                  -73753000.0   \n",
       "Net Interest Income                                 -2046544000.0   \n",
       "Interest Expense                                     1195645000.0   \n",
       "Interest Income                                       150832000.0   \n",
       "Normalized Income                                    -497663580.0   \n",
       "Net Income From Continuing And Discontinued Ope...   -498975000.0   \n",
       "Total Expenses                                      36484131000.0   \n",
       "Total Operating Income As Reported                    771635000.0   \n",
       "Diluted Average Shares                                720595601.0   \n",
       "Basic Average Shares                                  713894564.0   \n",
       "Diluted EPS                                             -0.701493   \n",
       "Basic EPS                                               -0.701493   \n",
       "Diluted NI Availto Com Stockholders                  -498975000.0   \n",
       "Net Income Common Stockholders                       -498975000.0   \n",
       "Otherunder Preferred Stock Dividend                           0.0   \n",
       "Net Income                                           -498975000.0   \n",
       "Net Income Including Noncontrolling Interests        -498975000.0   \n",
       "Net Income Continuous Operations                     -498975000.0   \n",
       "Tax Provision                                        -770423000.0   \n",
       "Pretax Income                                       -1269398000.0   \n",
       "Special Income Charges                               -136929000.0   \n",
       "Other Special Charges                                  19746000.0   \n",
       "Write Off                                                695000.0   \n",
       "Restructuring And Mergern Acquisition                 136234000.0   \n",
       "Net Non Operating Interest Income Expense           -2046544000.0   \n",
       "Total Other Finance Cost                             1001731000.0   \n",
       "Interest Expense Non Operating                       1195645000.0   \n",
       "Interest Income Non Operating                         150832000.0   \n",
       "Operating Income                                      814871000.0   \n",
       "Operating Expense                                    9624025000.0   \n",
       "Other Operating Expenses                              425052000.0   \n",
       "Depreciation And Amortization In Income Statement    1163624000.0   \n",
       "Depreciation Income Statement                        1163624000.0   \n",
       "Selling General And Administration                   8111307000.0   \n",
       "Selling And Marketing Expense                        6741109000.0   \n",
       "General And Administrative Expense                   1370198000.0   \n",
       "Gross Profit                                        10438896000.0   \n",
       "Cost Of Revenue                                     26860106000.0   \n",
       "Total Revenue                                       37299002000.0   \n",
       "Operating Revenue                                   37299002000.0   \n",
       "\n",
       "                                                       2021-12-31  \\\n",
       "Tax Effect Of Unusual Items                           -11810580.0   \n",
       "Tax Rate For Calcs                                           0.34   \n",
       "Normalized EBITDA                                    1030940000.0   \n",
       "Total Unusual Items                                   -34737000.0   \n",
       "Total Unusual Items Excluding Goodwill                -34737000.0   \n",
       "Net Income From Continuing Operation Net Minori...    590661000.0   \n",
       "Reconciled Depreciation                               816964000.0   \n",
       "Reconciled Cost Of Revenue                          26791345000.0   \n",
       "EBITDA                                                996203000.0   \n",
       "EBIT                                                  179239000.0   \n",
       "Net Interest Income                                  -687730000.0   \n",
       "Interest Expense                                      397648000.0   \n",
       "Interest Income                                        72955000.0   \n",
       "Normalized Income                                     613587420.0   \n",
       "Net Income From Continuing And Discontinued Ope...    590661000.0   \n",
       "Total Expenses                                      34873420000.0   \n",
       "Total Operating Income As Reported                            NaN   \n",
       "Diluted Average Shares                                720179185.0   \n",
       "Basic Average Shares                                  712643218.0   \n",
       "Diluted EPS                                              0.823085   \n",
       "Basic EPS                                                0.832438   \n",
       "Diluted NI Availto Com Stockholders                   590661000.0   \n",
       "Net Income Common Stockholders                        590661000.0   \n",
       "Otherunder Preferred Stock Dividend                           0.0   \n",
       "Net Income                                            590661000.0   \n",
       "Net Income Including Noncontrolling Interests         590661000.0   \n",
       "Net Income Continuous Operations                      590661000.0   \n",
       "Tax Provision                                        -809070000.0   \n",
       "Pretax Income                                        -218409000.0   \n",
       "Special Income Charges                                -77437000.0   \n",
       "Other Special Charges                                  77437000.0   \n",
       "Write Off                                                     NaN   \n",
       "Restructuring And Mergern Acquisition                         NaN   \n",
       "Net Non Operating Interest Income Expense            -687730000.0   \n",
       "Total Other Finance Cost                              363037000.0   \n",
       "Interest Expense Non Operating                        397648000.0   \n",
       "Interest Income Non Operating                          72955000.0   \n",
       "Operating Income                                      404730000.0   \n",
       "Operating Expense                                    8082075000.0   \n",
       "Other Operating Expenses                              -85675000.0   \n",
       "Depreciation And Amortization In Income Statement     816964000.0   \n",
       "Depreciation Income Statement                         816964000.0   \n",
       "Selling General And Administration                   7406083000.0   \n",
       "Selling And Marketing Expense                        6374429000.0   \n",
       "General And Administrative Expense                   1031654000.0   \n",
       "Gross Profit                                         8486805000.0   \n",
       "Cost Of Revenue                                     26791345000.0   \n",
       "Total Revenue                                       35278150000.0   \n",
       "Operating Revenue                                   35278150000.0   \n",
       "\n",
       "                                                       2020-12-31  \n",
       "Tax Effect Of Unusual Items                             -961308.0  \n",
       "Tax Rate For Calcs                                          0.054  \n",
       "Normalized EBITDA                                    1360414000.0  \n",
       "Total Unusual Items                                   -17802000.0  \n",
       "Total Unusual Items Excluding Goodwill                -17802000.0  \n",
       "Net Income From Continuing Operation Net Minori...    391709000.0  \n",
       "Reconciled Depreciation                               702523000.0  \n",
       "Reconciled Cost Of Revenue                          21657151000.0  \n",
       "EBITDA                                               1342612000.0  \n",
       "EBIT                                                  640089000.0  \n",
       "Net Interest Income                                  -391851000.0  \n",
       "Interest Expense                                      226008000.0  \n",
       "Interest Income                                        58668000.0  \n",
       "Normalized Income                                     408549692.0  \n",
       "Net Income From Continuing And Discontinued Ope...    391709000.0  \n",
       "Total Expenses                                      28473308000.0  \n",
       "Total Operating Income As Reported                            NaN  \n",
       "Diluted Average Shares                                700546850.0  \n",
       "Basic Average Shares                                  692370220.0  \n",
       "Diluted EPS                                              0.561194  \n",
       "Basic EPS                                                0.570547  \n",
       "Diluted NI Availto Com Stockholders                   391709000.0  \n",
       "Net Income Common Stockholders                        391709000.0  \n",
       "Otherunder Preferred Stock Dividend                           0.0  \n",
       "Net Income                                            391709000.0  \n",
       "Net Income Including Noncontrolling Interests         391709000.0  \n",
       "Net Income Continuous Operations                      391709000.0  \n",
       "Tax Provision                                          22372000.0  \n",
       "Pretax Income                                         414081000.0  \n",
       "Special Income Charges                                -36755000.0  \n",
       "Other Special Charges                                  36755000.0  \n",
       "Write Off                                                     NaN  \n",
       "Restructuring And Mergern Acquisition                         NaN  \n",
       "Net Non Operating Interest Income Expense            -391851000.0  \n",
       "Total Other Finance Cost                              224511000.0  \n",
       "Interest Expense Non Operating                        226008000.0  \n",
       "Interest Income Non Operating                          58668000.0  \n",
       "Operating Income                                      703805000.0  \n",
       "Operating Expense                                    6816157000.0  \n",
       "Other Operating Expenses                              101249000.0  \n",
       "Depreciation And Amortization In Income Statement     702523000.0  \n",
       "Depreciation Income Statement                         702523000.0  \n",
       "Selling General And Administration                   6069417000.0  \n",
       "Selling And Marketing Expense                        5162618000.0  \n",
       "General And Administrative Expense                    906799000.0  \n",
       "Gross Profit                                         7519962000.0  \n",
       "Cost Of Revenue                                     21657151000.0  \n",
       "Total Revenue                                       29177113000.0  \n",
       "Operating Revenue                                   29177113000.0  "
      ]
     },
     "execution_count": 136,
     "metadata": {},
     "output_type": "execute_result"
    }
   ],
   "source": [
    "Magazine_luiza.income_stmt"
   ]
  },
  {
   "cell_type": "markdown",
   "metadata": {},
   "source": [
    "## Análise Fundamentalista\n",
    "##### A Análise fundamentalista é um tipo de ferramenta utilizada pelos investidores para achar as empresas com as melhores caracteristicas e com expectativas de ganhos futuros. Para isso, os investidores analisam a empresa dentro de uma perspectiva macroeconômica, setorial e também dos dados financeiros da empresa (Balanço Patrimonial e Demonstrações de Resultado)\n",
    "##### Posteriormente temos a parte quantitativa, onde é analisada algumas métricas como o ROI, ROA, o Dividend Yield, o Preço sobre o Lucro e etc.\n",
    "##### O resultado é encontrar o valor real da empresa."
   ]
  },
  {
   "cell_type": "markdown",
   "metadata": {},
   "source": [
    "## A nossa análise.\n",
    "#### Em nossa análise consideramos as empresas do mercado de varejo brasileiro, no caso foram 4 empresas, Grupo boticario, Magazine luiza, Casas bahia e o grupo Pão de Açúcar."
   ]
  },
  {
   "cell_type": "markdown",
   "metadata": {},
   "source": [
    "## Perspectiva macroeconômica:\n",
    "#### O setor de varejo é altamente afetado pelo nível de renda da população, inflação, taxa de juros e desemprego."
   ]
  },
  {
   "cell_type": "markdown",
   "metadata": {},
   "source": [
    "## Variação da Renda.\n",
    "#### A Renda da população brasileira: Segundo indices do governo brasileiro, o PIB per Capita nos ultimos anos seguiu uma tendencia de diminuição e de estabilização, além de ter sido uma variação menor do que a inflação do período, o que confirma que o poder de compra da população está menor do que antes, o que afeta diretamente no desempenho dos varejistas.\n",
    "\n"
   ]
  },
  {
   "cell_type": "markdown",
   "metadata": {},
   "source": [
    "## Inflação\n",
    "#### A inflação também esteve alta ou estava aumentando substancialmente nos ultimos tempos, no entanto, na perspectiva brasileira são valores toleráveis mas que objetivamente falando são preocupantes, principalmentes se levarmos em conta o indice anterior."
   ]
  },
  {
   "cell_type": "markdown",
   "metadata": {},
   "source": [
    "## A Taxa de juros\n",
    "#### A Taxa de juros está em patamares muito grandes nos ultimos anos, principalmente no ano de 2022 em que estava em torno de 12% a taxa de juros. No entanto, atualmente ela está diminuindo em poucos pontos percentuais, o que pode incentivar um pouco o consumo mas que devido a inflação e a perspectiva de de menor crescimento nos próximos tempos, devido a questões externas. Além disso, existe a possibilidade de voltar a aumentar a taxa de juros para o patamar de 12% nos próximos meses, o que de novo, impacta o consumo da população que se implica nas empresas do varejo"
   ]
  },
  {
   "cell_type": "markdown",
   "metadata": {},
   "source": [
    "## Desemprego\n",
    "#### O desemprego está em seu nível mais baixo desde 2012, no entanto, o histórico do desemprego nos ultimos tempos ele é alto, o que pode também ter prejudicado o consumo no varejo. Apesar de o desemprego estar menor nesse momento, boa parte da população empregada está na informalidade, o que representa uma condição de renda e de consumo prejudicadas o que pode também afetar o varejo."
   ]
  },
  {
   "cell_type": "markdown",
   "metadata": {},
   "source": [
    "#### Baseado então nessa realidade, fica perceptível que a situação do varejo, em termos macroeconômicos enfrenta muitos desafios, mas ainda há outros pontos que podem serem analisados, como a situação do setor em específico"
   ]
  },
  {
   "cell_type": "markdown",
   "metadata": {},
   "source": [
    "#### O Setor está preocupado com as políticas do governo, dado todo o contexto dito anteriormente e também a como o governo seguirá com a sua política.\n",
    "#### Além disso, o setor de varejo tem sido ameaçado por outras empresas internacionais como a Amazon, Shopee e AliExpress que vem ocupando uma grande parcela do mercado afetando a lucratividade dos negócios. Existe sim a alternativa de contornar essa realidade mas é inegável que essas empresas afetaram a forma de consumo dos brasileiros e prejudicaram os varejistas, isso considerando a maior taxação de produtos externos."
   ]
  },
  {
   "cell_type": "markdown",
   "metadata": {},
   "source": [
    "#### Portando, dentro da perspectiva do setor e da macroeconômica, a perspectiva do setor de varejo é extremamente complicada, fato do qual desvaloriza e muito possíveis investimentos dessas empresas para o futuro"
   ]
  },
  {
   "cell_type": "markdown",
   "metadata": {},
   "source": [
    "## Algumas questões dos dados de balanço patrimonial e DRE das empresas\n",
    "#### As empresas escolhidas nesse caso nos ultimos anos tem apresentado resultados bem inferiores em termos de lucro e de débitos que a empresa possuí.\n",
    "#### A Magazine Luiza acumula hoje um prejuízo de 900 milhões de reais em sua DRE. O Grupo pão de açúcar acumula um prejuízo de 2,7 bilhões de reais. Já a Casas Bahia tem um prejuízo de 2,625 bilhões e por fim a unica varejista analisada que apresentou lucro foi o Grupo Boticario, que foi de cerca de 3 bilhões de reais. Isso são apenas dados de 2023, se formos observar no histórico das empresas, podemos observar que os lucros não vão bem há muito tempo em todas essas empresas, o que novamente confirma a dificuldade do setor \n",
    "#### Outro indicador importante é a divida das empresas, das quais estão com um indicador extremamente alto também. A Magazine Luiza apresenta 10,9 bilhões em dividas totais, o Grupo Boticário apresenta 7,2 bilhões em débitos totais, a Casas Bahia é de 12,4 bilhões de reais e por fim o Pão de Açúcar tem um débito total de 9,5 bilhões. Enfim, será que essas empresas são capazes de pagarem todas essas dívidas? Por isso que a perspectiva para essas empresas também acaba por ser prejudicada."
   ]
  },
  {
   "cell_type": "markdown",
   "metadata": {},
   "source": [
    "## Análise Quantitativa\n",
    "#### Agora veremos os principais indicadores de uma empresa e ver como eles estão em relação a cada organização."
   ]
  },
  {
   "cell_type": "markdown",
   "metadata": {},
   "source": [
    "## Preço da Ação/Lucro por Ação\n",
    "#### O P/L ele representa o preço que o mercado está disposto a pagar para obter um lucro sobre aquele ativo. Vamos ver o PL em cada empresa\n",
    " "
   ]
  },
  {
   "cell_type": "code",
   "execution_count": 137,
   "metadata": {},
   "outputs": [],
   "source": [
    "PL = pd.DataFrame({\n",
    "    \"Datas\": [\"2023-12-31\", \"2022-12-31\", \"2021-12-31\", \"2020-12-31\"],\n",
    "    \"PL Magazine luiza\": calculaPL(Magazine_luiza, Magazine_luiza_ação),\n",
    "    \"PL Grupo Boticario\": calculaPL(Grupo_Boticario, Grupo_Boticario_ação),\n",
    "    \"PL Pão de Açúcar\": calculaPL(Pão_de_açúcar, Pão_de_açúcar_ação),\n",
    "    \"PL Casas Bahia\": calculaPL(Casas_bahia, Casas_bahia_ação)\n",
    "})"
   ]
  },
  {
   "cell_type": "code",
   "execution_count": 138,
   "metadata": {},
   "outputs": [
    {
     "data": {
      "text/html": [
       "<div>\n",
       "<style scoped>\n",
       "    .dataframe tbody tr th:only-of-type {\n",
       "        vertical-align: middle;\n",
       "    }\n",
       "\n",
       "    .dataframe tbody tr th {\n",
       "        vertical-align: top;\n",
       "    }\n",
       "\n",
       "    .dataframe thead th {\n",
       "        text-align: right;\n",
       "    }\n",
       "</style>\n",
       "<table border=\"1\" class=\"dataframe\">\n",
       "  <thead>\n",
       "    <tr style=\"text-align: right;\">\n",
       "      <th></th>\n",
       "      <th>Datas</th>\n",
       "      <th>PL Magazine luiza</th>\n",
       "      <th>PL Grupo Boticario</th>\n",
       "      <th>PL Pão de Açúcar</th>\n",
       "      <th>PL Casas Bahia</th>\n",
       "    </tr>\n",
       "  </thead>\n",
       "  <tbody>\n",
       "    <tr>\n",
       "      <th>0</th>\n",
       "      <td>2023-12-31</td>\n",
       "      <td>-14.763016</td>\n",
       "      <td>7.527951</td>\n",
       "      <td>-0.539195</td>\n",
       "      <td>-0.411255</td>\n",
       "    </tr>\n",
       "    <tr>\n",
       "      <th>1</th>\n",
       "      <td>2022-12-31</td>\n",
       "      <td>-35.997249</td>\n",
       "      <td>-5.278480</td>\n",
       "      <td>-29.388827</td>\n",
       "      <td>-11.321131</td>\n",
       "    </tr>\n",
       "    <tr>\n",
       "      <th>2</th>\n",
       "      <td>2021-12-31</td>\n",
       "      <td>77.075497</td>\n",
       "      <td>31.788585</td>\n",
       "      <td>8.342374</td>\n",
       "      <td>-26.607101</td>\n",
       "    </tr>\n",
       "    <tr>\n",
       "      <th>3</th>\n",
       "      <td>2020-12-31</td>\n",
       "      <td>415.902065</td>\n",
       "      <td>-104.927855</td>\n",
       "      <td>1.284998</td>\n",
       "      <td>26.389370</td>\n",
       "    </tr>\n",
       "  </tbody>\n",
       "</table>\n",
       "</div>"
      ],
      "text/plain": [
       "        Datas  PL Magazine luiza  PL Grupo Boticario  PL Pão de Açúcar  \\\n",
       "0  2023-12-31         -14.763016            7.527951         -0.539195   \n",
       "1  2022-12-31         -35.997249           -5.278480        -29.388827   \n",
       "2  2021-12-31          77.075497           31.788585          8.342374   \n",
       "3  2020-12-31         415.902065         -104.927855          1.284998   \n",
       "\n",
       "   PL Casas Bahia  \n",
       "0       -0.411255  \n",
       "1      -11.321131  \n",
       "2      -26.607101  \n",
       "3       26.389370  "
      ]
     },
     "execution_count": 138,
     "metadata": {},
     "output_type": "execute_result"
    }
   ],
   "source": [
    "PL"
   ]
  },
  {
   "cell_type": "code",
   "execution_count": 139,
   "metadata": {},
   "outputs": [
    {
     "data": {
      "application/vnd.plotly.v1+json": {
       "config": {
        "plotlyServerURL": "https://plot.ly"
       },
       "data": [
        {
         "alignmentgroup": "True",
         "hovertemplate": "Datas=%{x}<br>PL Magazine luiza=%{y}<extra></extra>",
         "legendgroup": "",
         "marker": {
          "color": "#000001",
          "pattern": {
           "shape": ""
          }
         },
         "name": "",
         "offsetgroup": "",
         "orientation": "v",
         "showlegend": false,
         "textposition": "auto",
         "type": "bar",
         "x": [
          "2023-12-31",
          "2022-12-31",
          "2021-12-31",
          "2020-12-31"
         ],
         "xaxis": "x",
         "y": [
          -14.763016009028485,
          -35.997249102315465,
          77.07549671267024,
          415.90206486791516
         ],
         "yaxis": "y"
        }
       ],
       "layout": {
        "barmode": "relative",
        "legend": {
         "tracegroupgap": 0
        },
        "margin": {
         "t": 60
        },
        "template": {
         "data": {
          "candlestick": [
           {
            "decreasing": {
             "line": {
              "color": "#000033"
             }
            },
            "increasing": {
             "line": {
              "color": "#000032"
             }
            },
            "type": "candlestick"
           }
          ],
          "contour": [
           {
            "colorscale": [
             [
              0,
              "#000011"
             ],
             [
              0.1111111111111111,
              "#000012"
             ],
             [
              0.2222222222222222,
              "#000013"
             ],
             [
              0.3333333333333333,
              "#000014"
             ],
             [
              0.4444444444444444,
              "#000015"
             ],
             [
              0.5555555555555556,
              "#000016"
             ],
             [
              0.6666666666666666,
              "#000017"
             ],
             [
              0.7777777777777778,
              "#000018"
             ],
             [
              0.8888888888888888,
              "#000019"
             ],
             [
              1,
              "#000020"
             ]
            ],
            "type": "contour"
           }
          ],
          "contourcarpet": [
           {
            "colorscale": [
             [
              0,
              "#000011"
             ],
             [
              0.1111111111111111,
              "#000012"
             ],
             [
              0.2222222222222222,
              "#000013"
             ],
             [
              0.3333333333333333,
              "#000014"
             ],
             [
              0.4444444444444444,
              "#000015"
             ],
             [
              0.5555555555555556,
              "#000016"
             ],
             [
              0.6666666666666666,
              "#000017"
             ],
             [
              0.7777777777777778,
              "#000018"
             ],
             [
              0.8888888888888888,
              "#000019"
             ],
             [
              1,
              "#000020"
             ]
            ],
            "type": "contourcarpet"
           }
          ],
          "heatmap": [
           {
            "colorscale": [
             [
              0,
              "#000011"
             ],
             [
              0.1111111111111111,
              "#000012"
             ],
             [
              0.2222222222222222,
              "#000013"
             ],
             [
              0.3333333333333333,
              "#000014"
             ],
             [
              0.4444444444444444,
              "#000015"
             ],
             [
              0.5555555555555556,
              "#000016"
             ],
             [
              0.6666666666666666,
              "#000017"
             ],
             [
              0.7777777777777778,
              "#000018"
             ],
             [
              0.8888888888888888,
              "#000019"
             ],
             [
              1,
              "#000020"
             ]
            ],
            "type": "heatmap"
           }
          ],
          "histogram2d": [
           {
            "colorscale": [
             [
              0,
              "#000011"
             ],
             [
              0.1111111111111111,
              "#000012"
             ],
             [
              0.2222222222222222,
              "#000013"
             ],
             [
              0.3333333333333333,
              "#000014"
             ],
             [
              0.4444444444444444,
              "#000015"
             ],
             [
              0.5555555555555556,
              "#000016"
             ],
             [
              0.6666666666666666,
              "#000017"
             ],
             [
              0.7777777777777778,
              "#000018"
             ],
             [
              0.8888888888888888,
              "#000019"
             ],
             [
              1,
              "#000020"
             ]
            ],
            "type": "histogram2d"
           }
          ],
          "icicle": [
           {
            "textfont": {
             "color": "white"
            },
            "type": "icicle"
           }
          ],
          "sankey": [
           {
            "textfont": {
             "color": "#000036"
            },
            "type": "sankey"
           }
          ],
          "scatter": [
           {
            "marker": {
             "line": {
              "width": 0
             }
            },
            "type": "scatter"
           }
          ],
          "table": [
           {
            "cells": {
             "fill": {
              "color": "#000038"
             },
             "font": {
              "color": "#000037"
             },
             "line": {
              "color": "#000039"
             }
            },
            "header": {
             "fill": {
              "color": "#000040"
             },
             "font": {
              "color": "#000036"
             },
             "line": {
              "color": "#000039"
             }
            },
            "type": "table"
           }
          ],
          "waterfall": [
           {
            "connector": {
             "line": {
              "color": "#000036",
              "width": 2
             }
            },
            "decreasing": {
             "marker": {
              "color": "#000033"
             }
            },
            "increasing": {
             "marker": {
              "color": "#000032"
             }
            },
            "totals": {
             "marker": {
              "color": "#000034"
             }
            },
            "type": "waterfall"
           }
          ]
         },
         "layout": {
          "coloraxis": {
           "colorscale": [
            [
             0,
             "#000011"
            ],
            [
             0.1111111111111111,
             "#000012"
            ],
            [
             0.2222222222222222,
             "#000013"
            ],
            [
             0.3333333333333333,
             "#000014"
            ],
            [
             0.4444444444444444,
             "#000015"
            ],
            [
             0.5555555555555556,
             "#000016"
            ],
            [
             0.6666666666666666,
             "#000017"
            ],
            [
             0.7777777777777778,
             "#000018"
            ],
            [
             0.8888888888888888,
             "#000019"
            ],
            [
             1,
             "#000020"
            ]
           ]
          },
          "colorscale": {
           "diverging": [
            [
             0,
             "#000021"
            ],
            [
             0.1,
             "#000022"
            ],
            [
             0.2,
             "#000023"
            ],
            [
             0.3,
             "#000024"
            ],
            [
             0.4,
             "#000025"
            ],
            [
             0.5,
             "#000026"
            ],
            [
             0.6,
             "#000027"
            ],
            [
             0.7,
             "#000028"
            ],
            [
             0.8,
             "#000029"
            ],
            [
             0.9,
             "#000030"
            ],
            [
             1,
             "#000031"
            ]
           ],
           "sequential": [
            [
             0,
             "#000011"
            ],
            [
             0.1111111111111111,
             "#000012"
            ],
            [
             0.2222222222222222,
             "#000013"
            ],
            [
             0.3333333333333333,
             "#000014"
            ],
            [
             0.4444444444444444,
             "#000015"
            ],
            [
             0.5555555555555556,
             "#000016"
            ],
            [
             0.6666666666666666,
             "#000017"
            ],
            [
             0.7777777777777778,
             "#000018"
            ],
            [
             0.8888888888888888,
             "#000019"
            ],
            [
             1,
             "#000020"
            ]
           ],
           "sequentialminus": [
            [
             0,
             "#000011"
            ],
            [
             0.1111111111111111,
             "#000012"
            ],
            [
             0.2222222222222222,
             "#000013"
            ],
            [
             0.3333333333333333,
             "#000014"
            ],
            [
             0.4444444444444444,
             "#000015"
            ],
            [
             0.5555555555555556,
             "#000016"
            ],
            [
             0.6666666666666666,
             "#000017"
            ],
            [
             0.7777777777777778,
             "#000018"
            ],
            [
             0.8888888888888888,
             "#000019"
            ],
            [
             1,
             "#000020"
            ]
           ]
          },
          "colorway": [
           "#000001",
           "#000002",
           "#000003",
           "#000004",
           "#000005",
           "#000006",
           "#000007",
           "#000008",
           "#000009",
           "#000010"
          ]
         }
        },
        "xaxis": {
         "anchor": "y",
         "domain": [
          0,
          1
         ],
         "title": {
          "text": "Datas"
         }
        },
        "yaxis": {
         "anchor": "x",
         "domain": [
          0,
          1
         ],
         "title": {
          "text": "PL Magazine luiza"
         }
        }
       }
      }
     },
     "metadata": {},
     "output_type": "display_data"
    }
   ],
   "source": [
    "import plotly_express as px\n",
    "\n",
    "px.bar(data_frame=PL, x= PL[\"Datas\"], y = PL[\"PL Magazine luiza\"])"
   ]
  },
  {
   "cell_type": "code",
   "execution_count": 140,
   "metadata": {},
   "outputs": [
    {
     "data": {
      "application/vnd.plotly.v1+json": {
       "config": {
        "plotlyServerURL": "https://plot.ly"
       },
       "data": [
        {
         "alignmentgroup": "True",
         "hovertemplate": "Datas=%{x}<br>PL Grupo Boticario=%{y}<extra></extra>",
         "legendgroup": "",
         "marker": {
          "color": "#000001",
          "pattern": {
           "shape": ""
          }
         },
         "name": "",
         "offsetgroup": "",
         "orientation": "v",
         "showlegend": false,
         "textposition": "auto",
         "type": "bar",
         "x": [
          "2023-12-31",
          "2022-12-31",
          "2021-12-31",
          "2020-12-31"
         ],
         "xaxis": "x",
         "y": [
          7.5279506277553105,
          -5.27848031455611,
          31.788585086111645,
          -104.9278554228581
         ],
         "yaxis": "y"
        }
       ],
       "layout": {
        "barmode": "relative",
        "legend": {
         "tracegroupgap": 0
        },
        "margin": {
         "t": 60
        },
        "template": {
         "data": {
          "candlestick": [
           {
            "decreasing": {
             "line": {
              "color": "#000033"
             }
            },
            "increasing": {
             "line": {
              "color": "#000032"
             }
            },
            "type": "candlestick"
           }
          ],
          "contour": [
           {
            "colorscale": [
             [
              0,
              "#000011"
             ],
             [
              0.1111111111111111,
              "#000012"
             ],
             [
              0.2222222222222222,
              "#000013"
             ],
             [
              0.3333333333333333,
              "#000014"
             ],
             [
              0.4444444444444444,
              "#000015"
             ],
             [
              0.5555555555555556,
              "#000016"
             ],
             [
              0.6666666666666666,
              "#000017"
             ],
             [
              0.7777777777777778,
              "#000018"
             ],
             [
              0.8888888888888888,
              "#000019"
             ],
             [
              1,
              "#000020"
             ]
            ],
            "type": "contour"
           }
          ],
          "contourcarpet": [
           {
            "colorscale": [
             [
              0,
              "#000011"
             ],
             [
              0.1111111111111111,
              "#000012"
             ],
             [
              0.2222222222222222,
              "#000013"
             ],
             [
              0.3333333333333333,
              "#000014"
             ],
             [
              0.4444444444444444,
              "#000015"
             ],
             [
              0.5555555555555556,
              "#000016"
             ],
             [
              0.6666666666666666,
              "#000017"
             ],
             [
              0.7777777777777778,
              "#000018"
             ],
             [
              0.8888888888888888,
              "#000019"
             ],
             [
              1,
              "#000020"
             ]
            ],
            "type": "contourcarpet"
           }
          ],
          "heatmap": [
           {
            "colorscale": [
             [
              0,
              "#000011"
             ],
             [
              0.1111111111111111,
              "#000012"
             ],
             [
              0.2222222222222222,
              "#000013"
             ],
             [
              0.3333333333333333,
              "#000014"
             ],
             [
              0.4444444444444444,
              "#000015"
             ],
             [
              0.5555555555555556,
              "#000016"
             ],
             [
              0.6666666666666666,
              "#000017"
             ],
             [
              0.7777777777777778,
              "#000018"
             ],
             [
              0.8888888888888888,
              "#000019"
             ],
             [
              1,
              "#000020"
             ]
            ],
            "type": "heatmap"
           }
          ],
          "histogram2d": [
           {
            "colorscale": [
             [
              0,
              "#000011"
             ],
             [
              0.1111111111111111,
              "#000012"
             ],
             [
              0.2222222222222222,
              "#000013"
             ],
             [
              0.3333333333333333,
              "#000014"
             ],
             [
              0.4444444444444444,
              "#000015"
             ],
             [
              0.5555555555555556,
              "#000016"
             ],
             [
              0.6666666666666666,
              "#000017"
             ],
             [
              0.7777777777777778,
              "#000018"
             ],
             [
              0.8888888888888888,
              "#000019"
             ],
             [
              1,
              "#000020"
             ]
            ],
            "type": "histogram2d"
           }
          ],
          "icicle": [
           {
            "textfont": {
             "color": "white"
            },
            "type": "icicle"
           }
          ],
          "sankey": [
           {
            "textfont": {
             "color": "#000036"
            },
            "type": "sankey"
           }
          ],
          "scatter": [
           {
            "marker": {
             "line": {
              "width": 0
             }
            },
            "type": "scatter"
           }
          ],
          "table": [
           {
            "cells": {
             "fill": {
              "color": "#000038"
             },
             "font": {
              "color": "#000037"
             },
             "line": {
              "color": "#000039"
             }
            },
            "header": {
             "fill": {
              "color": "#000040"
             },
             "font": {
              "color": "#000036"
             },
             "line": {
              "color": "#000039"
             }
            },
            "type": "table"
           }
          ],
          "waterfall": [
           {
            "connector": {
             "line": {
              "color": "#000036",
              "width": 2
             }
            },
            "decreasing": {
             "marker": {
              "color": "#000033"
             }
            },
            "increasing": {
             "marker": {
              "color": "#000032"
             }
            },
            "totals": {
             "marker": {
              "color": "#000034"
             }
            },
            "type": "waterfall"
           }
          ]
         },
         "layout": {
          "coloraxis": {
           "colorscale": [
            [
             0,
             "#000011"
            ],
            [
             0.1111111111111111,
             "#000012"
            ],
            [
             0.2222222222222222,
             "#000013"
            ],
            [
             0.3333333333333333,
             "#000014"
            ],
            [
             0.4444444444444444,
             "#000015"
            ],
            [
             0.5555555555555556,
             "#000016"
            ],
            [
             0.6666666666666666,
             "#000017"
            ],
            [
             0.7777777777777778,
             "#000018"
            ],
            [
             0.8888888888888888,
             "#000019"
            ],
            [
             1,
             "#000020"
            ]
           ]
          },
          "colorscale": {
           "diverging": [
            [
             0,
             "#000021"
            ],
            [
             0.1,
             "#000022"
            ],
            [
             0.2,
             "#000023"
            ],
            [
             0.3,
             "#000024"
            ],
            [
             0.4,
             "#000025"
            ],
            [
             0.5,
             "#000026"
            ],
            [
             0.6,
             "#000027"
            ],
            [
             0.7,
             "#000028"
            ],
            [
             0.8,
             "#000029"
            ],
            [
             0.9,
             "#000030"
            ],
            [
             1,
             "#000031"
            ]
           ],
           "sequential": [
            [
             0,
             "#000011"
            ],
            [
             0.1111111111111111,
             "#000012"
            ],
            [
             0.2222222222222222,
             "#000013"
            ],
            [
             0.3333333333333333,
             "#000014"
            ],
            [
             0.4444444444444444,
             "#000015"
            ],
            [
             0.5555555555555556,
             "#000016"
            ],
            [
             0.6666666666666666,
             "#000017"
            ],
            [
             0.7777777777777778,
             "#000018"
            ],
            [
             0.8888888888888888,
             "#000019"
            ],
            [
             1,
             "#000020"
            ]
           ],
           "sequentialminus": [
            [
             0,
             "#000011"
            ],
            [
             0.1111111111111111,
             "#000012"
            ],
            [
             0.2222222222222222,
             "#000013"
            ],
            [
             0.3333333333333333,
             "#000014"
            ],
            [
             0.4444444444444444,
             "#000015"
            ],
            [
             0.5555555555555556,
             "#000016"
            ],
            [
             0.6666666666666666,
             "#000017"
            ],
            [
             0.7777777777777778,
             "#000018"
            ],
            [
             0.8888888888888888,
             "#000019"
            ],
            [
             1,
             "#000020"
            ]
           ]
          },
          "colorway": [
           "#000001",
           "#000002",
           "#000003",
           "#000004",
           "#000005",
           "#000006",
           "#000007",
           "#000008",
           "#000009",
           "#000010"
          ]
         }
        },
        "xaxis": {
         "anchor": "y",
         "domain": [
          0,
          1
         ],
         "title": {
          "text": "Datas"
         }
        },
        "yaxis": {
         "anchor": "x",
         "domain": [
          0,
          1
         ],
         "title": {
          "text": "PL Grupo Boticario"
         }
        }
       }
      }
     },
     "metadata": {},
     "output_type": "display_data"
    }
   ],
   "source": [
    "px.bar(data_frame=PL, x = PL[\"Datas\"], y = PL[\"PL Grupo Boticario\"])"
   ]
  },
  {
   "cell_type": "code",
   "execution_count": 141,
   "metadata": {},
   "outputs": [
    {
     "data": {
      "application/vnd.plotly.v1+json": {
       "config": {
        "plotlyServerURL": "https://plot.ly"
       },
       "data": [
        {
         "alignmentgroup": "True",
         "hovertemplate": "Datas=%{x}<br>PL Casas Bahia=%{y}<extra></extra>",
         "legendgroup": "",
         "marker": {
          "color": "#000001",
          "pattern": {
           "shape": ""
          }
         },
         "name": "",
         "offsetgroup": "",
         "orientation": "v",
         "showlegend": false,
         "textposition": "auto",
         "type": "bar",
         "x": [
          "2023-12-31",
          "2022-12-31",
          "2021-12-31",
          "2020-12-31"
         ],
         "xaxis": "x",
         "y": [
          -0.4112551695452372,
          -11.321131480548813,
          -26.60710067635014,
          26.389369987713696
         ],
         "yaxis": "y"
        }
       ],
       "layout": {
        "barmode": "relative",
        "legend": {
         "tracegroupgap": 0
        },
        "margin": {
         "t": 60
        },
        "template": {
         "data": {
          "candlestick": [
           {
            "decreasing": {
             "line": {
              "color": "#000033"
             }
            },
            "increasing": {
             "line": {
              "color": "#000032"
             }
            },
            "type": "candlestick"
           }
          ],
          "contour": [
           {
            "colorscale": [
             [
              0,
              "#000011"
             ],
             [
              0.1111111111111111,
              "#000012"
             ],
             [
              0.2222222222222222,
              "#000013"
             ],
             [
              0.3333333333333333,
              "#000014"
             ],
             [
              0.4444444444444444,
              "#000015"
             ],
             [
              0.5555555555555556,
              "#000016"
             ],
             [
              0.6666666666666666,
              "#000017"
             ],
             [
              0.7777777777777778,
              "#000018"
             ],
             [
              0.8888888888888888,
              "#000019"
             ],
             [
              1,
              "#000020"
             ]
            ],
            "type": "contour"
           }
          ],
          "contourcarpet": [
           {
            "colorscale": [
             [
              0,
              "#000011"
             ],
             [
              0.1111111111111111,
              "#000012"
             ],
             [
              0.2222222222222222,
              "#000013"
             ],
             [
              0.3333333333333333,
              "#000014"
             ],
             [
              0.4444444444444444,
              "#000015"
             ],
             [
              0.5555555555555556,
              "#000016"
             ],
             [
              0.6666666666666666,
              "#000017"
             ],
             [
              0.7777777777777778,
              "#000018"
             ],
             [
              0.8888888888888888,
              "#000019"
             ],
             [
              1,
              "#000020"
             ]
            ],
            "type": "contourcarpet"
           }
          ],
          "heatmap": [
           {
            "colorscale": [
             [
              0,
              "#000011"
             ],
             [
              0.1111111111111111,
              "#000012"
             ],
             [
              0.2222222222222222,
              "#000013"
             ],
             [
              0.3333333333333333,
              "#000014"
             ],
             [
              0.4444444444444444,
              "#000015"
             ],
             [
              0.5555555555555556,
              "#000016"
             ],
             [
              0.6666666666666666,
              "#000017"
             ],
             [
              0.7777777777777778,
              "#000018"
             ],
             [
              0.8888888888888888,
              "#000019"
             ],
             [
              1,
              "#000020"
             ]
            ],
            "type": "heatmap"
           }
          ],
          "histogram2d": [
           {
            "colorscale": [
             [
              0,
              "#000011"
             ],
             [
              0.1111111111111111,
              "#000012"
             ],
             [
              0.2222222222222222,
              "#000013"
             ],
             [
              0.3333333333333333,
              "#000014"
             ],
             [
              0.4444444444444444,
              "#000015"
             ],
             [
              0.5555555555555556,
              "#000016"
             ],
             [
              0.6666666666666666,
              "#000017"
             ],
             [
              0.7777777777777778,
              "#000018"
             ],
             [
              0.8888888888888888,
              "#000019"
             ],
             [
              1,
              "#000020"
             ]
            ],
            "type": "histogram2d"
           }
          ],
          "icicle": [
           {
            "textfont": {
             "color": "white"
            },
            "type": "icicle"
           }
          ],
          "sankey": [
           {
            "textfont": {
             "color": "#000036"
            },
            "type": "sankey"
           }
          ],
          "scatter": [
           {
            "marker": {
             "line": {
              "width": 0
             }
            },
            "type": "scatter"
           }
          ],
          "table": [
           {
            "cells": {
             "fill": {
              "color": "#000038"
             },
             "font": {
              "color": "#000037"
             },
             "line": {
              "color": "#000039"
             }
            },
            "header": {
             "fill": {
              "color": "#000040"
             },
             "font": {
              "color": "#000036"
             },
             "line": {
              "color": "#000039"
             }
            },
            "type": "table"
           }
          ],
          "waterfall": [
           {
            "connector": {
             "line": {
              "color": "#000036",
              "width": 2
             }
            },
            "decreasing": {
             "marker": {
              "color": "#000033"
             }
            },
            "increasing": {
             "marker": {
              "color": "#000032"
             }
            },
            "totals": {
             "marker": {
              "color": "#000034"
             }
            },
            "type": "waterfall"
           }
          ]
         },
         "layout": {
          "coloraxis": {
           "colorscale": [
            [
             0,
             "#000011"
            ],
            [
             0.1111111111111111,
             "#000012"
            ],
            [
             0.2222222222222222,
             "#000013"
            ],
            [
             0.3333333333333333,
             "#000014"
            ],
            [
             0.4444444444444444,
             "#000015"
            ],
            [
             0.5555555555555556,
             "#000016"
            ],
            [
             0.6666666666666666,
             "#000017"
            ],
            [
             0.7777777777777778,
             "#000018"
            ],
            [
             0.8888888888888888,
             "#000019"
            ],
            [
             1,
             "#000020"
            ]
           ]
          },
          "colorscale": {
           "diverging": [
            [
             0,
             "#000021"
            ],
            [
             0.1,
             "#000022"
            ],
            [
             0.2,
             "#000023"
            ],
            [
             0.3,
             "#000024"
            ],
            [
             0.4,
             "#000025"
            ],
            [
             0.5,
             "#000026"
            ],
            [
             0.6,
             "#000027"
            ],
            [
             0.7,
             "#000028"
            ],
            [
             0.8,
             "#000029"
            ],
            [
             0.9,
             "#000030"
            ],
            [
             1,
             "#000031"
            ]
           ],
           "sequential": [
            [
             0,
             "#000011"
            ],
            [
             0.1111111111111111,
             "#000012"
            ],
            [
             0.2222222222222222,
             "#000013"
            ],
            [
             0.3333333333333333,
             "#000014"
            ],
            [
             0.4444444444444444,
             "#000015"
            ],
            [
             0.5555555555555556,
             "#000016"
            ],
            [
             0.6666666666666666,
             "#000017"
            ],
            [
             0.7777777777777778,
             "#000018"
            ],
            [
             0.8888888888888888,
             "#000019"
            ],
            [
             1,
             "#000020"
            ]
           ],
           "sequentialminus": [
            [
             0,
             "#000011"
            ],
            [
             0.1111111111111111,
             "#000012"
            ],
            [
             0.2222222222222222,
             "#000013"
            ],
            [
             0.3333333333333333,
             "#000014"
            ],
            [
             0.4444444444444444,
             "#000015"
            ],
            [
             0.5555555555555556,
             "#000016"
            ],
            [
             0.6666666666666666,
             "#000017"
            ],
            [
             0.7777777777777778,
             "#000018"
            ],
            [
             0.8888888888888888,
             "#000019"
            ],
            [
             1,
             "#000020"
            ]
           ]
          },
          "colorway": [
           "#000001",
           "#000002",
           "#000003",
           "#000004",
           "#000005",
           "#000006",
           "#000007",
           "#000008",
           "#000009",
           "#000010"
          ]
         }
        },
        "xaxis": {
         "anchor": "y",
         "domain": [
          0,
          1
         ],
         "title": {
          "text": "Datas"
         }
        },
        "yaxis": {
         "anchor": "x",
         "domain": [
          0,
          1
         ],
         "title": {
          "text": "PL Casas Bahia"
         }
        }
       }
      }
     },
     "metadata": {},
     "output_type": "display_data"
    }
   ],
   "source": [
    "px.bar(data_frame=PL, x = PL[\"Datas\"], y = PL[\"PL Casas Bahia\"])"
   ]
  },
  {
   "cell_type": "code",
   "execution_count": 142,
   "metadata": {},
   "outputs": [
    {
     "data": {
      "application/vnd.plotly.v1+json": {
       "config": {
        "plotlyServerURL": "https://plot.ly"
       },
       "data": [
        {
         "alignmentgroup": "True",
         "hovertemplate": "Datas=%{x}<br>PL Pão de Açúcar=%{y}<extra></extra>",
         "legendgroup": "",
         "marker": {
          "color": "#000001",
          "pattern": {
           "shape": ""
          }
         },
         "name": "",
         "offsetgroup": "",
         "orientation": "v",
         "showlegend": false,
         "textposition": "auto",
         "type": "bar",
         "x": [
          "2023-12-31",
          "2022-12-31",
          "2021-12-31",
          "2020-12-31"
         ],
         "xaxis": "x",
         "y": [
          -0.5391946425196378,
          -29.388826734602386,
          8.342374069899822,
          1.2849982926310102
         ],
         "yaxis": "y"
        }
       ],
       "layout": {
        "barmode": "relative",
        "legend": {
         "tracegroupgap": 0
        },
        "margin": {
         "t": 60
        },
        "template": {
         "data": {
          "candlestick": [
           {
            "decreasing": {
             "line": {
              "color": "#000033"
             }
            },
            "increasing": {
             "line": {
              "color": "#000032"
             }
            },
            "type": "candlestick"
           }
          ],
          "contour": [
           {
            "colorscale": [
             [
              0,
              "#000011"
             ],
             [
              0.1111111111111111,
              "#000012"
             ],
             [
              0.2222222222222222,
              "#000013"
             ],
             [
              0.3333333333333333,
              "#000014"
             ],
             [
              0.4444444444444444,
              "#000015"
             ],
             [
              0.5555555555555556,
              "#000016"
             ],
             [
              0.6666666666666666,
              "#000017"
             ],
             [
              0.7777777777777778,
              "#000018"
             ],
             [
              0.8888888888888888,
              "#000019"
             ],
             [
              1,
              "#000020"
             ]
            ],
            "type": "contour"
           }
          ],
          "contourcarpet": [
           {
            "colorscale": [
             [
              0,
              "#000011"
             ],
             [
              0.1111111111111111,
              "#000012"
             ],
             [
              0.2222222222222222,
              "#000013"
             ],
             [
              0.3333333333333333,
              "#000014"
             ],
             [
              0.4444444444444444,
              "#000015"
             ],
             [
              0.5555555555555556,
              "#000016"
             ],
             [
              0.6666666666666666,
              "#000017"
             ],
             [
              0.7777777777777778,
              "#000018"
             ],
             [
              0.8888888888888888,
              "#000019"
             ],
             [
              1,
              "#000020"
             ]
            ],
            "type": "contourcarpet"
           }
          ],
          "heatmap": [
           {
            "colorscale": [
             [
              0,
              "#000011"
             ],
             [
              0.1111111111111111,
              "#000012"
             ],
             [
              0.2222222222222222,
              "#000013"
             ],
             [
              0.3333333333333333,
              "#000014"
             ],
             [
              0.4444444444444444,
              "#000015"
             ],
             [
              0.5555555555555556,
              "#000016"
             ],
             [
              0.6666666666666666,
              "#000017"
             ],
             [
              0.7777777777777778,
              "#000018"
             ],
             [
              0.8888888888888888,
              "#000019"
             ],
             [
              1,
              "#000020"
             ]
            ],
            "type": "heatmap"
           }
          ],
          "histogram2d": [
           {
            "colorscale": [
             [
              0,
              "#000011"
             ],
             [
              0.1111111111111111,
              "#000012"
             ],
             [
              0.2222222222222222,
              "#000013"
             ],
             [
              0.3333333333333333,
              "#000014"
             ],
             [
              0.4444444444444444,
              "#000015"
             ],
             [
              0.5555555555555556,
              "#000016"
             ],
             [
              0.6666666666666666,
              "#000017"
             ],
             [
              0.7777777777777778,
              "#000018"
             ],
             [
              0.8888888888888888,
              "#000019"
             ],
             [
              1,
              "#000020"
             ]
            ],
            "type": "histogram2d"
           }
          ],
          "icicle": [
           {
            "textfont": {
             "color": "white"
            },
            "type": "icicle"
           }
          ],
          "sankey": [
           {
            "textfont": {
             "color": "#000036"
            },
            "type": "sankey"
           }
          ],
          "scatter": [
           {
            "marker": {
             "line": {
              "width": 0
             }
            },
            "type": "scatter"
           }
          ],
          "table": [
           {
            "cells": {
             "fill": {
              "color": "#000038"
             },
             "font": {
              "color": "#000037"
             },
             "line": {
              "color": "#000039"
             }
            },
            "header": {
             "fill": {
              "color": "#000040"
             },
             "font": {
              "color": "#000036"
             },
             "line": {
              "color": "#000039"
             }
            },
            "type": "table"
           }
          ],
          "waterfall": [
           {
            "connector": {
             "line": {
              "color": "#000036",
              "width": 2
             }
            },
            "decreasing": {
             "marker": {
              "color": "#000033"
             }
            },
            "increasing": {
             "marker": {
              "color": "#000032"
             }
            },
            "totals": {
             "marker": {
              "color": "#000034"
             }
            },
            "type": "waterfall"
           }
          ]
         },
         "layout": {
          "coloraxis": {
           "colorscale": [
            [
             0,
             "#000011"
            ],
            [
             0.1111111111111111,
             "#000012"
            ],
            [
             0.2222222222222222,
             "#000013"
            ],
            [
             0.3333333333333333,
             "#000014"
            ],
            [
             0.4444444444444444,
             "#000015"
            ],
            [
             0.5555555555555556,
             "#000016"
            ],
            [
             0.6666666666666666,
             "#000017"
            ],
            [
             0.7777777777777778,
             "#000018"
            ],
            [
             0.8888888888888888,
             "#000019"
            ],
            [
             1,
             "#000020"
            ]
           ]
          },
          "colorscale": {
           "diverging": [
            [
             0,
             "#000021"
            ],
            [
             0.1,
             "#000022"
            ],
            [
             0.2,
             "#000023"
            ],
            [
             0.3,
             "#000024"
            ],
            [
             0.4,
             "#000025"
            ],
            [
             0.5,
             "#000026"
            ],
            [
             0.6,
             "#000027"
            ],
            [
             0.7,
             "#000028"
            ],
            [
             0.8,
             "#000029"
            ],
            [
             0.9,
             "#000030"
            ],
            [
             1,
             "#000031"
            ]
           ],
           "sequential": [
            [
             0,
             "#000011"
            ],
            [
             0.1111111111111111,
             "#000012"
            ],
            [
             0.2222222222222222,
             "#000013"
            ],
            [
             0.3333333333333333,
             "#000014"
            ],
            [
             0.4444444444444444,
             "#000015"
            ],
            [
             0.5555555555555556,
             "#000016"
            ],
            [
             0.6666666666666666,
             "#000017"
            ],
            [
             0.7777777777777778,
             "#000018"
            ],
            [
             0.8888888888888888,
             "#000019"
            ],
            [
             1,
             "#000020"
            ]
           ],
           "sequentialminus": [
            [
             0,
             "#000011"
            ],
            [
             0.1111111111111111,
             "#000012"
            ],
            [
             0.2222222222222222,
             "#000013"
            ],
            [
             0.3333333333333333,
             "#000014"
            ],
            [
             0.4444444444444444,
             "#000015"
            ],
            [
             0.5555555555555556,
             "#000016"
            ],
            [
             0.6666666666666666,
             "#000017"
            ],
            [
             0.7777777777777778,
             "#000018"
            ],
            [
             0.8888888888888888,
             "#000019"
            ],
            [
             1,
             "#000020"
            ]
           ]
          },
          "colorway": [
           "#000001",
           "#000002",
           "#000003",
           "#000004",
           "#000005",
           "#000006",
           "#000007",
           "#000008",
           "#000009",
           "#000010"
          ]
         }
        },
        "xaxis": {
         "anchor": "y",
         "domain": [
          0,
          1
         ],
         "title": {
          "text": "Datas"
         }
        },
        "yaxis": {
         "anchor": "x",
         "domain": [
          0,
          1
         ],
         "title": {
          "text": "PL Pão de Açúcar"
         }
        }
       }
      }
     },
     "metadata": {},
     "output_type": "display_data"
    }
   ],
   "source": [
    "px.bar(data_frame=PL, x = PL[\"Datas\"], y = PL[\"PL Pão de Açúcar\"])"
   ]
  },
  {
   "cell_type": "markdown",
   "metadata": {},
   "source": [
    "## Analisando o PL\n",
    "#### Como é possível de se observar, em relação ao P/L, os investidores não tinham um interesse adquirir muito dos investimentos dados, apenas nos casos da Magazine Luiza no ano de 2020 é que se observou uma perspectiva boa de futuro para organização, o que até se correlaciona com o fato de os preços das ações da empresa nessa época estarem bem altos."
   ]
  },
  {
   "cell_type": "markdown",
   "metadata": {},
   "source": [
    "## EV/EBITDA\n",
    "#### A relação do valor de uma empresa com seu EBITDA (Sigla para Earning Before Incomes, Taxes, Depreciation and Amortization), elas nos diz o quão barato está uma empresa, além de nos demonstrar o quanto uma empresa precisaria crescer o seu caixa para comprar a si mesma."
   ]
  },
  {
   "cell_type": "code",
   "execution_count": 143,
   "metadata": {},
   "outputs": [
    {
     "data": {
      "text/html": [
       "<div>\n",
       "<style scoped>\n",
       "    .dataframe tbody tr th:only-of-type {\n",
       "        vertical-align: middle;\n",
       "    }\n",
       "\n",
       "    .dataframe tbody tr th {\n",
       "        vertical-align: top;\n",
       "    }\n",
       "\n",
       "    .dataframe thead th {\n",
       "        text-align: right;\n",
       "    }\n",
       "</style>\n",
       "<table border=\"1\" class=\"dataframe\">\n",
       "  <thead>\n",
       "    <tr style=\"text-align: right;\">\n",
       "      <th></th>\n",
       "      <th>Datas</th>\n",
       "      <th>EV/EBITDA Magazine luiza</th>\n",
       "      <th>EV/EBITDA Grupo Boticario</th>\n",
       "      <th>EV/EBITDA Pão de Açúcar</th>\n",
       "      <th>EV/EBITDA Casas Bahia</th>\n",
       "    </tr>\n",
       "  </thead>\n",
       "  <tbody>\n",
       "    <tr>\n",
       "      <th>0</th>\n",
       "      <td>2023-12-31</td>\n",
       "      <td>48.091651</td>\n",
       "      <td>-255.442763</td>\n",
       "      <td>3.584025</td>\n",
       "      <td>-12.031368</td>\n",
       "    </tr>\n",
       "    <tr>\n",
       "      <th>1</th>\n",
       "      <td>2022-12-31</td>\n",
       "      <td>24.171627</td>\n",
       "      <td>106.270165</td>\n",
       "      <td>5.909218</td>\n",
       "      <td>7.861942</td>\n",
       "    </tr>\n",
       "    <tr>\n",
       "      <th>2</th>\n",
       "      <td>2021-12-31</td>\n",
       "      <td>53.409618</td>\n",
       "      <td>21.226383</td>\n",
       "      <td>5.889287</td>\n",
       "      <td>43.587878</td>\n",
       "    </tr>\n",
       "    <tr>\n",
       "      <th>3</th>\n",
       "      <td>2020-12-31</td>\n",
       "      <td>123.225676</td>\n",
       "      <td>23.400972</td>\n",
       "      <td>3.045899</td>\n",
       "      <td>13.852245</td>\n",
       "    </tr>\n",
       "  </tbody>\n",
       "</table>\n",
       "</div>"
      ],
      "text/plain": [
       "        Datas  EV/EBITDA Magazine luiza  EV/EBITDA Grupo Boticario  \\\n",
       "0  2023-12-31                 48.091651                -255.442763   \n",
       "1  2022-12-31                 24.171627                 106.270165   \n",
       "2  2021-12-31                 53.409618                  21.226383   \n",
       "3  2020-12-31                123.225676                  23.400972   \n",
       "\n",
       "   EV/EBITDA Pão de Açúcar  EV/EBITDA Casas Bahia  \n",
       "0                 3.584025             -12.031368  \n",
       "1                 5.909218               7.861942  \n",
       "2                 5.889287              43.587878  \n",
       "3                 3.045899              13.852245  "
      ]
     },
     "execution_count": 143,
     "metadata": {},
     "output_type": "execute_result"
    }
   ],
   "source": [
    "ev_ebitda = pd.DataFrame({\n",
    "    \"Datas\": [\"2023-12-31\", \"2022-12-31\", \"2021-12-31\", \"2020-12-31\"],\n",
    "    \"EV/EBITDA Magazine luiza\": calcula_EV_sobre_EBITDA(Magazine_luiza, Magazine_luiza_ação),\n",
    "    \"EV/EBITDA Grupo Boticario\": calcula_EV_sobre_EBITDA(Grupo_Boticario, Grupo_Boticario_ação),\n",
    "    \"EV/EBITDA Pão de Açúcar\": calcula_EV_sobre_EBITDA(Pão_de_açúcar, Pão_de_açúcar_ação),\n",
    "    \"EV/EBITDA Casas Bahia\": calcula_EV_sobre_EBITDA(Casas_bahia, Casas_bahia_ação)\n",
    "})\n",
    "\n",
    "ev_ebitda"
   ]
  },
  {
   "cell_type": "code",
   "execution_count": 144,
   "metadata": {},
   "outputs": [
    {
     "data": {
      "application/vnd.plotly.v1+json": {
       "config": {
        "plotlyServerURL": "https://plot.ly"
       },
       "data": [
        {
         "hovertemplate": "Datas=%{x}<br>EV/EBITDA Magazine luiza=%{y}<extra></extra>",
         "legendgroup": "",
         "line": {
          "color": "#000001",
          "dash": "solid"
         },
         "marker": {
          "symbol": "circle"
         },
         "mode": "lines",
         "name": "",
         "orientation": "v",
         "showlegend": false,
         "type": "scatter",
         "x": [
          "2023-12-31",
          "2022-12-31",
          "2021-12-31",
          "2020-12-31"
         ],
         "xaxis": "x",
         "y": [
          48.0916506527865,
          24.171627074055422,
          53.4096182844285,
          123.2256764630036
         ],
         "yaxis": "y"
        }
       ],
       "layout": {
        "legend": {
         "tracegroupgap": 0
        },
        "margin": {
         "t": 60
        },
        "template": {
         "data": {
          "candlestick": [
           {
            "decreasing": {
             "line": {
              "color": "#000033"
             }
            },
            "increasing": {
             "line": {
              "color": "#000032"
             }
            },
            "type": "candlestick"
           }
          ],
          "contour": [
           {
            "colorscale": [
             [
              0,
              "#000011"
             ],
             [
              0.1111111111111111,
              "#000012"
             ],
             [
              0.2222222222222222,
              "#000013"
             ],
             [
              0.3333333333333333,
              "#000014"
             ],
             [
              0.4444444444444444,
              "#000015"
             ],
             [
              0.5555555555555556,
              "#000016"
             ],
             [
              0.6666666666666666,
              "#000017"
             ],
             [
              0.7777777777777778,
              "#000018"
             ],
             [
              0.8888888888888888,
              "#000019"
             ],
             [
              1,
              "#000020"
             ]
            ],
            "type": "contour"
           }
          ],
          "contourcarpet": [
           {
            "colorscale": [
             [
              0,
              "#000011"
             ],
             [
              0.1111111111111111,
              "#000012"
             ],
             [
              0.2222222222222222,
              "#000013"
             ],
             [
              0.3333333333333333,
              "#000014"
             ],
             [
              0.4444444444444444,
              "#000015"
             ],
             [
              0.5555555555555556,
              "#000016"
             ],
             [
              0.6666666666666666,
              "#000017"
             ],
             [
              0.7777777777777778,
              "#000018"
             ],
             [
              0.8888888888888888,
              "#000019"
             ],
             [
              1,
              "#000020"
             ]
            ],
            "type": "contourcarpet"
           }
          ],
          "heatmap": [
           {
            "colorscale": [
             [
              0,
              "#000011"
             ],
             [
              0.1111111111111111,
              "#000012"
             ],
             [
              0.2222222222222222,
              "#000013"
             ],
             [
              0.3333333333333333,
              "#000014"
             ],
             [
              0.4444444444444444,
              "#000015"
             ],
             [
              0.5555555555555556,
              "#000016"
             ],
             [
              0.6666666666666666,
              "#000017"
             ],
             [
              0.7777777777777778,
              "#000018"
             ],
             [
              0.8888888888888888,
              "#000019"
             ],
             [
              1,
              "#000020"
             ]
            ],
            "type": "heatmap"
           }
          ],
          "histogram2d": [
           {
            "colorscale": [
             [
              0,
              "#000011"
             ],
             [
              0.1111111111111111,
              "#000012"
             ],
             [
              0.2222222222222222,
              "#000013"
             ],
             [
              0.3333333333333333,
              "#000014"
             ],
             [
              0.4444444444444444,
              "#000015"
             ],
             [
              0.5555555555555556,
              "#000016"
             ],
             [
              0.6666666666666666,
              "#000017"
             ],
             [
              0.7777777777777778,
              "#000018"
             ],
             [
              0.8888888888888888,
              "#000019"
             ],
             [
              1,
              "#000020"
             ]
            ],
            "type": "histogram2d"
           }
          ],
          "icicle": [
           {
            "textfont": {
             "color": "white"
            },
            "type": "icicle"
           }
          ],
          "sankey": [
           {
            "textfont": {
             "color": "#000036"
            },
            "type": "sankey"
           }
          ],
          "scatter": [
           {
            "marker": {
             "line": {
              "width": 0
             }
            },
            "type": "scatter"
           }
          ],
          "table": [
           {
            "cells": {
             "fill": {
              "color": "#000038"
             },
             "font": {
              "color": "#000037"
             },
             "line": {
              "color": "#000039"
             }
            },
            "header": {
             "fill": {
              "color": "#000040"
             },
             "font": {
              "color": "#000036"
             },
             "line": {
              "color": "#000039"
             }
            },
            "type": "table"
           }
          ],
          "waterfall": [
           {
            "connector": {
             "line": {
              "color": "#000036",
              "width": 2
             }
            },
            "decreasing": {
             "marker": {
              "color": "#000033"
             }
            },
            "increasing": {
             "marker": {
              "color": "#000032"
             }
            },
            "totals": {
             "marker": {
              "color": "#000034"
             }
            },
            "type": "waterfall"
           }
          ]
         },
         "layout": {
          "coloraxis": {
           "colorscale": [
            [
             0,
             "#000011"
            ],
            [
             0.1111111111111111,
             "#000012"
            ],
            [
             0.2222222222222222,
             "#000013"
            ],
            [
             0.3333333333333333,
             "#000014"
            ],
            [
             0.4444444444444444,
             "#000015"
            ],
            [
             0.5555555555555556,
             "#000016"
            ],
            [
             0.6666666666666666,
             "#000017"
            ],
            [
             0.7777777777777778,
             "#000018"
            ],
            [
             0.8888888888888888,
             "#000019"
            ],
            [
             1,
             "#000020"
            ]
           ]
          },
          "colorscale": {
           "diverging": [
            [
             0,
             "#000021"
            ],
            [
             0.1,
             "#000022"
            ],
            [
             0.2,
             "#000023"
            ],
            [
             0.3,
             "#000024"
            ],
            [
             0.4,
             "#000025"
            ],
            [
             0.5,
             "#000026"
            ],
            [
             0.6,
             "#000027"
            ],
            [
             0.7,
             "#000028"
            ],
            [
             0.8,
             "#000029"
            ],
            [
             0.9,
             "#000030"
            ],
            [
             1,
             "#000031"
            ]
           ],
           "sequential": [
            [
             0,
             "#000011"
            ],
            [
             0.1111111111111111,
             "#000012"
            ],
            [
             0.2222222222222222,
             "#000013"
            ],
            [
             0.3333333333333333,
             "#000014"
            ],
            [
             0.4444444444444444,
             "#000015"
            ],
            [
             0.5555555555555556,
             "#000016"
            ],
            [
             0.6666666666666666,
             "#000017"
            ],
            [
             0.7777777777777778,
             "#000018"
            ],
            [
             0.8888888888888888,
             "#000019"
            ],
            [
             1,
             "#000020"
            ]
           ],
           "sequentialminus": [
            [
             0,
             "#000011"
            ],
            [
             0.1111111111111111,
             "#000012"
            ],
            [
             0.2222222222222222,
             "#000013"
            ],
            [
             0.3333333333333333,
             "#000014"
            ],
            [
             0.4444444444444444,
             "#000015"
            ],
            [
             0.5555555555555556,
             "#000016"
            ],
            [
             0.6666666666666666,
             "#000017"
            ],
            [
             0.7777777777777778,
             "#000018"
            ],
            [
             0.8888888888888888,
             "#000019"
            ],
            [
             1,
             "#000020"
            ]
           ]
          },
          "colorway": [
           "#000001",
           "#000002",
           "#000003",
           "#000004",
           "#000005",
           "#000006",
           "#000007",
           "#000008",
           "#000009",
           "#000010"
          ]
         }
        },
        "xaxis": {
         "anchor": "y",
         "domain": [
          0,
          1
         ],
         "title": {
          "text": "Datas"
         }
        },
        "yaxis": {
         "anchor": "x",
         "domain": [
          0,
          1
         ],
         "title": {
          "text": "EV/EBITDA Magazine luiza"
         }
        }
       }
      }
     },
     "metadata": {},
     "output_type": "display_data"
    }
   ],
   "source": [
    "px.line(data_frame=ev_ebitda, x = ev_ebitda[\"Datas\"], y = ev_ebitda[\"EV/EBITDA Magazine luiza\"])"
   ]
  },
  {
   "cell_type": "code",
   "execution_count": 145,
   "metadata": {},
   "outputs": [
    {
     "data": {
      "application/vnd.plotly.v1+json": {
       "config": {
        "plotlyServerURL": "https://plot.ly"
       },
       "data": [
        {
         "hovertemplate": "Datas=%{x}<br>EV/EBITDA Grupo Boticario=%{y}<extra></extra>",
         "legendgroup": "",
         "line": {
          "color": "#000001",
          "dash": "solid"
         },
         "marker": {
          "symbol": "circle"
         },
         "mode": "lines",
         "name": "",
         "orientation": "v",
         "showlegend": false,
         "type": "scatter",
         "x": [
          "2023-12-31",
          "2022-12-31",
          "2021-12-31",
          "2020-12-31"
         ],
         "xaxis": "x",
         "y": [
          -255.44276250444287,
          106.27016507335755,
          21.226382701840834,
          23.400971965751115
         ],
         "yaxis": "y"
        }
       ],
       "layout": {
        "legend": {
         "tracegroupgap": 0
        },
        "margin": {
         "t": 60
        },
        "template": {
         "data": {
          "candlestick": [
           {
            "decreasing": {
             "line": {
              "color": "#000033"
             }
            },
            "increasing": {
             "line": {
              "color": "#000032"
             }
            },
            "type": "candlestick"
           }
          ],
          "contour": [
           {
            "colorscale": [
             [
              0,
              "#000011"
             ],
             [
              0.1111111111111111,
              "#000012"
             ],
             [
              0.2222222222222222,
              "#000013"
             ],
             [
              0.3333333333333333,
              "#000014"
             ],
             [
              0.4444444444444444,
              "#000015"
             ],
             [
              0.5555555555555556,
              "#000016"
             ],
             [
              0.6666666666666666,
              "#000017"
             ],
             [
              0.7777777777777778,
              "#000018"
             ],
             [
              0.8888888888888888,
              "#000019"
             ],
             [
              1,
              "#000020"
             ]
            ],
            "type": "contour"
           }
          ],
          "contourcarpet": [
           {
            "colorscale": [
             [
              0,
              "#000011"
             ],
             [
              0.1111111111111111,
              "#000012"
             ],
             [
              0.2222222222222222,
              "#000013"
             ],
             [
              0.3333333333333333,
              "#000014"
             ],
             [
              0.4444444444444444,
              "#000015"
             ],
             [
              0.5555555555555556,
              "#000016"
             ],
             [
              0.6666666666666666,
              "#000017"
             ],
             [
              0.7777777777777778,
              "#000018"
             ],
             [
              0.8888888888888888,
              "#000019"
             ],
             [
              1,
              "#000020"
             ]
            ],
            "type": "contourcarpet"
           }
          ],
          "heatmap": [
           {
            "colorscale": [
             [
              0,
              "#000011"
             ],
             [
              0.1111111111111111,
              "#000012"
             ],
             [
              0.2222222222222222,
              "#000013"
             ],
             [
              0.3333333333333333,
              "#000014"
             ],
             [
              0.4444444444444444,
              "#000015"
             ],
             [
              0.5555555555555556,
              "#000016"
             ],
             [
              0.6666666666666666,
              "#000017"
             ],
             [
              0.7777777777777778,
              "#000018"
             ],
             [
              0.8888888888888888,
              "#000019"
             ],
             [
              1,
              "#000020"
             ]
            ],
            "type": "heatmap"
           }
          ],
          "histogram2d": [
           {
            "colorscale": [
             [
              0,
              "#000011"
             ],
             [
              0.1111111111111111,
              "#000012"
             ],
             [
              0.2222222222222222,
              "#000013"
             ],
             [
              0.3333333333333333,
              "#000014"
             ],
             [
              0.4444444444444444,
              "#000015"
             ],
             [
              0.5555555555555556,
              "#000016"
             ],
             [
              0.6666666666666666,
              "#000017"
             ],
             [
              0.7777777777777778,
              "#000018"
             ],
             [
              0.8888888888888888,
              "#000019"
             ],
             [
              1,
              "#000020"
             ]
            ],
            "type": "histogram2d"
           }
          ],
          "icicle": [
           {
            "textfont": {
             "color": "white"
            },
            "type": "icicle"
           }
          ],
          "sankey": [
           {
            "textfont": {
             "color": "#000036"
            },
            "type": "sankey"
           }
          ],
          "scatter": [
           {
            "marker": {
             "line": {
              "width": 0
             }
            },
            "type": "scatter"
           }
          ],
          "table": [
           {
            "cells": {
             "fill": {
              "color": "#000038"
             },
             "font": {
              "color": "#000037"
             },
             "line": {
              "color": "#000039"
             }
            },
            "header": {
             "fill": {
              "color": "#000040"
             },
             "font": {
              "color": "#000036"
             },
             "line": {
              "color": "#000039"
             }
            },
            "type": "table"
           }
          ],
          "waterfall": [
           {
            "connector": {
             "line": {
              "color": "#000036",
              "width": 2
             }
            },
            "decreasing": {
             "marker": {
              "color": "#000033"
             }
            },
            "increasing": {
             "marker": {
              "color": "#000032"
             }
            },
            "totals": {
             "marker": {
              "color": "#000034"
             }
            },
            "type": "waterfall"
           }
          ]
         },
         "layout": {
          "coloraxis": {
           "colorscale": [
            [
             0,
             "#000011"
            ],
            [
             0.1111111111111111,
             "#000012"
            ],
            [
             0.2222222222222222,
             "#000013"
            ],
            [
             0.3333333333333333,
             "#000014"
            ],
            [
             0.4444444444444444,
             "#000015"
            ],
            [
             0.5555555555555556,
             "#000016"
            ],
            [
             0.6666666666666666,
             "#000017"
            ],
            [
             0.7777777777777778,
             "#000018"
            ],
            [
             0.8888888888888888,
             "#000019"
            ],
            [
             1,
             "#000020"
            ]
           ]
          },
          "colorscale": {
           "diverging": [
            [
             0,
             "#000021"
            ],
            [
             0.1,
             "#000022"
            ],
            [
             0.2,
             "#000023"
            ],
            [
             0.3,
             "#000024"
            ],
            [
             0.4,
             "#000025"
            ],
            [
             0.5,
             "#000026"
            ],
            [
             0.6,
             "#000027"
            ],
            [
             0.7,
             "#000028"
            ],
            [
             0.8,
             "#000029"
            ],
            [
             0.9,
             "#000030"
            ],
            [
             1,
             "#000031"
            ]
           ],
           "sequential": [
            [
             0,
             "#000011"
            ],
            [
             0.1111111111111111,
             "#000012"
            ],
            [
             0.2222222222222222,
             "#000013"
            ],
            [
             0.3333333333333333,
             "#000014"
            ],
            [
             0.4444444444444444,
             "#000015"
            ],
            [
             0.5555555555555556,
             "#000016"
            ],
            [
             0.6666666666666666,
             "#000017"
            ],
            [
             0.7777777777777778,
             "#000018"
            ],
            [
             0.8888888888888888,
             "#000019"
            ],
            [
             1,
             "#000020"
            ]
           ],
           "sequentialminus": [
            [
             0,
             "#000011"
            ],
            [
             0.1111111111111111,
             "#000012"
            ],
            [
             0.2222222222222222,
             "#000013"
            ],
            [
             0.3333333333333333,
             "#000014"
            ],
            [
             0.4444444444444444,
             "#000015"
            ],
            [
             0.5555555555555556,
             "#000016"
            ],
            [
             0.6666666666666666,
             "#000017"
            ],
            [
             0.7777777777777778,
             "#000018"
            ],
            [
             0.8888888888888888,
             "#000019"
            ],
            [
             1,
             "#000020"
            ]
           ]
          },
          "colorway": [
           "#000001",
           "#000002",
           "#000003",
           "#000004",
           "#000005",
           "#000006",
           "#000007",
           "#000008",
           "#000009",
           "#000010"
          ]
         }
        },
        "xaxis": {
         "anchor": "y",
         "domain": [
          0,
          1
         ],
         "title": {
          "text": "Datas"
         }
        },
        "yaxis": {
         "anchor": "x",
         "domain": [
          0,
          1
         ],
         "title": {
          "text": "EV/EBITDA Grupo Boticario"
         }
        }
       }
      }
     },
     "metadata": {},
     "output_type": "display_data"
    }
   ],
   "source": [
    "px.line(data_frame=ev_ebitda, x = ev_ebitda[\"Datas\"], y = ev_ebitda[\"EV/EBITDA Grupo Boticario\"])"
   ]
  },
  {
   "cell_type": "code",
   "execution_count": 146,
   "metadata": {},
   "outputs": [
    {
     "data": {
      "application/vnd.plotly.v1+json": {
       "config": {
        "plotlyServerURL": "https://plot.ly"
       },
       "data": [
        {
         "hovertemplate": "Datas=%{x}<br>EV/EBITDA Pão de Açúcar=%{y}<extra></extra>",
         "legendgroup": "",
         "line": {
          "color": "#000001",
          "dash": "solid"
         },
         "marker": {
          "symbol": "circle"
         },
         "mode": "lines",
         "name": "",
         "orientation": "v",
         "showlegend": false,
         "type": "scatter",
         "x": [
          "2023-12-31",
          "2022-12-31",
          "2021-12-31",
          "2020-12-31"
         ],
         "xaxis": "x",
         "y": [
          3.584025198334294,
          5.909218459046208,
          5.889286521048833,
          3.045898578453441
         ],
         "yaxis": "y"
        }
       ],
       "layout": {
        "legend": {
         "tracegroupgap": 0
        },
        "margin": {
         "t": 60
        },
        "template": {
         "data": {
          "candlestick": [
           {
            "decreasing": {
             "line": {
              "color": "#000033"
             }
            },
            "increasing": {
             "line": {
              "color": "#000032"
             }
            },
            "type": "candlestick"
           }
          ],
          "contour": [
           {
            "colorscale": [
             [
              0,
              "#000011"
             ],
             [
              0.1111111111111111,
              "#000012"
             ],
             [
              0.2222222222222222,
              "#000013"
             ],
             [
              0.3333333333333333,
              "#000014"
             ],
             [
              0.4444444444444444,
              "#000015"
             ],
             [
              0.5555555555555556,
              "#000016"
             ],
             [
              0.6666666666666666,
              "#000017"
             ],
             [
              0.7777777777777778,
              "#000018"
             ],
             [
              0.8888888888888888,
              "#000019"
             ],
             [
              1,
              "#000020"
             ]
            ],
            "type": "contour"
           }
          ],
          "contourcarpet": [
           {
            "colorscale": [
             [
              0,
              "#000011"
             ],
             [
              0.1111111111111111,
              "#000012"
             ],
             [
              0.2222222222222222,
              "#000013"
             ],
             [
              0.3333333333333333,
              "#000014"
             ],
             [
              0.4444444444444444,
              "#000015"
             ],
             [
              0.5555555555555556,
              "#000016"
             ],
             [
              0.6666666666666666,
              "#000017"
             ],
             [
              0.7777777777777778,
              "#000018"
             ],
             [
              0.8888888888888888,
              "#000019"
             ],
             [
              1,
              "#000020"
             ]
            ],
            "type": "contourcarpet"
           }
          ],
          "heatmap": [
           {
            "colorscale": [
             [
              0,
              "#000011"
             ],
             [
              0.1111111111111111,
              "#000012"
             ],
             [
              0.2222222222222222,
              "#000013"
             ],
             [
              0.3333333333333333,
              "#000014"
             ],
             [
              0.4444444444444444,
              "#000015"
             ],
             [
              0.5555555555555556,
              "#000016"
             ],
             [
              0.6666666666666666,
              "#000017"
             ],
             [
              0.7777777777777778,
              "#000018"
             ],
             [
              0.8888888888888888,
              "#000019"
             ],
             [
              1,
              "#000020"
             ]
            ],
            "type": "heatmap"
           }
          ],
          "histogram2d": [
           {
            "colorscale": [
             [
              0,
              "#000011"
             ],
             [
              0.1111111111111111,
              "#000012"
             ],
             [
              0.2222222222222222,
              "#000013"
             ],
             [
              0.3333333333333333,
              "#000014"
             ],
             [
              0.4444444444444444,
              "#000015"
             ],
             [
              0.5555555555555556,
              "#000016"
             ],
             [
              0.6666666666666666,
              "#000017"
             ],
             [
              0.7777777777777778,
              "#000018"
             ],
             [
              0.8888888888888888,
              "#000019"
             ],
             [
              1,
              "#000020"
             ]
            ],
            "type": "histogram2d"
           }
          ],
          "icicle": [
           {
            "textfont": {
             "color": "white"
            },
            "type": "icicle"
           }
          ],
          "sankey": [
           {
            "textfont": {
             "color": "#000036"
            },
            "type": "sankey"
           }
          ],
          "scatter": [
           {
            "marker": {
             "line": {
              "width": 0
             }
            },
            "type": "scatter"
           }
          ],
          "table": [
           {
            "cells": {
             "fill": {
              "color": "#000038"
             },
             "font": {
              "color": "#000037"
             },
             "line": {
              "color": "#000039"
             }
            },
            "header": {
             "fill": {
              "color": "#000040"
             },
             "font": {
              "color": "#000036"
             },
             "line": {
              "color": "#000039"
             }
            },
            "type": "table"
           }
          ],
          "waterfall": [
           {
            "connector": {
             "line": {
              "color": "#000036",
              "width": 2
             }
            },
            "decreasing": {
             "marker": {
              "color": "#000033"
             }
            },
            "increasing": {
             "marker": {
              "color": "#000032"
             }
            },
            "totals": {
             "marker": {
              "color": "#000034"
             }
            },
            "type": "waterfall"
           }
          ]
         },
         "layout": {
          "coloraxis": {
           "colorscale": [
            [
             0,
             "#000011"
            ],
            [
             0.1111111111111111,
             "#000012"
            ],
            [
             0.2222222222222222,
             "#000013"
            ],
            [
             0.3333333333333333,
             "#000014"
            ],
            [
             0.4444444444444444,
             "#000015"
            ],
            [
             0.5555555555555556,
             "#000016"
            ],
            [
             0.6666666666666666,
             "#000017"
            ],
            [
             0.7777777777777778,
             "#000018"
            ],
            [
             0.8888888888888888,
             "#000019"
            ],
            [
             1,
             "#000020"
            ]
           ]
          },
          "colorscale": {
           "diverging": [
            [
             0,
             "#000021"
            ],
            [
             0.1,
             "#000022"
            ],
            [
             0.2,
             "#000023"
            ],
            [
             0.3,
             "#000024"
            ],
            [
             0.4,
             "#000025"
            ],
            [
             0.5,
             "#000026"
            ],
            [
             0.6,
             "#000027"
            ],
            [
             0.7,
             "#000028"
            ],
            [
             0.8,
             "#000029"
            ],
            [
             0.9,
             "#000030"
            ],
            [
             1,
             "#000031"
            ]
           ],
           "sequential": [
            [
             0,
             "#000011"
            ],
            [
             0.1111111111111111,
             "#000012"
            ],
            [
             0.2222222222222222,
             "#000013"
            ],
            [
             0.3333333333333333,
             "#000014"
            ],
            [
             0.4444444444444444,
             "#000015"
            ],
            [
             0.5555555555555556,
             "#000016"
            ],
            [
             0.6666666666666666,
             "#000017"
            ],
            [
             0.7777777777777778,
             "#000018"
            ],
            [
             0.8888888888888888,
             "#000019"
            ],
            [
             1,
             "#000020"
            ]
           ],
           "sequentialminus": [
            [
             0,
             "#000011"
            ],
            [
             0.1111111111111111,
             "#000012"
            ],
            [
             0.2222222222222222,
             "#000013"
            ],
            [
             0.3333333333333333,
             "#000014"
            ],
            [
             0.4444444444444444,
             "#000015"
            ],
            [
             0.5555555555555556,
             "#000016"
            ],
            [
             0.6666666666666666,
             "#000017"
            ],
            [
             0.7777777777777778,
             "#000018"
            ],
            [
             0.8888888888888888,
             "#000019"
            ],
            [
             1,
             "#000020"
            ]
           ]
          },
          "colorway": [
           "#000001",
           "#000002",
           "#000003",
           "#000004",
           "#000005",
           "#000006",
           "#000007",
           "#000008",
           "#000009",
           "#000010"
          ]
         }
        },
        "xaxis": {
         "anchor": "y",
         "domain": [
          0,
          1
         ],
         "title": {
          "text": "Datas"
         }
        },
        "yaxis": {
         "anchor": "x",
         "domain": [
          0,
          1
         ],
         "title": {
          "text": "EV/EBITDA Pão de Açúcar"
         }
        }
       }
      }
     },
     "metadata": {},
     "output_type": "display_data"
    }
   ],
   "source": [
    "px.line(data_frame=ev_ebitda, x = ev_ebitda[\"Datas\"], y = ev_ebitda[\"EV/EBITDA Pão de Açúcar\"])"
   ]
  },
  {
   "cell_type": "code",
   "execution_count": 147,
   "metadata": {},
   "outputs": [
    {
     "data": {
      "application/vnd.plotly.v1+json": {
       "config": {
        "plotlyServerURL": "https://plot.ly"
       },
       "data": [
        {
         "hovertemplate": "Datas=%{x}<br>EV/EBITDA Casas Bahia=%{y}<extra></extra>",
         "legendgroup": "",
         "line": {
          "color": "#000001",
          "dash": "solid"
         },
         "marker": {
          "symbol": "circle"
         },
         "mode": "lines",
         "name": "",
         "orientation": "v",
         "showlegend": false,
         "type": "scatter",
         "x": [
          "2023-12-31",
          "2022-12-31",
          "2021-12-31",
          "2020-12-31"
         ],
         "xaxis": "x",
         "y": [
          -12.031367934127745,
          7.861941530462188,
          43.58787836837967,
          13.85224525290324
         ],
         "yaxis": "y"
        }
       ],
       "layout": {
        "legend": {
         "tracegroupgap": 0
        },
        "margin": {
         "t": 60
        },
        "template": {
         "data": {
          "candlestick": [
           {
            "decreasing": {
             "line": {
              "color": "#000033"
             }
            },
            "increasing": {
             "line": {
              "color": "#000032"
             }
            },
            "type": "candlestick"
           }
          ],
          "contour": [
           {
            "colorscale": [
             [
              0,
              "#000011"
             ],
             [
              0.1111111111111111,
              "#000012"
             ],
             [
              0.2222222222222222,
              "#000013"
             ],
             [
              0.3333333333333333,
              "#000014"
             ],
             [
              0.4444444444444444,
              "#000015"
             ],
             [
              0.5555555555555556,
              "#000016"
             ],
             [
              0.6666666666666666,
              "#000017"
             ],
             [
              0.7777777777777778,
              "#000018"
             ],
             [
              0.8888888888888888,
              "#000019"
             ],
             [
              1,
              "#000020"
             ]
            ],
            "type": "contour"
           }
          ],
          "contourcarpet": [
           {
            "colorscale": [
             [
              0,
              "#000011"
             ],
             [
              0.1111111111111111,
              "#000012"
             ],
             [
              0.2222222222222222,
              "#000013"
             ],
             [
              0.3333333333333333,
              "#000014"
             ],
             [
              0.4444444444444444,
              "#000015"
             ],
             [
              0.5555555555555556,
              "#000016"
             ],
             [
              0.6666666666666666,
              "#000017"
             ],
             [
              0.7777777777777778,
              "#000018"
             ],
             [
              0.8888888888888888,
              "#000019"
             ],
             [
              1,
              "#000020"
             ]
            ],
            "type": "contourcarpet"
           }
          ],
          "heatmap": [
           {
            "colorscale": [
             [
              0,
              "#000011"
             ],
             [
              0.1111111111111111,
              "#000012"
             ],
             [
              0.2222222222222222,
              "#000013"
             ],
             [
              0.3333333333333333,
              "#000014"
             ],
             [
              0.4444444444444444,
              "#000015"
             ],
             [
              0.5555555555555556,
              "#000016"
             ],
             [
              0.6666666666666666,
              "#000017"
             ],
             [
              0.7777777777777778,
              "#000018"
             ],
             [
              0.8888888888888888,
              "#000019"
             ],
             [
              1,
              "#000020"
             ]
            ],
            "type": "heatmap"
           }
          ],
          "histogram2d": [
           {
            "colorscale": [
             [
              0,
              "#000011"
             ],
             [
              0.1111111111111111,
              "#000012"
             ],
             [
              0.2222222222222222,
              "#000013"
             ],
             [
              0.3333333333333333,
              "#000014"
             ],
             [
              0.4444444444444444,
              "#000015"
             ],
             [
              0.5555555555555556,
              "#000016"
             ],
             [
              0.6666666666666666,
              "#000017"
             ],
             [
              0.7777777777777778,
              "#000018"
             ],
             [
              0.8888888888888888,
              "#000019"
             ],
             [
              1,
              "#000020"
             ]
            ],
            "type": "histogram2d"
           }
          ],
          "icicle": [
           {
            "textfont": {
             "color": "white"
            },
            "type": "icicle"
           }
          ],
          "sankey": [
           {
            "textfont": {
             "color": "#000036"
            },
            "type": "sankey"
           }
          ],
          "scatter": [
           {
            "marker": {
             "line": {
              "width": 0
             }
            },
            "type": "scatter"
           }
          ],
          "table": [
           {
            "cells": {
             "fill": {
              "color": "#000038"
             },
             "font": {
              "color": "#000037"
             },
             "line": {
              "color": "#000039"
             }
            },
            "header": {
             "fill": {
              "color": "#000040"
             },
             "font": {
              "color": "#000036"
             },
             "line": {
              "color": "#000039"
             }
            },
            "type": "table"
           }
          ],
          "waterfall": [
           {
            "connector": {
             "line": {
              "color": "#000036",
              "width": 2
             }
            },
            "decreasing": {
             "marker": {
              "color": "#000033"
             }
            },
            "increasing": {
             "marker": {
              "color": "#000032"
             }
            },
            "totals": {
             "marker": {
              "color": "#000034"
             }
            },
            "type": "waterfall"
           }
          ]
         },
         "layout": {
          "coloraxis": {
           "colorscale": [
            [
             0,
             "#000011"
            ],
            [
             0.1111111111111111,
             "#000012"
            ],
            [
             0.2222222222222222,
             "#000013"
            ],
            [
             0.3333333333333333,
             "#000014"
            ],
            [
             0.4444444444444444,
             "#000015"
            ],
            [
             0.5555555555555556,
             "#000016"
            ],
            [
             0.6666666666666666,
             "#000017"
            ],
            [
             0.7777777777777778,
             "#000018"
            ],
            [
             0.8888888888888888,
             "#000019"
            ],
            [
             1,
             "#000020"
            ]
           ]
          },
          "colorscale": {
           "diverging": [
            [
             0,
             "#000021"
            ],
            [
             0.1,
             "#000022"
            ],
            [
             0.2,
             "#000023"
            ],
            [
             0.3,
             "#000024"
            ],
            [
             0.4,
             "#000025"
            ],
            [
             0.5,
             "#000026"
            ],
            [
             0.6,
             "#000027"
            ],
            [
             0.7,
             "#000028"
            ],
            [
             0.8,
             "#000029"
            ],
            [
             0.9,
             "#000030"
            ],
            [
             1,
             "#000031"
            ]
           ],
           "sequential": [
            [
             0,
             "#000011"
            ],
            [
             0.1111111111111111,
             "#000012"
            ],
            [
             0.2222222222222222,
             "#000013"
            ],
            [
             0.3333333333333333,
             "#000014"
            ],
            [
             0.4444444444444444,
             "#000015"
            ],
            [
             0.5555555555555556,
             "#000016"
            ],
            [
             0.6666666666666666,
             "#000017"
            ],
            [
             0.7777777777777778,
             "#000018"
            ],
            [
             0.8888888888888888,
             "#000019"
            ],
            [
             1,
             "#000020"
            ]
           ],
           "sequentialminus": [
            [
             0,
             "#000011"
            ],
            [
             0.1111111111111111,
             "#000012"
            ],
            [
             0.2222222222222222,
             "#000013"
            ],
            [
             0.3333333333333333,
             "#000014"
            ],
            [
             0.4444444444444444,
             "#000015"
            ],
            [
             0.5555555555555556,
             "#000016"
            ],
            [
             0.6666666666666666,
             "#000017"
            ],
            [
             0.7777777777777778,
             "#000018"
            ],
            [
             0.8888888888888888,
             "#000019"
            ],
            [
             1,
             "#000020"
            ]
           ]
          },
          "colorway": [
           "#000001",
           "#000002",
           "#000003",
           "#000004",
           "#000005",
           "#000006",
           "#000007",
           "#000008",
           "#000009",
           "#000010"
          ]
         }
        },
        "xaxis": {
         "anchor": "y",
         "domain": [
          0,
          1
         ],
         "title": {
          "text": "Datas"
         }
        },
        "yaxis": {
         "anchor": "x",
         "domain": [
          0,
          1
         ],
         "title": {
          "text": "EV/EBITDA Casas Bahia"
         }
        }
       }
      }
     },
     "metadata": {},
     "output_type": "display_data"
    }
   ],
   "source": [
    "px.line(data_frame=ev_ebitda, x = ev_ebitda[\"Datas\"], y = ev_ebitda[\"EV/EBITDA Casas Bahia\"])"
   ]
  },
  {
   "cell_type": "markdown",
   "metadata": {},
   "source": [
    "## ROE\n",
    "#### O Retorno on Equity ele mede como a empresa administra o patrimônio dos stockholders e como ele está retornando para eles. Ele é a relação do Lucro Líquido com o Patrimônio Líquido "
   ]
  },
  {
   "cell_type": "code",
   "execution_count": 148,
   "metadata": {},
   "outputs": [
    {
     "data": {
      "text/html": [
       "<div>\n",
       "<style scoped>\n",
       "    .dataframe tbody tr th:only-of-type {\n",
       "        vertical-align: middle;\n",
       "    }\n",
       "\n",
       "    .dataframe tbody tr th {\n",
       "        vertical-align: top;\n",
       "    }\n",
       "\n",
       "    .dataframe thead th {\n",
       "        text-align: right;\n",
       "    }\n",
       "</style>\n",
       "<table border=\"1\" class=\"dataframe\">\n",
       "  <thead>\n",
       "    <tr style=\"text-align: right;\">\n",
       "      <th></th>\n",
       "      <th>Datas</th>\n",
       "      <th>ROE Magazine luiza</th>\n",
       "      <th>ROE Grupo Boticario</th>\n",
       "      <th>ROE Pão de Açúcar</th>\n",
       "      <th>ROE Casas Bahia</th>\n",
       "    </tr>\n",
       "  </thead>\n",
       "  <tbody>\n",
       "    <tr>\n",
       "      <th>0</th>\n",
       "      <td>2023-12-31</td>\n",
       "      <td>-10.187821</td>\n",
       "      <td>12.871490</td>\n",
       "      <td>-48.145007</td>\n",
       "      <td>-75.998842</td>\n",
       "    </tr>\n",
       "    <tr>\n",
       "      <th>1</th>\n",
       "      <td>2022-12-31</td>\n",
       "      <td>-4.685783</td>\n",
       "      <td>-12.804653</td>\n",
       "      <td>-1.496563</td>\n",
       "      <td>-6.472369</td>\n",
       "    </tr>\n",
       "    <tr>\n",
       "      <th>2</th>\n",
       "      <td>2021-12-31</td>\n",
       "      <td>5.245084</td>\n",
       "      <td>3.671183</td>\n",
       "      <td>5.875888</td>\n",
       "      <td>-5.268760</td>\n",
       "    </tr>\n",
       "    <tr>\n",
       "      <th>3</th>\n",
       "      <td>2020-12-31</td>\n",
       "      <td>5.347354</td>\n",
       "      <td>-2.376072</td>\n",
       "      <td>15.910916</td>\n",
       "      <td>16.792106</td>\n",
       "    </tr>\n",
       "  </tbody>\n",
       "</table>\n",
       "</div>"
      ],
      "text/plain": [
       "        Datas  ROE Magazine luiza  ROE Grupo Boticario  ROE Pão de Açúcar  \\\n",
       "0  2023-12-31          -10.187821            12.871490         -48.145007   \n",
       "1  2022-12-31           -4.685783           -12.804653          -1.496563   \n",
       "2  2021-12-31            5.245084             3.671183           5.875888   \n",
       "3  2020-12-31            5.347354            -2.376072          15.910916   \n",
       "\n",
       "   ROE Casas Bahia  \n",
       "0       -75.998842  \n",
       "1        -6.472369  \n",
       "2        -5.268760  \n",
       "3        16.792106  "
      ]
     },
     "execution_count": 148,
     "metadata": {},
     "output_type": "execute_result"
    }
   ],
   "source": [
    "ROE = pd.DataFrame({\n",
    "    \"Datas\": [\"2023-12-31\", \"2022-12-31\", \"2021-12-31\", \"2020-12-31\"],\n",
    "    \"ROE Magazine luiza\": calculaROE(Magazine_luiza),\n",
    "    \"ROE Grupo Boticario\": calculaROE(Grupo_Boticario),\n",
    "    \"ROE Pão de Açúcar\": calculaROE(Pão_de_açúcar),\n",
    "    \"ROE Casas Bahia\": calculaROE(Casas_bahia)\n",
    "})\n",
    "\n",
    "ROE"
   ]
  },
  {
   "cell_type": "code",
   "execution_count": 149,
   "metadata": {},
   "outputs": [
    {
     "data": {
      "application/vnd.plotly.v1+json": {
       "config": {
        "plotlyServerURL": "https://plot.ly"
       },
       "data": [
        {
         "alignmentgroup": "True",
         "hovertemplate": "Datas=%{x}<br>ROE Magazine luiza=%{y}<extra></extra>",
         "legendgroup": "",
         "marker": {
          "color": "#000001",
          "pattern": {
           "shape": ""
          }
         },
         "name": "",
         "offsetgroup": "",
         "orientation": "v",
         "showlegend": false,
         "textposition": "auto",
         "type": "bar",
         "x": [
          "2023-12-31",
          "2022-12-31",
          "2021-12-31",
          "2020-12-31"
         ],
         "xaxis": "x",
         "y": [
          -10.187820988927358,
          -4.685782801113488,
          5.245083774589119,
          5.3473536258715875
         ],
         "yaxis": "y"
        }
       ],
       "layout": {
        "barmode": "relative",
        "legend": {
         "tracegroupgap": 0
        },
        "margin": {
         "t": 60
        },
        "template": {
         "data": {
          "candlestick": [
           {
            "decreasing": {
             "line": {
              "color": "#000033"
             }
            },
            "increasing": {
             "line": {
              "color": "#000032"
             }
            },
            "type": "candlestick"
           }
          ],
          "contour": [
           {
            "colorscale": [
             [
              0,
              "#000011"
             ],
             [
              0.1111111111111111,
              "#000012"
             ],
             [
              0.2222222222222222,
              "#000013"
             ],
             [
              0.3333333333333333,
              "#000014"
             ],
             [
              0.4444444444444444,
              "#000015"
             ],
             [
              0.5555555555555556,
              "#000016"
             ],
             [
              0.6666666666666666,
              "#000017"
             ],
             [
              0.7777777777777778,
              "#000018"
             ],
             [
              0.8888888888888888,
              "#000019"
             ],
             [
              1,
              "#000020"
             ]
            ],
            "type": "contour"
           }
          ],
          "contourcarpet": [
           {
            "colorscale": [
             [
              0,
              "#000011"
             ],
             [
              0.1111111111111111,
              "#000012"
             ],
             [
              0.2222222222222222,
              "#000013"
             ],
             [
              0.3333333333333333,
              "#000014"
             ],
             [
              0.4444444444444444,
              "#000015"
             ],
             [
              0.5555555555555556,
              "#000016"
             ],
             [
              0.6666666666666666,
              "#000017"
             ],
             [
              0.7777777777777778,
              "#000018"
             ],
             [
              0.8888888888888888,
              "#000019"
             ],
             [
              1,
              "#000020"
             ]
            ],
            "type": "contourcarpet"
           }
          ],
          "heatmap": [
           {
            "colorscale": [
             [
              0,
              "#000011"
             ],
             [
              0.1111111111111111,
              "#000012"
             ],
             [
              0.2222222222222222,
              "#000013"
             ],
             [
              0.3333333333333333,
              "#000014"
             ],
             [
              0.4444444444444444,
              "#000015"
             ],
             [
              0.5555555555555556,
              "#000016"
             ],
             [
              0.6666666666666666,
              "#000017"
             ],
             [
              0.7777777777777778,
              "#000018"
             ],
             [
              0.8888888888888888,
              "#000019"
             ],
             [
              1,
              "#000020"
             ]
            ],
            "type": "heatmap"
           }
          ],
          "histogram2d": [
           {
            "colorscale": [
             [
              0,
              "#000011"
             ],
             [
              0.1111111111111111,
              "#000012"
             ],
             [
              0.2222222222222222,
              "#000013"
             ],
             [
              0.3333333333333333,
              "#000014"
             ],
             [
              0.4444444444444444,
              "#000015"
             ],
             [
              0.5555555555555556,
              "#000016"
             ],
             [
              0.6666666666666666,
              "#000017"
             ],
             [
              0.7777777777777778,
              "#000018"
             ],
             [
              0.8888888888888888,
              "#000019"
             ],
             [
              1,
              "#000020"
             ]
            ],
            "type": "histogram2d"
           }
          ],
          "icicle": [
           {
            "textfont": {
             "color": "white"
            },
            "type": "icicle"
           }
          ],
          "sankey": [
           {
            "textfont": {
             "color": "#000036"
            },
            "type": "sankey"
           }
          ],
          "scatter": [
           {
            "marker": {
             "line": {
              "width": 0
             }
            },
            "type": "scatter"
           }
          ],
          "table": [
           {
            "cells": {
             "fill": {
              "color": "#000038"
             },
             "font": {
              "color": "#000037"
             },
             "line": {
              "color": "#000039"
             }
            },
            "header": {
             "fill": {
              "color": "#000040"
             },
             "font": {
              "color": "#000036"
             },
             "line": {
              "color": "#000039"
             }
            },
            "type": "table"
           }
          ],
          "waterfall": [
           {
            "connector": {
             "line": {
              "color": "#000036",
              "width": 2
             }
            },
            "decreasing": {
             "marker": {
              "color": "#000033"
             }
            },
            "increasing": {
             "marker": {
              "color": "#000032"
             }
            },
            "totals": {
             "marker": {
              "color": "#000034"
             }
            },
            "type": "waterfall"
           }
          ]
         },
         "layout": {
          "coloraxis": {
           "colorscale": [
            [
             0,
             "#000011"
            ],
            [
             0.1111111111111111,
             "#000012"
            ],
            [
             0.2222222222222222,
             "#000013"
            ],
            [
             0.3333333333333333,
             "#000014"
            ],
            [
             0.4444444444444444,
             "#000015"
            ],
            [
             0.5555555555555556,
             "#000016"
            ],
            [
             0.6666666666666666,
             "#000017"
            ],
            [
             0.7777777777777778,
             "#000018"
            ],
            [
             0.8888888888888888,
             "#000019"
            ],
            [
             1,
             "#000020"
            ]
           ]
          },
          "colorscale": {
           "diverging": [
            [
             0,
             "#000021"
            ],
            [
             0.1,
             "#000022"
            ],
            [
             0.2,
             "#000023"
            ],
            [
             0.3,
             "#000024"
            ],
            [
             0.4,
             "#000025"
            ],
            [
             0.5,
             "#000026"
            ],
            [
             0.6,
             "#000027"
            ],
            [
             0.7,
             "#000028"
            ],
            [
             0.8,
             "#000029"
            ],
            [
             0.9,
             "#000030"
            ],
            [
             1,
             "#000031"
            ]
           ],
           "sequential": [
            [
             0,
             "#000011"
            ],
            [
             0.1111111111111111,
             "#000012"
            ],
            [
             0.2222222222222222,
             "#000013"
            ],
            [
             0.3333333333333333,
             "#000014"
            ],
            [
             0.4444444444444444,
             "#000015"
            ],
            [
             0.5555555555555556,
             "#000016"
            ],
            [
             0.6666666666666666,
             "#000017"
            ],
            [
             0.7777777777777778,
             "#000018"
            ],
            [
             0.8888888888888888,
             "#000019"
            ],
            [
             1,
             "#000020"
            ]
           ],
           "sequentialminus": [
            [
             0,
             "#000011"
            ],
            [
             0.1111111111111111,
             "#000012"
            ],
            [
             0.2222222222222222,
             "#000013"
            ],
            [
             0.3333333333333333,
             "#000014"
            ],
            [
             0.4444444444444444,
             "#000015"
            ],
            [
             0.5555555555555556,
             "#000016"
            ],
            [
             0.6666666666666666,
             "#000017"
            ],
            [
             0.7777777777777778,
             "#000018"
            ],
            [
             0.8888888888888888,
             "#000019"
            ],
            [
             1,
             "#000020"
            ]
           ]
          },
          "colorway": [
           "#000001",
           "#000002",
           "#000003",
           "#000004",
           "#000005",
           "#000006",
           "#000007",
           "#000008",
           "#000009",
           "#000010"
          ]
         }
        },
        "xaxis": {
         "anchor": "y",
         "domain": [
          0,
          1
         ],
         "title": {
          "text": "Datas"
         }
        },
        "yaxis": {
         "anchor": "x",
         "domain": [
          0,
          1
         ],
         "title": {
          "text": "ROE Magazine luiza"
         }
        }
       }
      }
     },
     "metadata": {},
     "output_type": "display_data"
    }
   ],
   "source": [
    "px.bar(data_frame=ROE, x = ROE[\"Datas\"], y = ROE[\"ROE Magazine luiza\"])"
   ]
  },
  {
   "cell_type": "code",
   "execution_count": 150,
   "metadata": {},
   "outputs": [
    {
     "data": {
      "application/vnd.plotly.v1+json": {
       "config": {
        "plotlyServerURL": "https://plot.ly"
       },
       "data": [
        {
         "alignmentgroup": "True",
         "hovertemplate": "Datas=%{x}<br>ROE Grupo Boticario=%{y}<extra></extra>",
         "legendgroup": "",
         "marker": {
          "color": "#000001",
          "pattern": {
           "shape": ""
          }
         },
         "name": "",
         "offsetgroup": "",
         "orientation": "v",
         "showlegend": false,
         "textposition": "auto",
         "type": "bar",
         "x": [
          "2023-12-31",
          "2022-12-31",
          "2021-12-31",
          "2020-12-31"
         ],
         "xaxis": "x",
         "y": [
          12.871489577716789,
          -12.804652578587108,
          3.6711826038155837,
          -2.3760715913093713
         ],
         "yaxis": "y"
        }
       ],
       "layout": {
        "barmode": "relative",
        "legend": {
         "tracegroupgap": 0
        },
        "margin": {
         "t": 60
        },
        "template": {
         "data": {
          "candlestick": [
           {
            "decreasing": {
             "line": {
              "color": "#000033"
             }
            },
            "increasing": {
             "line": {
              "color": "#000032"
             }
            },
            "type": "candlestick"
           }
          ],
          "contour": [
           {
            "colorscale": [
             [
              0,
              "#000011"
             ],
             [
              0.1111111111111111,
              "#000012"
             ],
             [
              0.2222222222222222,
              "#000013"
             ],
             [
              0.3333333333333333,
              "#000014"
             ],
             [
              0.4444444444444444,
              "#000015"
             ],
             [
              0.5555555555555556,
              "#000016"
             ],
             [
              0.6666666666666666,
              "#000017"
             ],
             [
              0.7777777777777778,
              "#000018"
             ],
             [
              0.8888888888888888,
              "#000019"
             ],
             [
              1,
              "#000020"
             ]
            ],
            "type": "contour"
           }
          ],
          "contourcarpet": [
           {
            "colorscale": [
             [
              0,
              "#000011"
             ],
             [
              0.1111111111111111,
              "#000012"
             ],
             [
              0.2222222222222222,
              "#000013"
             ],
             [
              0.3333333333333333,
              "#000014"
             ],
             [
              0.4444444444444444,
              "#000015"
             ],
             [
              0.5555555555555556,
              "#000016"
             ],
             [
              0.6666666666666666,
              "#000017"
             ],
             [
              0.7777777777777778,
              "#000018"
             ],
             [
              0.8888888888888888,
              "#000019"
             ],
             [
              1,
              "#000020"
             ]
            ],
            "type": "contourcarpet"
           }
          ],
          "heatmap": [
           {
            "colorscale": [
             [
              0,
              "#000011"
             ],
             [
              0.1111111111111111,
              "#000012"
             ],
             [
              0.2222222222222222,
              "#000013"
             ],
             [
              0.3333333333333333,
              "#000014"
             ],
             [
              0.4444444444444444,
              "#000015"
             ],
             [
              0.5555555555555556,
              "#000016"
             ],
             [
              0.6666666666666666,
              "#000017"
             ],
             [
              0.7777777777777778,
              "#000018"
             ],
             [
              0.8888888888888888,
              "#000019"
             ],
             [
              1,
              "#000020"
             ]
            ],
            "type": "heatmap"
           }
          ],
          "histogram2d": [
           {
            "colorscale": [
             [
              0,
              "#000011"
             ],
             [
              0.1111111111111111,
              "#000012"
             ],
             [
              0.2222222222222222,
              "#000013"
             ],
             [
              0.3333333333333333,
              "#000014"
             ],
             [
              0.4444444444444444,
              "#000015"
             ],
             [
              0.5555555555555556,
              "#000016"
             ],
             [
              0.6666666666666666,
              "#000017"
             ],
             [
              0.7777777777777778,
              "#000018"
             ],
             [
              0.8888888888888888,
              "#000019"
             ],
             [
              1,
              "#000020"
             ]
            ],
            "type": "histogram2d"
           }
          ],
          "icicle": [
           {
            "textfont": {
             "color": "white"
            },
            "type": "icicle"
           }
          ],
          "sankey": [
           {
            "textfont": {
             "color": "#000036"
            },
            "type": "sankey"
           }
          ],
          "scatter": [
           {
            "marker": {
             "line": {
              "width": 0
             }
            },
            "type": "scatter"
           }
          ],
          "table": [
           {
            "cells": {
             "fill": {
              "color": "#000038"
             },
             "font": {
              "color": "#000037"
             },
             "line": {
              "color": "#000039"
             }
            },
            "header": {
             "fill": {
              "color": "#000040"
             },
             "font": {
              "color": "#000036"
             },
             "line": {
              "color": "#000039"
             }
            },
            "type": "table"
           }
          ],
          "waterfall": [
           {
            "connector": {
             "line": {
              "color": "#000036",
              "width": 2
             }
            },
            "decreasing": {
             "marker": {
              "color": "#000033"
             }
            },
            "increasing": {
             "marker": {
              "color": "#000032"
             }
            },
            "totals": {
             "marker": {
              "color": "#000034"
             }
            },
            "type": "waterfall"
           }
          ]
         },
         "layout": {
          "coloraxis": {
           "colorscale": [
            [
             0,
             "#000011"
            ],
            [
             0.1111111111111111,
             "#000012"
            ],
            [
             0.2222222222222222,
             "#000013"
            ],
            [
             0.3333333333333333,
             "#000014"
            ],
            [
             0.4444444444444444,
             "#000015"
            ],
            [
             0.5555555555555556,
             "#000016"
            ],
            [
             0.6666666666666666,
             "#000017"
            ],
            [
             0.7777777777777778,
             "#000018"
            ],
            [
             0.8888888888888888,
             "#000019"
            ],
            [
             1,
             "#000020"
            ]
           ]
          },
          "colorscale": {
           "diverging": [
            [
             0,
             "#000021"
            ],
            [
             0.1,
             "#000022"
            ],
            [
             0.2,
             "#000023"
            ],
            [
             0.3,
             "#000024"
            ],
            [
             0.4,
             "#000025"
            ],
            [
             0.5,
             "#000026"
            ],
            [
             0.6,
             "#000027"
            ],
            [
             0.7,
             "#000028"
            ],
            [
             0.8,
             "#000029"
            ],
            [
             0.9,
             "#000030"
            ],
            [
             1,
             "#000031"
            ]
           ],
           "sequential": [
            [
             0,
             "#000011"
            ],
            [
             0.1111111111111111,
             "#000012"
            ],
            [
             0.2222222222222222,
             "#000013"
            ],
            [
             0.3333333333333333,
             "#000014"
            ],
            [
             0.4444444444444444,
             "#000015"
            ],
            [
             0.5555555555555556,
             "#000016"
            ],
            [
             0.6666666666666666,
             "#000017"
            ],
            [
             0.7777777777777778,
             "#000018"
            ],
            [
             0.8888888888888888,
             "#000019"
            ],
            [
             1,
             "#000020"
            ]
           ],
           "sequentialminus": [
            [
             0,
             "#000011"
            ],
            [
             0.1111111111111111,
             "#000012"
            ],
            [
             0.2222222222222222,
             "#000013"
            ],
            [
             0.3333333333333333,
             "#000014"
            ],
            [
             0.4444444444444444,
             "#000015"
            ],
            [
             0.5555555555555556,
             "#000016"
            ],
            [
             0.6666666666666666,
             "#000017"
            ],
            [
             0.7777777777777778,
             "#000018"
            ],
            [
             0.8888888888888888,
             "#000019"
            ],
            [
             1,
             "#000020"
            ]
           ]
          },
          "colorway": [
           "#000001",
           "#000002",
           "#000003",
           "#000004",
           "#000005",
           "#000006",
           "#000007",
           "#000008",
           "#000009",
           "#000010"
          ]
         }
        },
        "xaxis": {
         "anchor": "y",
         "domain": [
          0,
          1
         ],
         "title": {
          "text": "Datas"
         }
        },
        "yaxis": {
         "anchor": "x",
         "domain": [
          0,
          1
         ],
         "title": {
          "text": "ROE Grupo Boticario"
         }
        }
       }
      }
     },
     "metadata": {},
     "output_type": "display_data"
    }
   ],
   "source": [
    "px.bar(data_frame=ROE, x = ROE[\"Datas\"], y = ROE[\"ROE Grupo Boticario\"])"
   ]
  },
  {
   "cell_type": "code",
   "execution_count": 151,
   "metadata": {},
   "outputs": [
    {
     "data": {
      "application/vnd.plotly.v1+json": {
       "config": {
        "plotlyServerURL": "https://plot.ly"
       },
       "data": [
        {
         "alignmentgroup": "True",
         "hovertemplate": "Datas=%{x}<br>ROE Pão de Açúcar=%{y}<extra></extra>",
         "legendgroup": "",
         "marker": {
          "color": "#000001",
          "pattern": {
           "shape": ""
          }
         },
         "name": "",
         "offsetgroup": "",
         "orientation": "v",
         "showlegend": false,
         "textposition": "auto",
         "type": "bar",
         "x": [
          "2023-12-31",
          "2022-12-31",
          "2021-12-31",
          "2020-12-31"
         ],
         "xaxis": "x",
         "y": [
          -48.14500741997032,
          -1.4965631253806666,
          5.875888343468386,
          15.910916392844104
         ],
         "yaxis": "y"
        }
       ],
       "layout": {
        "barmode": "relative",
        "legend": {
         "tracegroupgap": 0
        },
        "margin": {
         "t": 60
        },
        "template": {
         "data": {
          "candlestick": [
           {
            "decreasing": {
             "line": {
              "color": "#000033"
             }
            },
            "increasing": {
             "line": {
              "color": "#000032"
             }
            },
            "type": "candlestick"
           }
          ],
          "contour": [
           {
            "colorscale": [
             [
              0,
              "#000011"
             ],
             [
              0.1111111111111111,
              "#000012"
             ],
             [
              0.2222222222222222,
              "#000013"
             ],
             [
              0.3333333333333333,
              "#000014"
             ],
             [
              0.4444444444444444,
              "#000015"
             ],
             [
              0.5555555555555556,
              "#000016"
             ],
             [
              0.6666666666666666,
              "#000017"
             ],
             [
              0.7777777777777778,
              "#000018"
             ],
             [
              0.8888888888888888,
              "#000019"
             ],
             [
              1,
              "#000020"
             ]
            ],
            "type": "contour"
           }
          ],
          "contourcarpet": [
           {
            "colorscale": [
             [
              0,
              "#000011"
             ],
             [
              0.1111111111111111,
              "#000012"
             ],
             [
              0.2222222222222222,
              "#000013"
             ],
             [
              0.3333333333333333,
              "#000014"
             ],
             [
              0.4444444444444444,
              "#000015"
             ],
             [
              0.5555555555555556,
              "#000016"
             ],
             [
              0.6666666666666666,
              "#000017"
             ],
             [
              0.7777777777777778,
              "#000018"
             ],
             [
              0.8888888888888888,
              "#000019"
             ],
             [
              1,
              "#000020"
             ]
            ],
            "type": "contourcarpet"
           }
          ],
          "heatmap": [
           {
            "colorscale": [
             [
              0,
              "#000011"
             ],
             [
              0.1111111111111111,
              "#000012"
             ],
             [
              0.2222222222222222,
              "#000013"
             ],
             [
              0.3333333333333333,
              "#000014"
             ],
             [
              0.4444444444444444,
              "#000015"
             ],
             [
              0.5555555555555556,
              "#000016"
             ],
             [
              0.6666666666666666,
              "#000017"
             ],
             [
              0.7777777777777778,
              "#000018"
             ],
             [
              0.8888888888888888,
              "#000019"
             ],
             [
              1,
              "#000020"
             ]
            ],
            "type": "heatmap"
           }
          ],
          "histogram2d": [
           {
            "colorscale": [
             [
              0,
              "#000011"
             ],
             [
              0.1111111111111111,
              "#000012"
             ],
             [
              0.2222222222222222,
              "#000013"
             ],
             [
              0.3333333333333333,
              "#000014"
             ],
             [
              0.4444444444444444,
              "#000015"
             ],
             [
              0.5555555555555556,
              "#000016"
             ],
             [
              0.6666666666666666,
              "#000017"
             ],
             [
              0.7777777777777778,
              "#000018"
             ],
             [
              0.8888888888888888,
              "#000019"
             ],
             [
              1,
              "#000020"
             ]
            ],
            "type": "histogram2d"
           }
          ],
          "icicle": [
           {
            "textfont": {
             "color": "white"
            },
            "type": "icicle"
           }
          ],
          "sankey": [
           {
            "textfont": {
             "color": "#000036"
            },
            "type": "sankey"
           }
          ],
          "scatter": [
           {
            "marker": {
             "line": {
              "width": 0
             }
            },
            "type": "scatter"
           }
          ],
          "table": [
           {
            "cells": {
             "fill": {
              "color": "#000038"
             },
             "font": {
              "color": "#000037"
             },
             "line": {
              "color": "#000039"
             }
            },
            "header": {
             "fill": {
              "color": "#000040"
             },
             "font": {
              "color": "#000036"
             },
             "line": {
              "color": "#000039"
             }
            },
            "type": "table"
           }
          ],
          "waterfall": [
           {
            "connector": {
             "line": {
              "color": "#000036",
              "width": 2
             }
            },
            "decreasing": {
             "marker": {
              "color": "#000033"
             }
            },
            "increasing": {
             "marker": {
              "color": "#000032"
             }
            },
            "totals": {
             "marker": {
              "color": "#000034"
             }
            },
            "type": "waterfall"
           }
          ]
         },
         "layout": {
          "coloraxis": {
           "colorscale": [
            [
             0,
             "#000011"
            ],
            [
             0.1111111111111111,
             "#000012"
            ],
            [
             0.2222222222222222,
             "#000013"
            ],
            [
             0.3333333333333333,
             "#000014"
            ],
            [
             0.4444444444444444,
             "#000015"
            ],
            [
             0.5555555555555556,
             "#000016"
            ],
            [
             0.6666666666666666,
             "#000017"
            ],
            [
             0.7777777777777778,
             "#000018"
            ],
            [
             0.8888888888888888,
             "#000019"
            ],
            [
             1,
             "#000020"
            ]
           ]
          },
          "colorscale": {
           "diverging": [
            [
             0,
             "#000021"
            ],
            [
             0.1,
             "#000022"
            ],
            [
             0.2,
             "#000023"
            ],
            [
             0.3,
             "#000024"
            ],
            [
             0.4,
             "#000025"
            ],
            [
             0.5,
             "#000026"
            ],
            [
             0.6,
             "#000027"
            ],
            [
             0.7,
             "#000028"
            ],
            [
             0.8,
             "#000029"
            ],
            [
             0.9,
             "#000030"
            ],
            [
             1,
             "#000031"
            ]
           ],
           "sequential": [
            [
             0,
             "#000011"
            ],
            [
             0.1111111111111111,
             "#000012"
            ],
            [
             0.2222222222222222,
             "#000013"
            ],
            [
             0.3333333333333333,
             "#000014"
            ],
            [
             0.4444444444444444,
             "#000015"
            ],
            [
             0.5555555555555556,
             "#000016"
            ],
            [
             0.6666666666666666,
             "#000017"
            ],
            [
             0.7777777777777778,
             "#000018"
            ],
            [
             0.8888888888888888,
             "#000019"
            ],
            [
             1,
             "#000020"
            ]
           ],
           "sequentialminus": [
            [
             0,
             "#000011"
            ],
            [
             0.1111111111111111,
             "#000012"
            ],
            [
             0.2222222222222222,
             "#000013"
            ],
            [
             0.3333333333333333,
             "#000014"
            ],
            [
             0.4444444444444444,
             "#000015"
            ],
            [
             0.5555555555555556,
             "#000016"
            ],
            [
             0.6666666666666666,
             "#000017"
            ],
            [
             0.7777777777777778,
             "#000018"
            ],
            [
             0.8888888888888888,
             "#000019"
            ],
            [
             1,
             "#000020"
            ]
           ]
          },
          "colorway": [
           "#000001",
           "#000002",
           "#000003",
           "#000004",
           "#000005",
           "#000006",
           "#000007",
           "#000008",
           "#000009",
           "#000010"
          ]
         }
        },
        "xaxis": {
         "anchor": "y",
         "domain": [
          0,
          1
         ],
         "title": {
          "text": "Datas"
         }
        },
        "yaxis": {
         "anchor": "x",
         "domain": [
          0,
          1
         ],
         "title": {
          "text": "ROE Pão de Açúcar"
         }
        }
       }
      }
     },
     "metadata": {},
     "output_type": "display_data"
    }
   ],
   "source": [
    "px.bar(data_frame=ROE, x = ROE[\"Datas\"], y = ROE[\"ROE Pão de Açúcar\"])"
   ]
  },
  {
   "cell_type": "code",
   "execution_count": 152,
   "metadata": {},
   "outputs": [
    {
     "data": {
      "application/vnd.plotly.v1+json": {
       "config": {
        "plotlyServerURL": "https://plot.ly"
       },
       "data": [
        {
         "alignmentgroup": "True",
         "hovertemplate": "Datas=%{x}<br>ROE Casas Bahia=%{y}<extra></extra>",
         "legendgroup": "",
         "marker": {
          "color": "#000001",
          "pattern": {
           "shape": ""
          }
         },
         "name": "",
         "offsetgroup": "",
         "orientation": "v",
         "showlegend": false,
         "textposition": "auto",
         "type": "bar",
         "x": [
          "2023-12-31",
          "2022-12-31",
          "2021-12-31",
          "2020-12-31"
         ],
         "xaxis": "x",
         "y": [
          -75.9988419224088,
          -6.472369417108251,
          -5.2687599787120805,
          16.792105703294865
         ],
         "yaxis": "y"
        }
       ],
       "layout": {
        "barmode": "relative",
        "legend": {
         "tracegroupgap": 0
        },
        "margin": {
         "t": 60
        },
        "template": {
         "data": {
          "candlestick": [
           {
            "decreasing": {
             "line": {
              "color": "#000033"
             }
            },
            "increasing": {
             "line": {
              "color": "#000032"
             }
            },
            "type": "candlestick"
           }
          ],
          "contour": [
           {
            "colorscale": [
             [
              0,
              "#000011"
             ],
             [
              0.1111111111111111,
              "#000012"
             ],
             [
              0.2222222222222222,
              "#000013"
             ],
             [
              0.3333333333333333,
              "#000014"
             ],
             [
              0.4444444444444444,
              "#000015"
             ],
             [
              0.5555555555555556,
              "#000016"
             ],
             [
              0.6666666666666666,
              "#000017"
             ],
             [
              0.7777777777777778,
              "#000018"
             ],
             [
              0.8888888888888888,
              "#000019"
             ],
             [
              1,
              "#000020"
             ]
            ],
            "type": "contour"
           }
          ],
          "contourcarpet": [
           {
            "colorscale": [
             [
              0,
              "#000011"
             ],
             [
              0.1111111111111111,
              "#000012"
             ],
             [
              0.2222222222222222,
              "#000013"
             ],
             [
              0.3333333333333333,
              "#000014"
             ],
             [
              0.4444444444444444,
              "#000015"
             ],
             [
              0.5555555555555556,
              "#000016"
             ],
             [
              0.6666666666666666,
              "#000017"
             ],
             [
              0.7777777777777778,
              "#000018"
             ],
             [
              0.8888888888888888,
              "#000019"
             ],
             [
              1,
              "#000020"
             ]
            ],
            "type": "contourcarpet"
           }
          ],
          "heatmap": [
           {
            "colorscale": [
             [
              0,
              "#000011"
             ],
             [
              0.1111111111111111,
              "#000012"
             ],
             [
              0.2222222222222222,
              "#000013"
             ],
             [
              0.3333333333333333,
              "#000014"
             ],
             [
              0.4444444444444444,
              "#000015"
             ],
             [
              0.5555555555555556,
              "#000016"
             ],
             [
              0.6666666666666666,
              "#000017"
             ],
             [
              0.7777777777777778,
              "#000018"
             ],
             [
              0.8888888888888888,
              "#000019"
             ],
             [
              1,
              "#000020"
             ]
            ],
            "type": "heatmap"
           }
          ],
          "histogram2d": [
           {
            "colorscale": [
             [
              0,
              "#000011"
             ],
             [
              0.1111111111111111,
              "#000012"
             ],
             [
              0.2222222222222222,
              "#000013"
             ],
             [
              0.3333333333333333,
              "#000014"
             ],
             [
              0.4444444444444444,
              "#000015"
             ],
             [
              0.5555555555555556,
              "#000016"
             ],
             [
              0.6666666666666666,
              "#000017"
             ],
             [
              0.7777777777777778,
              "#000018"
             ],
             [
              0.8888888888888888,
              "#000019"
             ],
             [
              1,
              "#000020"
             ]
            ],
            "type": "histogram2d"
           }
          ],
          "icicle": [
           {
            "textfont": {
             "color": "white"
            },
            "type": "icicle"
           }
          ],
          "sankey": [
           {
            "textfont": {
             "color": "#000036"
            },
            "type": "sankey"
           }
          ],
          "scatter": [
           {
            "marker": {
             "line": {
              "width": 0
             }
            },
            "type": "scatter"
           }
          ],
          "table": [
           {
            "cells": {
             "fill": {
              "color": "#000038"
             },
             "font": {
              "color": "#000037"
             },
             "line": {
              "color": "#000039"
             }
            },
            "header": {
             "fill": {
              "color": "#000040"
             },
             "font": {
              "color": "#000036"
             },
             "line": {
              "color": "#000039"
             }
            },
            "type": "table"
           }
          ],
          "waterfall": [
           {
            "connector": {
             "line": {
              "color": "#000036",
              "width": 2
             }
            },
            "decreasing": {
             "marker": {
              "color": "#000033"
             }
            },
            "increasing": {
             "marker": {
              "color": "#000032"
             }
            },
            "totals": {
             "marker": {
              "color": "#000034"
             }
            },
            "type": "waterfall"
           }
          ]
         },
         "layout": {
          "coloraxis": {
           "colorscale": [
            [
             0,
             "#000011"
            ],
            [
             0.1111111111111111,
             "#000012"
            ],
            [
             0.2222222222222222,
             "#000013"
            ],
            [
             0.3333333333333333,
             "#000014"
            ],
            [
             0.4444444444444444,
             "#000015"
            ],
            [
             0.5555555555555556,
             "#000016"
            ],
            [
             0.6666666666666666,
             "#000017"
            ],
            [
             0.7777777777777778,
             "#000018"
            ],
            [
             0.8888888888888888,
             "#000019"
            ],
            [
             1,
             "#000020"
            ]
           ]
          },
          "colorscale": {
           "diverging": [
            [
             0,
             "#000021"
            ],
            [
             0.1,
             "#000022"
            ],
            [
             0.2,
             "#000023"
            ],
            [
             0.3,
             "#000024"
            ],
            [
             0.4,
             "#000025"
            ],
            [
             0.5,
             "#000026"
            ],
            [
             0.6,
             "#000027"
            ],
            [
             0.7,
             "#000028"
            ],
            [
             0.8,
             "#000029"
            ],
            [
             0.9,
             "#000030"
            ],
            [
             1,
             "#000031"
            ]
           ],
           "sequential": [
            [
             0,
             "#000011"
            ],
            [
             0.1111111111111111,
             "#000012"
            ],
            [
             0.2222222222222222,
             "#000013"
            ],
            [
             0.3333333333333333,
             "#000014"
            ],
            [
             0.4444444444444444,
             "#000015"
            ],
            [
             0.5555555555555556,
             "#000016"
            ],
            [
             0.6666666666666666,
             "#000017"
            ],
            [
             0.7777777777777778,
             "#000018"
            ],
            [
             0.8888888888888888,
             "#000019"
            ],
            [
             1,
             "#000020"
            ]
           ],
           "sequentialminus": [
            [
             0,
             "#000011"
            ],
            [
             0.1111111111111111,
             "#000012"
            ],
            [
             0.2222222222222222,
             "#000013"
            ],
            [
             0.3333333333333333,
             "#000014"
            ],
            [
             0.4444444444444444,
             "#000015"
            ],
            [
             0.5555555555555556,
             "#000016"
            ],
            [
             0.6666666666666666,
             "#000017"
            ],
            [
             0.7777777777777778,
             "#000018"
            ],
            [
             0.8888888888888888,
             "#000019"
            ],
            [
             1,
             "#000020"
            ]
           ]
          },
          "colorway": [
           "#000001",
           "#000002",
           "#000003",
           "#000004",
           "#000005",
           "#000006",
           "#000007",
           "#000008",
           "#000009",
           "#000010"
          ]
         }
        },
        "xaxis": {
         "anchor": "y",
         "domain": [
          0,
          1
         ],
         "title": {
          "text": "Datas"
         }
        },
        "yaxis": {
         "anchor": "x",
         "domain": [
          0,
          1
         ],
         "title": {
          "text": "ROE Casas Bahia"
         }
        }
       }
      }
     },
     "metadata": {},
     "output_type": "display_data"
    }
   ],
   "source": [
    "px.bar(data_frame=ROE, x = ROE[\"Datas\"], y = ROE[\"ROE Casas Bahia\"])"
   ]
  },
  {
   "cell_type": "markdown",
   "metadata": {},
   "source": [
    "## Analisando o ROE\n",
    "#### Como podemos ver o ROE das empresas do varejo analisadas renderam abaixo da taxa de juros ou ainda apenas um pouco acima da taxa de juros do período, o que significa que para o investidor, seria muito mais vantajoso investir em outras empresas do mercado, podendo ser de outros setores, ou simplesmente investir em títulos do governo, mostrando que essas empresas não são muito boas para investir. É interessante observar o caso da Casas Bahia que o ROE do final de 2023 foi de -75%, o que faz novamente ser uma empresa em que não se observa um motivo bom para se investir justificando também seu preço de mercado que é de 6 reais, ou seja, o mercado de varejo está bem prejudicado."
   ]
  },
  {
   "cell_type": "markdown",
   "metadata": {},
   "source": [
    "## ROA\n",
    "##### O ROA, que é o Return on Assets, é uma medida que os investidores podem utilizar para saber o quanto de fato, uma empresa, é capaz de administrar eficientemente os ativos que ela possuí. Ele é a relação do lucro líquido com o total de ativos da empresa"
   ]
  },
  {
   "cell_type": "code",
   "execution_count": 153,
   "metadata": {},
   "outputs": [
    {
     "data": {
      "text/html": [
       "<div>\n",
       "<style scoped>\n",
       "    .dataframe tbody tr th:only-of-type {\n",
       "        vertical-align: middle;\n",
       "    }\n",
       "\n",
       "    .dataframe tbody tr th {\n",
       "        vertical-align: top;\n",
       "    }\n",
       "\n",
       "    .dataframe thead th {\n",
       "        text-align: right;\n",
       "    }\n",
       "</style>\n",
       "<table border=\"1\" class=\"dataframe\">\n",
       "  <thead>\n",
       "    <tr style=\"text-align: right;\">\n",
       "      <th></th>\n",
       "      <th>Datas</th>\n",
       "      <th>ROA Magazine luiza</th>\n",
       "      <th>ROA Grupo Boticario</th>\n",
       "      <th>ROA Pão de Açúcar</th>\n",
       "      <th>ROA Casas Bahia</th>\n",
       "    </tr>\n",
       "  </thead>\n",
       "  <tbody>\n",
       "    <tr>\n",
       "      <th>0</th>\n",
       "      <td>2023-12-31</td>\n",
       "      <td>-2.614076</td>\n",
       "      <td>6.956582</td>\n",
       "      <td>-10.299320</td>\n",
       "      <td>-8.204151</td>\n",
       "    </tr>\n",
       "    <tr>\n",
       "      <th>1</th>\n",
       "      <td>2022-12-31</td>\n",
       "      <td>-1.321234</td>\n",
       "      <td>-5.229238</td>\n",
       "      <td>-0.392345</td>\n",
       "      <td>-0.961376</td>\n",
       "    </tr>\n",
       "    <tr>\n",
       "      <th>2</th>\n",
       "      <td>2021-12-31</td>\n",
       "      <td>1.538796</td>\n",
       "      <td>1.733641</td>\n",
       "      <td>1.622070</td>\n",
       "      <td>-0.840407</td>\n",
       "    </tr>\n",
       "    <tr>\n",
       "      <th>3</th>\n",
       "      <td>2020-12-31</td>\n",
       "      <td>1.589263</td>\n",
       "      <td>-1.067337</td>\n",
       "      <td>4.072060</td>\n",
       "      <td>3.037270</td>\n",
       "    </tr>\n",
       "  </tbody>\n",
       "</table>\n",
       "</div>"
      ],
      "text/plain": [
       "        Datas  ROA Magazine luiza  ROA Grupo Boticario  ROA Pão de Açúcar  \\\n",
       "0  2023-12-31           -2.614076             6.956582         -10.299320   \n",
       "1  2022-12-31           -1.321234            -5.229238          -0.392345   \n",
       "2  2021-12-31            1.538796             1.733641           1.622070   \n",
       "3  2020-12-31            1.589263            -1.067337           4.072060   \n",
       "\n",
       "   ROA Casas Bahia  \n",
       "0        -8.204151  \n",
       "1        -0.961376  \n",
       "2        -0.840407  \n",
       "3         3.037270  "
      ]
     },
     "execution_count": 153,
     "metadata": {},
     "output_type": "execute_result"
    }
   ],
   "source": [
    "ROA = pd.DataFrame({\n",
    "    \"Datas\": [\"2023-12-31\", \"2022-12-31\", \"2021-12-31\", \"2020-12-31\"],\n",
    "    \"ROA Magazine luiza\": calculaROA(Magazine_luiza),\n",
    "    \"ROA Grupo Boticario\": calculaROA(Grupo_Boticario),\n",
    "    \"ROA Pão de Açúcar\": calculaROA(Pão_de_açúcar),\n",
    "    \"ROA Casas Bahia\": calculaROA(Casas_bahia)\n",
    "})\n",
    "\n",
    "ROA"
   ]
  },
  {
   "cell_type": "code",
   "execution_count": 154,
   "metadata": {},
   "outputs": [
    {
     "data": {
      "application/vnd.plotly.v1+json": {
       "config": {
        "plotlyServerURL": "https://plot.ly"
       },
       "data": [
        {
         "alignmentgroup": "True",
         "hovertemplate": "Datas=%{x}<br>ROA Magazine luiza=%{y}<extra></extra>",
         "legendgroup": "",
         "marker": {
          "color": "#000001",
          "pattern": {
           "shape": ""
          }
         },
         "name": "",
         "offsetgroup": "",
         "orientation": "v",
         "showlegend": false,
         "textposition": "auto",
         "type": "bar",
         "x": [
          "2023-12-31",
          "2022-12-31",
          "2021-12-31",
          "2020-12-31"
         ],
         "xaxis": "x",
         "y": [
          -2.6140762209823305,
          -1.3212335113910467,
          1.5387961677146906,
          1.589263495740267
         ],
         "yaxis": "y"
        }
       ],
       "layout": {
        "barmode": "relative",
        "legend": {
         "tracegroupgap": 0
        },
        "margin": {
         "t": 60
        },
        "template": {
         "data": {
          "candlestick": [
           {
            "decreasing": {
             "line": {
              "color": "#000033"
             }
            },
            "increasing": {
             "line": {
              "color": "#000032"
             }
            },
            "type": "candlestick"
           }
          ],
          "contour": [
           {
            "colorscale": [
             [
              0,
              "#000011"
             ],
             [
              0.1111111111111111,
              "#000012"
             ],
             [
              0.2222222222222222,
              "#000013"
             ],
             [
              0.3333333333333333,
              "#000014"
             ],
             [
              0.4444444444444444,
              "#000015"
             ],
             [
              0.5555555555555556,
              "#000016"
             ],
             [
              0.6666666666666666,
              "#000017"
             ],
             [
              0.7777777777777778,
              "#000018"
             ],
             [
              0.8888888888888888,
              "#000019"
             ],
             [
              1,
              "#000020"
             ]
            ],
            "type": "contour"
           }
          ],
          "contourcarpet": [
           {
            "colorscale": [
             [
              0,
              "#000011"
             ],
             [
              0.1111111111111111,
              "#000012"
             ],
             [
              0.2222222222222222,
              "#000013"
             ],
             [
              0.3333333333333333,
              "#000014"
             ],
             [
              0.4444444444444444,
              "#000015"
             ],
             [
              0.5555555555555556,
              "#000016"
             ],
             [
              0.6666666666666666,
              "#000017"
             ],
             [
              0.7777777777777778,
              "#000018"
             ],
             [
              0.8888888888888888,
              "#000019"
             ],
             [
              1,
              "#000020"
             ]
            ],
            "type": "contourcarpet"
           }
          ],
          "heatmap": [
           {
            "colorscale": [
             [
              0,
              "#000011"
             ],
             [
              0.1111111111111111,
              "#000012"
             ],
             [
              0.2222222222222222,
              "#000013"
             ],
             [
              0.3333333333333333,
              "#000014"
             ],
             [
              0.4444444444444444,
              "#000015"
             ],
             [
              0.5555555555555556,
              "#000016"
             ],
             [
              0.6666666666666666,
              "#000017"
             ],
             [
              0.7777777777777778,
              "#000018"
             ],
             [
              0.8888888888888888,
              "#000019"
             ],
             [
              1,
              "#000020"
             ]
            ],
            "type": "heatmap"
           }
          ],
          "histogram2d": [
           {
            "colorscale": [
             [
              0,
              "#000011"
             ],
             [
              0.1111111111111111,
              "#000012"
             ],
             [
              0.2222222222222222,
              "#000013"
             ],
             [
              0.3333333333333333,
              "#000014"
             ],
             [
              0.4444444444444444,
              "#000015"
             ],
             [
              0.5555555555555556,
              "#000016"
             ],
             [
              0.6666666666666666,
              "#000017"
             ],
             [
              0.7777777777777778,
              "#000018"
             ],
             [
              0.8888888888888888,
              "#000019"
             ],
             [
              1,
              "#000020"
             ]
            ],
            "type": "histogram2d"
           }
          ],
          "icicle": [
           {
            "textfont": {
             "color": "white"
            },
            "type": "icicle"
           }
          ],
          "sankey": [
           {
            "textfont": {
             "color": "#000036"
            },
            "type": "sankey"
           }
          ],
          "scatter": [
           {
            "marker": {
             "line": {
              "width": 0
             }
            },
            "type": "scatter"
           }
          ],
          "table": [
           {
            "cells": {
             "fill": {
              "color": "#000038"
             },
             "font": {
              "color": "#000037"
             },
             "line": {
              "color": "#000039"
             }
            },
            "header": {
             "fill": {
              "color": "#000040"
             },
             "font": {
              "color": "#000036"
             },
             "line": {
              "color": "#000039"
             }
            },
            "type": "table"
           }
          ],
          "waterfall": [
           {
            "connector": {
             "line": {
              "color": "#000036",
              "width": 2
             }
            },
            "decreasing": {
             "marker": {
              "color": "#000033"
             }
            },
            "increasing": {
             "marker": {
              "color": "#000032"
             }
            },
            "totals": {
             "marker": {
              "color": "#000034"
             }
            },
            "type": "waterfall"
           }
          ]
         },
         "layout": {
          "coloraxis": {
           "colorscale": [
            [
             0,
             "#000011"
            ],
            [
             0.1111111111111111,
             "#000012"
            ],
            [
             0.2222222222222222,
             "#000013"
            ],
            [
             0.3333333333333333,
             "#000014"
            ],
            [
             0.4444444444444444,
             "#000015"
            ],
            [
             0.5555555555555556,
             "#000016"
            ],
            [
             0.6666666666666666,
             "#000017"
            ],
            [
             0.7777777777777778,
             "#000018"
            ],
            [
             0.8888888888888888,
             "#000019"
            ],
            [
             1,
             "#000020"
            ]
           ]
          },
          "colorscale": {
           "diverging": [
            [
             0,
             "#000021"
            ],
            [
             0.1,
             "#000022"
            ],
            [
             0.2,
             "#000023"
            ],
            [
             0.3,
             "#000024"
            ],
            [
             0.4,
             "#000025"
            ],
            [
             0.5,
             "#000026"
            ],
            [
             0.6,
             "#000027"
            ],
            [
             0.7,
             "#000028"
            ],
            [
             0.8,
             "#000029"
            ],
            [
             0.9,
             "#000030"
            ],
            [
             1,
             "#000031"
            ]
           ],
           "sequential": [
            [
             0,
             "#000011"
            ],
            [
             0.1111111111111111,
             "#000012"
            ],
            [
             0.2222222222222222,
             "#000013"
            ],
            [
             0.3333333333333333,
             "#000014"
            ],
            [
             0.4444444444444444,
             "#000015"
            ],
            [
             0.5555555555555556,
             "#000016"
            ],
            [
             0.6666666666666666,
             "#000017"
            ],
            [
             0.7777777777777778,
             "#000018"
            ],
            [
             0.8888888888888888,
             "#000019"
            ],
            [
             1,
             "#000020"
            ]
           ],
           "sequentialminus": [
            [
             0,
             "#000011"
            ],
            [
             0.1111111111111111,
             "#000012"
            ],
            [
             0.2222222222222222,
             "#000013"
            ],
            [
             0.3333333333333333,
             "#000014"
            ],
            [
             0.4444444444444444,
             "#000015"
            ],
            [
             0.5555555555555556,
             "#000016"
            ],
            [
             0.6666666666666666,
             "#000017"
            ],
            [
             0.7777777777777778,
             "#000018"
            ],
            [
             0.8888888888888888,
             "#000019"
            ],
            [
             1,
             "#000020"
            ]
           ]
          },
          "colorway": [
           "#000001",
           "#000002",
           "#000003",
           "#000004",
           "#000005",
           "#000006",
           "#000007",
           "#000008",
           "#000009",
           "#000010"
          ]
         }
        },
        "xaxis": {
         "anchor": "y",
         "domain": [
          0,
          1
         ],
         "title": {
          "text": "Datas"
         }
        },
        "yaxis": {
         "anchor": "x",
         "domain": [
          0,
          1
         ],
         "title": {
          "text": "ROA Magazine luiza"
         }
        }
       }
      }
     },
     "metadata": {},
     "output_type": "display_data"
    }
   ],
   "source": [
    "px.bar(data_frame=ROA, x = ROA[\"Datas\"], y = ROA[\"ROA Magazine luiza\"])"
   ]
  },
  {
   "cell_type": "code",
   "execution_count": 155,
   "metadata": {},
   "outputs": [
    {
     "data": {
      "application/vnd.plotly.v1+json": {
       "config": {
        "plotlyServerURL": "https://plot.ly"
       },
       "data": [
        {
         "alignmentgroup": "True",
         "hovertemplate": "Datas=%{x}<br>ROA Grupo Boticario=%{y}<extra></extra>",
         "legendgroup": "",
         "marker": {
          "color": "#000001",
          "pattern": {
           "shape": ""
          }
         },
         "name": "",
         "offsetgroup": "",
         "orientation": "v",
         "showlegend": false,
         "textposition": "auto",
         "type": "bar",
         "x": [
          "2023-12-31",
          "2022-12-31",
          "2021-12-31",
          "2020-12-31"
         ],
         "xaxis": "x",
         "y": [
          6.9565816466950965,
          -5.229237644643295,
          1.7336413200726768,
          -1.0673369141596312
         ],
         "yaxis": "y"
        }
       ],
       "layout": {
        "barmode": "relative",
        "legend": {
         "tracegroupgap": 0
        },
        "margin": {
         "t": 60
        },
        "template": {
         "data": {
          "candlestick": [
           {
            "decreasing": {
             "line": {
              "color": "#000033"
             }
            },
            "increasing": {
             "line": {
              "color": "#000032"
             }
            },
            "type": "candlestick"
           }
          ],
          "contour": [
           {
            "colorscale": [
             [
              0,
              "#000011"
             ],
             [
              0.1111111111111111,
              "#000012"
             ],
             [
              0.2222222222222222,
              "#000013"
             ],
             [
              0.3333333333333333,
              "#000014"
             ],
             [
              0.4444444444444444,
              "#000015"
             ],
             [
              0.5555555555555556,
              "#000016"
             ],
             [
              0.6666666666666666,
              "#000017"
             ],
             [
              0.7777777777777778,
              "#000018"
             ],
             [
              0.8888888888888888,
              "#000019"
             ],
             [
              1,
              "#000020"
             ]
            ],
            "type": "contour"
           }
          ],
          "contourcarpet": [
           {
            "colorscale": [
             [
              0,
              "#000011"
             ],
             [
              0.1111111111111111,
              "#000012"
             ],
             [
              0.2222222222222222,
              "#000013"
             ],
             [
              0.3333333333333333,
              "#000014"
             ],
             [
              0.4444444444444444,
              "#000015"
             ],
             [
              0.5555555555555556,
              "#000016"
             ],
             [
              0.6666666666666666,
              "#000017"
             ],
             [
              0.7777777777777778,
              "#000018"
             ],
             [
              0.8888888888888888,
              "#000019"
             ],
             [
              1,
              "#000020"
             ]
            ],
            "type": "contourcarpet"
           }
          ],
          "heatmap": [
           {
            "colorscale": [
             [
              0,
              "#000011"
             ],
             [
              0.1111111111111111,
              "#000012"
             ],
             [
              0.2222222222222222,
              "#000013"
             ],
             [
              0.3333333333333333,
              "#000014"
             ],
             [
              0.4444444444444444,
              "#000015"
             ],
             [
              0.5555555555555556,
              "#000016"
             ],
             [
              0.6666666666666666,
              "#000017"
             ],
             [
              0.7777777777777778,
              "#000018"
             ],
             [
              0.8888888888888888,
              "#000019"
             ],
             [
              1,
              "#000020"
             ]
            ],
            "type": "heatmap"
           }
          ],
          "histogram2d": [
           {
            "colorscale": [
             [
              0,
              "#000011"
             ],
             [
              0.1111111111111111,
              "#000012"
             ],
             [
              0.2222222222222222,
              "#000013"
             ],
             [
              0.3333333333333333,
              "#000014"
             ],
             [
              0.4444444444444444,
              "#000015"
             ],
             [
              0.5555555555555556,
              "#000016"
             ],
             [
              0.6666666666666666,
              "#000017"
             ],
             [
              0.7777777777777778,
              "#000018"
             ],
             [
              0.8888888888888888,
              "#000019"
             ],
             [
              1,
              "#000020"
             ]
            ],
            "type": "histogram2d"
           }
          ],
          "icicle": [
           {
            "textfont": {
             "color": "white"
            },
            "type": "icicle"
           }
          ],
          "sankey": [
           {
            "textfont": {
             "color": "#000036"
            },
            "type": "sankey"
           }
          ],
          "scatter": [
           {
            "marker": {
             "line": {
              "width": 0
             }
            },
            "type": "scatter"
           }
          ],
          "table": [
           {
            "cells": {
             "fill": {
              "color": "#000038"
             },
             "font": {
              "color": "#000037"
             },
             "line": {
              "color": "#000039"
             }
            },
            "header": {
             "fill": {
              "color": "#000040"
             },
             "font": {
              "color": "#000036"
             },
             "line": {
              "color": "#000039"
             }
            },
            "type": "table"
           }
          ],
          "waterfall": [
           {
            "connector": {
             "line": {
              "color": "#000036",
              "width": 2
             }
            },
            "decreasing": {
             "marker": {
              "color": "#000033"
             }
            },
            "increasing": {
             "marker": {
              "color": "#000032"
             }
            },
            "totals": {
             "marker": {
              "color": "#000034"
             }
            },
            "type": "waterfall"
           }
          ]
         },
         "layout": {
          "coloraxis": {
           "colorscale": [
            [
             0,
             "#000011"
            ],
            [
             0.1111111111111111,
             "#000012"
            ],
            [
             0.2222222222222222,
             "#000013"
            ],
            [
             0.3333333333333333,
             "#000014"
            ],
            [
             0.4444444444444444,
             "#000015"
            ],
            [
             0.5555555555555556,
             "#000016"
            ],
            [
             0.6666666666666666,
             "#000017"
            ],
            [
             0.7777777777777778,
             "#000018"
            ],
            [
             0.8888888888888888,
             "#000019"
            ],
            [
             1,
             "#000020"
            ]
           ]
          },
          "colorscale": {
           "diverging": [
            [
             0,
             "#000021"
            ],
            [
             0.1,
             "#000022"
            ],
            [
             0.2,
             "#000023"
            ],
            [
             0.3,
             "#000024"
            ],
            [
             0.4,
             "#000025"
            ],
            [
             0.5,
             "#000026"
            ],
            [
             0.6,
             "#000027"
            ],
            [
             0.7,
             "#000028"
            ],
            [
             0.8,
             "#000029"
            ],
            [
             0.9,
             "#000030"
            ],
            [
             1,
             "#000031"
            ]
           ],
           "sequential": [
            [
             0,
             "#000011"
            ],
            [
             0.1111111111111111,
             "#000012"
            ],
            [
             0.2222222222222222,
             "#000013"
            ],
            [
             0.3333333333333333,
             "#000014"
            ],
            [
             0.4444444444444444,
             "#000015"
            ],
            [
             0.5555555555555556,
             "#000016"
            ],
            [
             0.6666666666666666,
             "#000017"
            ],
            [
             0.7777777777777778,
             "#000018"
            ],
            [
             0.8888888888888888,
             "#000019"
            ],
            [
             1,
             "#000020"
            ]
           ],
           "sequentialminus": [
            [
             0,
             "#000011"
            ],
            [
             0.1111111111111111,
             "#000012"
            ],
            [
             0.2222222222222222,
             "#000013"
            ],
            [
             0.3333333333333333,
             "#000014"
            ],
            [
             0.4444444444444444,
             "#000015"
            ],
            [
             0.5555555555555556,
             "#000016"
            ],
            [
             0.6666666666666666,
             "#000017"
            ],
            [
             0.7777777777777778,
             "#000018"
            ],
            [
             0.8888888888888888,
             "#000019"
            ],
            [
             1,
             "#000020"
            ]
           ]
          },
          "colorway": [
           "#000001",
           "#000002",
           "#000003",
           "#000004",
           "#000005",
           "#000006",
           "#000007",
           "#000008",
           "#000009",
           "#000010"
          ]
         }
        },
        "xaxis": {
         "anchor": "y",
         "domain": [
          0,
          1
         ],
         "title": {
          "text": "Datas"
         }
        },
        "yaxis": {
         "anchor": "x",
         "domain": [
          0,
          1
         ],
         "title": {
          "text": "ROA Grupo Boticario"
         }
        }
       }
      }
     },
     "metadata": {},
     "output_type": "display_data"
    }
   ],
   "source": [
    "px.bar(data_frame=ROA, x = ROA[\"Datas\"], y = ROA[\"ROA Grupo Boticario\"])"
   ]
  },
  {
   "cell_type": "code",
   "execution_count": 156,
   "metadata": {},
   "outputs": [
    {
     "data": {
      "application/vnd.plotly.v1+json": {
       "config": {
        "plotlyServerURL": "https://plot.ly"
       },
       "data": [
        {
         "alignmentgroup": "True",
         "hovertemplate": "Datas=%{x}<br>ROA Pão de Açúcar=%{y}<extra></extra>",
         "legendgroup": "",
         "marker": {
          "color": "#000001",
          "pattern": {
           "shape": ""
          }
         },
         "name": "",
         "offsetgroup": "",
         "orientation": "v",
         "showlegend": false,
         "textposition": "auto",
         "type": "bar",
         "x": [
          "2023-12-31",
          "2022-12-31",
          "2021-12-31",
          "2020-12-31"
         ],
         "xaxis": "x",
         "y": [
          -10.299319727891158,
          -0.39234471589224207,
          1.6220698582205773,
          4.072059950290594
         ],
         "yaxis": "y"
        }
       ],
       "layout": {
        "barmode": "relative",
        "legend": {
         "tracegroupgap": 0
        },
        "margin": {
         "t": 60
        },
        "template": {
         "data": {
          "candlestick": [
           {
            "decreasing": {
             "line": {
              "color": "#000033"
             }
            },
            "increasing": {
             "line": {
              "color": "#000032"
             }
            },
            "type": "candlestick"
           }
          ],
          "contour": [
           {
            "colorscale": [
             [
              0,
              "#000011"
             ],
             [
              0.1111111111111111,
              "#000012"
             ],
             [
              0.2222222222222222,
              "#000013"
             ],
             [
              0.3333333333333333,
              "#000014"
             ],
             [
              0.4444444444444444,
              "#000015"
             ],
             [
              0.5555555555555556,
              "#000016"
             ],
             [
              0.6666666666666666,
              "#000017"
             ],
             [
              0.7777777777777778,
              "#000018"
             ],
             [
              0.8888888888888888,
              "#000019"
             ],
             [
              1,
              "#000020"
             ]
            ],
            "type": "contour"
           }
          ],
          "contourcarpet": [
           {
            "colorscale": [
             [
              0,
              "#000011"
             ],
             [
              0.1111111111111111,
              "#000012"
             ],
             [
              0.2222222222222222,
              "#000013"
             ],
             [
              0.3333333333333333,
              "#000014"
             ],
             [
              0.4444444444444444,
              "#000015"
             ],
             [
              0.5555555555555556,
              "#000016"
             ],
             [
              0.6666666666666666,
              "#000017"
             ],
             [
              0.7777777777777778,
              "#000018"
             ],
             [
              0.8888888888888888,
              "#000019"
             ],
             [
              1,
              "#000020"
             ]
            ],
            "type": "contourcarpet"
           }
          ],
          "heatmap": [
           {
            "colorscale": [
             [
              0,
              "#000011"
             ],
             [
              0.1111111111111111,
              "#000012"
             ],
             [
              0.2222222222222222,
              "#000013"
             ],
             [
              0.3333333333333333,
              "#000014"
             ],
             [
              0.4444444444444444,
              "#000015"
             ],
             [
              0.5555555555555556,
              "#000016"
             ],
             [
              0.6666666666666666,
              "#000017"
             ],
             [
              0.7777777777777778,
              "#000018"
             ],
             [
              0.8888888888888888,
              "#000019"
             ],
             [
              1,
              "#000020"
             ]
            ],
            "type": "heatmap"
           }
          ],
          "histogram2d": [
           {
            "colorscale": [
             [
              0,
              "#000011"
             ],
             [
              0.1111111111111111,
              "#000012"
             ],
             [
              0.2222222222222222,
              "#000013"
             ],
             [
              0.3333333333333333,
              "#000014"
             ],
             [
              0.4444444444444444,
              "#000015"
             ],
             [
              0.5555555555555556,
              "#000016"
             ],
             [
              0.6666666666666666,
              "#000017"
             ],
             [
              0.7777777777777778,
              "#000018"
             ],
             [
              0.8888888888888888,
              "#000019"
             ],
             [
              1,
              "#000020"
             ]
            ],
            "type": "histogram2d"
           }
          ],
          "icicle": [
           {
            "textfont": {
             "color": "white"
            },
            "type": "icicle"
           }
          ],
          "sankey": [
           {
            "textfont": {
             "color": "#000036"
            },
            "type": "sankey"
           }
          ],
          "scatter": [
           {
            "marker": {
             "line": {
              "width": 0
             }
            },
            "type": "scatter"
           }
          ],
          "table": [
           {
            "cells": {
             "fill": {
              "color": "#000038"
             },
             "font": {
              "color": "#000037"
             },
             "line": {
              "color": "#000039"
             }
            },
            "header": {
             "fill": {
              "color": "#000040"
             },
             "font": {
              "color": "#000036"
             },
             "line": {
              "color": "#000039"
             }
            },
            "type": "table"
           }
          ],
          "waterfall": [
           {
            "connector": {
             "line": {
              "color": "#000036",
              "width": 2
             }
            },
            "decreasing": {
             "marker": {
              "color": "#000033"
             }
            },
            "increasing": {
             "marker": {
              "color": "#000032"
             }
            },
            "totals": {
             "marker": {
              "color": "#000034"
             }
            },
            "type": "waterfall"
           }
          ]
         },
         "layout": {
          "coloraxis": {
           "colorscale": [
            [
             0,
             "#000011"
            ],
            [
             0.1111111111111111,
             "#000012"
            ],
            [
             0.2222222222222222,
             "#000013"
            ],
            [
             0.3333333333333333,
             "#000014"
            ],
            [
             0.4444444444444444,
             "#000015"
            ],
            [
             0.5555555555555556,
             "#000016"
            ],
            [
             0.6666666666666666,
             "#000017"
            ],
            [
             0.7777777777777778,
             "#000018"
            ],
            [
             0.8888888888888888,
             "#000019"
            ],
            [
             1,
             "#000020"
            ]
           ]
          },
          "colorscale": {
           "diverging": [
            [
             0,
             "#000021"
            ],
            [
             0.1,
             "#000022"
            ],
            [
             0.2,
             "#000023"
            ],
            [
             0.3,
             "#000024"
            ],
            [
             0.4,
             "#000025"
            ],
            [
             0.5,
             "#000026"
            ],
            [
             0.6,
             "#000027"
            ],
            [
             0.7,
             "#000028"
            ],
            [
             0.8,
             "#000029"
            ],
            [
             0.9,
             "#000030"
            ],
            [
             1,
             "#000031"
            ]
           ],
           "sequential": [
            [
             0,
             "#000011"
            ],
            [
             0.1111111111111111,
             "#000012"
            ],
            [
             0.2222222222222222,
             "#000013"
            ],
            [
             0.3333333333333333,
             "#000014"
            ],
            [
             0.4444444444444444,
             "#000015"
            ],
            [
             0.5555555555555556,
             "#000016"
            ],
            [
             0.6666666666666666,
             "#000017"
            ],
            [
             0.7777777777777778,
             "#000018"
            ],
            [
             0.8888888888888888,
             "#000019"
            ],
            [
             1,
             "#000020"
            ]
           ],
           "sequentialminus": [
            [
             0,
             "#000011"
            ],
            [
             0.1111111111111111,
             "#000012"
            ],
            [
             0.2222222222222222,
             "#000013"
            ],
            [
             0.3333333333333333,
             "#000014"
            ],
            [
             0.4444444444444444,
             "#000015"
            ],
            [
             0.5555555555555556,
             "#000016"
            ],
            [
             0.6666666666666666,
             "#000017"
            ],
            [
             0.7777777777777778,
             "#000018"
            ],
            [
             0.8888888888888888,
             "#000019"
            ],
            [
             1,
             "#000020"
            ]
           ]
          },
          "colorway": [
           "#000001",
           "#000002",
           "#000003",
           "#000004",
           "#000005",
           "#000006",
           "#000007",
           "#000008",
           "#000009",
           "#000010"
          ]
         }
        },
        "xaxis": {
         "anchor": "y",
         "domain": [
          0,
          1
         ],
         "title": {
          "text": "Datas"
         }
        },
        "yaxis": {
         "anchor": "x",
         "domain": [
          0,
          1
         ],
         "title": {
          "text": "ROA Pão de Açúcar"
         }
        }
       }
      }
     },
     "metadata": {},
     "output_type": "display_data"
    }
   ],
   "source": [
    "px.bar(data_frame=ROA, x = ROA[\"Datas\"], y = ROA[\"ROA Pão de Açúcar\"])"
   ]
  },
  {
   "cell_type": "code",
   "execution_count": 157,
   "metadata": {},
   "outputs": [
    {
     "data": {
      "application/vnd.plotly.v1+json": {
       "config": {
        "plotlyServerURL": "https://plot.ly"
       },
       "data": [
        {
         "alignmentgroup": "True",
         "hovertemplate": "Datas=%{x}<br>ROA Casas Bahia=%{y}<extra></extra>",
         "legendgroup": "",
         "marker": {
          "color": "#000001",
          "pattern": {
           "shape": ""
          }
         },
         "name": "",
         "offsetgroup": "",
         "orientation": "v",
         "showlegend": false,
         "textposition": "auto",
         "type": "bar",
         "x": [
          "2023-12-31",
          "2022-12-31",
          "2021-12-31",
          "2020-12-31"
         ],
         "xaxis": "x",
         "y": [
          -8.204150518814853,
          -0.9613762860516107,
          -0.8404074702886248,
          3.0372700871248792
         ],
         "yaxis": "y"
        }
       ],
       "layout": {
        "barmode": "relative",
        "legend": {
         "tracegroupgap": 0
        },
        "margin": {
         "t": 60
        },
        "template": {
         "data": {
          "candlestick": [
           {
            "decreasing": {
             "line": {
              "color": "#000033"
             }
            },
            "increasing": {
             "line": {
              "color": "#000032"
             }
            },
            "type": "candlestick"
           }
          ],
          "contour": [
           {
            "colorscale": [
             [
              0,
              "#000011"
             ],
             [
              0.1111111111111111,
              "#000012"
             ],
             [
              0.2222222222222222,
              "#000013"
             ],
             [
              0.3333333333333333,
              "#000014"
             ],
             [
              0.4444444444444444,
              "#000015"
             ],
             [
              0.5555555555555556,
              "#000016"
             ],
             [
              0.6666666666666666,
              "#000017"
             ],
             [
              0.7777777777777778,
              "#000018"
             ],
             [
              0.8888888888888888,
              "#000019"
             ],
             [
              1,
              "#000020"
             ]
            ],
            "type": "contour"
           }
          ],
          "contourcarpet": [
           {
            "colorscale": [
             [
              0,
              "#000011"
             ],
             [
              0.1111111111111111,
              "#000012"
             ],
             [
              0.2222222222222222,
              "#000013"
             ],
             [
              0.3333333333333333,
              "#000014"
             ],
             [
              0.4444444444444444,
              "#000015"
             ],
             [
              0.5555555555555556,
              "#000016"
             ],
             [
              0.6666666666666666,
              "#000017"
             ],
             [
              0.7777777777777778,
              "#000018"
             ],
             [
              0.8888888888888888,
              "#000019"
             ],
             [
              1,
              "#000020"
             ]
            ],
            "type": "contourcarpet"
           }
          ],
          "heatmap": [
           {
            "colorscale": [
             [
              0,
              "#000011"
             ],
             [
              0.1111111111111111,
              "#000012"
             ],
             [
              0.2222222222222222,
              "#000013"
             ],
             [
              0.3333333333333333,
              "#000014"
             ],
             [
              0.4444444444444444,
              "#000015"
             ],
             [
              0.5555555555555556,
              "#000016"
             ],
             [
              0.6666666666666666,
              "#000017"
             ],
             [
              0.7777777777777778,
              "#000018"
             ],
             [
              0.8888888888888888,
              "#000019"
             ],
             [
              1,
              "#000020"
             ]
            ],
            "type": "heatmap"
           }
          ],
          "histogram2d": [
           {
            "colorscale": [
             [
              0,
              "#000011"
             ],
             [
              0.1111111111111111,
              "#000012"
             ],
             [
              0.2222222222222222,
              "#000013"
             ],
             [
              0.3333333333333333,
              "#000014"
             ],
             [
              0.4444444444444444,
              "#000015"
             ],
             [
              0.5555555555555556,
              "#000016"
             ],
             [
              0.6666666666666666,
              "#000017"
             ],
             [
              0.7777777777777778,
              "#000018"
             ],
             [
              0.8888888888888888,
              "#000019"
             ],
             [
              1,
              "#000020"
             ]
            ],
            "type": "histogram2d"
           }
          ],
          "icicle": [
           {
            "textfont": {
             "color": "white"
            },
            "type": "icicle"
           }
          ],
          "sankey": [
           {
            "textfont": {
             "color": "#000036"
            },
            "type": "sankey"
           }
          ],
          "scatter": [
           {
            "marker": {
             "line": {
              "width": 0
             }
            },
            "type": "scatter"
           }
          ],
          "table": [
           {
            "cells": {
             "fill": {
              "color": "#000038"
             },
             "font": {
              "color": "#000037"
             },
             "line": {
              "color": "#000039"
             }
            },
            "header": {
             "fill": {
              "color": "#000040"
             },
             "font": {
              "color": "#000036"
             },
             "line": {
              "color": "#000039"
             }
            },
            "type": "table"
           }
          ],
          "waterfall": [
           {
            "connector": {
             "line": {
              "color": "#000036",
              "width": 2
             }
            },
            "decreasing": {
             "marker": {
              "color": "#000033"
             }
            },
            "increasing": {
             "marker": {
              "color": "#000032"
             }
            },
            "totals": {
             "marker": {
              "color": "#000034"
             }
            },
            "type": "waterfall"
           }
          ]
         },
         "layout": {
          "coloraxis": {
           "colorscale": [
            [
             0,
             "#000011"
            ],
            [
             0.1111111111111111,
             "#000012"
            ],
            [
             0.2222222222222222,
             "#000013"
            ],
            [
             0.3333333333333333,
             "#000014"
            ],
            [
             0.4444444444444444,
             "#000015"
            ],
            [
             0.5555555555555556,
             "#000016"
            ],
            [
             0.6666666666666666,
             "#000017"
            ],
            [
             0.7777777777777778,
             "#000018"
            ],
            [
             0.8888888888888888,
             "#000019"
            ],
            [
             1,
             "#000020"
            ]
           ]
          },
          "colorscale": {
           "diverging": [
            [
             0,
             "#000021"
            ],
            [
             0.1,
             "#000022"
            ],
            [
             0.2,
             "#000023"
            ],
            [
             0.3,
             "#000024"
            ],
            [
             0.4,
             "#000025"
            ],
            [
             0.5,
             "#000026"
            ],
            [
             0.6,
             "#000027"
            ],
            [
             0.7,
             "#000028"
            ],
            [
             0.8,
             "#000029"
            ],
            [
             0.9,
             "#000030"
            ],
            [
             1,
             "#000031"
            ]
           ],
           "sequential": [
            [
             0,
             "#000011"
            ],
            [
             0.1111111111111111,
             "#000012"
            ],
            [
             0.2222222222222222,
             "#000013"
            ],
            [
             0.3333333333333333,
             "#000014"
            ],
            [
             0.4444444444444444,
             "#000015"
            ],
            [
             0.5555555555555556,
             "#000016"
            ],
            [
             0.6666666666666666,
             "#000017"
            ],
            [
             0.7777777777777778,
             "#000018"
            ],
            [
             0.8888888888888888,
             "#000019"
            ],
            [
             1,
             "#000020"
            ]
           ],
           "sequentialminus": [
            [
             0,
             "#000011"
            ],
            [
             0.1111111111111111,
             "#000012"
            ],
            [
             0.2222222222222222,
             "#000013"
            ],
            [
             0.3333333333333333,
             "#000014"
            ],
            [
             0.4444444444444444,
             "#000015"
            ],
            [
             0.5555555555555556,
             "#000016"
            ],
            [
             0.6666666666666666,
             "#000017"
            ],
            [
             0.7777777777777778,
             "#000018"
            ],
            [
             0.8888888888888888,
             "#000019"
            ],
            [
             1,
             "#000020"
            ]
           ]
          },
          "colorway": [
           "#000001",
           "#000002",
           "#000003",
           "#000004",
           "#000005",
           "#000006",
           "#000007",
           "#000008",
           "#000009",
           "#000010"
          ]
         }
        },
        "xaxis": {
         "anchor": "y",
         "domain": [
          0,
          1
         ],
         "title": {
          "text": "Datas"
         }
        },
        "yaxis": {
         "anchor": "x",
         "domain": [
          0,
          1
         ],
         "title": {
          "text": "ROA Casas Bahia"
         }
        }
       }
      }
     },
     "metadata": {},
     "output_type": "display_data"
    }
   ],
   "source": [
    "px.bar(data_frame=ROA, x = ROA[\"Datas\"], y = ROA[\"ROA Casas Bahia\"])"
   ]
  },
  {
   "cell_type": "markdown",
   "metadata": {},
   "source": [
    "## Analisando o ROA\n",
    "#### Como pode-se observar, o retorno sobre os ativos não foram tão altos, o que significa que as empresas não estão administrando tão bem os seus ativos,  que também justifica do por que a empresa não consegue evoluir tão bem em seus resultados, o que reflete também nos preços das ações"
   ]
  },
  {
   "cell_type": "markdown",
   "metadata": {},
   "source": [
    "## Net Debt/EBITDA\n",
    "#### O Net Debt/EBITDA indica em quantas vezes uma empresa deverá aumentar o seu caixa para conseguir pagar as dívidas (em dívida líquida) que ela possui. \n"
   ]
  },
  {
   "cell_type": "code",
   "execution_count": 158,
   "metadata": {},
   "outputs": [
    {
     "data": {
      "text/html": [
       "<div>\n",
       "<style scoped>\n",
       "    .dataframe tbody tr th:only-of-type {\n",
       "        vertical-align: middle;\n",
       "    }\n",
       "\n",
       "    .dataframe tbody tr th {\n",
       "        vertical-align: top;\n",
       "    }\n",
       "\n",
       "    .dataframe thead th {\n",
       "        text-align: right;\n",
       "    }\n",
       "</style>\n",
       "<table border=\"1\" class=\"dataframe\">\n",
       "  <thead>\n",
       "    <tr style=\"text-align: right;\">\n",
       "      <th></th>\n",
       "      <th>Datas</th>\n",
       "      <th>NET EBITIDA Magazine luiza</th>\n",
       "      <th>NET EBITDA Grupo Boticario</th>\n",
       "      <th>NET EBITDA Pão de Açúcar</th>\n",
       "      <th>NET EBITDA Casas Bahia</th>\n",
       "    </tr>\n",
       "  </thead>\n",
       "  <tbody>\n",
       "    <tr>\n",
       "      <th>0</th>\n",
       "      <td>2023-12-31</td>\n",
       "      <td>10.045929</td>\n",
       "      <td>-23.285771</td>\n",
       "      <td>1.054487</td>\n",
       "      <td>-7.017582</td>\n",
       "    </tr>\n",
       "    <tr>\n",
       "      <th>1</th>\n",
       "      <td>2022-12-31</td>\n",
       "      <td>4.302080</td>\n",
       "      <td>35.969396</td>\n",
       "      <td>1.113924</td>\n",
       "      <td>3.875197</td>\n",
       "    </tr>\n",
       "    <tr>\n",
       "      <th>2</th>\n",
       "      <td>2021-12-31</td>\n",
       "      <td>4.242764</td>\n",
       "      <td>4.056843</td>\n",
       "      <td>0.337235</td>\n",
       "      <td>16.867550</td>\n",
       "    </tr>\n",
       "    <tr>\n",
       "      <th>3</th>\n",
       "      <td>2020-12-31</td>\n",
       "      <td>0.004012</td>\n",
       "      <td>2.338024</td>\n",
       "      <td>0.115395</td>\n",
       "      <td>2.315152</td>\n",
       "    </tr>\n",
       "  </tbody>\n",
       "</table>\n",
       "</div>"
      ],
      "text/plain": [
       "        Datas  NET EBITIDA Magazine luiza  NET EBITDA Grupo Boticario  \\\n",
       "0  2023-12-31                   10.045929                  -23.285771   \n",
       "1  2022-12-31                    4.302080                   35.969396   \n",
       "2  2021-12-31                    4.242764                    4.056843   \n",
       "3  2020-12-31                    0.004012                    2.338024   \n",
       "\n",
       "   NET EBITDA Pão de Açúcar  NET EBITDA Casas Bahia  \n",
       "0                  1.054487               -7.017582  \n",
       "1                  1.113924                3.875197  \n",
       "2                  0.337235               16.867550  \n",
       "3                  0.115395                2.315152  "
      ]
     },
     "execution_count": 158,
     "metadata": {},
     "output_type": "execute_result"
    }
   ],
   "source": [
    "Net_EBITDA = pd.DataFrame({\n",
    "    \"Datas\": [\"2023-12-31\", \"2022-12-31\", \"2021-12-31\", \"2020-12-31\"],\n",
    "    \"NET EBITIDA Magazine luiza\": calculaNetEbit(Magazine_luiza),\n",
    "    \"NET EBITDA Grupo Boticario\": calculaNetEbit(Grupo_Boticario),\n",
    "    \"NET EBITDA Pão de Açúcar\": calculaNetEbit(Pão_de_açúcar),\n",
    "    \"NET EBITDA Casas Bahia\": calculaNetEbit(Casas_bahia)\n",
    "})\n",
    "\n",
    "Net_EBITDA"
   ]
  },
  {
   "cell_type": "code",
   "execution_count": 159,
   "metadata": {},
   "outputs": [
    {
     "data": {
      "application/vnd.plotly.v1+json": {
       "config": {
        "plotlyServerURL": "https://plot.ly"
       },
       "data": [
        {
         "hovertemplate": "Datas=%{x}<br>NET EBITIDA Magazine luiza=%{y}<extra></extra>",
         "legendgroup": "",
         "line": {
          "color": "#000001",
          "dash": "solid"
         },
         "marker": {
          "symbol": "circle"
         },
         "mode": "lines",
         "name": "",
         "orientation": "v",
         "showlegend": false,
         "type": "scatter",
         "x": [
          "2023-12-31",
          "2022-12-31",
          "2021-12-31",
          "2020-12-31"
         ],
         "xaxis": "x",
         "y": [
          10.045928679632215,
          4.3020797874243835,
          4.2427637740500685,
          0.004011583391180773
         ],
         "yaxis": "y"
        }
       ],
       "layout": {
        "legend": {
         "tracegroupgap": 0
        },
        "margin": {
         "t": 60
        },
        "template": {
         "data": {
          "candlestick": [
           {
            "decreasing": {
             "line": {
              "color": "#000033"
             }
            },
            "increasing": {
             "line": {
              "color": "#000032"
             }
            },
            "type": "candlestick"
           }
          ],
          "contour": [
           {
            "colorscale": [
             [
              0,
              "#000011"
             ],
             [
              0.1111111111111111,
              "#000012"
             ],
             [
              0.2222222222222222,
              "#000013"
             ],
             [
              0.3333333333333333,
              "#000014"
             ],
             [
              0.4444444444444444,
              "#000015"
             ],
             [
              0.5555555555555556,
              "#000016"
             ],
             [
              0.6666666666666666,
              "#000017"
             ],
             [
              0.7777777777777778,
              "#000018"
             ],
             [
              0.8888888888888888,
              "#000019"
             ],
             [
              1,
              "#000020"
             ]
            ],
            "type": "contour"
           }
          ],
          "contourcarpet": [
           {
            "colorscale": [
             [
              0,
              "#000011"
             ],
             [
              0.1111111111111111,
              "#000012"
             ],
             [
              0.2222222222222222,
              "#000013"
             ],
             [
              0.3333333333333333,
              "#000014"
             ],
             [
              0.4444444444444444,
              "#000015"
             ],
             [
              0.5555555555555556,
              "#000016"
             ],
             [
              0.6666666666666666,
              "#000017"
             ],
             [
              0.7777777777777778,
              "#000018"
             ],
             [
              0.8888888888888888,
              "#000019"
             ],
             [
              1,
              "#000020"
             ]
            ],
            "type": "contourcarpet"
           }
          ],
          "heatmap": [
           {
            "colorscale": [
             [
              0,
              "#000011"
             ],
             [
              0.1111111111111111,
              "#000012"
             ],
             [
              0.2222222222222222,
              "#000013"
             ],
             [
              0.3333333333333333,
              "#000014"
             ],
             [
              0.4444444444444444,
              "#000015"
             ],
             [
              0.5555555555555556,
              "#000016"
             ],
             [
              0.6666666666666666,
              "#000017"
             ],
             [
              0.7777777777777778,
              "#000018"
             ],
             [
              0.8888888888888888,
              "#000019"
             ],
             [
              1,
              "#000020"
             ]
            ],
            "type": "heatmap"
           }
          ],
          "histogram2d": [
           {
            "colorscale": [
             [
              0,
              "#000011"
             ],
             [
              0.1111111111111111,
              "#000012"
             ],
             [
              0.2222222222222222,
              "#000013"
             ],
             [
              0.3333333333333333,
              "#000014"
             ],
             [
              0.4444444444444444,
              "#000015"
             ],
             [
              0.5555555555555556,
              "#000016"
             ],
             [
              0.6666666666666666,
              "#000017"
             ],
             [
              0.7777777777777778,
              "#000018"
             ],
             [
              0.8888888888888888,
              "#000019"
             ],
             [
              1,
              "#000020"
             ]
            ],
            "type": "histogram2d"
           }
          ],
          "icicle": [
           {
            "textfont": {
             "color": "white"
            },
            "type": "icicle"
           }
          ],
          "sankey": [
           {
            "textfont": {
             "color": "#000036"
            },
            "type": "sankey"
           }
          ],
          "scatter": [
           {
            "marker": {
             "line": {
              "width": 0
             }
            },
            "type": "scatter"
           }
          ],
          "table": [
           {
            "cells": {
             "fill": {
              "color": "#000038"
             },
             "font": {
              "color": "#000037"
             },
             "line": {
              "color": "#000039"
             }
            },
            "header": {
             "fill": {
              "color": "#000040"
             },
             "font": {
              "color": "#000036"
             },
             "line": {
              "color": "#000039"
             }
            },
            "type": "table"
           }
          ],
          "waterfall": [
           {
            "connector": {
             "line": {
              "color": "#000036",
              "width": 2
             }
            },
            "decreasing": {
             "marker": {
              "color": "#000033"
             }
            },
            "increasing": {
             "marker": {
              "color": "#000032"
             }
            },
            "totals": {
             "marker": {
              "color": "#000034"
             }
            },
            "type": "waterfall"
           }
          ]
         },
         "layout": {
          "coloraxis": {
           "colorscale": [
            [
             0,
             "#000011"
            ],
            [
             0.1111111111111111,
             "#000012"
            ],
            [
             0.2222222222222222,
             "#000013"
            ],
            [
             0.3333333333333333,
             "#000014"
            ],
            [
             0.4444444444444444,
             "#000015"
            ],
            [
             0.5555555555555556,
             "#000016"
            ],
            [
             0.6666666666666666,
             "#000017"
            ],
            [
             0.7777777777777778,
             "#000018"
            ],
            [
             0.8888888888888888,
             "#000019"
            ],
            [
             1,
             "#000020"
            ]
           ]
          },
          "colorscale": {
           "diverging": [
            [
             0,
             "#000021"
            ],
            [
             0.1,
             "#000022"
            ],
            [
             0.2,
             "#000023"
            ],
            [
             0.3,
             "#000024"
            ],
            [
             0.4,
             "#000025"
            ],
            [
             0.5,
             "#000026"
            ],
            [
             0.6,
             "#000027"
            ],
            [
             0.7,
             "#000028"
            ],
            [
             0.8,
             "#000029"
            ],
            [
             0.9,
             "#000030"
            ],
            [
             1,
             "#000031"
            ]
           ],
           "sequential": [
            [
             0,
             "#000011"
            ],
            [
             0.1111111111111111,
             "#000012"
            ],
            [
             0.2222222222222222,
             "#000013"
            ],
            [
             0.3333333333333333,
             "#000014"
            ],
            [
             0.4444444444444444,
             "#000015"
            ],
            [
             0.5555555555555556,
             "#000016"
            ],
            [
             0.6666666666666666,
             "#000017"
            ],
            [
             0.7777777777777778,
             "#000018"
            ],
            [
             0.8888888888888888,
             "#000019"
            ],
            [
             1,
             "#000020"
            ]
           ],
           "sequentialminus": [
            [
             0,
             "#000011"
            ],
            [
             0.1111111111111111,
             "#000012"
            ],
            [
             0.2222222222222222,
             "#000013"
            ],
            [
             0.3333333333333333,
             "#000014"
            ],
            [
             0.4444444444444444,
             "#000015"
            ],
            [
             0.5555555555555556,
             "#000016"
            ],
            [
             0.6666666666666666,
             "#000017"
            ],
            [
             0.7777777777777778,
             "#000018"
            ],
            [
             0.8888888888888888,
             "#000019"
            ],
            [
             1,
             "#000020"
            ]
           ]
          },
          "colorway": [
           "#000001",
           "#000002",
           "#000003",
           "#000004",
           "#000005",
           "#000006",
           "#000007",
           "#000008",
           "#000009",
           "#000010"
          ]
         }
        },
        "xaxis": {
         "anchor": "y",
         "domain": [
          0,
          1
         ],
         "title": {
          "text": "Datas"
         }
        },
        "yaxis": {
         "anchor": "x",
         "domain": [
          0,
          1
         ],
         "title": {
          "text": "NET EBITIDA Magazine luiza"
         }
        }
       }
      }
     },
     "metadata": {},
     "output_type": "display_data"
    }
   ],
   "source": [
    "px.line(data_frame=Net_EBITDA, x = Net_EBITDA[\"Datas\"], y = Net_EBITDA[\"NET EBITIDA Magazine luiza\"])"
   ]
  },
  {
   "cell_type": "code",
   "execution_count": 160,
   "metadata": {},
   "outputs": [
    {
     "data": {
      "application/vnd.plotly.v1+json": {
       "config": {
        "plotlyServerURL": "https://plot.ly"
       },
       "data": [
        {
         "hovertemplate": "Datas=%{x}<br>NET EBITDA Grupo Boticario=%{y}<extra></extra>",
         "legendgroup": "",
         "line": {
          "color": "#000001",
          "dash": "solid"
         },
         "marker": {
          "symbol": "circle"
         },
         "mode": "lines",
         "name": "",
         "orientation": "v",
         "showlegend": false,
         "type": "scatter",
         "x": [
          "2023-12-31",
          "2022-12-31",
          "2021-12-31",
          "2020-12-31"
         ],
         "xaxis": "x",
         "y": [
          -23.285770649622222,
          35.96939572343993,
          4.056842821110585,
          2.338023752974674
         ],
         "yaxis": "y"
        }
       ],
       "layout": {
        "legend": {
         "tracegroupgap": 0
        },
        "margin": {
         "t": 60
        },
        "template": {
         "data": {
          "candlestick": [
           {
            "decreasing": {
             "line": {
              "color": "#000033"
             }
            },
            "increasing": {
             "line": {
              "color": "#000032"
             }
            },
            "type": "candlestick"
           }
          ],
          "contour": [
           {
            "colorscale": [
             [
              0,
              "#000011"
             ],
             [
              0.1111111111111111,
              "#000012"
             ],
             [
              0.2222222222222222,
              "#000013"
             ],
             [
              0.3333333333333333,
              "#000014"
             ],
             [
              0.4444444444444444,
              "#000015"
             ],
             [
              0.5555555555555556,
              "#000016"
             ],
             [
              0.6666666666666666,
              "#000017"
             ],
             [
              0.7777777777777778,
              "#000018"
             ],
             [
              0.8888888888888888,
              "#000019"
             ],
             [
              1,
              "#000020"
             ]
            ],
            "type": "contour"
           }
          ],
          "contourcarpet": [
           {
            "colorscale": [
             [
              0,
              "#000011"
             ],
             [
              0.1111111111111111,
              "#000012"
             ],
             [
              0.2222222222222222,
              "#000013"
             ],
             [
              0.3333333333333333,
              "#000014"
             ],
             [
              0.4444444444444444,
              "#000015"
             ],
             [
              0.5555555555555556,
              "#000016"
             ],
             [
              0.6666666666666666,
              "#000017"
             ],
             [
              0.7777777777777778,
              "#000018"
             ],
             [
              0.8888888888888888,
              "#000019"
             ],
             [
              1,
              "#000020"
             ]
            ],
            "type": "contourcarpet"
           }
          ],
          "heatmap": [
           {
            "colorscale": [
             [
              0,
              "#000011"
             ],
             [
              0.1111111111111111,
              "#000012"
             ],
             [
              0.2222222222222222,
              "#000013"
             ],
             [
              0.3333333333333333,
              "#000014"
             ],
             [
              0.4444444444444444,
              "#000015"
             ],
             [
              0.5555555555555556,
              "#000016"
             ],
             [
              0.6666666666666666,
              "#000017"
             ],
             [
              0.7777777777777778,
              "#000018"
             ],
             [
              0.8888888888888888,
              "#000019"
             ],
             [
              1,
              "#000020"
             ]
            ],
            "type": "heatmap"
           }
          ],
          "histogram2d": [
           {
            "colorscale": [
             [
              0,
              "#000011"
             ],
             [
              0.1111111111111111,
              "#000012"
             ],
             [
              0.2222222222222222,
              "#000013"
             ],
             [
              0.3333333333333333,
              "#000014"
             ],
             [
              0.4444444444444444,
              "#000015"
             ],
             [
              0.5555555555555556,
              "#000016"
             ],
             [
              0.6666666666666666,
              "#000017"
             ],
             [
              0.7777777777777778,
              "#000018"
             ],
             [
              0.8888888888888888,
              "#000019"
             ],
             [
              1,
              "#000020"
             ]
            ],
            "type": "histogram2d"
           }
          ],
          "icicle": [
           {
            "textfont": {
             "color": "white"
            },
            "type": "icicle"
           }
          ],
          "sankey": [
           {
            "textfont": {
             "color": "#000036"
            },
            "type": "sankey"
           }
          ],
          "scatter": [
           {
            "marker": {
             "line": {
              "width": 0
             }
            },
            "type": "scatter"
           }
          ],
          "table": [
           {
            "cells": {
             "fill": {
              "color": "#000038"
             },
             "font": {
              "color": "#000037"
             },
             "line": {
              "color": "#000039"
             }
            },
            "header": {
             "fill": {
              "color": "#000040"
             },
             "font": {
              "color": "#000036"
             },
             "line": {
              "color": "#000039"
             }
            },
            "type": "table"
           }
          ],
          "waterfall": [
           {
            "connector": {
             "line": {
              "color": "#000036",
              "width": 2
             }
            },
            "decreasing": {
             "marker": {
              "color": "#000033"
             }
            },
            "increasing": {
             "marker": {
              "color": "#000032"
             }
            },
            "totals": {
             "marker": {
              "color": "#000034"
             }
            },
            "type": "waterfall"
           }
          ]
         },
         "layout": {
          "coloraxis": {
           "colorscale": [
            [
             0,
             "#000011"
            ],
            [
             0.1111111111111111,
             "#000012"
            ],
            [
             0.2222222222222222,
             "#000013"
            ],
            [
             0.3333333333333333,
             "#000014"
            ],
            [
             0.4444444444444444,
             "#000015"
            ],
            [
             0.5555555555555556,
             "#000016"
            ],
            [
             0.6666666666666666,
             "#000017"
            ],
            [
             0.7777777777777778,
             "#000018"
            ],
            [
             0.8888888888888888,
             "#000019"
            ],
            [
             1,
             "#000020"
            ]
           ]
          },
          "colorscale": {
           "diverging": [
            [
             0,
             "#000021"
            ],
            [
             0.1,
             "#000022"
            ],
            [
             0.2,
             "#000023"
            ],
            [
             0.3,
             "#000024"
            ],
            [
             0.4,
             "#000025"
            ],
            [
             0.5,
             "#000026"
            ],
            [
             0.6,
             "#000027"
            ],
            [
             0.7,
             "#000028"
            ],
            [
             0.8,
             "#000029"
            ],
            [
             0.9,
             "#000030"
            ],
            [
             1,
             "#000031"
            ]
           ],
           "sequential": [
            [
             0,
             "#000011"
            ],
            [
             0.1111111111111111,
             "#000012"
            ],
            [
             0.2222222222222222,
             "#000013"
            ],
            [
             0.3333333333333333,
             "#000014"
            ],
            [
             0.4444444444444444,
             "#000015"
            ],
            [
             0.5555555555555556,
             "#000016"
            ],
            [
             0.6666666666666666,
             "#000017"
            ],
            [
             0.7777777777777778,
             "#000018"
            ],
            [
             0.8888888888888888,
             "#000019"
            ],
            [
             1,
             "#000020"
            ]
           ],
           "sequentialminus": [
            [
             0,
             "#000011"
            ],
            [
             0.1111111111111111,
             "#000012"
            ],
            [
             0.2222222222222222,
             "#000013"
            ],
            [
             0.3333333333333333,
             "#000014"
            ],
            [
             0.4444444444444444,
             "#000015"
            ],
            [
             0.5555555555555556,
             "#000016"
            ],
            [
             0.6666666666666666,
             "#000017"
            ],
            [
             0.7777777777777778,
             "#000018"
            ],
            [
             0.8888888888888888,
             "#000019"
            ],
            [
             1,
             "#000020"
            ]
           ]
          },
          "colorway": [
           "#000001",
           "#000002",
           "#000003",
           "#000004",
           "#000005",
           "#000006",
           "#000007",
           "#000008",
           "#000009",
           "#000010"
          ]
         }
        },
        "xaxis": {
         "anchor": "y",
         "domain": [
          0,
          1
         ],
         "title": {
          "text": "Datas"
         }
        },
        "yaxis": {
         "anchor": "x",
         "domain": [
          0,
          1
         ],
         "title": {
          "text": "NET EBITDA Grupo Boticario"
         }
        }
       }
      }
     },
     "metadata": {},
     "output_type": "display_data"
    }
   ],
   "source": [
    "px.line(data_frame=Net_EBITDA, x = Net_EBITDA[\"Datas\"], y = Net_EBITDA[\"NET EBITDA Grupo Boticario\"])"
   ]
  },
  {
   "cell_type": "code",
   "execution_count": 161,
   "metadata": {},
   "outputs": [
    {
     "data": {
      "application/vnd.plotly.v1+json": {
       "config": {
        "plotlyServerURL": "https://plot.ly"
       },
       "data": [
        {
         "hovertemplate": "Datas=%{x}<br>NET EBITDA Pão de Açúcar=%{y}<extra></extra>",
         "legendgroup": "",
         "line": {
          "color": "#000001",
          "dash": "solid"
         },
         "marker": {
          "symbol": "circle"
         },
         "mode": "lines",
         "name": "",
         "orientation": "v",
         "showlegend": false,
         "type": "scatter",
         "x": [
          "2023-12-31",
          "2022-12-31",
          "2021-12-31",
          "2020-12-31"
         ],
         "xaxis": "x",
         "y": [
          1.0544871794871795,
          1.1139240506329113,
          0.3372345036844387,
          0.11539470233412012
         ],
         "yaxis": "y"
        }
       ],
       "layout": {
        "legend": {
         "tracegroupgap": 0
        },
        "margin": {
         "t": 60
        },
        "template": {
         "data": {
          "candlestick": [
           {
            "decreasing": {
             "line": {
              "color": "#000033"
             }
            },
            "increasing": {
             "line": {
              "color": "#000032"
             }
            },
            "type": "candlestick"
           }
          ],
          "contour": [
           {
            "colorscale": [
             [
              0,
              "#000011"
             ],
             [
              0.1111111111111111,
              "#000012"
             ],
             [
              0.2222222222222222,
              "#000013"
             ],
             [
              0.3333333333333333,
              "#000014"
             ],
             [
              0.4444444444444444,
              "#000015"
             ],
             [
              0.5555555555555556,
              "#000016"
             ],
             [
              0.6666666666666666,
              "#000017"
             ],
             [
              0.7777777777777778,
              "#000018"
             ],
             [
              0.8888888888888888,
              "#000019"
             ],
             [
              1,
              "#000020"
             ]
            ],
            "type": "contour"
           }
          ],
          "contourcarpet": [
           {
            "colorscale": [
             [
              0,
              "#000011"
             ],
             [
              0.1111111111111111,
              "#000012"
             ],
             [
              0.2222222222222222,
              "#000013"
             ],
             [
              0.3333333333333333,
              "#000014"
             ],
             [
              0.4444444444444444,
              "#000015"
             ],
             [
              0.5555555555555556,
              "#000016"
             ],
             [
              0.6666666666666666,
              "#000017"
             ],
             [
              0.7777777777777778,
              "#000018"
             ],
             [
              0.8888888888888888,
              "#000019"
             ],
             [
              1,
              "#000020"
             ]
            ],
            "type": "contourcarpet"
           }
          ],
          "heatmap": [
           {
            "colorscale": [
             [
              0,
              "#000011"
             ],
             [
              0.1111111111111111,
              "#000012"
             ],
             [
              0.2222222222222222,
              "#000013"
             ],
             [
              0.3333333333333333,
              "#000014"
             ],
             [
              0.4444444444444444,
              "#000015"
             ],
             [
              0.5555555555555556,
              "#000016"
             ],
             [
              0.6666666666666666,
              "#000017"
             ],
             [
              0.7777777777777778,
              "#000018"
             ],
             [
              0.8888888888888888,
              "#000019"
             ],
             [
              1,
              "#000020"
             ]
            ],
            "type": "heatmap"
           }
          ],
          "histogram2d": [
           {
            "colorscale": [
             [
              0,
              "#000011"
             ],
             [
              0.1111111111111111,
              "#000012"
             ],
             [
              0.2222222222222222,
              "#000013"
             ],
             [
              0.3333333333333333,
              "#000014"
             ],
             [
              0.4444444444444444,
              "#000015"
             ],
             [
              0.5555555555555556,
              "#000016"
             ],
             [
              0.6666666666666666,
              "#000017"
             ],
             [
              0.7777777777777778,
              "#000018"
             ],
             [
              0.8888888888888888,
              "#000019"
             ],
             [
              1,
              "#000020"
             ]
            ],
            "type": "histogram2d"
           }
          ],
          "icicle": [
           {
            "textfont": {
             "color": "white"
            },
            "type": "icicle"
           }
          ],
          "sankey": [
           {
            "textfont": {
             "color": "#000036"
            },
            "type": "sankey"
           }
          ],
          "scatter": [
           {
            "marker": {
             "line": {
              "width": 0
             }
            },
            "type": "scatter"
           }
          ],
          "table": [
           {
            "cells": {
             "fill": {
              "color": "#000038"
             },
             "font": {
              "color": "#000037"
             },
             "line": {
              "color": "#000039"
             }
            },
            "header": {
             "fill": {
              "color": "#000040"
             },
             "font": {
              "color": "#000036"
             },
             "line": {
              "color": "#000039"
             }
            },
            "type": "table"
           }
          ],
          "waterfall": [
           {
            "connector": {
             "line": {
              "color": "#000036",
              "width": 2
             }
            },
            "decreasing": {
             "marker": {
              "color": "#000033"
             }
            },
            "increasing": {
             "marker": {
              "color": "#000032"
             }
            },
            "totals": {
             "marker": {
              "color": "#000034"
             }
            },
            "type": "waterfall"
           }
          ]
         },
         "layout": {
          "coloraxis": {
           "colorscale": [
            [
             0,
             "#000011"
            ],
            [
             0.1111111111111111,
             "#000012"
            ],
            [
             0.2222222222222222,
             "#000013"
            ],
            [
             0.3333333333333333,
             "#000014"
            ],
            [
             0.4444444444444444,
             "#000015"
            ],
            [
             0.5555555555555556,
             "#000016"
            ],
            [
             0.6666666666666666,
             "#000017"
            ],
            [
             0.7777777777777778,
             "#000018"
            ],
            [
             0.8888888888888888,
             "#000019"
            ],
            [
             1,
             "#000020"
            ]
           ]
          },
          "colorscale": {
           "diverging": [
            [
             0,
             "#000021"
            ],
            [
             0.1,
             "#000022"
            ],
            [
             0.2,
             "#000023"
            ],
            [
             0.3,
             "#000024"
            ],
            [
             0.4,
             "#000025"
            ],
            [
             0.5,
             "#000026"
            ],
            [
             0.6,
             "#000027"
            ],
            [
             0.7,
             "#000028"
            ],
            [
             0.8,
             "#000029"
            ],
            [
             0.9,
             "#000030"
            ],
            [
             1,
             "#000031"
            ]
           ],
           "sequential": [
            [
             0,
             "#000011"
            ],
            [
             0.1111111111111111,
             "#000012"
            ],
            [
             0.2222222222222222,
             "#000013"
            ],
            [
             0.3333333333333333,
             "#000014"
            ],
            [
             0.4444444444444444,
             "#000015"
            ],
            [
             0.5555555555555556,
             "#000016"
            ],
            [
             0.6666666666666666,
             "#000017"
            ],
            [
             0.7777777777777778,
             "#000018"
            ],
            [
             0.8888888888888888,
             "#000019"
            ],
            [
             1,
             "#000020"
            ]
           ],
           "sequentialminus": [
            [
             0,
             "#000011"
            ],
            [
             0.1111111111111111,
             "#000012"
            ],
            [
             0.2222222222222222,
             "#000013"
            ],
            [
             0.3333333333333333,
             "#000014"
            ],
            [
             0.4444444444444444,
             "#000015"
            ],
            [
             0.5555555555555556,
             "#000016"
            ],
            [
             0.6666666666666666,
             "#000017"
            ],
            [
             0.7777777777777778,
             "#000018"
            ],
            [
             0.8888888888888888,
             "#000019"
            ],
            [
             1,
             "#000020"
            ]
           ]
          },
          "colorway": [
           "#000001",
           "#000002",
           "#000003",
           "#000004",
           "#000005",
           "#000006",
           "#000007",
           "#000008",
           "#000009",
           "#000010"
          ]
         }
        },
        "xaxis": {
         "anchor": "y",
         "domain": [
          0,
          1
         ],
         "title": {
          "text": "Datas"
         }
        },
        "yaxis": {
         "anchor": "x",
         "domain": [
          0,
          1
         ],
         "title": {
          "text": "NET EBITDA Pão de Açúcar"
         }
        }
       }
      }
     },
     "metadata": {},
     "output_type": "display_data"
    }
   ],
   "source": [
    "px.line(data_frame=Net_EBITDA, x = Net_EBITDA[\"Datas\"], y = Net_EBITDA[\"NET EBITDA Pão de Açúcar\"])"
   ]
  },
  {
   "cell_type": "code",
   "execution_count": 162,
   "metadata": {},
   "outputs": [
    {
     "data": {
      "application/vnd.plotly.v1+json": {
       "config": {
        "plotlyServerURL": "https://plot.ly"
       },
       "data": [
        {
         "hovertemplate": "Datas=%{x}<br>NET EBITDA Casas Bahia=%{y}<extra></extra>",
         "legendgroup": "",
         "line": {
          "color": "#000001",
          "dash": "solid"
         },
         "marker": {
          "symbol": "circle"
         },
         "mode": "lines",
         "name": "",
         "orientation": "v",
         "showlegend": false,
         "type": "scatter",
         "x": [
          "2023-12-31",
          "2022-12-31",
          "2021-12-31",
          "2020-12-31"
         ],
         "xaxis": "x",
         "y": [
          -7.0175824175824175,
          3.8751974723538702,
          16.867549668874172,
          2.315151515151515
         ],
         "yaxis": "y"
        }
       ],
       "layout": {
        "legend": {
         "tracegroupgap": 0
        },
        "margin": {
         "t": 60
        },
        "template": {
         "data": {
          "candlestick": [
           {
            "decreasing": {
             "line": {
              "color": "#000033"
             }
            },
            "increasing": {
             "line": {
              "color": "#000032"
             }
            },
            "type": "candlestick"
           }
          ],
          "contour": [
           {
            "colorscale": [
             [
              0,
              "#000011"
             ],
             [
              0.1111111111111111,
              "#000012"
             ],
             [
              0.2222222222222222,
              "#000013"
             ],
             [
              0.3333333333333333,
              "#000014"
             ],
             [
              0.4444444444444444,
              "#000015"
             ],
             [
              0.5555555555555556,
              "#000016"
             ],
             [
              0.6666666666666666,
              "#000017"
             ],
             [
              0.7777777777777778,
              "#000018"
             ],
             [
              0.8888888888888888,
              "#000019"
             ],
             [
              1,
              "#000020"
             ]
            ],
            "type": "contour"
           }
          ],
          "contourcarpet": [
           {
            "colorscale": [
             [
              0,
              "#000011"
             ],
             [
              0.1111111111111111,
              "#000012"
             ],
             [
              0.2222222222222222,
              "#000013"
             ],
             [
              0.3333333333333333,
              "#000014"
             ],
             [
              0.4444444444444444,
              "#000015"
             ],
             [
              0.5555555555555556,
              "#000016"
             ],
             [
              0.6666666666666666,
              "#000017"
             ],
             [
              0.7777777777777778,
              "#000018"
             ],
             [
              0.8888888888888888,
              "#000019"
             ],
             [
              1,
              "#000020"
             ]
            ],
            "type": "contourcarpet"
           }
          ],
          "heatmap": [
           {
            "colorscale": [
             [
              0,
              "#000011"
             ],
             [
              0.1111111111111111,
              "#000012"
             ],
             [
              0.2222222222222222,
              "#000013"
             ],
             [
              0.3333333333333333,
              "#000014"
             ],
             [
              0.4444444444444444,
              "#000015"
             ],
             [
              0.5555555555555556,
              "#000016"
             ],
             [
              0.6666666666666666,
              "#000017"
             ],
             [
              0.7777777777777778,
              "#000018"
             ],
             [
              0.8888888888888888,
              "#000019"
             ],
             [
              1,
              "#000020"
             ]
            ],
            "type": "heatmap"
           }
          ],
          "histogram2d": [
           {
            "colorscale": [
             [
              0,
              "#000011"
             ],
             [
              0.1111111111111111,
              "#000012"
             ],
             [
              0.2222222222222222,
              "#000013"
             ],
             [
              0.3333333333333333,
              "#000014"
             ],
             [
              0.4444444444444444,
              "#000015"
             ],
             [
              0.5555555555555556,
              "#000016"
             ],
             [
              0.6666666666666666,
              "#000017"
             ],
             [
              0.7777777777777778,
              "#000018"
             ],
             [
              0.8888888888888888,
              "#000019"
             ],
             [
              1,
              "#000020"
             ]
            ],
            "type": "histogram2d"
           }
          ],
          "icicle": [
           {
            "textfont": {
             "color": "white"
            },
            "type": "icicle"
           }
          ],
          "sankey": [
           {
            "textfont": {
             "color": "#000036"
            },
            "type": "sankey"
           }
          ],
          "scatter": [
           {
            "marker": {
             "line": {
              "width": 0
             }
            },
            "type": "scatter"
           }
          ],
          "table": [
           {
            "cells": {
             "fill": {
              "color": "#000038"
             },
             "font": {
              "color": "#000037"
             },
             "line": {
              "color": "#000039"
             }
            },
            "header": {
             "fill": {
              "color": "#000040"
             },
             "font": {
              "color": "#000036"
             },
             "line": {
              "color": "#000039"
             }
            },
            "type": "table"
           }
          ],
          "waterfall": [
           {
            "connector": {
             "line": {
              "color": "#000036",
              "width": 2
             }
            },
            "decreasing": {
             "marker": {
              "color": "#000033"
             }
            },
            "increasing": {
             "marker": {
              "color": "#000032"
             }
            },
            "totals": {
             "marker": {
              "color": "#000034"
             }
            },
            "type": "waterfall"
           }
          ]
         },
         "layout": {
          "coloraxis": {
           "colorscale": [
            [
             0,
             "#000011"
            ],
            [
             0.1111111111111111,
             "#000012"
            ],
            [
             0.2222222222222222,
             "#000013"
            ],
            [
             0.3333333333333333,
             "#000014"
            ],
            [
             0.4444444444444444,
             "#000015"
            ],
            [
             0.5555555555555556,
             "#000016"
            ],
            [
             0.6666666666666666,
             "#000017"
            ],
            [
             0.7777777777777778,
             "#000018"
            ],
            [
             0.8888888888888888,
             "#000019"
            ],
            [
             1,
             "#000020"
            ]
           ]
          },
          "colorscale": {
           "diverging": [
            [
             0,
             "#000021"
            ],
            [
             0.1,
             "#000022"
            ],
            [
             0.2,
             "#000023"
            ],
            [
             0.3,
             "#000024"
            ],
            [
             0.4,
             "#000025"
            ],
            [
             0.5,
             "#000026"
            ],
            [
             0.6,
             "#000027"
            ],
            [
             0.7,
             "#000028"
            ],
            [
             0.8,
             "#000029"
            ],
            [
             0.9,
             "#000030"
            ],
            [
             1,
             "#000031"
            ]
           ],
           "sequential": [
            [
             0,
             "#000011"
            ],
            [
             0.1111111111111111,
             "#000012"
            ],
            [
             0.2222222222222222,
             "#000013"
            ],
            [
             0.3333333333333333,
             "#000014"
            ],
            [
             0.4444444444444444,
             "#000015"
            ],
            [
             0.5555555555555556,
             "#000016"
            ],
            [
             0.6666666666666666,
             "#000017"
            ],
            [
             0.7777777777777778,
             "#000018"
            ],
            [
             0.8888888888888888,
             "#000019"
            ],
            [
             1,
             "#000020"
            ]
           ],
           "sequentialminus": [
            [
             0,
             "#000011"
            ],
            [
             0.1111111111111111,
             "#000012"
            ],
            [
             0.2222222222222222,
             "#000013"
            ],
            [
             0.3333333333333333,
             "#000014"
            ],
            [
             0.4444444444444444,
             "#000015"
            ],
            [
             0.5555555555555556,
             "#000016"
            ],
            [
             0.6666666666666666,
             "#000017"
            ],
            [
             0.7777777777777778,
             "#000018"
            ],
            [
             0.8888888888888888,
             "#000019"
            ],
            [
             1,
             "#000020"
            ]
           ]
          },
          "colorway": [
           "#000001",
           "#000002",
           "#000003",
           "#000004",
           "#000005",
           "#000006",
           "#000007",
           "#000008",
           "#000009",
           "#000010"
          ]
         }
        },
        "xaxis": {
         "anchor": "y",
         "domain": [
          0,
          1
         ],
         "title": {
          "text": "Datas"
         }
        },
        "yaxis": {
         "anchor": "x",
         "domain": [
          0,
          1
         ],
         "title": {
          "text": "NET EBITDA Casas Bahia"
         }
        }
       }
      }
     },
     "metadata": {},
     "output_type": "display_data"
    }
   ],
   "source": [
    "px.line(data_frame=Net_EBITDA, x = Net_EBITDA[\"Datas\"], y = Net_EBITDA[\"NET EBITDA Casas Bahia\"])"
   ]
  },
  {
   "cell_type": "markdown",
   "metadata": {},
   "source": [
    "## Analisando os valores da divida líquida sobre o EBITDA\n",
    "#### A dívida líquida na maioria das empresas esta próxima de 1 ou negativa, o que indica que em relação as obrigações diárias as empresas estão conseguindo cumprir com elas, mas que no entanto, isso não considera outras questões como um alto gasto com despesas e coisas do genêro."
   ]
  },
  {
   "cell_type": "markdown",
   "metadata": {},
   "source": [
    "## Conclusão\n",
    "#### Baseado na análise fundamentalista, as empresas do varejo elas estão em uma situação bem complicada, onde os indices apresentam valores bem abaixo da média o que justifica essas ações estarem tão desvalorizadas no mercado. Por isso, não se justifica o investimento nas empresas do varejo."
   ]
  }
 ],
 "metadata": {
  "kernelspec": {
   "display_name": "Python 3",
   "language": "python",
   "name": "python3"
  },
  "language_info": {
   "codemirror_mode": {
    "name": "ipython",
    "version": 3
   },
   "file_extension": ".py",
   "mimetype": "text/x-python",
   "name": "python",
   "nbconvert_exporter": "python",
   "pygments_lexer": "ipython3",
   "version": "3.12.2"
  }
 },
 "nbformat": 4,
 "nbformat_minor": 2
}
